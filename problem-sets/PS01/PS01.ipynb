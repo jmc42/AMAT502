{
 "cells": [
  {
   "cell_type": "markdown",
   "metadata": {
    "deletable": false,
    "editable": false,
    "nbgrader": {
     "cell_type": "markdown",
     "checksum": "3cc90d977aba5342af8bb73473f851bc",
     "grade": false,
     "grade_id": "cell-97c3e5bc9dc2a8b9",
     "locked": true,
     "schema_version": 3,
     "solution": false,
     "task": false
    }
   },
   "source": [
    "# Problem Set 01\n",
    "\n",
    "## Quiz 1 is on September 11th, 2024"
   ]
  },
  {
   "cell_type": "markdown",
   "metadata": {
    "deletable": false,
    "editable": false,
    "nbgrader": {
     "cell_type": "markdown",
     "checksum": "7c42c58fc809dfa7a797746cf2b746b8",
     "grade": false,
     "grade_id": "cell-c461ca760eed9a33",
     "locked": true,
     "schema_version": 3,
     "solution": false,
     "task": false
    }
   },
   "source": [
    "## Concepts Tested\n",
    "\n",
    "- Working with strings, floats, integers\n",
    "- Overloading of operators\n",
    "- Variable assignment\n",
    "- Writing functions with a proper `return` statement\n",
    "- Loops\n"
   ]
  },
  {
   "cell_type": "markdown",
   "metadata": {},
   "source": [
    "## Statement on ChatGPT\n",
    "\n",
    "ChatGPT is here to stay, but please make sure to try each question on your own (without an LLM) before giving up and using it to help. If you're really stuck, then ask ChatGPT for help!\n",
    "\n",
    "https://chat.openai.com/\n",
    "\n",
    "I will at places in this assignment ask you to use ChatGPT and reflect on its answer and modify it in your own way to ensure that you're doing your own HW!"
   ]
  },
  {
   "cell_type": "markdown",
   "metadata": {
    "deletable": false,
    "editable": false,
    "nbgrader": {
     "cell_type": "markdown",
     "checksum": "cba4c3bdee3eaa7c0e946bd327d1bb5a",
     "grade": false,
     "grade_id": "cell-1782c6a431bfcb43",
     "locked": true,
     "schema_version": 3,
     "solution": false,
     "task": false
    }
   },
   "source": [
    "## Question 1 (Manually Graded, 2 pts)\n",
    "\n",
    "How can I add two strings together? Give a short example in Python below. \n",
    "\n",
    "**Make sure your example is unique to you!**\n"
   ]
  },
  {
   "cell_type": "code",
   "execution_count": null,
   "metadata": {
    "deletable": false,
    "nbgrader": {
     "cell_type": "code",
     "checksum": "eda9704579ee2b9b8556cf7f4bd84ee2",
     "grade": true,
     "grade_id": "cell-f00238313079aa02",
     "locked": false,
     "points": 2,
     "schema_version": 3,
     "solution": true,
     "task": false
    }
   },
   "outputs": [],
   "source": [
    "# YOUR CODE HERE\n",
    "raise NotImplementedError()"
   ]
  },
  {
   "cell_type": "markdown",
   "metadata": {
    "deletable": false,
    "editable": false,
    "nbgrader": {
     "cell_type": "markdown",
     "checksum": "ac014399f8ce49eea3c5c726299b61f8",
     "grade": false,
     "grade_id": "cell-a235c7c36e5a4548",
     "locked": true,
     "schema_version": 3,
     "solution": false,
     "task": false
    }
   },
   "source": [
    "## Question 2 Part A (Autograded, 2 pts)\n",
    "\n",
    "Write a function `sum(x,y)` that returns a string indicating what the sum of $x$ and $y$ is. Your answer should only use basic \"arithmetical\" operations on strings, which we introduced in Lecture 1.\n",
    "\n",
    "For example, when x=3 and y=17 your function should return the string `'The sum of 3 and 17 is 20.'` "
   ]
  },
  {
   "cell_type": "code",
   "execution_count": null,
   "metadata": {
    "deletable": false,
    "nbgrader": {
     "cell_type": "code",
     "checksum": "41b49cc0887e6148c119d3c46c910ed9",
     "grade": false,
     "grade_id": "cell-ec0eeb3d2f39c461",
     "locked": false,
     "schema_version": 3,
     "solution": true,
     "task": false
    }
   },
   "outputs": [],
   "source": [
    "def sum(x,y):\n",
    "    # YOUR CODE HERE\n",
    "    raise NotImplementedError()"
   ]
  },
  {
   "cell_type": "markdown",
   "metadata": {
    "deletable": false,
    "editable": false,
    "nbgrader": {
     "cell_type": "markdown",
     "checksum": "335331543e43a1427540588328338a01",
     "grade": false,
     "grade_id": "cell-a51ce7fec6a19414",
     "locked": true,
     "schema_version": 3,
     "solution": false,
     "task": false
    }
   },
   "source": [
    "Check that when x=3 and y=17, that your function returns the string 'The sum of 3 and 17 is 20.'"
   ]
  },
  {
   "cell_type": "code",
   "execution_count": null,
   "metadata": {},
   "outputs": [],
   "source": [
    "sum(3,17)"
   ]
  },
  {
   "cell_type": "code",
   "execution_count": null,
   "metadata": {
    "deletable": false,
    "editable": false,
    "nbgrader": {
     "cell_type": "code",
     "checksum": "8ee00eaa7b65345b7ba7dd46f4939ce7",
     "grade": true,
     "grade_id": "cell-f569382c691d7102",
     "locked": true,
     "points": 2,
     "schema_version": 3,
     "solution": false,
     "task": false
    }
   },
   "outputs": [],
   "source": [
    "\"\"\"Check that sum returns the correct output\"\"\"\n",
    "assert sum(102,-5) == \"The sum of 102 and -5 is 97.\"\n",
    "assert sum(25,10) == \"The sum of 25 and 10 is 35.\""
   ]
  },
  {
   "cell_type": "markdown",
   "metadata": {
    "deletable": false,
    "editable": false,
    "nbgrader": {
     "cell_type": "markdown",
     "checksum": "26f6c35ccdf4571938846be6cf193e1e",
     "grade": false,
     "grade_id": "cell-9f89fbfc45212c77",
     "locked": true,
     "schema_version": 3,
     "solution": false,
     "task": false
    },
    "tags": []
   },
   "source": [
    "## Question 2 Part B (Manually Graded, 2pts)\n",
    "\n",
    "Ask ChatGPT Question 2, but where it needs to use an f-string. If you don't know what an f-string is, ask ChatGPT! Write the answer below and explain how its solution differs from yours."
   ]
  },
  {
   "cell_type": "markdown",
   "metadata": {
    "deletable": false,
    "editable": false,
    "nbgrader": {
     "cell_type": "markdown",
     "checksum": "fc5b425e42108abd7343f9064286b7ef",
     "grade": false,
     "grade_id": "cell-aebfce2b62f90e39",
     "locked": true,
     "points": 2,
     "schema_version": 3,
     "solution": false,
     "task": true
    },
    "tags": []
   },
   "source": []
  },
  {
   "cell_type": "markdown",
   "metadata": {
    "deletable": false,
    "editable": false,
    "nbgrader": {
     "cell_type": "markdown",
     "checksum": "962222e6031df2fbcb61ce7700bb717a",
     "grade": false,
     "grade_id": "cell-24d9c33711a874ce",
     "locked": true,
     "schema_version": 3,
     "solution": false,
     "task": false
    }
   },
   "source": [
    "## Question 3 (Autograded, 2 pts)\n",
    "\n",
    "Finish the function below that takes in the length of the two parallel sides of a trapezoid $a$ and $b$, which are separated by a distance $h$, and returns its area."
   ]
  },
  {
   "cell_type": "code",
   "execution_count": null,
   "metadata": {
    "deletable": false,
    "nbgrader": {
     "cell_type": "code",
     "checksum": "973bb3611218e258a75fc64c6090a5bd",
     "grade": false,
     "grade_id": "cell-5b94e3d5b67a9d28",
     "locked": false,
     "schema_version": 3,
     "solution": true,
     "task": false
    }
   },
   "outputs": [],
   "source": [
    "def area_of_trapezoid(a, b, h):\n",
    "    # YOUR CODE HERE\n",
    "    raise NotImplementedError()"
   ]
  },
  {
   "cell_type": "code",
   "execution_count": null,
   "metadata": {
    "deletable": false,
    "editable": false,
    "nbgrader": {
     "cell_type": "code",
     "checksum": "d96ad530760aa176446669f28e54fa08",
     "grade": true,
     "grade_id": "cell-e714d87d023ae8da",
     "locked": true,
     "points": 2,
     "schema_version": 3,
     "solution": false,
     "task": false
    }
   },
   "outputs": [],
   "source": [
    "\"\"\"Check that area_of_triangle returns the correct output for several inputs\"\"\"\n",
    "assert abs(area_of_trapezoid(3,3, 5) - 15) <=.1\n",
    "assert abs(area_of_trapezoid(3,4, 5) - 17.5) <=.1"
   ]
  },
  {
   "cell_type": "markdown",
   "metadata": {
    "deletable": false,
    "editable": false,
    "nbgrader": {
     "cell_type": "markdown",
     "checksum": "9db10f9c534198f9e9e20a3b45272ae3",
     "grade": false,
     "grade_id": "cell-f7e3af772c5d2265",
     "locked": true,
     "schema_version": 3,
     "solution": false,
     "task": false
    }
   },
   "source": [
    "## Question 4 (Autograded, 2 pts)\n",
    "\n",
    "Complete the function below that takes in a temperature in Celsius and returns the temperature in Fahrenheit. Use `int()` to make the output an integer. As a reminder, the formula relating Celsius and Fahrenheit is \n",
    "    $$ c = \\frac{5}{9}(f-32).$$"
   ]
  },
  {
   "cell_type": "code",
   "execution_count": null,
   "metadata": {
    "deletable": false,
    "nbgrader": {
     "cell_type": "code",
     "checksum": "5950154f1e3a8a028adc99e6d9e00fad",
     "grade": false,
     "grade_id": "cell-5ca9f6058202dbd4",
     "locked": false,
     "schema_version": 3,
     "solution": true,
     "task": false
    }
   },
   "outputs": [],
   "source": [
    "def c_to_f(c):\n",
    "    # YOUR CODE HERE\n",
    "    raise NotImplementedError()"
   ]
  },
  {
   "cell_type": "code",
   "execution_count": null,
   "metadata": {},
   "outputs": [],
   "source": [
    "c_to_f(0)"
   ]
  },
  {
   "cell_type": "code",
   "execution_count": null,
   "metadata": {
    "deletable": false,
    "editable": false,
    "nbgrader": {
     "cell_type": "code",
     "checksum": "9414071f1c1265c3b8b24108d2cf5511",
     "grade": true,
     "grade_id": "cell-4ae7d8989344a234",
     "locked": true,
     "points": 2,
     "schema_version": 3,
     "solution": false,
     "task": false
    }
   },
   "outputs": [],
   "source": [
    "\"\"\"Check that formula is correct for several inputs\"\"\"\n",
    "assert c_to_f(22) == 71\n",
    "assert c_to_f(0) == 32"
   ]
  },
  {
   "cell_type": "markdown",
   "metadata": {
    "deletable": false,
    "editable": false,
    "nbgrader": {
     "cell_type": "markdown",
     "checksum": "8dd645c47047bb750017c4b6518639c1",
     "grade": false,
     "grade_id": "cell-3df7aaa3291891fb",
     "locked": true,
     "schema_version": 3,
     "solution": false,
     "task": false
    }
   },
   "source": [
    "## Question 5 (Autograded, 2 pts) \n",
    "\n",
    "Complete the function below that takes an integer as input and outputs whether or not the number is odd or even. Make sure you have an output that prints \"The number x is even/odd\", where $x$ was the input."
   ]
  },
  {
   "cell_type": "code",
   "execution_count": null,
   "metadata": {
    "deletable": false,
    "nbgrader": {
     "cell_type": "code",
     "checksum": "3cc7f866b80066824b97e764d43cb820",
     "grade": false,
     "grade_id": "cell-8bdf535b86f81065",
     "locked": false,
     "schema_version": 3,
     "solution": true,
     "task": false
    }
   },
   "outputs": [],
   "source": [
    "def even_or_odd(x):\n",
    "    \"\"\"Returns a string that declares if the entered number is even or odd.\n",
    "    You may assume the input is an integer.\"\"\"\n",
    "    # YOUR CODE HERE\n",
    "    raise NotImplementedError()"
   ]
  },
  {
   "cell_type": "code",
   "execution_count": null,
   "metadata": {},
   "outputs": [],
   "source": [
    "even_or_odd(17)"
   ]
  },
  {
   "cell_type": "code",
   "execution_count": null,
   "metadata": {
    "deletable": false,
    "editable": false,
    "nbgrader": {
     "cell_type": "code",
     "checksum": "80d4ad8618df0c18a0258448afd3a57a",
     "grade": true,
     "grade_id": "cell-90a84bd2ec87ba66",
     "locked": true,
     "points": 2,
     "schema_version": 3,
     "solution": false,
     "task": false
    }
   },
   "outputs": [],
   "source": [
    "\"\"\"Check that formula is correct for several inputs\"\"\"\n",
    "assert even_or_odd(9) == 'The number 9 is odd.'\n",
    "assert even_or_odd(12) == 'The number 12 is even.'\n"
   ]
  },
  {
   "cell_type": "markdown",
   "metadata": {
    "deletable": false,
    "editable": false,
    "nbgrader": {
     "cell_type": "markdown",
     "checksum": "58275f6e1dc3f43345c1ad644f212eb8",
     "grade": false,
     "grade_id": "cell-dabe1fb58885a053",
     "locked": true,
     "schema_version": 3,
     "solution": false,
     "task": false
    }
   },
   "source": [
    "## Question 6 Part A (Manually graded, 2 pts)\n",
    "\n",
    "Write a Python function `draw(n)` that constructs the following pattern using the `print` function---except instead of `Justin` it should say your name---using a pair of nested for loops. Here is what the output should look like for $n=5$.\n",
    "\n",
    "```python\n",
    "    Justin\n",
    "    JustinJustin\n",
    "    JustinJustinJustin\n",
    "    JustinJustinJustinJustin\n",
    "    JustinJustinJustinJustinJustin\n",
    "    JustinJustinJustinJustin\n",
    "    JustinJustinJustin\n",
    "    JustinJustin\n",
    "    Justin\n",
    "```"
   ]
  },
  {
   "cell_type": "code",
   "execution_count": null,
   "metadata": {
    "deletable": false,
    "nbgrader": {
     "cell_type": "code",
     "checksum": "181e3ecfbe09b0bbc165652a5f0d684b",
     "grade": true,
     "grade_id": "cell-de10cb1197843042",
     "locked": false,
     "points": 2,
     "schema_version": 3,
     "solution": true,
     "task": false
    }
   },
   "outputs": [],
   "source": [
    "def draw(n):\n",
    "    # YOUR CODE HERE\n",
    "    raise NotImplementedError()"
   ]
  },
  {
   "cell_type": "markdown",
   "metadata": {
    "deletable": false,
    "editable": false,
    "nbgrader": {
     "cell_type": "markdown",
     "checksum": "4b3af5bf5dcfb5083e936203f6a2b7c3",
     "grade": false,
     "grade_id": "cell-e791367ffff7da27",
     "locked": true,
     "schema_version": 3,
     "solution": false,
     "task": false
    },
    "tags": []
   },
   "source": [
    "## Question 6 Part B (Manually graded, 2 pts)\n",
    "\n",
    "In Part A you should have 4 for loops. Rewrite this function so it only has two for loops and uses overloading of the multplication `*` operation.\n"
   ]
  },
  {
   "cell_type": "code",
   "execution_count": null,
   "metadata": {
    "deletable": false,
    "nbgrader": {
     "cell_type": "code",
     "checksum": "990d059601b42fdcc6f329630e869b09",
     "grade": true,
     "grade_id": "cell-44cd344403f1516f",
     "locked": false,
     "points": 2,
     "schema_version": 3,
     "solution": true,
     "task": false
    },
    "tags": []
   },
   "outputs": [],
   "source": [
    "def draw2(n):\n",
    "    # YOUR CODE HERE\n",
    "    raise NotImplementedError()"
   ]
  },
  {
   "cell_type": "markdown",
   "metadata": {
    "deletable": false,
    "editable": false,
    "nbgrader": {
     "cell_type": "markdown",
     "checksum": "00e5dc72a11d292f4bf0a8375f8a5e2d",
     "grade": false,
     "grade_id": "cell-5a7359d16bbcbc2c",
     "locked": true,
     "schema_version": 3,
     "solution": false,
     "task": false
    },
    "tags": []
   },
   "source": [
    "## Question 6 Part C (Manually graded, 2 pts)\n",
    "\n",
    "Explain what overloading is!"
   ]
  },
  {
   "cell_type": "markdown",
   "metadata": {
    "deletable": false,
    "editable": false,
    "nbgrader": {
     "cell_type": "markdown",
     "checksum": "6f73e69c5f3caa1653c84659542020d2",
     "grade": false,
     "grade_id": "cell-f5aa77f5ff6baad9",
     "locked": true,
     "points": 2,
     "schema_version": 3,
     "solution": false,
     "task": true
    },
    "tags": []
   },
   "source": []
  },
  {
   "cell_type": "markdown",
   "metadata": {
    "deletable": false,
    "editable": false,
    "nbgrader": {
     "cell_type": "markdown",
     "checksum": "04d3ac59a6caf0888ffd397726f6915d",
     "grade": false,
     "grade_id": "cell-7c13f88c71085660",
     "locked": true,
     "schema_version": 3,
     "solution": false,
     "task": false
    }
   },
   "source": [
    "## Question 7 (Autograded, 2 pts)\n",
    "\n",
    "Write a function that takes in an integer $n$ and computes $n!$. Do this without recursion.\n"
   ]
  },
  {
   "cell_type": "code",
   "execution_count": null,
   "metadata": {
    "deletable": false,
    "nbgrader": {
     "cell_type": "code",
     "checksum": "0d302dd6965e793ac8ec1e71c3d7997d",
     "grade": false,
     "grade_id": "cell-fa29a00c195e5c2e",
     "locked": false,
     "schema_version": 3,
     "solution": true,
     "task": false
    }
   },
   "outputs": [],
   "source": [
    "def factorial_iter(n):\n",
    "    \"\"\"Takes in an integer n>0 and returns the product of all integers from 1 to n.\"\"\"\n",
    "    # YOUR CODE HERE\n",
    "    raise NotImplementedError()"
   ]
  },
  {
   "cell_type": "code",
   "execution_count": null,
   "metadata": {},
   "outputs": [],
   "source": []
  },
  {
   "cell_type": "code",
   "execution_count": null,
   "metadata": {
    "deletable": false,
    "editable": false,
    "nbgrader": {
     "cell_type": "code",
     "checksum": "a9b9efbf80510f8f10fccbfd56912181",
     "grade": true,
     "grade_id": "cell-21dfe4353655d5e5",
     "locked": true,
     "points": 2,
     "schema_version": 3,
     "solution": false,
     "task": false
    }
   },
   "outputs": [],
   "source": [
    "assert factorial_iter(6) == 720\n",
    "assert factorial_iter(7) == 5040\n",
    "assert factorial_iter(10) == 3628800"
   ]
  },
  {
   "cell_type": "code",
   "execution_count": null,
   "metadata": {},
   "outputs": [],
   "source": []
  }
 ],
 "metadata": {
  "kernelspec": {
   "display_name": "Python 3 (ipykernel)",
   "language": "python",
   "name": "python3"
  },
  "language_info": {
   "codemirror_mode": {
    "name": "ipython",
    "version": 3
   },
   "file_extension": ".py",
   "mimetype": "text/x-python",
   "name": "python",
   "nbconvert_exporter": "python",
   "pygments_lexer": "ipython3",
   "version": "3.9.12"
  }
 },
 "nbformat": 4,
 "nbformat_minor": 4
}
