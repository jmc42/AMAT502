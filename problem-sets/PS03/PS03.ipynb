{
 "cells": [
  {
   "cell_type": "markdown",
   "id": "6261198c-40b7-4eff-8631-2bd7c1818be1",
   "metadata": {},
   "source": [
    "# Problem Set 03 (24 points)\n",
    "## Due before the End of the Semester for Participation Credit\n",
    "### Topics Covered\n",
    "- Recursion\n",
    "- Function Evaluation\n",
    "- Operations on Strings\n",
    "- Functions that return functions\n",
    "- OOPing your Dream House"
   ]
  },
  {
   "cell_type": "markdown",
   "id": "6c30528d-e894-4d95-b422-8c7b8e4c719e",
   "metadata": {},
   "source": [
    "### **Exercise 1: Part A (2 pts, autograded):**\n",
    "\n",
    "Recall that the Fibonacci sequence 0,1,1,2,3,5,8..., is defined by $f_0=0$, $f_1=f_2=1$ and $f_k = f_{k-1} + f_{k-2}$ for $k\\geq 3$. \n",
    "\n",
    "In this problem we want to produce a **generalized Fibonacci sequence** where $g_0=0$, $g_1=n$, $g_2=m$ and $g_k = g_{k-1} + g_{k-2}$ for $k\\geq 3$. \n",
    "\n",
    "For this problem, finish the function below `gen_Fib(n,m,k)` with a *recursive* implementation so that `gen_Fib(n,m,k)` returns the kth term in the generalized Fibonacci sequence, defined above."
   ]
  },
  {
   "cell_type": "code",
   "execution_count": null,
   "id": "82815e41-3a71-424d-804e-c813e1fe9eec",
   "metadata": {
    "deletable": false,
    "nbgrader": {
     "cell_type": "code",
     "checksum": "9a4f2d55ac41b5529d7981d5bac8239f",
     "grade": false,
     "grade_id": "cell-a8d542d2301c9d18",
     "locked": false,
     "schema_version": 3,
     "solution": true,
     "task": false
    },
    "tags": []
   },
   "outputs": [],
   "source": [
    "def gen_Fib(n,m,k):\n",
    "    \"\"\"Takes in 3 integers n, m, k and \n",
    "    returns the kth element of the generalized Fibonacci sequence \n",
    "    that starts as ...0,n,m,n+m, n+2m,\"\"\"\n",
    "    # YOUR CODE HERE\n",
    "    raise NotImplementedError()"
   ]
  },
  {
   "cell_type": "code",
   "execution_count": null,
   "id": "cad6f938-f72b-4655-bd48-50a9793c583a",
   "metadata": {
    "deletable": false,
    "editable": false,
    "nbgrader": {
     "cell_type": "code",
     "checksum": "d286998b6335e383b6acf6da7cf706b2",
     "grade": true,
     "grade_id": "cell-ef25a90574fa4c32",
     "locked": true,
     "points": 2,
     "schema_version": 3,
     "solution": false,
     "task": false
    },
    "tags": []
   },
   "outputs": [],
   "source": [
    "assert gen_Fib(1,1,7) == 13\n",
    "assert gen_Fib(1,1,10) == 55\n",
    "assert gen_Fib(1,3,5) == 11\n",
    "assert gen_Fib(1,3,10) == 123\n",
    "assert gen_Fib(1,-1,8) == -5"
   ]
  },
  {
   "cell_type": "markdown",
   "id": "bbabe72a-145f-46e8-805b-43dc6751d2a1",
   "metadata": {},
   "source": [
    "### **Exercise 1: Part B (2 pts, manually graded):**\n",
    "\n",
    "For $n=2$ and $m=1$, the generalized Fibonacci sequence is called the **Lucas sequence**, which we will write $L_k$. \n",
    "\n",
    "Write some code below to calculate the limit $$\\lim_{k\\to\\infty} \\frac{L_{k+1}}{L_k} = ?$$"
   ]
  },
  {
   "cell_type": "code",
   "execution_count": null,
   "id": "f3bf4c84-3d93-4f9c-b551-f4dbb0ff2e26",
   "metadata": {
    "deletable": false,
    "nbgrader": {
     "cell_type": "code",
     "checksum": "04614eccc10078a905723f67e761db78",
     "grade": true,
     "grade_id": "cell-e3ad92a5a07389ea",
     "locked": false,
     "points": 2,
     "schema_version": 3,
     "solution": true,
     "task": false
    },
    "tags": []
   },
   "outputs": [],
   "source": [
    "# YOUR CODE HERE\n",
    "raise NotImplementedError()"
   ]
  },
  {
   "cell_type": "markdown",
   "id": "c1d35240-c949-46d4-8f9e-75b13391c69b",
   "metadata": {},
   "source": [
    "### **Exercise 1: Part C (4 pts, manually graded):**\n",
    "\n",
    "How does your answer from Part B compare to the limit of $F_{k+1}(n,m)/F_k(n,m)$, where $F_k(n,m)$ denotes the generalized Fibonacci sequence for general seed values $n$ and $m$? Try at least 3 different pairs of values $(n,m)$, which are unique to you. Describe any patterns you see with Python comments to your code."
   ]
  },
  {
   "cell_type": "code",
   "execution_count": null,
   "id": "74dedded-bb14-4d7b-b025-4d99e38e0c05",
   "metadata": {
    "deletable": false,
    "nbgrader": {
     "cell_type": "code",
     "checksum": "e8f47b9da52a84f53577a36cf3c8faf1",
     "grade": true,
     "grade_id": "cell-62a85f793ff2f805",
     "locked": false,
     "points": 4,
     "schema_version": 3,
     "solution": true,
     "task": false
    },
    "tags": []
   },
   "outputs": [],
   "source": [
    "# YOUR CODE HERE\n",
    "raise NotImplementedError()"
   ]
  },
  {
   "cell_type": "markdown",
   "id": "0082a571-2744-43b2-94a8-c587d738b2ab",
   "metadata": {},
   "source": [
    "### **Exercise 2 (2 pts, autograded):** \n",
    "Finish the function below that computes \"n double factorial\", written $n!!$ , recursively. As a reminder, this is defined iteratively as $$n!!=n*(n-2)*(n-4)*...$$ Make sure your program handles even and odd cases. Assume $0!!=1$ and $1!!=1$."
   ]
  },
  {
   "cell_type": "code",
   "execution_count": null,
   "id": "f792e616-8d2a-452e-baaf-89f4f6fd7d46",
   "metadata": {
    "deletable": false,
    "nbgrader": {
     "cell_type": "code",
     "checksum": "55f0dd0ba5e8aaf8e590f4b922b5527f",
     "grade": false,
     "grade_id": "cell-e6e7a7efa7c7acef",
     "locked": false,
     "schema_version": 3,
     "solution": true,
     "task": false
    },
    "tags": []
   },
   "outputs": [],
   "source": [
    "def nDoubleFactorial(n):\n",
    "    \"\"\"Takes in an integer n and returns n!! \n",
    "    We assume n!! for n<=1 is 1.\"\"\"\n",
    "    # YOUR CODE HERE\n",
    "    raise NotImplementedError()"
   ]
  },
  {
   "cell_type": "code",
   "execution_count": null,
   "id": "95e29e77-381b-4be2-bcd8-751e218f2cdb",
   "metadata": {
    "deletable": false,
    "editable": false,
    "nbgrader": {
     "cell_type": "code",
     "checksum": "6b571818200450aa8ec40c83c7b79a53",
     "grade": true,
     "grade_id": "cell-e844acd308fab1a5",
     "locked": true,
     "points": 2,
     "schema_version": 3,
     "solution": false,
     "task": false
    },
    "tags": []
   },
   "outputs": [],
   "source": [
    "assert nDoubleFactorial(2) == 2\n",
    "assert nDoubleFactorial(3) == 3\n",
    "assert nDoubleFactorial(4) == 8\n",
    "assert nDoubleFactorial(5) == 15\n",
    "assert nDoubleFactorial(6) == 48"
   ]
  },
  {
   "cell_type": "markdown",
   "id": "131fd1ac-b9f6-490c-91ec-7f223647d65a",
   "metadata": {},
   "source": [
    "### **Exercise 3: (3 pts, manually graded): Counting recursive calls**\n",
    "\n",
    "In the recursive function `fib` that we introduced in Lecture 04 to compute the Fibonacci numbers, how many times is `fib(2)` called when `fib(5)` is called? \n",
    "\n",
    "Write some code and explain your reasoning."
   ]
  },
  {
   "cell_type": "code",
   "execution_count": null,
   "id": "95b99936-1a81-49d5-83a5-c9e09c77129d",
   "metadata": {
    "deletable": false,
    "nbgrader": {
     "cell_type": "code",
     "checksum": "3f12849200a95c86d19bf64488a7c88f",
     "grade": true,
     "grade_id": "cell-866d623b8a827e8c",
     "locked": false,
     "points": 3,
     "schema_version": 3,
     "solution": true,
     "task": false
    },
    "tags": []
   },
   "outputs": [],
   "source": [
    "# YOUR CODE HERE\n",
    "raise NotImplementedError()"
   ]
  },
  {
   "cell_type": "markdown",
   "id": "21e6de5b-061c-48c3-b4c8-a011af9dbf93",
   "metadata": {},
   "source": [
    "### **Exercise 4 (3pts, autograded): Functions that return Functions**\n",
    "\n",
    "Write a function `myPoly(coeffs)` that takes in a list of coefficients `coeffs=[a_0, a_1, a_2,...,a_n]` and returns a *function*\n",
    "$$f(x)= a_n x^n + \\cdots + a_1 x + a_0$$"
   ]
  },
  {
   "cell_type": "code",
   "execution_count": null,
   "id": "22d594b0-41a8-409f-abb8-b8ed2a712d0c",
   "metadata": {
    "deletable": false,
    "nbgrader": {
     "cell_type": "code",
     "checksum": "53a8f616ba100d7afc5d9d0622a5dc91",
     "grade": false,
     "grade_id": "cell-746de5091e43695e",
     "locked": false,
     "schema_version": 3,
     "solution": true,
     "task": false
    },
    "tags": []
   },
   "outputs": [],
   "source": [
    "def myPoly(coeffs):\n",
    "    \"\"\"coeffs is a list of floats or ints, function returns a polynomial with \n",
    "    the kth entry in coeffs as the coefficient of the monomial x^k\"\"\"\n",
    "    # YOUR CODE HERE\n",
    "    raise NotImplementedError()"
   ]
  },
  {
   "cell_type": "code",
   "execution_count": null,
   "id": "de7b7c27-5c72-4337-864d-88237148c8da",
   "metadata": {
    "deletable": false,
    "editable": false,
    "nbgrader": {
     "cell_type": "code",
     "checksum": "ee9be58b82b21d02f97f01de3196b1d0",
     "grade": true,
     "grade_id": "cell-ee2ed9943ecece8b",
     "locked": true,
     "points": 3,
     "schema_version": 3,
     "solution": false,
     "task": false
    },
    "tags": []
   },
   "outputs": [],
   "source": [
    "assert abs(myPoly([1,2,1])(5) - 36) <= .1\n",
    "assert abs(myPoly([1,1,1])(5) - 31) <= .1\n",
    "assert abs(myPoly([1,2,3])(4) - 57) <= .1"
   ]
  },
  {
   "cell_type": "markdown",
   "id": "8174430a-80ff-4a8b-8d0d-4315a01ab8f6",
   "metadata": {},
   "source": [
    "### **Exercise 6 (8 pts across two parts, manually graded)**\n",
    "\n",
    "#### **Part A (2 pts, manually graded)**\n",
    "Let's make a new class called `House` that where you have to provide the following attributes in the `__init__` function:\n",
    "- address,\n",
    "- style, (see [this list](https://www.diynetwork.com/how-to/rooms-and-spaces/exterior/26-popular-architectural-home-styles-pictures) for inspiration)\n",
    "- yearBuilt\n",
    "- numUnits (are there rental units in the property?)\n",
    "- numFloors (how many floors does it have?)\n",
    "\n",
    "You should also include the attributes and provide methods to change the values of (or just check!) \n",
    "- doorsLocked\n",
    "- windowsClosed"
   ]
  },
  {
   "cell_type": "code",
   "execution_count": null,
   "id": "cf9824ee-2141-4dd1-8ec6-0ba42418577e",
   "metadata": {
    "deletable": false,
    "nbgrader": {
     "cell_type": "code",
     "checksum": "bf0179ac92a8400c0be6c8dc650da458",
     "grade": true,
     "grade_id": "cell-03c4d0d2afb797d2",
     "locked": false,
     "points": 2,
     "schema_version": 3,
     "solution": true,
     "task": false
    },
    "tags": []
   },
   "outputs": [],
   "source": [
    "# YOUR CODE HERE\n",
    "raise NotImplementedError()"
   ]
  },
  {
   "cell_type": "markdown",
   "id": "96bf5892-2b5b-44ac-8067-71c875b7d9b5",
   "metadata": {},
   "source": [
    "#### **Part B (6pts, manually graded)**\n",
    "\n",
    "Add at least 3 new attributes and 3 methods for manipulating these attributes. Get creative! \n",
    "\n",
    "**Do your best to make sure these methods and attributes are unique to your implementation of the House class.**"
   ]
  },
  {
   "cell_type": "code",
   "execution_count": null,
   "id": "292ee9d5-1b88-4faf-a6f4-bebf190213a3",
   "metadata": {
    "deletable": false,
    "nbgrader": {
     "cell_type": "code",
     "checksum": "34df7e861a9d7c7965b5470c3994a16c",
     "grade": true,
     "grade_id": "cell-c68aa375edd0c69b",
     "locked": false,
     "points": 6,
     "schema_version": 3,
     "solution": true,
     "task": false
    },
    "tags": []
   },
   "outputs": [],
   "source": [
    "# YOUR CODE HERE\n",
    "raise NotImplementedError()"
   ]
  }
 ],
 "metadata": {
  "kernelspec": {
   "display_name": "Python 3 (ipykernel)",
   "language": "python",
   "name": "python3"
  },
  "language_info": {
   "codemirror_mode": {
    "name": "ipython",
    "version": 3
   },
   "file_extension": ".py",
   "mimetype": "text/x-python",
   "name": "python",
   "nbconvert_exporter": "python",
   "pygments_lexer": "ipython3",
   "version": "3.9.12"
  }
 },
 "nbformat": 4,
 "nbformat_minor": 5
}
