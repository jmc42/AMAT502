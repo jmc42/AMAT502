{
 "cells": [
  {
   "cell_type": "markdown",
   "metadata": {},
   "source": [
    "# AMAT 502 MIDTERM 1 PRACTICE"
   ]
  },
  {
   "cell_type": "markdown",
   "metadata": {},
   "source": [
    "## Exam Structure\n",
    "\n",
    "You will have 80 minutes in-class and open notes (from our class) to answer 4 coding questions and 2 concept question.\n",
    "\n",
    "## Practice Coding Questions\n",
    "\n",
    "\n",
    "#### Example Q1\n",
    "Write a function that takes in a list and reverses it using a `for` loop.\n"
   ]
  },
  {
   "cell_type": "code",
   "execution_count": null,
   "metadata": {},
   "outputs": [],
   "source": []
  },
  {
   "cell_type": "markdown",
   "metadata": {},
   "source": [
    "#### Example Q2:\n",
    "Write a function that takes in two integers and tests if they are both even. If so, return their product. Otherwise, return their sum."
   ]
  },
  {
   "cell_type": "code",
   "execution_count": null,
   "metadata": {},
   "outputs": [],
   "source": []
  },
  {
   "cell_type": "markdown",
   "metadata": {},
   "source": [
    "#### Example Q3:\n",
    "Write a function that takes in a list of integers $L$ and an integer $m$ and returns the number of times $m$ shows up in $L$. Test your function on the list $L = [1,5,23,1,17,89,2,3,1,4,2,5,4]$ and integer $m = 1$."
   ]
  },
  {
   "cell_type": "code",
   "execution_count": null,
   "metadata": {},
   "outputs": [],
   "source": []
  },
  {
   "cell_type": "markdown",
   "metadata": {},
   "source": [
    "#### Example Q4:\n",
    "Write a function that takes in a list and returns a list with no repeated values. For example if we input $L = [1,2,32,14,2,1]$, the function should return $\\bar{L} = [1,2,32,14]$"
   ]
  },
  {
   "cell_type": "code",
   "execution_count": null,
   "metadata": {},
   "outputs": [],
   "source": []
  },
  {
   "cell_type": "markdown",
   "metadata": {},
   "source": [
    "#### Example Q5\n",
    "Write a function that takes in a list and returns a random element of that list."
   ]
  },
  {
   "cell_type": "code",
   "execution_count": null,
   "metadata": {},
   "outputs": [],
   "source": []
  },
  {
   "cell_type": "markdown",
   "metadata": {},
   "source": [
    "#### Example Q6\n",
    "Write a function that finds the smallest element of a list."
   ]
  },
  {
   "cell_type": "code",
   "execution_count": null,
   "metadata": {},
   "outputs": [],
   "source": []
  },
  {
   "cell_type": "markdown",
   "metadata": {},
   "source": [
    "#### Example Q7\n",
    "Write a function that takes in a string and replaces any vowel (a,e,i,o,u) with the letter y."
   ]
  },
  {
   "cell_type": "code",
   "execution_count": null,
   "metadata": {},
   "outputs": [],
   "source": []
  },
  {
   "cell_type": "markdown",
   "metadata": {},
   "source": [
    "#### Example Q8\n",
    "\n",
    "Write a function that takes in an integer n and returns a list with the first n Fibonacci numbers."
   ]
  },
  {
   "cell_type": "code",
   "execution_count": null,
   "metadata": {},
   "outputs": [],
   "source": []
  },
  {
   "cell_type": "code",
   "execution_count": null,
   "metadata": {},
   "outputs": [],
   "source": []
  },
  {
   "cell_type": "markdown",
   "metadata": {},
   "source": [
    "## Practice Concept Questions\n",
    "\n",
    "I will ask you two concept questions that tests your understanding of **the first 6 lectures.** Below I have written some example prompts for you to review the material. \n",
    "\n",
    "Each question will be worth 5 points.\n",
    "\n",
    "1. What is the difference between scalar and non-scalar objects? What are the 4 basic scalar object types in Python?\n",
    "2. Explain the concept of overloading. Give an example.\n",
    "3. What's the difference between iteration and recursion. Give an example of function that can be implemented either way. What are the basic building blocks of an iterative implementation? What is an incrementing or decrementing variable?\n",
    "4. Explain bisection search. How does it differ from linear search? Give specific estimates in terms of computational complexity of each.\n",
    "5. Explain how function call flow works. What is the difference between a formal and actual parameter? When is a function actually executed? Explain the difference between local and global variables. What is a default value or keyword? What is a docstring? How do I write one?\n",
    "6. Explain the Subset-Sum problem and its solution.\n",
    "7. What is slice notation? How is it commonly used?\n",
    "8. What is the difference between a list, a set, a tuple and a dictionary? Why might you use one over the other?\n",
    "9. What is the edit distance between strings? How is it calculated?\n"
   ]
  },
  {
   "cell_type": "code",
   "execution_count": null,
   "metadata": {},
   "outputs": [],
   "source": []
  }
 ],
 "metadata": {
  "kernelspec": {
   "display_name": "Python 3",
   "language": "python",
   "name": "python3"
  },
  "language_info": {
   "codemirror_mode": {
    "name": "ipython",
    "version": 3
   },
   "file_extension": ".py",
   "mimetype": "text/x-python",
   "name": "python",
   "nbconvert_exporter": "python",
   "pygments_lexer": "ipython3",
   "version": "3.7.4"
  }
 },
 "nbformat": 4,
 "nbformat_minor": 2
}
