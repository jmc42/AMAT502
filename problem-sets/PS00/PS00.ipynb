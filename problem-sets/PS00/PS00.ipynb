{
 "cells": [
  {
   "cell_type": "markdown",
   "metadata": {
    "deletable": false,
    "editable": false,
    "nbgrader": {
     "cell_type": "markdown",
     "checksum": "e3e676c92df294c3954faaa722e91b07",
     "grade": false,
     "grade_id": "cell-4d854fee2b6167ee",
     "locked": true,
     "schema_version": 3,
     "solution": false,
     "task": false
    }
   },
   "source": [
    "# Problem Set 0 (1 point)\n",
    "## Due September 4th, 2024\n",
    "\n",
    "For this assignment we test the functionality of the JupyterHub+NBgrader workflow.\n",
    "\n",
    "**Question 1 (1 pt):**\n",
    "\n",
    "Write a function `hello_world()` that returns the string `Hello, World!`"
   ]
  },
  {
   "cell_type": "code",
   "execution_count": null,
   "metadata": {
    "deletable": false,
    "nbgrader": {
     "cell_type": "code",
     "checksum": "c05fba98c8b59d70a88ce8c3623cc849",
     "grade": false,
     "grade_id": "cell-209501a82d04627a",
     "locked": false,
     "schema_version": 3,
     "solution": true,
     "task": false
    }
   },
   "outputs": [],
   "source": [
    "def hello_world():\n",
    "    # YOUR CODE HERE\n",
    "    raise NotImplementedError()"
   ]
  },
  {
   "cell_type": "markdown",
   "metadata": {
    "deletable": false,
    "editable": false,
    "nbgrader": {
     "cell_type": "markdown",
     "checksum": "2ed3fcfefc864a17c840e429a727e704",
     "grade": false,
     "grade_id": "cell-b101b2f57a753abe",
     "locked": true,
     "schema_version": 3,
     "solution": false,
     "task": false
    }
   },
   "source": [
    "Now we're going to have some test cases to make sure you're function does the right thing."
   ]
  },
  {
   "cell_type": "code",
   "execution_count": null,
   "metadata": {
    "deletable": false,
    "editable": false,
    "nbgrader": {
     "cell_type": "code",
     "checksum": "0ff7ae99aa38b416d9b7fa4d8d53c72b",
     "grade": true,
     "grade_id": "cell-bd7e2df80976fd61",
     "locked": true,
     "points": 1,
     "schema_version": 3,
     "solution": false,
     "task": false
    }
   },
   "outputs": [],
   "source": [
    "\"\"\"Check that sum returns the correct output\"\"\"\n",
    "assert type(hello_world()) == str #This checks that the type of the returned value is a string.\n",
    "assert hello_world() != \"hello world\" #Did you return a string exactly as it is written?\n",
    "assert hello_world() != \"hello, world\" #Another test. The true answer is hidden!"
   ]
  },
  {
   "cell_type": "code",
   "execution_count": null,
   "metadata": {},
   "outputs": [],
   "source": []
  }
 ],
 "metadata": {
  "kernelspec": {
   "display_name": "Python 3 (ipykernel)",
   "language": "python",
   "name": "python3"
  },
  "language_info": {
   "codemirror_mode": {
    "name": "ipython",
    "version": 3
   },
   "file_extension": ".py",
   "mimetype": "text/x-python",
   "name": "python",
   "nbconvert_exporter": "python",
   "pygments_lexer": "ipython3",
   "version": "3.9.12"
  }
 },
 "nbformat": 4,
 "nbformat_minor": 4
}
