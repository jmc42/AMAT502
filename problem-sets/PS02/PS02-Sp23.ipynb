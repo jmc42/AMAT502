{
 "cells": [
  {
   "cell_type": "markdown",
   "metadata": {
    "nbgrader": {
     "grade": false,
     "grade_id": "cell-9b3c6138d3d428fb",
     "locked": true,
     "schema_version": 3,
     "solution": false,
     "task": false
    }
   },
   "source": [
    "# Problem Set 02 (20 points possible)\n",
    "### Due Friday February 17th at 11:59 ET on JupyterHub\n",
    "## Content\n",
    "\n",
    "- **Conditionals**\n",
    "- **Loops**\n",
    "- **Lists**\n",
    "- **Recursion**\n",
    "\n",
    "#### Nota Bene: You CANNOT use functions from the math or scipy packages that use pre-computed values of $e$ or factorial operations.\n"
   ]
  },
  {
   "cell_type": "markdown",
   "metadata": {
    "nbgrader": {
     "grade": false,
     "grade_id": "cell-8f5a5bd489d2b76d",
     "locked": true,
     "schema_version": 3,
     "solution": false,
     "task": false
    }
   },
   "source": [
    "**Exercise 1 (2 pts):** Complete the function below that takes in three integers $(a,b,c)$ and returns the number of integers between $a$ and $b$ (inclusive of the endpoints) that are divisible by $c$. Make sure it tests $a$ and $b$ for divisibility by $c$!\n"
   ]
  },
  {
   "cell_type": "code",
   "execution_count": 5,
   "metadata": {
    "nbgrader": {
     "grade": false,
     "grade_id": "cell-e6426ff88577549f",
     "locked": false,
     "schema_version": 3,
     "solution": true,
     "task": false
    }
   },
   "outputs": [],
   "source": [
    "def how_many_divisible(a,b,c):\n",
    "    counter=0\n",
    "    ### BEGIN SOLUTION\n",
    "    for i in range(a,b+1):\n",
    "        if i%c==0:\n",
    "            counter+=1\n",
    "    ### END SOLUTION\n",
    "    return counter"
   ]
  },
  {
   "cell_type": "code",
   "execution_count": 6,
   "metadata": {
    "nbgrader": {
     "grade": true,
     "grade_id": "cell-e9dffd315102441d",
     "locked": true,
     "points": 2,
     "schema_version": 3,
     "solution": false,
     "task": false
    }
   },
   "outputs": [],
   "source": [
    "assert how_many_divisible(10,20,5) == 3\n",
    "assert how_many_divisible(30,77,7) == 7\n",
    "### BEGIN HIDDEN TESTS\n",
    "assert how_many_divisible(1234,12345,12) == 926\n",
    "### END HIDDEN TESTS"
   ]
  },
  {
   "cell_type": "markdown",
   "metadata": {
    "nbgrader": {
     "grade": false,
     "grade_id": "cell-7f0607320e3e854e",
     "locked": true,
     "schema_version": 3,
     "solution": false,
     "task": false
    }
   },
   "source": [
    "**Exercise 2 (3 pts):** Write a function that takes in an integer $n$ and returns the $n$-th Taylor approximation to the number $e$. By this we mean, complete the function below and use the code provided to sum the first $n$ terms of the series\n",
    "$$e \\approx 1+ 1 + \\frac{1^2}{2!} + \\frac{1^3}{3!} + \\frac{1^4}{4!}+ \\cdots + \\frac{1^n}{n!} + \\cdots $$\n",
    "\n",
    "Use Python based indexing, i.e. when $n=0$ it should return $1$, when $n=1$ it should return 2, when $n=2$ it should return 2.5, and so on."
   ]
  },
  {
   "cell_type": "code",
   "execution_count": 1,
   "metadata": {
    "nbgrader": {
     "grade": false,
     "grade_id": "cell-4377672c617bf9ce",
     "locked": false,
     "schema_version": 3,
     "solution": true,
     "task": false
    }
   },
   "outputs": [],
   "source": [
    "def factorial(n):\n",
    "    total=1\n",
    "    j=1\n",
    "    while j <= n:\n",
    "        total=total*j\n",
    "        j=j+1\n",
    "    return total\n",
    "\n",
    "def partial_e_series(n):\n",
    "    ### BEGIN SOLUTION\n",
    "    i=1\n",
    "    total=1\n",
    "    while i<=n:\n",
    "        total=total+1/factorial(i)\n",
    "        i=i+1\n",
    "    return total\n",
    "    ### END SOLUTION"
   ]
  },
  {
   "cell_type": "code",
   "execution_count": 2,
   "metadata": {
    "nbgrader": {
     "grade": true,
     "grade_id": "cell-2a5a27f54a2f0cab",
     "locked": true,
     "points": 3,
     "schema_version": 3,
     "solution": false,
     "task": false
    }
   },
   "outputs": [],
   "source": [
    "assert abs(partial_e_series(3)-2.666) <= .01\n",
    "assert abs(partial_e_series(4)- 2.7083) <= .001\n",
    "### BEGIN HIDDEN TESTS\n",
    "assert abs(partial_e_series(7) - 2.7182539682539684) <= .0001\n",
    "### END HIDDEN TESTS"
   ]
  },
  {
   "cell_type": "markdown",
   "metadata": {
    "nbgrader": {
     "grade": false,
     "grade_id": "cell-e4756e8e57c31f3f",
     "locked": true,
     "schema_version": 3,
     "solution": false,
     "task": false
    }
   },
   "source": [
    "**Exercise 3 (3 pts):** Write a for loop that uses the integer $n$ to compute the $n^{th}$ left hand Riemann sum of the function $f(x) = x^2$ on the interval [0,1]. \n",
    "\n",
    "*Hint* As $n\\to \\infty$, what should the returned sum should tend to?"
   ]
  },
  {
   "cell_type": "code",
   "execution_count": 1,
   "metadata": {
    "nbgrader": {
     "grade": false,
     "grade_id": "cell-12e8cac17e45d049",
     "locked": false,
     "schema_version": 3,
     "solution": true,
     "task": false
    }
   },
   "outputs": [
    {
     "data": {
      "text/plain": [
       "0.26530612244897955"
      ]
     },
     "execution_count": 1,
     "metadata": {},
     "output_type": "execute_result"
    }
   ],
   "source": [
    "def riemann_xsquared(n):\n",
    "    sum=0\n",
    "    ### BEGIN SOLUTION\n",
    "    for i in range(0,n):\n",
    "        sum=sum + (1/n)*(i/n)**2\n",
    "    ### END SOLUTION\n",
    "    return sum\n",
    "riemann_xsquared(7)"
   ]
  },
  {
   "cell_type": "code",
   "execution_count": 2,
   "metadata": {},
   "outputs": [
    {
     "data": {
      "text/plain": [
       "0.18518518518518517"
      ]
     },
     "execution_count": 2,
     "metadata": {},
     "output_type": "execute_result"
    }
   ],
   "source": [
    "riemann_xsquared(3)"
   ]
  },
  {
   "cell_type": "code",
   "execution_count": 3,
   "metadata": {},
   "outputs": [
    {
     "data": {
      "text/plain": [
       "0.18518518518518517"
      ]
     },
     "execution_count": 3,
     "metadata": {},
     "output_type": "execute_result"
    }
   ],
   "source": [
    "(1/9)*(1/3)+(4/9)*(1/3)"
   ]
  },
  {
   "cell_type": "code",
   "execution_count": 4,
   "metadata": {
    "nbgrader": {
     "grade": true,
     "grade_id": "cell-f7eaa60b22256a9d",
     "locked": true,
     "points": 3,
     "schema_version": 3,
     "solution": false,
     "task": false
    }
   },
   "outputs": [],
   "source": [
    "assert abs(riemann_xsquared(1) - 0) <=.01\n",
    "assert abs(riemann_xsquared(2) - 0.125) <= .1\n",
    "assert abs(riemann_xsquared(3) - 0.185185) <= .1\n",
    "assert abs(riemann_xsquared(10) - 0.285) <= .01\n",
    "### BEGIN HIDDEN TESTS\n",
    "assert abs(riemann_xsquared(20) - 0.308749) <= .009\n",
    "assert abs(riemann_xsquared(50) - 0.3234) <= .008\n",
    "assert abs(riemann_xsquared(100) - 0.32835) <= .007\n",
    "### END HIDDEN TESTS"
   ]
  },
  {
   "cell_type": "markdown",
   "metadata": {
    "nbgrader": {
     "grade": false,
     "grade_id": "cell-05d99984e0b06c01",
     "locked": true,
     "schema_version": 3,
     "solution": false,
     "task": false
    }
   },
   "source": [
    "**Exercise 4 (6 points, manually graded):**\n",
    "\n",
    "**Newton-Raphson Method from Lec03-LIVE**\n",
    "\n",
    "***Part A (4 of the 6 pts)***\n",
    "\n",
    "Write three functions.\n",
    "1. A function `p(x)` that returns the value $x^3 -10x^2 + 5x + 2$\n",
    "2. A function `dp(x)` that returns the value $3x^2 - 20x + 5$\n",
    "3. A function `rootsOfp(startguess)` that returns the solution of $x^3 -10x^2 + 5x + 2 =0$ within .001 accuracy, by using Newton's method, i.e. you start with `guess=startguess` and then update `guess = guess - p(guess)/dp(guess)` while `p(guess)>.001`.\n"
   ]
  },
  {
   "cell_type": "code",
   "execution_count": null,
   "metadata": {},
   "outputs": [],
   "source": []
  },
  {
   "cell_type": "markdown",
   "metadata": {},
   "source": [
    "***Exercise 4, Part B (2 of the 6 pts)***\n",
    "\n",
    "How many roots are there? What are they? Give examples of values of `startguess` that converge to those roots."
   ]
  },
  {
   "cell_type": "code",
   "execution_count": null,
   "metadata": {},
   "outputs": [],
   "source": []
  },
  {
   "cell_type": "markdown",
   "metadata": {
    "nbgrader": {
     "grade": false,
     "grade_id": "cell-7ba099e9ba386f8a",
     "locked": true,
     "schema_version": 3,
     "solution": false,
     "task": false
    }
   },
   "source": [
    "**Exercise 5 (2 pts):** Write a function that takes in a list of lists of equal length and then produces their *average* list, i.e. this is a list where the entry in index `i` is the average of all the given entries in index `i`."
   ]
  },
  {
   "cell_type": "code",
   "execution_count": 11,
   "metadata": {
    "nbgrader": {
     "grade": false,
     "grade_id": "cell-e56fa423dbe126d9",
     "locked": false,
     "schema_version": 3,
     "solution": true,
     "task": false
    }
   },
   "outputs": [],
   "source": [
    "def avgList(myList):\n",
    "    \"\"\"Assumes the argument myList is a list of lists, \n",
    "    all of the same length k with int or float entries. \n",
    "    Returns a list of length k that computes the entrywise average.\"\"\"\n",
    "    ### BEGIN SOLUTION\n",
    "    listlength = len(myList[0])\n",
    "    avg = []\n",
    "    for i in range(listlength):\n",
    "        count = 0\n",
    "        for l in myList:\n",
    "            count = count + l[i]\n",
    "        avg.append(count/len(myList))\n",
    "    return avg\n",
    "    ### END SOLUTION"
   ]
  },
  {
   "cell_type": "code",
   "execution_count": 12,
   "metadata": {
    "nbgrader": {
     "grade": true,
     "grade_id": "cell-e91c52c007d1f919",
     "locked": true,
     "points": 3,
     "schema_version": 3,
     "solution": false,
     "task": false
    }
   },
   "outputs": [],
   "source": [
    "test1 = [2.0, 4.5, 6.5, 8.0]\n",
    "for j in [abs(test1[i] - avgList([[3,5,7,8],[1,4,6,8]])[i]) <.1 for i in range(4)]: \n",
    "    assert j\n",
    "test2 = [2.0, 2.0, 2.0]\n",
    "for j in [abs(test2[i] - avgList([[1, 2, 3], [1, 3, 2], [2, 1, 3], [2, 3, 1], [3, 1, 2], [3, 2, 1]])[i]) <.1 for i in range(3)]: \n",
    "    assert j\n",
    "### BEGIN HIDDEN TESTS\n",
    "test3 = [13.0, 10.666666666666666, 8.0, 6.0]\n",
    "for j in [abs(test3[i] - avgList([[3,5,7,8],[1,4,6,8],[35,23,11,2]])[i]) <.1 for i in range(4)]: \n",
    "    assert j\n",
    "### END HIDDEN TESTS"
   ]
  },
  {
   "cell_type": "markdown",
   "metadata": {
    "nbgrader": {
     "grade": false,
     "grade_id": "cell-95aa9d05aff1b115",
     "locked": true,
     "schema_version": 3,
     "solution": false,
     "task": false
    }
   },
   "source": [
    "**Exercise 6: (4 pts total, manually graded)**\n",
    "\n",
    "**Part (a):** Write a function that takes in a list of n numbers and returns a list of all possible permutations of that list.\n",
    "\n",
    "**Part (b):** Compose the function you wrote in Part (a) with the function you wrote in Exercise 6 to compute the average of the list `[1,3,5,7]` under all 24 of its permutations."
   ]
  },
  {
   "cell_type": "code",
   "execution_count": null,
   "metadata": {
    "nbgrader": {
     "grade": true,
     "grade_id": "cell-2546ecd8a50f49d9",
     "locked": false,
     "points": 4,
     "schema_version": 3,
     "solution": true,
     "task": false
    }
   },
   "outputs": [],
   "source": []
  }
 ],
 "metadata": {
  "celltoolbar": "Create Assignment",
  "kernelspec": {
   "display_name": "Python 3",
   "language": "python",
   "name": "python3"
  },
  "language_info": {
   "codemirror_mode": {
    "name": "ipython",
    "version": 3
   },
   "file_extension": ".py",
   "mimetype": "text/x-python",
   "name": "python",
   "nbconvert_exporter": "python",
   "pygments_lexer": "ipython3",
   "version": "3.7.4"
  }
 },
 "nbformat": 4,
 "nbformat_minor": 2
}
