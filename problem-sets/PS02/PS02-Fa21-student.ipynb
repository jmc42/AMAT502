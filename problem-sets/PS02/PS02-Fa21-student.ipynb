{
 "cells": [
  {
   "cell_type": "markdown",
   "metadata": {
    "deletable": false,
    "editable": false,
    "nbgrader": {
     "cell_type": "markdown",
     "checksum": "877c264d080635d08be81f350039b712",
     "grade": false,
     "grade_id": "cell-9b3c6138d3d428fb",
     "locked": true,
     "schema_version": 3,
     "solution": false,
     "task": false
    }
   },
   "source": [
    "# Problem Set 02 (20 points possible)\n",
    "### Due Sunday September 19th at 11:59 ET on JupyterHub\n",
    "## Content\n",
    "\n",
    "- **Conditionals**\n",
    "- **Loops**\n",
    "- **Strings**\n",
    "- **Lists**\n",
    "\n",
    "#### Nota Bene: You CANNOT use functions from the math or scipy packages that use pre-computed values of $e$ or factorial operations.\n"
   ]
  },
  {
   "cell_type": "markdown",
   "metadata": {
    "deletable": false,
    "editable": false,
    "nbgrader": {
     "cell_type": "markdown",
     "checksum": "903e21522a5bc13aee105d57cf008f63",
     "grade": false,
     "grade_id": "cell-7f0607320e3e854e",
     "locked": true,
     "schema_version": 3,
     "solution": false,
     "task": false
    }
   },
   "source": [
    "**Exercise 1 (3 pts):** Write a function that takes in an integer $n$ and prints the $n$-th Taylor approximation to the number $e$. By this we mean, complete the function below and use the code provided to sum the first $n$ terms of the series\n",
    "$$e \\approx 1+ 1 + \\frac{1^2}{2!} + \\frac{1^3}{3!} + \\frac{1^4}{4!}+ \\cdots $$ and so on."
   ]
  },
  {
   "cell_type": "code",
   "execution_count": null,
   "metadata": {
    "deletable": false,
    "nbgrader": {
     "cell_type": "code",
     "checksum": "ffaaeaec4dea5c36acfe71efea34619d",
     "grade": false,
     "grade_id": "cell-4377672c617bf9ce",
     "locked": false,
     "schema_version": 3,
     "solution": true,
     "task": false
    }
   },
   "outputs": [],
   "source": [
    "def factorial(n):\n",
    "    total=1\n",
    "    j=1\n",
    "    while j <= n:\n",
    "        total=total*j\n",
    "        j=j+1\n",
    "    return total\n",
    "\n",
    "def partial_e_series(n):\n",
    "    # YOUR CODE HERE\n",
    "    raise NotImplementedError()"
   ]
  },
  {
   "cell_type": "code",
   "execution_count": null,
   "metadata": {
    "deletable": false,
    "editable": false,
    "nbgrader": {
     "cell_type": "code",
     "checksum": "fc5f0604f48a86743d2fb5282cfc5e77",
     "grade": true,
     "grade_id": "cell-2a5a27f54a2f0cab",
     "locked": true,
     "points": 3,
     "schema_version": 3,
     "solution": false,
     "task": false
    }
   },
   "outputs": [],
   "source": [
    "assert abs(partial_e_series(3)-2.666) <= .01\n",
    "assert abs(partial_e_series(4)- 2.7083) <= .001"
   ]
  },
  {
   "cell_type": "markdown",
   "metadata": {
    "deletable": false,
    "editable": false,
    "nbgrader": {
     "cell_type": "markdown",
     "checksum": "ea8c6eaf0370aefeda71f55899a15c59",
     "grade": false,
     "grade_id": "cell-e4756e8e57c31f3f",
     "locked": true,
     "schema_version": 3,
     "solution": false,
     "task": false
    }
   },
   "source": [
    "**Exercise 2 (3 pts):** Write a for loop that uses the integer $n$ to compute the $n^{th}$ left hand Riemann sum of the function $f(x) = x^2$ on the interval [0,1]. \n",
    "\n",
    "*Hint* As $n\\to \\infty$, what should the returned sum should tend to?"
   ]
  },
  {
   "cell_type": "code",
   "execution_count": null,
   "metadata": {
    "deletable": false,
    "nbgrader": {
     "cell_type": "code",
     "checksum": "a6a1d6b427d3e74b91e8d194c98f5502",
     "grade": false,
     "grade_id": "cell-12e8cac17e45d049",
     "locked": false,
     "schema_version": 3,
     "solution": true,
     "task": false
    }
   },
   "outputs": [],
   "source": [
    "def riemann_xsquared(n):\n",
    "    sum=0\n",
    "    # YOUR CODE HERE\n",
    "    raise NotImplementedError()\n",
    "    return sum\n",
    "riemann_xsquared(7)"
   ]
  },
  {
   "cell_type": "code",
   "execution_count": null,
   "metadata": {
    "deletable": false,
    "editable": false,
    "nbgrader": {
     "cell_type": "code",
     "checksum": "8a0f3227058c133b0866753f8490c6e7",
     "grade": true,
     "grade_id": "cell-f7eaa60b22256a9d",
     "locked": true,
     "points": 3,
     "schema_version": 3,
     "solution": false,
     "task": false
    }
   },
   "outputs": [],
   "source": [
    "assert abs(riemann_xsquared(1) - 0) <=.01\n",
    "assert abs(riemann_xsquared(2) - 0.125) <= .1\n",
    "assert abs(riemann_xsquared(3) - 0.185185) <= .1\n",
    "assert abs(riemann_xsquared(10) - 0.285) <= .01"
   ]
  },
  {
   "cell_type": "markdown",
   "metadata": {
    "deletable": false,
    "editable": false,
    "nbgrader": {
     "cell_type": "markdown",
     "checksum": "f0fba724b26bbdc26655998775157091",
     "grade": false,
     "grade_id": "cell-8f5a5bd489d2b76d",
     "locked": true,
     "schema_version": 3,
     "solution": false,
     "task": false
    }
   },
   "source": [
    "**Exercise 3 (2 pts):** Complete the function below that takes in three integers $(a,b,c)$ and returns the number of integers between $a$ and $b$ that are divisible by $c$. Make sure it tests $a$ and $b$ for divisibility by $c$.\n"
   ]
  },
  {
   "cell_type": "code",
   "execution_count": null,
   "metadata": {
    "deletable": false,
    "nbgrader": {
     "cell_type": "code",
     "checksum": "352e545d65ffeca66f21a28e2e273059",
     "grade": false,
     "grade_id": "cell-e6426ff88577549f",
     "locked": false,
     "schema_version": 3,
     "solution": true,
     "task": false
    }
   },
   "outputs": [],
   "source": [
    "def how_many_divisible(a,b,c):\n",
    "    counter=0\n",
    "    # YOUR CODE HERE\n",
    "    raise NotImplementedError()\n",
    "    return counter"
   ]
  },
  {
   "cell_type": "code",
   "execution_count": null,
   "metadata": {
    "deletable": false,
    "editable": false,
    "nbgrader": {
     "cell_type": "code",
     "checksum": "5a2fe7ce0739453f8dbfde837419b540",
     "grade": true,
     "grade_id": "cell-e9dffd315102441d",
     "locked": true,
     "points": 2,
     "schema_version": 3,
     "solution": false,
     "task": false
    }
   },
   "outputs": [],
   "source": [
    "assert how_many_divisible(10,20,5) == 3\n",
    "assert how_many_divisible(30,77,7) == 7"
   ]
  },
  {
   "cell_type": "markdown",
   "metadata": {
    "deletable": false,
    "editable": false,
    "nbgrader": {
     "cell_type": "markdown",
     "checksum": "82bfce9d13e36509f054e395fe48a71e",
     "grade": false,
     "grade_id": "cell-05d99984e0b06c01",
     "locked": true,
     "schema_version": 3,
     "solution": false,
     "task": false
    }
   },
   "source": [
    "**Exercise 4 (2 points):** Write a python program that takes in three integers and returns the largest *odd* integer.\n",
    "\n",
    "If there are no odd integers return the string 'Sorry. All arguments are even."
   ]
  },
  {
   "cell_type": "code",
   "execution_count": null,
   "metadata": {
    "deletable": false,
    "nbgrader": {
     "cell_type": "code",
     "checksum": "b4888e53e3b1ba2ae6750b089146c239",
     "grade": false,
     "grade_id": "cell-c2012b30787a5202",
     "locked": false,
     "schema_version": 3,
     "solution": true,
     "task": false
    }
   },
   "outputs": [],
   "source": [
    "def largest_odd(x,y,z):\n",
    "    \"\"\"Arguments x,y,z are assumed to be of type int. Output is largest odd integer if there is one.\n",
    "    If none of the arguments are odd, return the message 'all arguments are even.'\"\"\"\n",
    "    # YOUR CODE HERE\n",
    "    raise NotImplementedError()"
   ]
  },
  {
   "cell_type": "code",
   "execution_count": null,
   "metadata": {
    "deletable": false,
    "editable": false,
    "nbgrader": {
     "cell_type": "code",
     "checksum": "9432ec3c98fce5a9f5cc37194157860a",
     "grade": true,
     "grade_id": "cell-42ac30dda8919a27",
     "locked": true,
     "points": 2,
     "schema_version": 3,
     "solution": false,
     "task": false
    }
   },
   "outputs": [],
   "source": [
    "assert largest_odd(2,12,11) == 11\n",
    "assert largest_odd(2,12,14) == 'Sorry. All arguments are even.'\n",
    "assert largest_odd(-13,17,-39) == 17"
   ]
  },
  {
   "cell_type": "markdown",
   "metadata": {
    "deletable": false,
    "editable": false,
    "nbgrader": {
     "cell_type": "markdown",
     "checksum": "1ac211e83443523a8fa6926239d7c0d1",
     "grade": false,
     "grade_id": "cell-2d5eff11bca891ec",
     "locked": true,
     "schema_version": 3,
     "solution": false,
     "task": false
    }
   },
   "source": [
    "**Exercise 5 (3 pts):** Write a program `ffd(s)` that takes in a string `s` of decimal numbers, separated by commas, e.g. `s='1.5,6.4,3.8'`, and returns the sum of the *decimal* numbers. In our example, `ffd(s)` should return `11.7`.\n",
    "\n",
    "You may want to use the fact that `s[i,j]` returns the portion of the string starting at the character in position $i$ and ending at the character in position $j-1$. Recursion might also help you in your solution, but all that matters is that the tests below are satisfied."
   ]
  },
  {
   "cell_type": "code",
   "execution_count": null,
   "metadata": {
    "deletable": false,
    "nbgrader": {
     "cell_type": "code",
     "checksum": "a8ae865967b016eb384e5e4803f28ab1",
     "grade": false,
     "grade_id": "cell-350d157902442095",
     "locked": false,
     "schema_version": 3,
     "solution": true,
     "task": false
    }
   },
   "outputs": [],
   "source": [
    "def ffd(s):\n",
    "    \"\"\"Assumes s is a string of ints or floats separated by commas and returns the sum of those ints/floats as a float.\"\"\"\n",
    "    # YOUR CODE HERE\n",
    "    raise NotImplementedError()"
   ]
  },
  {
   "cell_type": "code",
   "execution_count": null,
   "metadata": {
    "deletable": false,
    "editable": false,
    "nbgrader": {
     "cell_type": "code",
     "checksum": "c9efd531f91c4ceea0d09f1481993ea7",
     "grade": true,
     "grade_id": "cell-fce6a11e6f21d21e",
     "locked": true,
     "points": 3,
     "schema_version": 3,
     "solution": false,
     "task": false
    }
   },
   "outputs": [],
   "source": [
    "assert ffd('1.5,6.4,3.8') == 11.7\n",
    "assert ffd('22.4,43.2') == 65.6\n",
    "assert ffd('2,3,4') == 9.0"
   ]
  },
  {
   "cell_type": "markdown",
   "metadata": {
    "deletable": false,
    "editable": false,
    "nbgrader": {
     "cell_type": "markdown",
     "checksum": "c5a3176381c9b1009d494d72077d1787",
     "grade": false,
     "grade_id": "cell-7ba099e9ba386f8a",
     "locked": true,
     "schema_version": 3,
     "solution": false,
     "task": false
    }
   },
   "source": [
    "**Exercise 6 (3 pts):** Write a function that takes in a list of lists of equal length and then produces their *average* list, i.e. this is a list where the entry in index `i` is the average of all the given entries in index `i`."
   ]
  },
  {
   "cell_type": "code",
   "execution_count": null,
   "metadata": {
    "deletable": false,
    "nbgrader": {
     "cell_type": "code",
     "checksum": "2a7514a88cfbd6e25ab3621312b0daa2",
     "grade": false,
     "grade_id": "cell-e56fa423dbe126d9",
     "locked": false,
     "schema_version": 3,
     "solution": true,
     "task": false
    }
   },
   "outputs": [],
   "source": [
    "def avgList(myList):\n",
    "    \"\"\"Assumes the argument myList is a list of lists, \n",
    "    all of the same length k with int or float entries. \n",
    "    Returns a list of length k that computes the entrywise average.\"\"\"\n",
    "    # YOUR CODE HERE\n",
    "    raise NotImplementedError()"
   ]
  },
  {
   "cell_type": "code",
   "execution_count": null,
   "metadata": {
    "deletable": false,
    "editable": false,
    "nbgrader": {
     "cell_type": "code",
     "checksum": "4f7f47d0fdbce8a793789987947124d1",
     "grade": true,
     "grade_id": "cell-e91c52c007d1f919",
     "locked": true,
     "points": 3,
     "schema_version": 3,
     "solution": false,
     "task": false
    }
   },
   "outputs": [],
   "source": [
    "test1 = [2.0, 4.5, 6.5, 8.0]\n",
    "for j in [abs(test1[i] - avgList([[3,5,7,8],[1,4,6,8]])[i]) <.1 for i in range(4)]: \n",
    "    assert j\n",
    "test2 = [2.0, 2.0, 2.0]\n",
    "for j in [abs(test2[i] - avgList([[1, 2, 3], [1, 3, 2], [2, 1, 3], [2, 3, 1], [3, 1, 2], [3, 2, 1]])[i]) <.1 for i in range(3)]: \n",
    "    assert j"
   ]
  },
  {
   "cell_type": "markdown",
   "metadata": {
    "deletable": false,
    "editable": false,
    "nbgrader": {
     "cell_type": "markdown",
     "checksum": "6d469e63bfb45a7c91b7b5a810162a31",
     "grade": false,
     "grade_id": "cell-95aa9d05aff1b115",
     "locked": true,
     "schema_version": 3,
     "solution": false,
     "task": false
    }
   },
   "source": [
    "**Exercise 7: (4 pts total, manually graded)**\n",
    "\n",
    "**Part (a):** Write a function that takes in a list of n numbers and returns a list of all possible permutations of that list.\n",
    "\n",
    "**Part (b):** Compose the function you wrote in Part (a) with the function you wrote in Exercise 6 to compute the average of the list `[1,3,5,7]` under all 24 of its permutations."
   ]
  },
  {
   "cell_type": "code",
   "execution_count": null,
   "metadata": {
    "deletable": false,
    "nbgrader": {
     "cell_type": "code",
     "checksum": "89e6745944c6d592484f025db1ac96c8",
     "grade": true,
     "grade_id": "cell-2546ecd8a50f49d9",
     "locked": false,
     "points": 4,
     "schema_version": 3,
     "solution": true,
     "task": false
    }
   },
   "outputs": [],
   "source": [
    "# YOUR CODE HERE\n",
    "raise NotImplementedError()"
   ]
  }
 ],
 "metadata": {
  "kernelspec": {
   "display_name": "Python 3",
   "language": "python",
   "name": "python3"
  },
  "language_info": {
   "codemirror_mode": {
    "name": "ipython",
    "version": 3
   },
   "file_extension": ".py",
   "mimetype": "text/x-python",
   "name": "python",
   "nbconvert_exporter": "python",
   "pygments_lexer": "ipython3",
   "version": "3.7.4"
  }
 },
 "nbformat": 4,
 "nbformat_minor": 2
}
