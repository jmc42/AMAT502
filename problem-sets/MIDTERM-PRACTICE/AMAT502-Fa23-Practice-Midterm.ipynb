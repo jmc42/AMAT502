{
 "cells": [
  {
   "cell_type": "markdown",
   "metadata": {},
   "source": [
    "# AMAT 502 MIDTERM PRACTICE\n",
    "\n",
    "## Administrative Details\n",
    "- This exam can be used to ask anything about **the first 14 lectures.**\n",
    "- It will be held **October 18-22nd**.\n",
    "- It will be distributed and collected via our JupyterHub Server.\n",
    "\n",
    "## Exam Format\n",
    "- There will be **four questions totalling 20 points**. \n",
    "    - (3 pts in ~10 mins) A basic coding question using e.g. conditionals, loops, recursion, or list comprehension.\n",
    "    - (10 pts in ~40 mins) A longer coding question that focuses on OOP or probability/statistics and simulation question.\n",
    "    - (3 pts in ~10 mins) A plotting question.\n",
    "    - (4 pts in ~20 mins) A written comprehension question."
   ]
  },
  {
   "cell_type": "markdown",
   "metadata": {},
   "source": [
    "## Example Basic Coding Questions (3 pts)\n",
    "\n",
    "I will ask a basic coding or plotting question that tests your understanding of the **first 10 lectures**\n",
    "\n",
    "*N.B. This question should take no more than 10 minutes.*\n",
    "\n",
    "#### Example C1\n",
    "Write a function that takes in a list and reverses it using a `for` loop.\n"
   ]
  },
  {
   "cell_type": "code",
   "execution_count": null,
   "metadata": {},
   "outputs": [],
   "source": []
  },
  {
   "cell_type": "markdown",
   "metadata": {},
   "source": [
    "#### Example C2:\n",
    "Write a function that takes in two integers and tests if they are both even. If so, return their product. Otherwise, return their sum."
   ]
  },
  {
   "cell_type": "code",
   "execution_count": null,
   "metadata": {},
   "outputs": [],
   "source": []
  },
  {
   "cell_type": "markdown",
   "metadata": {},
   "source": [
    "#### Example C3:\n",
    "Write a function that takes in a list of integers $L$ and an integer $m$ and returns the number of times $m$ shows up in $L$. Test your function on the list $L = [1,5,23,1,17,89,2,3,1,4,2,5,4]$ and integer $m = 1$."
   ]
  },
  {
   "cell_type": "code",
   "execution_count": null,
   "metadata": {},
   "outputs": [],
   "source": []
  },
  {
   "cell_type": "markdown",
   "metadata": {},
   "source": [
    "#### Example C4:\n",
    "Write a function that takes in a list and returns a list with no repeated values. For example if we input $L = [1,2,32,14,2,1]$, the function should return $\\bar{L} = [1,2,32,14]$"
   ]
  },
  {
   "cell_type": "code",
   "execution_count": null,
   "metadata": {},
   "outputs": [],
   "source": []
  },
  {
   "cell_type": "markdown",
   "metadata": {},
   "source": [
    "#### Example C5\n",
    "Write a function that takes in a list and returns a random element of that list."
   ]
  },
  {
   "cell_type": "code",
   "execution_count": null,
   "metadata": {},
   "outputs": [],
   "source": []
  },
  {
   "cell_type": "markdown",
   "metadata": {},
   "source": [
    "#### Example C6\n",
    "Write a function that finds the smallest element of a list."
   ]
  },
  {
   "cell_type": "code",
   "execution_count": null,
   "metadata": {},
   "outputs": [],
   "source": []
  },
  {
   "cell_type": "markdown",
   "metadata": {},
   "source": [
    "#### Example C7\n",
    "Write a function that takes in a string and replaces any vowel (a,e,i,o,u) with the letter y."
   ]
  },
  {
   "cell_type": "code",
   "execution_count": null,
   "metadata": {},
   "outputs": [],
   "source": []
  },
  {
   "cell_type": "markdown",
   "metadata": {},
   "source": [
    "#### Example C8\n",
    "\n",
    "Write a function that takes in an integer n and returns a list with the first n Fibonacci numbers."
   ]
  },
  {
   "cell_type": "code",
   "execution_count": null,
   "metadata": {},
   "outputs": [],
   "source": []
  },
  {
   "cell_type": "markdown",
   "metadata": {},
   "source": [
    "## Example Long Coding Questions (10 pts)\n",
    "\n",
    "This question is cumulative of the first 12 lectures and will focus on OOP or Probability/Statistics.\n",
    "\n",
    "*N.B. This question should take no more than 40 minutes.*\n",
    "\n",
    "#### Example L1 (The 5 USD Question)\n",
    "\n",
    "1. Write a function that flips a fair coin 10 times and returns a list or array of the record of outcomes, where heads is `1` and tails is a `0`.\n",
    "2. Write another function that counts the number of heads in your returned list/array of 10 coin flips.\n",
    "3. Use these functions to calculate the approximate probability of getting 7 heads out of 10 coin flips. Your answer may use a `for` loop where the functions above are called `n` times.\n",
    "4. **BONUS** What value of `n` will ensure that your calculated probability in part 3 is within .03 of the true answer with 95% confidence?"
   ]
  },
  {
   "cell_type": "code",
   "execution_count": null,
   "metadata": {},
   "outputs": [],
   "source": []
  },
  {
   "cell_type": "markdown",
   "metadata": {},
   "source": [
    "#### Example L2\n",
    "\n",
    "A trial with 50 participants is given a new version of aspirin, called *AspirinXTREME*. The goal of this study is to compare how effective *AspirinXTREME* is in comparison to ordinary Aspirin, which helps people with their headaches 60% of the time. \n",
    "\n",
    "Everyone has a headache to start the trial, but each are given *AspirinXTREME* and they respond with `1` if the medicine helped and a `0` if no change was reported.\n",
    "\n",
    "Given the following responses below, do we have sufficient evidence (with $p=.05$) that *AspirinXTREME* is more effective than ordinary aspirin? \n",
    "\n",
    "N.B. This is slightly different than the responses from Lecture 12 LIVE."
   ]
  },
  {
   "cell_type": "code",
   "execution_count": null,
   "metadata": {},
   "outputs": [],
   "source": [
    "import numpy as np\n",
    "aspirinXtrial = np.array([1, 0, 1, 1, 1, 0, 1, 1, 0, 0, 1, 1, 0, 1, 1, 1, 0, 1, 0, 1, 1, 0,\n",
    "       1, 1, 0, 0, 1, 1, 0, 1, 1, 0, 1, 1, 1, 1, 1, 0, 1, 1, 1, 0, 0, 1,\n",
    "       0, 1, 1, 1, 1, 1])"
   ]
  },
  {
   "cell_type": "markdown",
   "metadata": {},
   "source": [
    "#### Example L3\n",
    "\n",
    "Create a `Car` class which includes attributes for make, model, year, and the number of miles as part of the arguments to the `__init__` method.\n",
    "\n",
    "Write methods that can manipulate the car's speed, whether the windows are open or closed, whether the lights are on or off, and whether the windshield wipers are on or not. You may need to create additional attributes for your car!\n",
    "\n",
    "Using abstraction (i.e. this method should call the methods above), write a method `Raining` that automatically lowers the car's speed by 10mph, turns on the lights and the wipers. Write another method `stoppedRaining` that undoes these changes."
   ]
  },
  {
   "cell_type": "code",
   "execution_count": null,
   "metadata": {},
   "outputs": [],
   "source": []
  },
  {
   "cell_type": "markdown",
   "metadata": {},
   "source": [
    "## Example Plotting Questions\n",
    "\n",
    "I will ask you to make one of two types of plots\n",
    "- a scatter plot, or\n",
    "- a plot of a function\n",
    "\n",
    "You must also be able to\n",
    "- label your x and y axes\n",
    "- give your plot a title\n",
    "- Change the color\n",
    "\n",
    "*N.B. This question should take no more than 10 minutes*\n",
    "\n",
    "#### Example P1\n",
    "Make a plot of $f(x)=e^x$ in green with x-limits given by $[0,10]$ with label for the x axis saying 'Time' and with y axis labeled 'Growth' and title 'Exponential Growth'."
   ]
  },
  {
   "cell_type": "code",
   "execution_count": null,
   "metadata": {},
   "outputs": [],
   "source": []
  },
  {
   "cell_type": "markdown",
   "metadata": {},
   "source": [
    "#### Example P2\n",
    "\n",
    "Make a scatter plot with the points `[(1,3), (2,4), (3,1)]` labelled \"My Scatter Plot\""
   ]
  },
  {
   "cell_type": "code",
   "execution_count": null,
   "metadata": {},
   "outputs": [],
   "source": []
  },
  {
   "cell_type": "markdown",
   "metadata": {},
   "source": [
    "## Example Concept Questions and Study Guide\n",
    "\n",
    "I will ask you a conceptual question that tests your understanding of **the first 14 lectures.** Below I have written some example prompts for you to review the material.\n",
    "\n",
    "Your score will be out of 5 points based on how confident I am that you understand the material that I am asking you about.\n",
    "\n",
    "1. What is the difference between scalar and non-scalar objects? What are the 4 basic scalar object types in Python?\n",
    "2. Explain the concept of overloading. Give an example.\n",
    "3. **What's the difference between iteration and recursion. Give an example of function that can be implemented either way. What are the basic building blocks of an iterative implementation? What is an incrementing or decrementing variable?**\n",
    "4. **Explain bisection search. How does it differ from linear search? Give specific estimates in terms of computational complexity of each.**\n",
    "5. **Explain how function call flow works. What is the difference between a formal and actual parameter? When is a function actually executed? Explain the difference between local and global variables. What is a default value or keyword? What is a docstring? How do I write one?**\n",
    "6. What is the golden ratio? Why is it important?\n",
    "7. What is slice notation? How is it commonly used?\n",
    "8. **What is the difference between a list, a set, a tuple and a dictionary? Why might you use one over the other?**\n",
    "9. **What is the edit distance between strings? How is it calculated?**\n",
    "10. What is list comprehension?\n",
    "11. What is object oriented programming? What languages are OOP languages? What are other types of programming languages, e.g. procedural vs. functional vs. OOP? [Read this](https://www.geeksforgeeks.org/differences-between-procedural-and-object-oriented-programming/)\n",
    "12. If I were to give you a OOP class, could you modify it to include new attributes and methods? What about making a subclass?\n",
    "13. What's the difference between a Numpy Array and a list? What are some things that you can do with one, but not another?\n",
    "14. What's the difference between a deterministic and stochastic program? What is a probability distribution? Give some examples of a few probability distributions and what types of phenomenon they model.\n",
    "15. If I claimed that a particular drug did a better job of treating symptoms than a placebo, how would you test that hypothesis? Comment how standard deviations are used and some classic rules that govern their use.\n",
    "16. Give a 95% confidence interval for the number of heads out of 80 flips of a fair coin.\n",
    "17. **Explain how Linear and Polynomial Regression. How is it an optimization problem?**\n",
    "18. **Explain how Linear Classification works.**\n",
    "19. **Explain how K-Nearest Neighbors works. It is a supervised or unsupervised algorithm?**\n"
   ]
  },
  {
   "cell_type": "code",
   "execution_count": null,
   "metadata": {},
   "outputs": [],
   "source": []
  }
 ],
 "metadata": {
  "kernelspec": {
   "display_name": "Python 3 (ipykernel)",
   "language": "python",
   "name": "python3"
  },
  "language_info": {
   "codemirror_mode": {
    "name": "ipython",
    "version": 3
   },
   "file_extension": ".py",
   "mimetype": "text/x-python",
   "name": "python",
   "nbconvert_exporter": "python",
   "pygments_lexer": "ipython3",
   "version": "3.9.12"
  }
 },
 "nbformat": 4,
 "nbformat_minor": 4
}
