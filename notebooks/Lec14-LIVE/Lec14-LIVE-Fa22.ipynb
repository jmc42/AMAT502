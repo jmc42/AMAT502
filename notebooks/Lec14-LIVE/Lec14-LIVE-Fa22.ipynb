{
 "cells": [
  {
   "cell_type": "markdown",
   "metadata": {},
   "source": [
    "# Lecture 14 LIVE\n",
    "\n",
    "## Topics from Lecture\n",
    "- Train-Model-Predict Paradigm\n",
    "- Linear Classifiers\n",
    "- Regression vs. Linear Classification\n",
    "- K-Nearest Neighbors Classifier"
   ]
  },
  {
   "cell_type": "markdown",
   "metadata": {},
   "source": [
    "## Review of Lecture 13\n",
    "\n",
    "### Question 1: Understanding Regression\n",
    "\n",
    "#### Part A: Concept Question (1 Bytecoin for 1 person)\n",
    "**Explain how regression works. Try to appeal to the train-model-predict paradigm for learning. How does regression solve an optimization problem?**\n",
    "\n",
    "#### Part B: Coding Question (3 Bytecoins)\n",
    "\n",
    "- Write a function that, given `n`, returns a list of the first `n` Fibonacci numbers, starting with 0.\n",
    "- Run linear regression on the **natural log** of the first 22 Fibonacci numbers. **What is the slope of the line of best fit?**\n",
    "- Plot your line of best fit.\n",
    "*Please modify the code below!*"
   ]
  },
  {
   "cell_type": "code",
   "execution_count": null,
   "metadata": {},
   "outputs": [],
   "source": [
    "#Python Implementation of Least Squares\n",
    "\n",
    "import numpy as np \n",
    "import matplotlib.pyplot as plt \n",
    "  \n",
    "def estimate_coef(x, y): \n",
    "    # number of observations/points \n",
    "    n = np.size(x) \n",
    "  \n",
    "    # mean of x and y vector \n",
    "    m_x, m_y = np.mean(x), np.mean(y) \n",
    "  \n",
    "    # calculating cross-deviation and deviation about x \n",
    "    SS_xy = np.sum(y*x) - n*m_y*m_x \n",
    "    SS_xx = np.sum(x*x) - n*m_x*m_x \n",
    "  #here's a comment.\n",
    "    # calculating regression coefficients \n",
    "    b_1 = SS_xy / SS_xx \n",
    "    b_0 = m_y - b_1*m_x \n",
    "  \n",
    "    return(b_0, b_1) \n",
    "  \n",
    "def plot_regression_line(x, y, b): \n",
    "    # plotting the actual points as scatter plot\n",
    "    myRegPlot=plt.figure() #object creation in order to save image\n",
    "    plt.scatter(x, y, color = \"m\", \n",
    "               marker = \"o\", s = 30) \n",
    "  \n",
    "    # predicted response vector \n",
    "    y_pred = b[0] + b[1]*x \n",
    "  \n",
    "    # plotting the regression line \n",
    "    plt.plot(x, y_pred, color = \"g\") \n",
    "  \n",
    "    # putting labels \n",
    "    plt.xlabel('x') \n",
    "    plt.ylabel('y') \n",
    "  \n",
    "    # function to show plot \n",
    "    plt.show()\n",
    "    myRegPlot.savefig(\"My_Regression_Plot.png\")\n",
    "\n",
    "def plot_example(): \n",
    "    # observations taken from the number sequences\n",
    "    x = np.array([1, 2, 3, 4, 5, 6, 7, 8])\n",
    "    #y = np.array([3 , 6, 9, 12, 15, 18, 21, 24])\n",
    "    y = np.array([2, 5, 10, 17, 26, 37, 50, 65]) \n",
    "    # estimating coefficients \n",
    "    b = estimate_coef(x, y) \n",
    "    print(\"Estimated coefficients: b_0 =\" + str(b[0]) + \"and b_1 =\" + str(b[1]))\n",
    "  \n",
    "    # plotting regression line \n",
    "    plot_regression_line(x, y, b)"
   ]
  },
  {
   "cell_type": "code",
   "execution_count": null,
   "metadata": {},
   "outputs": [],
   "source": []
  },
  {
   "cell_type": "markdown",
   "metadata": {},
   "source": [
    "## Lecture 14 Material\n",
    "\n",
    "### Question 2: Understanding Linear Classifiers\n",
    "\n",
    "**Explain how a linear classifier works. How is classification different from regression?**\n",
    "\n",
    "You can appeal to the following code in your answer. How would predict the values of the gray points?"
   ]
  },
  {
   "cell_type": "code",
   "execution_count": 2,
   "metadata": {},
   "outputs": [
    {
     "data": {
      "text/plain": [
       "<matplotlib.collections.PathCollection at 0x7fcf5f235ad0>"
      ]
     },
     "execution_count": 2,
     "metadata": {},
     "output_type": "execute_result"
    },
    {
     "data": {
      "image/png": "[encoded data removed]",
      "text/plain": [
       "<Figure size 432x288 with 1 Axes>"
      ]
     },
     "metadata": {
      "needs_background": "light"
     },
     "output_type": "display_data"
    }
   ],
   "source": [
    "# Following code from https://jakevdp.github.io/PythonDataScienceHandbook/04.02-simple-scatter-plots.html\n",
    "import matplotlib.pyplot as plt\n",
    "import numpy as np\n",
    "\n",
    "## Training Data\n",
    "X_train = np.array([[1.75,1.2], [2.5,0], [3,1], [4.5,2], [4.75,3], [5,2.5]])\n",
    "y_train = np.array([0, 0, 0, 1, 1, 1])\n",
    "## Setting Colors for the Training Data\n",
    "color_dict = {0: 'red',1:'blue'}\n",
    "train_Colors = [ color_dict[i] for i in y_train]\n",
    "## Plotting the Training Data\n",
    "plt.scatter(X_train[:, 0], X_train[:, 1], c=train_Colors)\n",
    "\n",
    "## Testing Data\n",
    "X_test = np.array([[3.5,1],[3.95,1.5],[4,2]])\n",
    "## Plotting Testing Data\n",
    "plt.scatter(X_test[:,0],X_test[:,1],c='gray')"
   ]
  },
  {
   "cell_type": "code",
   "execution_count": 3,
   "metadata": {},
   "outputs": [
    {
     "data": {
      "text/plain": [
       "array([0, 1, 1])"
      ]
     },
     "execution_count": 3,
     "metadata": {},
     "output_type": "execute_result"
    }
   ],
   "source": [
    "from sklearn.svm import SVC\n",
    "\n",
    "clf = SVC(kernel='linear')\n",
    "clf.fit(X_train, y_train)\n",
    "y_test = clf.predict(X_test)\n",
    "y_test"
   ]
  },
  {
   "cell_type": "markdown",
   "metadata": {},
   "source": [
    "### Question 3: Understanding the KNN Algorithm\n",
    "\n",
    "**Explain how the K-Nearest Neighbors works.**\n",
    "\n",
    "In the following code, I've gone ahead and applied the KNN classifier."
   ]
  },
  {
   "cell_type": "code",
   "execution_count": 33,
   "metadata": {},
   "outputs": [
    {
     "data": {
      "text/plain": [
       "KNeighborsClassifier(algorithm='auto', leaf_size=30, metric='minkowski',\n",
       "                     metric_params=None, n_jobs=None, n_neighbors=3, p=2,\n",
       "                     weights='uniform')"
      ]
     },
     "execution_count": 33,
     "metadata": {},
     "output_type": "execute_result"
    }
   ],
   "source": [
    "# Also compare with https://scikit-learn.org/stable/modules/neighbors.html\n",
    "from sklearn.neighbors import KNeighborsClassifier\n",
    "\n",
    "classifier = KNeighborsClassifier(n_neighbors=3)\n",
    "classifier.fit(X_train, y_train)"
   ]
  },
  {
   "cell_type": "code",
   "execution_count": 35,
   "metadata": {},
   "outputs": [
    {
     "name": "stdout",
     "output_type": "stream",
     "text": [
      "[0 1 1]\n"
     ]
    }
   ],
   "source": [
    "y_pred = classifier.predict(X_test)\n",
    "print(y_pred)"
   ]
  },
  {
   "cell_type": "markdown",
   "metadata": {},
   "source": []
  },
  {
   "cell_type": "code",
   "execution_count": null,
   "metadata": {},
   "outputs": [],
   "source": []
  }
 ],
 "metadata": {
  "kernelspec": {
   "display_name": "Python 3 (ipykernel)",
   "language": "python",
   "name": "python3"
  },
  "language_info": {
   "codemirror_mode": {
    "name": "ipython",
    "version": 3
   },
   "file_extension": ".py",
   "mimetype": "text/x-python",
   "name": "python",
   "nbconvert_exporter": "python",
   "pygments_lexer": "ipython3",
   "version": "3.8.12"
  }
 },
 "nbformat": 4,
 "nbformat_minor": 2
}
