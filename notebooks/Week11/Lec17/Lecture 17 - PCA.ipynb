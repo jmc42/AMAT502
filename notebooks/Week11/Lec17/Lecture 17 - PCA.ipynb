{
 "cells": [
  {
   "cell_type": "markdown",
   "metadata": {
    "slideshow": {
     "slide_type": "slide"
    }
   },
   "source": [
    "# AMAT 502: Modern Computing for Mathematicians\n",
    "## Lecture 17 - Principal Component Analysis (PCA)\n",
    "### University at Albany SUNY"
   ]
  },
  {
   "cell_type": "markdown",
   "metadata": {
    "slideshow": {
     "slide_type": "slide"
    }
   },
   "source": [
    "# Topics for Today\n",
    "- Recap of the ML Tree\n",
    "- Motivating Example for PCA\n",
    "- Review of Linear Algebra Concepts\n",
    "- Review of Probability\n",
    "- PCA\n",
    "- Projections"
   ]
  },
  {
   "cell_type": "markdown",
   "metadata": {
    "slideshow": {
     "slide_type": "slide"
    }
   },
   "source": [
    "## Machine Learning (ML) Algorithms\n",
    "\n",
    "The four main branches of ML are:\n",
    "\n",
    "1. Supervised Learning\n",
    "    - Regression\n",
    "    - Classification\n",
    "2. Unsupervised Learning\n",
    "    - Clustering\n",
    "    - Dimensionality Reduction\n",
    "    \n",
    "<center>\n",
    "    \n",
    "![ML Tree](ML-tree.jpeg)\n",
    "\n",
    "<i> Image taken from <a href=\"https://medium.com/better-programming/the-data-science-interview-study-guide-c3824cb76c2e\">The Data Science Interview Study Guide</a></i>\n",
    "\n",
    "</center>"
   ]
  },
  {
   "cell_type": "markdown",
   "metadata": {
    "slideshow": {
     "slide_type": "slide"
    }
   },
   "source": [
    "# Dimensionality Reduction\n",
    "\n",
    "Today we will examine our first dimensionality reduction technique, Principal Component Analysis (PCA):\n",
    "\n",
    "* PCA is a statistical tool for analyzing data sets using linear algebra.\n",
    "\n",
    "* It helps reduce dimension by identifying which variables are the most correlated, and which variables are the most *significant*. By significant we mean which variables best describe variation in the data set.\n",
    "    \n",
    "\n",
    "\n"
   ]
  },
  {
   "cell_type": "markdown",
   "metadata": {
    "slideshow": {
     "slide_type": "slide"
    }
   },
   "source": [
    "## Is this Two Dimensional Data?\n",
    "\n",
    "Here we have a scatter plot in 2D, but it looks likely the data lies along a 1D subspace.\n",
    "<center>\n",
    "<img src=\"PCA1.png\" alt=\"PCA\" width=\"400\" />\n",
    "</center>"
   ]
  },
  {
   "cell_type": "markdown",
   "metadata": {
    "slideshow": {
     "slide_type": "slide"
    }
   },
   "source": [
    "## Correlated Data Has Lower Dimensionality\n",
    "\n",
    "Here the second coordinate/feature is directly correlated with the first coordinate/feature. This means we still have our data concentrated around the graph of some function. \n",
    "\n",
    "This makes PCA as a dimensionality reduction technique closely related to regression.\n",
    "\n",
    "<center>\n",
    "<img src=\"PCA2.png\" alt=\"PCA\" width=\"400\"/>\n",
    "</center>"
   ]
  },
  {
   "cell_type": "markdown",
   "metadata": {
    "slideshow": {
     "slide_type": "slide"
    }
   },
   "source": [
    "# Linear Algebra Review\n",
    "\n",
    "* The **trace** is the sum of the diagonal entries of a matrix. The **determinant** determines whether a matrix is invertible or not. Both of these quantities are invariants of linear operators on finite dimensional vector spaces. This means that they are invariant under change of basis, since a vector space does not come with a choice of basis.\n",
    "\n",
    "* A matrix $A$ has an **eigenvalue** if there exists a non-zero vector $v\\neq 0$, an *eigenvector*, and a scalar value $\\lambda$, called the *eigenvalue*, such that\n",
    "\n",
    "$$ Av = \\lambda v $$\n",
    "\n",
    "* A matrix is **diagonalizable** if there is some invertible matrix $C$ so that $$C^{-1}A C = D$$ and $D$ only has non-zero entries along the diagonal.\n",
    "\n",
    "* A matrix $A$ is **symmetric** if $A = A^T$ where $A^T$ is the transpose of $A$.\n",
    "\n",
    "* A matrix $P$ is **orthogonal** if $P P^T = I_n$ is the identity matrix. This means the transpose is the inverse\n"
   ]
  },
  {
   "cell_type": "markdown",
   "metadata": {
    "slideshow": {
     "slide_type": "slide"
    }
   },
   "source": [
    "## The Spectral Theorem\n",
    "\n",
    "Having eigenvalues is intimately connected with diagonalizability. Indeed an $n\\times n$ matrix is diagonalizable if and only if it has $n$ linearly independent eigenvectors.\n",
    "\n",
    "For symmetric matrices, even more is true.\n",
    "\n",
    "**Spectral Theorem:** If $A$ is symmetric, then $A$ is **orthogonally diagonalizable**, which means there exists an orthogonal matrix $P$ such that $$A = PDP^T $$\n",
    "\n",
    "The entries of $D$ are given by the (necessarily real) eigenvalues $\\lambda_1, \\lambda_2, ... , \\lambda_n$ and the entries of $P$ are populated using the (necessarily orthogonal) eigvenvectors $v_1,..., v_n$."
   ]
  },
  {
   "cell_type": "markdown",
   "metadata": {
    "slideshow": {
     "slide_type": "slide"
    }
   },
   "source": [
    "## Symmetric = Orthgonally Diagonalizable\n",
    "\n",
    "The Spectral Theorem implies that being symmetric is **sufficient** for being orthogonally diagonalizable, but in fact we can show it is necessary as well.\n",
    "\n",
    "Assume that $$A = PDP^T $$ where $D$ is a diagonal and $P$ is orthogonal. \n",
    "\n",
    "$$ A^T = (PDP^T)^T = (P^T)^TD^TP^T = PDP^T = A $$\n",
    "\n",
    "Note that here we used the fact that transposes reverse order of matrices $(XY)^T=Y^TX^T$."
   ]
  },
  {
   "cell_type": "markdown",
   "metadata": {
    "slideshow": {
     "slide_type": "slide"
    }
   },
   "source": [
    "## Making Real Symmetric Matrices\n",
    "\n",
    "**Proposition:** If $A$ is a real $m x n$ matrix, then $AA^T$ and $A^TA$ are symmetric matrices.\n",
    "\n",
    "**Question:** What are the dimensions of $AA^T$ and $A^TA$?"
   ]
  },
  {
   "cell_type": "markdown",
   "metadata": {
    "slideshow": {
     "slide_type": "slide"
    }
   },
   "source": [
    "## More Observations\n",
    "\n",
    "**Proposition:** The matrices $AA^T$ and $A^TA$ have the same set of eigenvalues.\n",
    "\n",
    "**Why?** If $v$ is an eigenvector of $AA^T$ then $A^Tv$ is an eigenvector of $A^T A$, indeed: \n",
    "\n",
    "Since $(AA^T) v =\\lambda v$, then\n",
    "\n",
    "$$(A^T A) A^T v = \\lambda A^T v$$"
   ]
  },
  {
   "cell_type": "markdown",
   "metadata": {
    "slideshow": {
     "slide_type": "slide"
    }
   },
   "source": [
    "## Linear Algebra in Numpy\n",
    "\n",
    "Let's play around with these results in Numpy"
   ]
  },
  {
   "cell_type": "code",
   "execution_count": 1,
   "metadata": {
    "scrolled": true,
    "slideshow": {
     "slide_type": "subslide"
    }
   },
   "outputs": [
    {
     "name": "stdout",
     "output_type": "stream",
     "text": [
      "(200, 3)\n",
      "(3, 200)\n",
      "(200, 200)\n"
     ]
    }
   ],
   "source": [
    "import numpy as np\n",
    "# First generate a random matrix, sampled uniformly from unit [0,1)\n",
    "A = np.random.rand(200,3) \n",
    "# GOAL: Find the eigenvalues of AA^T\n",
    "# First check the dimensions\n",
    "print(A.shape)\n",
    "print(A.T.shape)\n",
    "print(A.dot(A.T).shape)"
   ]
  },
  {
   "cell_type": "code",
   "execution_count": 2,
   "metadata": {
    "slideshow": {
     "slide_type": "subslide"
    }
   },
   "outputs": [
    {
     "data": {
      "text/plain": [
       "array([[1.17755437, 0.58543886, 0.5062495 , ..., 0.81330094, 1.0404068 ,\n",
       "        1.04470686],\n",
       "       [0.58543886, 1.25211615, 0.12430663, ..., 1.40335703, 0.94142494,\n",
       "        0.41886742],\n",
       "       [0.5062495 , 0.12430663, 0.26389238, ..., 0.18103448, 0.51254878,\n",
       "        0.511905  ],\n",
       "       ...,\n",
       "       [0.81330094, 1.40335703, 0.18103448, ..., 1.64482428, 1.00972267,\n",
       "        0.55609165],\n",
       "       [1.0404068 , 0.94142494, 0.51254878, ..., 1.00972267, 1.60904073,\n",
       "        1.08322659],\n",
       "       [1.04470686, 0.41886742, 0.511905  , ..., 0.55609165, 1.08322659,\n",
       "        1.02062032]])"
      ]
     },
     "execution_count": 2,
     "metadata": {},
     "output_type": "execute_result"
    }
   ],
   "source": [
    "A.dot(A.T)"
   ]
  },
  {
   "cell_type": "code",
   "execution_count": 3,
   "metadata": {
    "slideshow": {
     "slide_type": "fragment"
    }
   },
   "outputs": [
    {
     "data": {
      "text/plain": [
       "array([[61.34571261, 53.62664612, 45.94760155],\n",
       "       [53.62664612, 73.85089654, 54.16528587],\n",
       "       [45.94760155, 54.16528587, 68.50204451]])"
      ]
     },
     "execution_count": 3,
     "metadata": {},
     "output_type": "execute_result"
    }
   ],
   "source": [
    "A.T.dot(A)"
   ]
  },
  {
   "cell_type": "code",
   "execution_count": 4,
   "metadata": {
    "slideshow": {
     "slide_type": "slide"
    }
   },
   "outputs": [
    {
     "data": {
      "text/plain": [
       "(array([170.85821902,  13.27710493,  19.56332971]),\n",
       " array([[-0.54167986, -0.64437009, -0.5397871 ],\n",
       "        [-0.61774768,  0.74065221, -0.26423873],\n",
       "        [-0.57006204, -0.19031942,  0.79925452]]))"
      ]
     },
     "execution_count": 4,
     "metadata": {},
     "output_type": "execute_result"
    }
   ],
   "source": [
    "E1 = np.linalg.eig(A.T.dot(A))\n",
    "E1"
   ]
  },
  {
   "cell_type": "code",
   "execution_count": 5,
   "metadata": {
    "slideshow": {
     "slide_type": "slide"
    }
   },
   "outputs": [
    {
     "data": {
      "text/plain": [
       "(array([ 1.70858219e+02+0.00000000e+00j,  1.95633297e+01+0.00000000e+00j,\n",
       "         1.32771049e+01+0.00000000e+00j,  1.13514798e-14+0.00000000e+00j,\n",
       "        -9.95297245e-15+0.00000000e+00j,  5.90676115e-15+7.07568987e-15j,\n",
       "         5.90676115e-15-7.07568987e-15j,  4.45918796e-15+7.62159899e-15j,\n",
       "         4.45918796e-15-7.62159899e-15j,  8.22228476e-15+7.91509668e-16j,\n",
       "         8.22228476e-15-7.91509668e-16j,  7.38064020e-15+2.55844996e-15j,\n",
       "         7.38064020e-15-2.55844996e-15j, -1.37867883e-15+8.30845248e-15j,\n",
       "        -1.37867883e-15-8.30845248e-15j, -1.85423070e-16+8.28885012e-15j,\n",
       "        -1.85423070e-16-8.28885012e-15j,  2.63289030e-15+7.05363076e-15j,\n",
       "         2.63289030e-15-7.05363076e-15j, -6.56931168e-15+3.74913347e-15j,\n",
       "        -6.56931168e-15-3.74913347e-15j, -5.49141934e-15+5.06473417e-15j,\n",
       "        -5.49141934e-15-5.06473417e-15j, -3.11391047e-15+6.75006145e-15j,\n",
       "        -3.11391047e-15-6.75006145e-15j,  5.60747416e-15+4.11993073e-15j,\n",
       "         5.60747416e-15-4.11993073e-15j, -6.13670449e-15+1.55635367e-15j,\n",
       "        -6.13670449e-15-1.55635367e-15j, -1.94061805e-15+5.03069691e-15j,\n",
       "        -1.94061805e-15-5.03069691e-15j,  4.48348151e-15+1.96014087e-15j,\n",
       "         4.48348151e-15-1.96014087e-15j,  1.00950673e-15+3.29020841e-15j,\n",
       "         1.00950673e-15-3.29020841e-15j,  3.23812766e-15+1.09263394e-16j,\n",
       "         3.23812766e-15-1.09263394e-16j, -3.27072055e-15+8.84465165e-16j,\n",
       "        -3.27072055e-15-8.84465165e-16j, -1.61622038e-15+2.73299896e-15j,\n",
       "        -1.61622038e-15-2.73299896e-15j,  2.49200212e-15+8.84962379e-16j,\n",
       "         2.49200212e-15-8.84962379e-16j,  1.51189213e-15+2.08060587e-15j,\n",
       "         1.51189213e-15-2.08060587e-15j, -2.87870577e-15+0.00000000e+00j,\n",
       "        -2.64167905e-15+4.28489056e-16j, -2.64167905e-15-4.28489056e-16j,\n",
       "        -8.22832244e-16+2.33529911e-15j, -8.22832244e-16-2.33529911e-15j,\n",
       "        -2.27004377e-15+1.09735673e-15j, -2.27004377e-15-1.09735673e-15j,\n",
       "        -1.91376327e-15+1.47918520e-15j, -1.91376327e-15-1.47918520e-15j,\n",
       "         1.27826050e-16+2.48489679e-15j,  1.27826050e-16-2.48489679e-15j,\n",
       "        -1.24965909e-15+1.77002082e-15j, -1.24965909e-15-1.77002082e-15j,\n",
       "         1.57881521e-15+1.89639565e-15j,  1.57881521e-15-1.89639565e-15j,\n",
       "         2.60024917e-15+0.00000000e+00j,  2.03798352e-15+1.24946498e-15j,\n",
       "         2.03798352e-15-1.24946498e-15j,  6.06555325e-16+2.08091402e-15j,\n",
       "         6.06555325e-16-2.08091402e-15j,  2.29163645e-15+0.00000000e+00j,\n",
       "         2.14449302e-15+6.62657387e-16j,  2.14449302e-15-6.62657387e-16j,\n",
       "         1.60802025e-15+1.17486124e-15j,  1.60802025e-15-1.17486124e-15j,\n",
       "         7.26609811e-16+1.84098321e-15j,  7.26609811e-16-1.84098321e-15j,\n",
       "        -1.07294895e-15+1.63268039e-15j, -1.07294895e-15-1.63268039e-15j,\n",
       "        -1.48061633e-15+1.20426046e-15j, -1.48061633e-15-1.20426046e-15j,\n",
       "        -1.93574085e-15+2.31029469e-16j, -1.93574085e-15-2.31029469e-16j,\n",
       "        -1.86784207e-15+0.00000000e+00j, -1.77830091e-15+4.57587893e-16j,\n",
       "        -1.77830091e-15-4.57587893e-16j,  1.87694594e-15+2.84676214e-16j,\n",
       "         1.87694594e-15-2.84676214e-16j,  1.15265679e-15+1.35605212e-15j,\n",
       "         1.15265679e-15-1.35605212e-15j,  1.06766159e-15+1.40871643e-15j,\n",
       "         1.06766159e-15-1.40871643e-15j, -4.20457636e-16+1.66365021e-15j,\n",
       "        -4.20457636e-16-1.66365021e-15j, -1.41998225e-15+9.32547982e-16j,\n",
       "        -1.41998225e-15-9.32547982e-16j, -6.86335215e-16+1.52903357e-15j,\n",
       "        -6.86335215e-16-1.52903357e-15j,  1.59060927e-15+5.84005490e-16j,\n",
       "         1.59060927e-15-5.84005490e-16j, -1.59261208e-15+0.00000000e+00j,\n",
       "        -8.70269624e-16+1.20572929e-15j, -8.70269624e-16-1.20572929e-15j,\n",
       "         3.04234125e-16+1.55932429e-15j,  3.04234125e-16-1.55932429e-15j,\n",
       "         1.63633269e-15+0.00000000e+00j, -2.18484666e-16+1.52089929e-15j,\n",
       "        -2.18484666e-16-1.52089929e-15j,  7.24002274e-16+1.30943529e-15j,\n",
       "         7.24002274e-16-1.30943529e-15j,  1.43950519e-15+4.90373033e-16j,\n",
       "         1.43950519e-15-4.90373033e-16j,  1.23376939e-15+8.39342574e-16j,\n",
       "         1.23376939e-15-8.39342574e-16j, -1.30697692e-15+5.51176789e-16j,\n",
       "        -1.30697692e-15-5.51176789e-16j,  1.03338357e-16+1.37831317e-15j,\n",
       "         1.03338357e-16-1.37831317e-15j, -9.33208377e-16+9.20730682e-16j,\n",
       "        -9.33208377e-16-9.20730682e-16j, -1.34128290e-15+2.37477553e-16j,\n",
       "        -1.34128290e-15-2.37477553e-16j,  1.43900943e-15+0.00000000e+00j,\n",
       "         3.92150155e-16+1.20915665e-15j,  3.92150155e-16-1.20915665e-15j,\n",
       "        -3.01494637e-16+1.17551065e-15j, -3.01494637e-16-1.17551065e-15j,\n",
       "        -1.10540768e-16+1.17118124e-15j, -1.10540768e-16-1.17118124e-15j,\n",
       "        -8.97263927e-16+6.62361256e-16j, -8.97263927e-16-6.62361256e-16j,\n",
       "         1.27183760e-15+0.00000000e+00j,  8.39124841e-16+7.96998676e-16j,\n",
       "         8.39124841e-16-7.96998676e-16j,  1.13302340e-15+3.08708910e-16j,\n",
       "         1.13302340e-15-3.08708910e-16j, -6.31247399e-16+8.10504630e-16j,\n",
       "        -6.31247399e-16-8.10504630e-16j,  5.89631588e-16+8.65761701e-16j,\n",
       "         5.89631588e-16-8.65761701e-16j, -1.03874506e-15+6.04544094e-17j,\n",
       "        -1.03874506e-15-6.04544094e-17j, -9.02360828e-16+4.42031210e-16j,\n",
       "        -9.02360828e-16-4.42031210e-16j, -9.66820307e-16+1.77942735e-16j,\n",
       "        -9.66820307e-16-1.77942735e-16j, -3.61545748e-16+9.24403251e-16j,\n",
       "        -3.61545748e-16-9.24403251e-16j,  9.05929594e-16+3.83702105e-16j,\n",
       "         9.05929594e-16-3.83702105e-16j,  2.27753055e-16+8.94319137e-16j,\n",
       "         2.27753055e-16-8.94319137e-16j, -8.72565802e-16+0.00000000e+00j,\n",
       "         5.94953481e-17+8.48218031e-16j,  5.94953481e-17-8.48218031e-16j,\n",
       "        -4.56882818e-16+6.51155630e-16j, -4.56882818e-16-6.51155630e-16j,\n",
       "        -2.62476900e-16+8.13792717e-16j, -2.62476900e-16-8.13792717e-16j,\n",
       "         7.95976045e-16+1.20764699e-16j,  7.95976045e-16-1.20764699e-16j,\n",
       "         3.47988187e-16+7.01803625e-16j,  3.47988187e-16-7.01803625e-16j,\n",
       "        -7.18138716e-16+0.00000000e+00j, -5.61097763e-16+4.56588986e-16j,\n",
       "        -5.61097763e-16-4.56588986e-16j, -1.64496273e-16+7.05806121e-16j,\n",
       "        -1.64496273e-16-7.05806121e-16j,  6.40646556e-16+3.59242643e-16j,\n",
       "         6.40646556e-16-3.59242643e-16j, -2.59600703e-16+5.69631698e-16j,\n",
       "        -2.59600703e-16-5.69631698e-16j,  5.79697672e-16+0.00000000e+00j,\n",
       "         4.25422020e-16+4.41497562e-16j,  4.25422020e-16-4.41497562e-16j,\n",
       "        -2.08252497e-17+5.19419540e-16j, -2.08252497e-17-5.19419540e-16j,\n",
       "         4.58436980e-16+2.67103185e-16j,  4.58436980e-16-2.67103185e-16j,\n",
       "        -4.69300199e-16+2.34747551e-16j, -4.69300199e-16-2.34747551e-16j,\n",
       "        -5.18262125e-16+0.00000000e+00j,  2.25020546e-16+4.31294032e-16j,\n",
       "         2.25020546e-16-4.31294032e-16j, -2.39988962e-16+3.93701617e-16j,\n",
       "        -2.39988962e-16-3.93701617e-16j, -3.17323889e-16+2.96226342e-16j,\n",
       "        -3.17323889e-16-2.96226342e-16j,  2.67139223e-16+3.49254956e-16j,\n",
       "         2.67139223e-16-3.49254956e-16j,  3.98612604e-16+0.00000000e+00j,\n",
       "         2.33074153e-16+2.32555627e-16j,  2.33074153e-16-2.32555627e-16j,\n",
       "        -2.33661769e-16+0.00000000e+00j,  7.75122052e-17+1.88970516e-16j,\n",
       "         7.75122052e-17-1.88970516e-16j, -1.31113428e-16+0.00000000e+00j,\n",
       "        -1.02181293e-16+0.00000000e+00j, -3.37038909e-17+0.00000000e+00j,\n",
       "        -3.22526238e-17+8.35306067e-17j, -3.22526238e-17-8.35306067e-17j,\n",
       "         2.62646551e-16+6.90026337e-17j,  2.62646551e-16-6.90026337e-17j,\n",
       "         2.03304186e-16+0.00000000e+00j,  1.32895650e-16+0.00000000e+00j]),\n",
       " array([[-0.06861858+0.j        ,  0.10950861+0.j        ,\n",
       "         -0.10212019+0.j        , ..., -0.00265091-0.04882997j,\n",
       "          0.03281442+0.j        , -0.03858154+0.j        ],\n",
       "        [-0.07611331+0.j        , -0.10372456+0.j        ,\n",
       "          0.06247153+0.j        , ...,  0.0041173 -0.00357907j,\n",
       "          0.01301787+0.j        , -0.01552586+0.j        ],\n",
       "        [-0.02467856+0.j        ,  0.08896163+0.j        ,\n",
       "         -0.01941916+0.j        , ..., -0.00487784-0.01733985j,\n",
       "         -0.01509827+0.j        ,  0.00948266+0.j        ],\n",
       "        ...,\n",
       "        [-0.09013146+0.j        , -0.11457059+0.j        ,\n",
       "         -0.00150899+0.j        , ...,  0.0048572 -0.00231401j,\n",
       "          0.02585029+0.j        , -0.01227326+0.j        ],\n",
       "        [-0.08224542+0.j        ,  0.11348573+0.j        ,\n",
       "          0.12314608+0.j        , ..., -0.01278927+0.00854443j,\n",
       "         -0.00866478+0.j        ,  0.0436417 +0.j        ],\n",
       "        [-0.05773884+0.j        ,  0.14892118+0.j        ,\n",
       "         -0.0359419 +0.j        , ...,  0.03584075+0.02036297j,\n",
       "          0.09542871+0.j        , -0.13061879+0.j        ]]))"
      ]
     },
     "execution_count": 5,
     "metadata": {},
     "output_type": "execute_result"
    }
   ],
   "source": [
    "E2 = np.linalg.eig(A.dot(A.T))\n",
    "E2"
   ]
  },
  {
   "cell_type": "markdown",
   "metadata": {
    "slideshow": {
     "slide_type": "slide"
    }
   },
   "source": [
    "## Review of Basic Probability and Statistics Concepts\n",
    "\n",
    "Suppose we're measuring a single variable $A$ such as height of randomly selected individuals $n$ times. Let $a_1, ... , a_n$ be the $n$ measurements. Then we have that the sample\n",
    "\n",
    "- **Mean:** $\\mu_A = \\dfrac{1}{n}(a_1 + \\cdots + a_n)$\n",
    "\n",
    "- **Population Variance:** $Var(A)$ = $\\dfrac{1}{n}((a_1 - \\mu_A)^2 + \\cdots + (a_n - \\mu_A)^2)$\n",
    "\n",
    "- **Sample Variance:** $Var_s(A)$ = $\\dfrac{1}{n-1}((a_1 - \\mu_A)^2 + \\cdots + (a_n - \\mu_A)^2)$\n",
    "\n",
    "***Nota Bene:*** The sample variance is an unbiased estimator of the population variance. It is not so easy to prove that dividing by $n-1$ is the right thing to do!"
   ]
  },
  {
   "cell_type": "markdown",
   "metadata": {
    "slideshow": {
     "slide_type": "slide"
    }
   },
   "source": [
    "### Basic Probability: Mean ( = Expectation)\n",
    "\n",
    "Recall that the mean $\\mu$ is also called the **expected value** or **expectation** of a random variable $X$.\n",
    "\n",
    "- In the discrete case, $X$ has a probability mass function (PMF) $p(x)$, and the expectation is $$E(X) = \\sum_x x p(x)$$\n",
    "- In the continuous case, $X$ has a probability density function (PDF) $f(x)$, and the expectation is $$E(X) = \\int x f(x)dx$$\n",
    "\n"
   ]
  },
  {
   "cell_type": "markdown",
   "metadata": {
    "slideshow": {
     "slide_type": "slide"
    }
   },
   "source": [
    "### Basic Probability: Variance and Covariance\n",
    "\n",
    "The **variance** is just the expected value of the function that measures squared deviation from the mean, i.e. $$Var(X) = E[(X-\\mu_X)^2]$$\n",
    "\n",
    "Recall from probability that if $X$ and $Y$ are random variables then\n",
    "$$ Var(X+Y) = Var(X) + 2Cov(X,Y) + Var(Y)$$\n",
    "\n",
    "Here the **covariance** of two random variables $X$ and $Y$ are given by the expectation of the product of devaiations from the mean, i.e.\n",
    "$$Cov(X,Y) = E((X-\\mu_X)(Y-\\mu_Y))$$"
   ]
  },
  {
   "cell_type": "markdown",
   "metadata": {
    "slideshow": {
     "slide_type": "slide"
    }
   },
   "source": [
    "### Sample Statistics\n",
    "\n",
    "If $A$ is a sample drawn from a random variable $X$ with unknown mean, such as height, and $B$ is a sample drawn from a random variable $Y$, such as weight, also with an unknown mean, then the **sample covariance of $A$ and $B$** is\n",
    "\n",
    "$$Cov_s(A,B) = \\dfrac{1}{n - 1}((a_1 - \\mu_A)(b_1 - \\mu_B) + \\cdots + (a_n - \\mu_A)(b_n - \\mu_B))$$"
   ]
  },
  {
   "cell_type": "markdown",
   "metadata": {
    "slideshow": {
     "slide_type": "slide"
    }
   },
   "source": [
    "# The PCA Pipeline\n",
    "\n",
    "## Matrix Representation\n",
    "\n",
    "First, in order to apply PCA to our dataset, we want to store our data of $m$ samples, each having $n$ features, as an $m x n$ matrix:\n",
    "\n",
    "$$D = \n",
    "\\begin{bmatrix}\n",
    "x_{1,1} & x_{1,2} & \\cdots & x_{1,n} \\\\\n",
    "x_{2,1} & x_{2,2} & \\cdots & x_{2,n} \\\\\n",
    "\\vdots & \\vdots & \\vdots  & \\vdots\\\\\n",
    "x_{m,1} & x_{m,2} & \\cdots & x_{1,n}\n",
    "\\end{bmatrix} \n",
    "$$\n",
    "\n",
    "Each row represents a person (= a sample), and each row entry represents a feature of that person, i.e., height, weight, etcetera.\n",
    "\n",
    "Consequently we can think of this matrix as $m$ draws of $n$ random variables $F_1$,...,$F_n$, representing the features we're observing."
   ]
  },
  {
   "cell_type": "markdown",
   "metadata": {
    "slideshow": {
     "slide_type": "slide"
    }
   },
   "source": [
    "## Mean Centering\n",
    "\n",
    "The first step in PCA is to re-center our data. This is sometimes called **mean centering** of the data. In this case, we take the mean of the rows (as a single **row vector**):\n",
    "\n",
    "$$\\vec{\\mu} = \\dfrac{1}{m}\\sum \\vec{x}_i =(\\mu_1,\\mu_2,\\ldots,\\mu_n)$$\n",
    "\n",
    "We re-center our dataset by subtracting the mean from our data matrix, \n",
    "$$B = D - [\\; \\vec{\\mu_1}\\;|\\;\\cdots\\;|\\;\\vec{\\mu_n} \\;].$$\n",
    "\n",
    "Here we view $\\vec{\\mu}_j$ as the column vector with all entries equal to $\\mu_j$"
   ]
  },
  {
   "cell_type": "code",
   "execution_count": 8,
   "metadata": {
    "slideshow": {
     "slide_type": "slide"
    }
   },
   "outputs": [
    {
     "data": {
      "text/html": [
       "<div>\n",
       "<style scoped>\n",
       "    .dataframe tbody tr th:only-of-type {\n",
       "        vertical-align: middle;\n",
       "    }\n",
       "\n",
       "    .dataframe tbody tr th {\n",
       "        vertical-align: top;\n",
       "    }\n",
       "\n",
       "    .dataframe thead th {\n",
       "        text-align: right;\n",
       "    }\n",
       "</style>\n",
       "<table border=\"1\" class=\"dataframe\">\n",
       "  <thead>\n",
       "    <tr style=\"text-align: right;\">\n",
       "      <th></th>\n",
       "      <th>Gene 1</th>\n",
       "      <th>Gene 2</th>\n",
       "    </tr>\n",
       "  </thead>\n",
       "  <tbody>\n",
       "    <tr>\n",
       "      <td>M1</td>\n",
       "      <td>10.0</td>\n",
       "      <td>6.0</td>\n",
       "    </tr>\n",
       "    <tr>\n",
       "      <td>M2</td>\n",
       "      <td>11.0</td>\n",
       "      <td>4.0</td>\n",
       "    </tr>\n",
       "    <tr>\n",
       "      <td>M3</td>\n",
       "      <td>8.0</td>\n",
       "      <td>5.0</td>\n",
       "    </tr>\n",
       "    <tr>\n",
       "      <td>M4</td>\n",
       "      <td>3.0</td>\n",
       "      <td>3.0</td>\n",
       "    </tr>\n",
       "    <tr>\n",
       "      <td>M5</td>\n",
       "      <td>2.0</td>\n",
       "      <td>2.8</td>\n",
       "    </tr>\n",
       "    <tr>\n",
       "      <td>M6</td>\n",
       "      <td>1.0</td>\n",
       "      <td>1.0</td>\n",
       "    </tr>\n",
       "  </tbody>\n",
       "</table>\n",
       "</div>"
      ],
      "text/plain": [
       "    Gene 1  Gene 2\n",
       "M1    10.0     6.0\n",
       "M2    11.0     4.0\n",
       "M3     8.0     5.0\n",
       "M4     3.0     3.0\n",
       "M5     2.0     2.8\n",
       "M6     1.0     1.0"
      ]
     },
     "execution_count": 8,
     "metadata": {},
     "output_type": "execute_result"
    }
   ],
   "source": [
    "import pandas as pd\n",
    "import matplotlib.pyplot as plt\n",
    "\n",
    "mice = pd.DataFrame({'M1':[10,6], 'M2':[11,4], 'M3': [8,5], 'M4': [3,3], 'M5': [2,2.8], 'M6': [1,1]}, index = ['Gene 1','Gene 2'])\n",
    "#mice\n",
    "data = mice.transpose()\n",
    "data"
   ]
  },
  {
   "cell_type": "code",
   "execution_count": 11,
   "metadata": {
    "scrolled": false,
    "slideshow": {
     "slide_type": "slide"
    }
   },
   "outputs": [
    {
     "data": {
      "text/plain": [
       "<matplotlib.axes._subplots.AxesSubplot at 0x7fad3148a190>"
      ]
     },
     "execution_count": 11,
     "metadata": {},
     "output_type": "execute_result"
    },
    {
     "data": {
      "image/png": "[encoded data removed]",
      "text/plain": [
       "<Figure size 432x288 with 1 Axes>"
      ]
     },
     "metadata": {
      "needs_background": "light"
     },
     "output_type": "display_data"
    }
   ],
   "source": [
    "## Now we'll transpose and \"mean center\" our data\n",
    "mean = data.mean()\n",
    "#mean\n",
    "B = data - mean\n",
    "B\n",
    "B.plot.scatter(x = 'Gene 1', y = 'Gene 2', s = 50,c = 'blue')"
   ]
  },
  {
   "cell_type": "markdown",
   "metadata": {
    "slideshow": {
     "slide_type": "slide"
    }
   },
   "source": [
    "## Mean Centered Data\n",
    "\n",
    "Before going to the next step, let's recall what the entries of our new matrix $B$ look like:\n",
    "\n",
    "$$\n",
    "B = \n",
    "\\begin{bmatrix}\n",
    "x_{1,1} - \\mu_1 & x_{1,2} - \\mu_2 & \\cdots & x_{1,n} - \\mu_n \\\\\n",
    "x_{2,1} - \\mu_1 & x_{2,2} - \\mu_2 & \\cdots & x_{2,n} - \\mu_n \\\\\n",
    "\\vdots & \\vdots & \\vdots  & \\vdots\\\\\n",
    "x_{m,1} - \\mu_1 & x_{m,2} - \\mu_2 & \\cdots & x_{m,n} - \\mu_n \\\\\n",
    "\\end{bmatrix}\n",
    "$$"
   ]
  },
  {
   "cell_type": "markdown",
   "metadata": {
    "slideshow": {
     "slide_type": "slide"
    }
   },
   "source": [
    "## The Covariance Matrix\n",
    "\n",
    "Next, we build an $n x n$ covariance matrix $C$ using our matrix $B$:\n",
    "\n",
    "$$C = \\dfrac{1}{n - 1}B^T B$$\n",
    "\n",
    "Recall that $C$ is symmetric. \n",
    "\n",
    "Therefore, by the **Spectral Theorem,** we are able to orthogonally diagonalize our covariance matrix.\n",
    "\n",
    "**Question:** Why use this $B^T B$ versus $BB^T$?"
   ]
  },
  {
   "cell_type": "markdown",
   "metadata": {
    "slideshow": {
     "slide_type": "slide"
    }
   },
   "source": [
    "## Applying the Spectral Theorem to Get Principal Components\n",
    "\n",
    "The Spectral Theorem tells us that $C$ has a basis of eigenvectors, so that tells us that we have $n$ (not necessarily unique) real eigenvalues $\\lambda_i$. We now want to *order* this list of eigenvalues:\n",
    "\n",
    "$$ \\lambda_1 \\geq \\lambda_2 \\geq \\cdots \\geq \\lambda_n > 0 $$\n",
    "\n",
    "with corresponding eigenvectors $\\vec{u}_1, \\cdots, \\vec{u}_n$. These $\\vec{u}_i$ are called the **principal components** of our data set, when viewed in feature space $\\mathbb{R}^n$."
   ]
  },
  {
   "cell_type": "code",
   "execution_count": 12,
   "metadata": {
    "slideshow": {
     "slide_type": "subslide"
    }
   },
   "outputs": [
    {
     "data": {
      "text/plain": [
       "(array([106.42006121,   4.04660545]), array([[ 0.94171069, -0.33642381],\n",
       "        [ 0.33642381,  0.94171069]]))"
      ]
     },
     "execution_count": 12,
     "metadata": {},
     "output_type": "execute_result"
    }
   ],
   "source": [
    "import numpy as np\n",
    "C = np.dot(B.T, B)\n",
    "eig = np.linalg.eig(C)\n",
    "eig"
   ]
  },
  {
   "cell_type": "markdown",
   "metadata": {
    "slideshow": {
     "slide_type": "slide"
    }
   },
   "source": [
    "## Percent Variation in the Data\n",
    "\n",
    "Let $T = \\sum \\lambda_i$ be the trace of $B^T B$. Note that\n",
    "\n",
    "$$T = Var(F_1) + Var(F_2) + \\cdots + Var(F_n)$$\n",
    "\n",
    "This is also equal to the trace of its diagonalization, so we know that\n",
    "\n",
    "$$T = \\lambda_1 + \\lambda_2 + \\cdots + \\lambda_n.$$\n",
    "\n",
    "Then we can make the following observations:\n",
    "\n",
    "* Since $\\lambda_1$ is the largest eigenvalue associated to the first principal component $\\vec{u}_1$, then $\\frac{\\lambda_1}{T}$ is the fraction of how much the component $\\vec{u}_1$ contributes to the total variance. Therefore, $\\vec{u}_1$ points in the \"most significant\" direction.\n",
    "\n",
    "* The vector that points in the \"most significant direction\" that is orthogonal to $\\vec{u}_1$ is $\\vec{u}_2$, the second principal component, and so on..."
   ]
  },
  {
   "cell_type": "code",
   "execution_count": 13,
   "metadata": {
    "slideshow": {
     "slide_type": "subslide"
    }
   },
   "outputs": [
    {
     "name": "stdout",
     "output_type": "stream",
     "text": [
      "The first principal component is [0.94171069 0.33642381] with eigenvalue contribution 0.96\n",
      "The second principal component is [-0.33642381  0.94171069] with eigenvalue contribution 0.04\n"
     ]
    },
    {
     "data": {
      "text/plain": [
       "<matplotlib.axes._subplots.AxesSubplot at 0x7fad31558790>"
      ]
     },
     "execution_count": 13,
     "metadata": {},
     "output_type": "execute_result"
    },
    {
     "data": {
      "image/png": "[encoded data removed]",
      "text/plain": [
       "<Figure size 432x288 with 1 Axes>"
      ]
     },
     "metadata": {
      "needs_background": "light"
     },
     "output_type": "display_data"
    }
   ],
   "source": [
    "T = eig[0][0] + eig[0][1]\n",
    "print(\"The first principal component is\",eig[1][:,0], 'with eigenvalue contribution', \n",
    "      round(eig[0][0]/T,2))\n",
    "print(\"The second principal component is\",eig[1][:,1], 'with eigenvalue contribution', \n",
    "      round(eig[0][1]/T, 2))\n",
    "B.plot.scatter(x = 'Gene 1', y = 'Gene 2', s = 50)"
   ]
  },
  {
   "cell_type": "markdown",
   "metadata": {
    "slideshow": {
     "slide_type": "slide"
    }
   },
   "source": [
    "### PCA Summary\n",
    "\n",
    "* Collect $n$ samples of $m$-dimensional data. Compute the mean $\\mu$ and subtract it from your data matrix, and compute the covariance matrix  of your data with itself.\n",
    "\n",
    "* Find the eigenvalues of the covariance matrix and order them. Then find their associated eigenvectors to get your list of **principal components**\n",
    "\n",
    "* Interpret results\n",
    "\n",
    "* Project data onto the first $k$ principal components"
   ]
  },
  {
   "cell_type": "markdown",
   "metadata": {
    "slideshow": {
     "slide_type": "slide"
    }
   },
   "source": [
    "### Projection onto a subspace\n",
    "\n",
    "Suppose $v_1,\\ldots, v_k$ are the first $k$ eigenvectors, ordered by eigenvalue size. Denote by $W$ the subspace spanned by these vectors\n",
    "\n",
    "Let $A$ be the matrix whose columns are $v_1,\\ldots,v_k$. Then for any vector $x$\n",
    "$$A(A^TA)^{-1}A^T x = \\text{proj}_W(x)$$\n",
    "is the projection of $x$ onto the subspace $W$.\n",
    "\n",
    "https://textbooks.math.gatech.edu/ila/projections.html"
   ]
  },
  {
   "cell_type": "code",
   "execution_count": 14,
   "metadata": {
    "slideshow": {
     "slide_type": "slide"
    }
   },
   "outputs": [
    {
     "name": "stdout",
     "output_type": "stream",
     "text": [
      "[[-0.94171069 -0.33642381]\n",
      " [ 0.33642381 -0.94171069]]\n"
     ]
    },
    {
     "data": {
      "image/png": "[encoded data removed]",
      "text/plain": [
       "<Figure size 432x288 with 1 Axes>"
      ]
     },
     "metadata": {},
     "output_type": "display_data"
    }
   ],
   "source": [
    "import matplotlib.pyplot as plt\n",
    "import seaborn as sns; sns.set()\n",
    "from sklearn.decomposition import PCA\n",
    "mice = np.array([[10,6],[11,4],[8,5], [3,3], [2,2.8], [1,1]])\n",
    "plt.scatter(mice[:,0],mice[:,1])\n",
    "plt.axis('equal')\n",
    "pca = PCA(n_components = 2)\n",
    "pca.fit(mice)\n",
    "print(pca.components_)"
   ]
  },
  {
   "cell_type": "code",
   "execution_count": 15,
   "metadata": {
    "slideshow": {
     "slide_type": "slide"
    }
   },
   "outputs": [],
   "source": [
    "pca = PCA(n_components = 1)\n",
    "pca.fit(mice)\n",
    "mice_pca = pca.transform(mice)"
   ]
  },
  {
   "cell_type": "code",
   "execution_count": 16,
   "metadata": {
    "slideshow": {
     "slide_type": "slide"
    }
   },
   "outputs": [
    {
     "data": {
      "text/plain": [
       "<matplotlib.collections.PathCollection at 0x7fad325d05d0>"
      ]
     },
     "execution_count": 16,
     "metadata": {},
     "output_type": "execute_result"
    },
    {
     "data": {
      "image/png": "[encoded data removed]",
      "text/plain": [
       "<Figure size 432x288 with 1 Axes>"
      ]
     },
     "metadata": {},
     "output_type": "display_data"
    }
   ],
   "source": [
    "mice_New = pca.inverse_transform(mice_pca)\n",
    "mice_New\n",
    "plt.scatter(mice[:,0],mice[:,1], alpha = 0.2)\n",
    "plt.scatter(mice_New[:,0],mice_New[:,1], alpha = 0.8)"
   ]
  },
  {
   "cell_type": "code",
   "execution_count": null,
   "metadata": {
    "slideshow": {
     "slide_type": "skip"
    }
   },
   "outputs": [],
   "source": [
    "#def pca(X = np.array([]), no_dims = 5):\n",
    "#    (n, d) = X.shape;\n",
    "#    X = X - np.tile(np.mean(X, 0), (n, 1));\n",
    "#    (l, M) = np.linalg.eig(np.dot(X.T, X));\n",
    "#    Y = np.dot(X, M[:,0:no_dims]);\n",
    "#    return Y"
   ]
  }
 ],
 "metadata": {
  "celltoolbar": "Slideshow",
  "kernelspec": {
   "display_name": "Python 3",
   "language": "python",
   "name": "python3"
  },
  "language_info": {
   "codemirror_mode": {
    "name": "ipython",
    "version": 3
   },
   "file_extension": ".py",
   "mimetype": "text/x-python",
   "name": "python",
   "nbconvert_exporter": "python",
   "pygments_lexer": "ipython3",
   "version": "3.7.4"
  }
 },
 "nbformat": 4,
 "nbformat_minor": 2
}
