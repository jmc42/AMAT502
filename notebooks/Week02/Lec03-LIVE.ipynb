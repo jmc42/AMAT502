{
 "cells": [
  {
   "cell_type": "markdown",
   "metadata": {},
   "source": [
    "# Lecture 3 Live Exercises\n",
    "\n",
    "## Lecture 3 Recap\n",
    "\n",
    "In lecture 3 we talked about\n",
    "- linear search vs. bisection search\n",
    "- how to compute square roots using both of these \"search\" methods\n",
    "- functions and the `NoneType`"
   ]
  },
  {
   "cell_type": "markdown",
   "metadata": {},
   "source": [
    "## Q1: Square Roots\n",
    "\n",
    "**Modify the following code so that it accurately (i.e. within $\\epsilon$) takes the square root of any non-negative number:**"
   ]
  },
  {
   "cell_type": "code",
   "execution_count": 1,
   "metadata": {},
   "outputs": [],
   "source": [
    "def sqrt(x):\n",
    "    epsilon = 0.001\n",
    "    left = 0\n",
    "    right = x\n",
    "    numGuesses = 0\n",
    "    guess = (right+left)/2.0\n",
    "    while abs(guess**2 - x) > epsilon:\n",
    "        numGuesses += 1\n",
    "        if guess**2 < x:\n",
    "            left = guess\n",
    "        else:\n",
    "            right = guess\n",
    "        guess = (right+left)/2.0\n",
    "    return guess"
   ]
  },
  {
   "cell_type": "code",
   "execution_count": 4,
   "metadata": {},
   "outputs": [
    {
     "data": {
      "text/plain": [
       "0.015625"
      ]
     },
     "execution_count": 4,
     "metadata": {},
     "output_type": "execute_result"
    }
   ],
   "source": [
    "#sqrt(.25) ## Why does this loop forever?\n",
    "(1/8)**2"
   ]
  },
  {
   "cell_type": "markdown",
   "metadata": {},
   "source": [
    "## Q2: Cube Roots\n",
    "\n",
    "**Write a function that takes the cube root of any real number within $\\epsilon=.001$ of the true answer.**"
   ]
  },
  {
   "cell_type": "code",
   "execution_count": null,
   "metadata": {},
   "outputs": [],
   "source": []
  },
  {
   "cell_type": "markdown",
   "metadata": {},
   "source": [
    "\n",
    "## Q3: Newton-Raphson Method\n",
    "\n",
    "Computing square roots and cube roots of a number $c$ is really just about trying to solve the equations\n",
    "$$x^2- c =0 \\qquad \\text{and} \\qquad x^3 -c =0. $$\n",
    "\n",
    "Suppose instead you're trying to find a solution to the polynomial equation\n",
    "$$x^3 -10x^2 + 5x + 2 =0$$\n",
    "\n",
    "Newton proved that if you guess that `guess` is a solution to $p(x)=0$, then `guess - p(guess)/p'(guess)` is a better guess, where `p'(guess)` is the derivative of `p` evaluated at `guess`.\n",
    "\n",
    "**Use this to write a program that finds at least one solution to the equation $x^3 -10x^2 + 5x + 2 =0$ within .001 accuracy.**"
   ]
  },
  {
   "cell_type": "code",
   "execution_count": null,
   "metadata": {},
   "outputs": [],
   "source": []
  }
 ],
 "metadata": {
  "kernelspec": {
   "display_name": "Python 3",
   "language": "python",
   "name": "python3"
  },
  "language_info": {
   "codemirror_mode": {
    "name": "ipython",
    "version": 3
   },
   "file_extension": ".py",
   "mimetype": "text/x-python",
   "name": "python",
   "nbconvert_exporter": "python",
   "pygments_lexer": "ipython3",
   "version": "3.7.4"
  }
 },
 "nbformat": 4,
 "nbformat_minor": 2
}
