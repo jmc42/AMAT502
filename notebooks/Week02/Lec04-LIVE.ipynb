{
 "cells": [
  {
   "cell_type": "markdown",
   "metadata": {},
   "source": [
    "# Lecture 4 Live Exercises\n",
    "\n",
    "In Lecture 4 we covered\n",
    "- Default Values for Functions\n",
    "- Docstrings\n",
    "- Abstraction\n",
    "- Recursion"
   ]
  },
  {
   "cell_type": "markdown",
   "metadata": {},
   "source": [
    "# Conceptual Questions\n",
    "\n",
    "## Q1: Default Values\n",
    "\n",
    "What's an example of a function that uses default values that we introduced in the first two lectures?"
   ]
  },
  {
   "cell_type": "code",
   "execution_count": null,
   "metadata": {},
   "outputs": [],
   "source": []
  },
  {
   "cell_type": "markdown",
   "metadata": {},
   "source": [
    "## Q2: DocStrings\n",
    "\n",
    "What is a DocString? Why would you want to use one? How do you write one? How do you access it outside the function body?"
   ]
  },
  {
   "cell_type": "code",
   "execution_count": null,
   "metadata": {},
   "outputs": [],
   "source": []
  },
  {
   "cell_type": "markdown",
   "metadata": {},
   "source": [
    "## Q3: Abstraction\n",
    "\n",
    "What is the principle of abstraction in computer programming? Why is it important?"
   ]
  },
  {
   "cell_type": "code",
   "execution_count": null,
   "metadata": {},
   "outputs": [],
   "source": []
  },
  {
   "cell_type": "markdown",
   "metadata": {},
   "source": [
    "## Q4: Recursion\n",
    "\n",
    "What is recursion? Can you give an example from math (not coding)? Can you give an example outside of math (not coding)?"
   ]
  },
  {
   "cell_type": "code",
   "execution_count": null,
   "metadata": {},
   "outputs": [],
   "source": []
  },
  {
   "cell_type": "markdown",
   "metadata": {},
   "source": [
    "# Coding Questions\n",
    "\n",
    "## Q1: Counting Down\n",
    "\n",
    "Write a function `countDown(n)` that uses recursion to return a string that counts down from `n`, separated by `...`, ending with the base case where `n==0`, which should return `Blast Off!`\n",
    "\n",
    "In other words, `countDown(5)` should return the string `'5...4...3...2...1...Blast Off!'`."
   ]
  },
  {
   "cell_type": "code",
   "execution_count": null,
   "metadata": {},
   "outputs": [],
   "source": []
  },
  {
   "cell_type": "markdown",
   "metadata": {},
   "source": [
    "## Q2: Triangular Numbers\n",
    "\n",
    "- **Part 1** Write a function called `triang(n)` that uses recursion to return the sum $$n+(n-1)+(n-2)+\\cdots+ 1.$$\n",
    "\n",
    "- **Part 2** Add a docstring to the code of `triang(n)` so that when you call `help(triang)` it explains what the function does."
   ]
  },
  {
   "cell_type": "code",
   "execution_count": null,
   "metadata": {},
   "outputs": [],
   "source": []
  },
  {
   "cell_type": "markdown",
   "metadata": {},
   "source": [
    "## Q3: Printing a string backwards and other tricks\n",
    "\n",
    "For this problem, assume that you only know the following and a little bit of recursion.\n",
    "\n",
    "- You can concatenate two strings using the `+` operation.\n",
    "- If you want to know the length of a string `s`, you can use the command `len(s)`.\n",
    "- If you want to access the $i^{th}$ entry in a string, you can use `s[i]`. Note that this starts counting at 0.\n",
    "- The command `s[i:j]` returns the substring starting at entry number `i` and ends at `j-1`.\n",
    "\n",
    "Use recursion to write a function `printBackwards(x)` that takes in a string and prints it backwards."
   ]
  },
  {
   "cell_type": "code",
   "execution_count": null,
   "metadata": {},
   "outputs": [],
   "source": []
  },
  {
   "cell_type": "markdown",
   "metadata": {},
   "source": [
    "## Q4: Primality\n",
    "\n",
    "Write a function `isPrime` that takes in an integer `n` and returns whether it is prime or not by recursively checking divisibility by integers between 2 and $n/2$.\n",
    "\n",
    "**HINT:** Use two arguments, where the second argument is the number you're checking divisibility by. Give this one a default value as in the code below.\n",
    "\n",
    "<pre>\n",
    "def isPrime(n,i=2):\n",
    "    if i> n/2:\n",
    "        return True\n",
    "    # Your Solution here\n",
    "</pre>\n",
    "\n",
    "Use the test function below to make sure your function does what's intended."
   ]
  },
  {
   "cell_type": "code",
   "execution_count": 16,
   "metadata": {},
   "outputs": [],
   "source": [
    "def isPrime(n,i=2):\n",
    "    if i> n/2:\n",
    "        return True\n",
    "    # Your Solution here!\n",
    "    # Delete the raise NotImplementedError\n",
    "    raise NotImplementedError"
   ]
  },
  {
   "cell_type": "code",
   "execution_count": null,
   "metadata": {},
   "outputs": [],
   "source": [
    "def testisPrime(n):\n",
    "    for i in range(n+1):\n",
    "        print('It is ', isPrime(i), 'that', i, 'is prime.')"
   ]
  }
 ],
 "metadata": {
  "kernelspec": {
   "display_name": "Python 3",
   "language": "python",
   "name": "python3"
  },
  "language_info": {
   "codemirror_mode": {
    "name": "ipython",
    "version": 3
   },
   "file_extension": ".py",
   "mimetype": "text/x-python",
   "name": "python",
   "nbconvert_exporter": "python",
   "pygments_lexer": "ipython3",
   "version": "3.7.4"
  }
 },
 "nbformat": 4,
 "nbformat_minor": 2
}
