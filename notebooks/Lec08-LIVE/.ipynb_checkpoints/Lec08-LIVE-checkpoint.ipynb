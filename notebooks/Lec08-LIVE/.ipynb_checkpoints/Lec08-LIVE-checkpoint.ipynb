{
 "cells": [
  {
   "cell_type": "markdown",
   "metadata": {},
   "source": [
    "# Lecture 8 LIVE\n",
    "\n",
    "In the last part of lecture 7 we covered\n",
    "- Intro to Object Oriented Programming\n",
    "    - Attributes and Methods\n",
    "    - The `__init__` function\n",
    "    - The role of `self`\n",
    "In Lecture 8 we covered\n",
    "- More topics from OOP\n",
    "    - Inheritance\n",
    "    - The `__str__` method\n",
    "    - The `__lt__` method"
   ]
  },
  {
   "cell_type": "markdown",
   "metadata": {},
   "source": [
    "## Lecture 8 Concept Questions\n",
    "\n",
    "### Concept Question 1\n",
    "\n",
    "Explain the concept of inheritance."
   ]
  },
  {
   "cell_type": "markdown",
   "metadata": {},
   "source": []
  },
  {
   "cell_type": "markdown",
   "metadata": {},
   "source": [
    "### Concept Question 2\n",
    "\n",
    "What is polymorphism? Give an example!"
   ]
  },
  {
   "cell_type": "markdown",
   "metadata": {},
   "source": []
  },
  {
   "cell_type": "markdown",
   "metadata": {},
   "source": [
    "## Lecture 8 Coding Questions\n",
    "\n",
    "### Question 1 (worth 2 Bytecoins)\n",
    "Let's make a new class called `House` that where you have to provide the following attributes in the `__init__` function:\n",
    "- address,\n",
    "- style, (see [this list](https://www.diynetwork.com/how-to/rooms-and-spaces/exterior/26-popular-architectural-home-styles-pictures) for inspiration)\n",
    "- yearBuilt\n",
    "- numUnits (are there rental units in the property?)\n",
    "- numFloors (how many floors does it have?)\n",
    "- marketValue\n",
    "\n",
    "You should also include the following attributes AND provide methods to change the values of \n",
    "- doorsLocked\n",
    "- windowsClosed"
   ]
  },
  {
   "cell_type": "code",
   "execution_count": null,
   "metadata": {},
   "outputs": [],
   "source": []
  },
  {
   "cell_type": "markdown",
   "metadata": {},
   "source": [
    "### Question 2 (worth 1 Bytecoin)\n",
    "\n",
    "Add to your `House` Class an `__lt__` method that returns `TRUE` for `House1 < House2` if the market value of `House1` is less than the market value of `House2`."
   ]
  },
  {
   "cell_type": "code",
   "execution_count": null,
   "metadata": {},
   "outputs": [],
   "source": []
  },
  {
   "cell_type": "markdown",
   "metadata": {},
   "source": [
    "### Question 3 (worth 2 Bytecoins)\n",
    "\n",
    "Create a subclass of the `House` class called `LakeHouse` that inherits the attributes from the `House` class, but also includes the following attributes:\n",
    "- `numUnits` should be overriden to always have only 1 unit\n",
    "- `boatStatus`, whose values can be `docked` or `not docked`\n",
    "- `isRented`, whose values are `TRUE` or `FALSE` depending on whether the vacation house is rented or not.\n",
    "Make sure you write methods for modifying these values!"
   ]
  },
  {
   "cell_type": "code",
   "execution_count": null,
   "metadata": {},
   "outputs": [],
   "source": []
  }
 ],
 "metadata": {
  "kernelspec": {
   "display_name": "Python 3",
   "language": "python",
   "name": "python3"
  },
  "language_info": {
   "codemirror_mode": {
    "name": "ipython",
    "version": 3
   },
   "file_extension": ".py",
   "mimetype": "text/x-python",
   "name": "python",
   "nbconvert_exporter": "python",
   "pygments_lexer": "ipython3",
   "version": "3.7.4"
  }
 },
 "nbformat": 4,
 "nbformat_minor": 2
}
