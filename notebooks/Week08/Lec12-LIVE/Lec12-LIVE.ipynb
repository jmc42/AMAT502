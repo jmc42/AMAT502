{
 "cells": [
  {
   "cell_type": "markdown",
   "metadata": {},
   "source": [
    "# Lecture 12 LIVE\n",
    "\n",
    "## Topics from Lecture\n",
    "\n",
    "- Hypothesis Testing\n",
    "    - Significance Level\n",
    "    - Two-Tailed Test\n",
    "    - Upper Trail Test\n",
    "- Summary Statistics\n",
    "    - Mean (or Expectation)\n",
    "    - Standard Deviation\n",
    "- Bernoulli RV\n",
    "- Binomial RV\n",
    "- Normal Approximation to Binomial"
   ]
  },
  {
   "cell_type": "markdown",
   "metadata": {},
   "source": [
    "### Question 1 (Bernoulli RV)\n",
    "\n",
    "In lecture I introduced the example of how aspirin supposedly helps 60% of people with headaches.\n",
    "\n",
    "Let's model taking an aspirin as a Bernoulli random variable $X$, where\n",
    "- $X=0$ means it **does NOT help** the headache, and\n",
    "- $X=1$ means it **does help** the headache.\n",
    "\n",
    "**What is the mean and standard deviation of $X$?** \n",
    "Store these as variables `p_0` and `s_0` in a code cell below."
   ]
  },
  {
   "cell_type": "code",
   "execution_count": 1,
   "metadata": {},
   "outputs": [],
   "source": [
    "import numpy as np\n"
   ]
  },
  {
   "cell_type": "markdown",
   "metadata": {},
   "source": [
    "### Question 2 (Generating Synthetic Data)\n",
    "\n",
    "Following the [the documentation for numpy.random.normal](https://numpy.org/doc/stable/reference/random/generated/numpy.random.normal.html) we can simulate taking 1000 samples from a normal distribution with mean $\\mu$ and standard deviation $\\sigma$ using the code\n",
    "\n",
    "```python\n",
    "mu, sigma = 0, 0.1 # mean and standard deviation\n",
    "s = np.random.normal(mu, sigma, 1000)\n",
    "```\n",
    "\n",
    "The code\n",
    "```python\n",
    "sampleMean = np.mean(s)\n",
    "sampleStd = np.std(s, ddof = 1)\n",
    "```\n",
    "Computes the **sample mean** $$\\bar{X} = \\frac{X_1 + \\cdots + X_n}{n}$$ and **sample standard deviation** $$s_X = \\sqrt{\\frac{\\sum (x_i - \\bar{X})^2}{n-1}}$$\n",
    "\n",
    "#### Q2: Part A\n",
    "**For the mean and standard deviation you got from Question 1, compute 500 samples along with the sample mean and standard deviation**"
   ]
  },
  {
   "cell_type": "code",
   "execution_count": null,
   "metadata": {},
   "outputs": [],
   "source": []
  },
  {
   "cell_type": "markdown",
   "metadata": {},
   "source": [
    "#### Q2: Part B\n",
    "\n",
    "Compute the Z-score of the sample mean using the formula $$Z = \\frac{\\bar{X}-p_0}{s_0/\\sqrt{n}}$$\n",
    "\n",
    "**Store your Z-score** as `z_s=`"
   ]
  },
  {
   "cell_type": "code",
   "execution_count": null,
   "metadata": {},
   "outputs": [],
   "source": []
  },
  {
   "cell_type": "markdown",
   "metadata": {},
   "source": [
    "### Question 3 (Computing p-values)\n",
    "\n",
    "Use the code\n",
    "```python\n",
    "import scipy\n",
    "from scipy.stats import norm\n",
    "norm.cdf(z)\n",
    "```\n",
    "to compute the area under the unit normal to the left of $z$. \n",
    "This is the CDF of the normal distribution evaluated at $z$.\n",
    "\n",
    "#### Q3: Part A\n",
    "\n",
    "**Compute the two-tailed p-value associated to the Z-score you got in Q2: Part B.**"
   ]
  },
  {
   "cell_type": "code",
   "execution_count": null,
   "metadata": {},
   "outputs": [],
   "source": []
  },
  {
   "cell_type": "markdown",
   "metadata": {},
   "source": [
    "#### Q3: Part B\n",
    "\n",
    "**Does the sample you observed differ significantly from the null hypothesis model for aspirin?**\n",
    "\n",
    "How do you **define** \"significantly\"? What was your choice of $\\alpha$? What was your $p$-value?"
   ]
  },
  {
   "cell_type": "markdown",
   "metadata": {},
   "source": [
    "*TYPE YOUR ANSWER HERE:*"
   ]
  },
  {
   "cell_type": "markdown",
   "metadata": {},
   "source": [
    "### Question 4 (Comparing with AspirinXTREME)\n",
    "\n",
    "A trial with 50 participants is given a new version of aspirin, called *AspirinXTREME*.\n",
    "\n",
    "Headaches are induced in the 50 participants by being forced to watch last night's presidential debate on a loop for 9 hours straight.\n",
    "\n",
    "They are then given the new *AspirinXTREME* and the following answers are recorded:"
   ]
  },
  {
   "cell_type": "code",
   "execution_count": 45,
   "metadata": {},
   "outputs": [],
   "source": [
    "aspirinXtrial = np.array([1, 0, 1, 1, 1, 0, 1, 1, 1, 1, 1, 1, 0, 1, 1, 1, 0, 1, 0, 1, 1, 0,\n",
    "       1, 1, 0, 0, 1, 1, 0, 1, 1, 0, 1, 1, 1, 1, 1, 0, 1, 1, 1, 0, 0, 1,\n",
    "       0, 1, 1, 1, 1, 1])"
   ]
  },
  {
   "cell_type": "markdown",
   "metadata": {},
   "source": [
    "**Based on this data would you conclude that AspirinXTREME is better at treating headaches that ordinary aspirin?**"
   ]
  },
  {
   "cell_type": "code",
   "execution_count": null,
   "metadata": {},
   "outputs": [],
   "source": []
  }
 ],
 "metadata": {
  "kernelspec": {
   "display_name": "Python 3",
   "language": "python",
   "name": "python3"
  },
  "language_info": {
   "codemirror_mode": {
    "name": "ipython",
    "version": 3
   },
   "file_extension": ".py",
   "mimetype": "text/x-python",
   "name": "python",
   "nbconvert_exporter": "python",
   "pygments_lexer": "ipython3",
   "version": "3.7.4"
  }
 },
 "nbformat": 4,
 "nbformat_minor": 2
}
