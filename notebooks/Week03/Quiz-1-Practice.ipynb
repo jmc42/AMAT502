{
 "cells": [
  {
   "cell_type": "markdown",
   "id": "225c28b6-8cfc-422d-a91c-3194aa50328b",
   "metadata": {
    "tags": []
   },
   "source": [
    "# Practice Quiz 1 (40 pts, ungraded)\n",
    "\n",
    "**As a reminder, Quiz 1 covers Lectures 1--4.**"
   ]
  },
  {
   "cell_type": "markdown",
   "id": "a95f89e4-d4d4-407c-bfa3-393bf05149d7",
   "metadata": {},
   "source": [
    "## Question 1 (2 pts, manually graded)\n",
    "\n",
    "Explain in your own words what is the difference between ```=``` and ```==``` in Python?"
   ]
  },
  {
   "cell_type": "code",
   "execution_count": null,
   "id": "d2146232-4664-4de6-abe5-be4f331df864",
   "metadata": {
    "tags": []
   },
   "outputs": [],
   "source": []
  },
  {
   "cell_type": "markdown",
   "id": "17ed66e3-7a4b-4ead-846b-86bb6d72d3f6",
   "metadata": {},
   "source": [
    "## Question 2 (8 pts, manually graded)\n",
    "\n",
    "What are the four basic, i.e., scalar, data types in Python? Given an example of each or where it might come up in practice."
   ]
  },
  {
   "cell_type": "code",
   "execution_count": null,
   "id": "c776a866-1b7b-4243-87d4-b0806df93c31",
   "metadata": {
    "tags": []
   },
   "outputs": [],
   "source": []
  },
  {
   "cell_type": "markdown",
   "id": "3b75b1be-cba0-4ecb-8e12-e22c11f8ca53",
   "metadata": {},
   "source": [
    "## Question 3 (8 pts, manually graded)\n",
    "\n",
    "Write a Python program that counts the number of \"A\"s in the following snippet of genetic code:\n",
    "\n",
    "```ATGCGTACCTGAGTCTGAGCAGTACCGTACGTTGACAGGTTAGGCTGACTAGGCTGA\\n\n",
    "GAGGAGGCTTACCGTAGGCTGAGGCTGTTAGGCAGTGAGTACCGTACCTGAGGTTGA\n",
    "CGCTGAGTCTGAGTAGGCTGAGTACCGTAGGCTGACTGACAGGTACCGTACGACTGA\n",
    "GTAGGCTAGGCTAGCTGACAGGTTAGGCTGAGCAGTACGACTGAGTCTGAGTAGGCT\n",
    "GACAGGCTGAGTACCGTACCTGACTGAGTAGGCTGACTGAGTACCGTACGACTGAGT\n",
    "AGGCTAGGCTGAGGCTTACCGTAGGCTGACTAGGCTGAGGAGCTGACTAGGTACCGT\n",
    "AGGCTGACTGACAGGCTGACTGAGCAGTACCGTAGGCTGAGTAGGCTGACTGAGGCT\n"
   ]
  },
  {
   "cell_type": "code",
   "execution_count": 1,
   "id": "5b1f90bf-ff4e-465e-93b0-9fea21d3926a",
   "metadata": {},
   "outputs": [],
   "source": [
    "DNAstring = \"ATGCGTACCTGAGTCTGAGCAGTACCGTACGTTGACAGGTTAGGCTGACTAGGCTGAGAGGAGGCTTACCGTAGGCTGAGGCTGTTAGGCAGTGAGTACCGTACCTGAGGTTGACGCTGAGTCTGAGTAGGCTGAGTACCGTAGGCTGACTGACAGGTACCGTACGACTGAGTAGGCTAGGCTAGCTGACAGGTTAGGCTGAGCAGTACGACTGAGTCTGAGTAGGCTGACAGGCTGAGTACCGTACCTGACTGAGTAGGCTGACTGAGTACCGTACGACTGAGTAGGCTAGGCTGAGGCTTACCGTAGGCTGACTAGGCTGAGGAGCTGACTAGGTACCGTAGGCTGACTGACAGGCTGACTGAGCAGTACCGTAGGCTGAGTAGGCTGACTGAGGCT\""
   ]
  },
  {
   "cell_type": "code",
   "execution_count": 2,
   "id": "c8527e77-016a-4420-a536-e7bca877f1e0",
   "metadata": {
    "tags": []
   },
   "outputs": [
    {
     "data": {
      "text/plain": [
       "399"
      ]
     },
     "execution_count": 2,
     "metadata": {},
     "output_type": "execute_result"
    }
   ],
   "source": [
    "len(DNAstring)"
   ]
  },
  {
   "cell_type": "markdown",
   "id": "ca928061-0a05-4fb0-9bad-c7e60f462645",
   "metadata": {},
   "source": [
    "## Question 4 (12 pts, autograded)\n",
    "\n",
    "![A visualization of the length of a cubit](cubit.png)\n",
    "\n",
    "Write a cubit converter! In ancient times people used the length of their forearm as a standard unit of measurement.\n",
    "\n",
    "### Part A (4 pts)\n",
    "\n",
    "The Hebrew cubit was considered to be 18 inches long, which is also 45.7 centimeters.\n",
    "\n",
    "Complete the function below, which takes in an integer ```n```, which is the length of an object measured in cubits, and then returns that length measured in inches."
   ]
  },
  {
   "cell_type": "code",
   "execution_count": null,
   "id": "c59d7855-7848-437a-8f21-a003341a03d2",
   "metadata": {
    "tags": []
   },
   "outputs": [],
   "source": [
    "def cubit_to_inches(n):\n",
    "    # your code here\n",
    "    return None"
   ]
  },
  {
   "cell_type": "markdown",
   "id": "b32b261d-25d4-410e-baab-974e1297c229",
   "metadata": {},
   "source": [
    "### Part B (4 pts)\n",
    "\n",
    "Write a function that takes in the length $l$, the width $w$, and the height $h$ and returns the volume $V=l \\times h \\times w$.\n",
    "\n",
    "Notice that the choice of units doesn't matter!"
   ]
  },
  {
   "cell_type": "code",
   "execution_count": null,
   "id": "07caf8e1-0aa8-4155-9b1d-325865e82bcf",
   "metadata": {
    "tags": []
   },
   "outputs": [],
   "source": [
    "def volume(l,h,w):\n",
    "    # your code here\n",
    "    return None"
   ]
  },
  {
   "cell_type": "markdown",
   "id": "2914b967-4b37-4d11-8024-720d52e02b86",
   "metadata": {},
   "source": [
    "### Part C (4 pts, manually graded)\n",
    "\n",
    "According to Hebrew and Christian tradition, a man named Noah was asked by God to build an ark to save future generations from a prophesized flood that would cover the Earth and kill all land animals. He was instructed to build an ark with the following dimensions:\n",
    "\n",
    "- *The length of the ark shall be three hundred cubits...*\n",
    "- *its width fifty cubits...* \n",
    "- *and its height thirty cubits...*\n",
    "\n",
    "**Use your two functions to compute the volume of Noah's ark in cubic inches.**\n",
    "\n",
    "Moreover, answer the following question: \n",
    "\n",
    "**If an expedition size hiking backpack is 6,000 cubic inches big, how big is Noah's ark measured in hiking backpacks?**"
   ]
  },
  {
   "cell_type": "code",
   "execution_count": null,
   "id": "438c4d31-e5dd-4208-b470-9304a75bdcae",
   "metadata": {
    "tags": []
   },
   "outputs": [],
   "source": []
  },
  {
   "cell_type": "code",
   "execution_count": null,
   "id": "9ed8fd2d-2b80-43eb-816c-63a2eb760de8",
   "metadata": {},
   "outputs": [],
   "source": []
  },
  {
   "cell_type": "markdown",
   "id": "55dc7108-1669-4493-8760-9b32be18ebe7",
   "metadata": {},
   "source": [
    "## Question 5: Cube Roots (10 pts, manually graded)\n",
    "\n",
    "**Write a function that takes the cube root of any real number within $\\epsilon=.001$ of the true answer.**"
   ]
  },
  {
   "cell_type": "code",
   "execution_count": null,
   "id": "f1351faf-56a4-400f-8d8b-3f7404f5d95b",
   "metadata": {
    "tags": []
   },
   "outputs": [],
   "source": []
  }
 ],
 "metadata": {
  "kernelspec": {
   "display_name": "Python 3 (ipykernel)",
   "language": "python",
   "name": "python3"
  },
  "language_info": {
   "codemirror_mode": {
    "name": "ipython",
    "version": 3
   },
   "file_extension": ".py",
   "mimetype": "text/x-python",
   "name": "python",
   "nbconvert_exporter": "python",
   "pygments_lexer": "ipython3",
   "version": "3.9.12"
  }
 },
 "nbformat": 4,
 "nbformat_minor": 5
}
