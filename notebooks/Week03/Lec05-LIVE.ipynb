{
 "cells": [
  {
   "cell_type": "markdown",
   "metadata": {},
   "source": [
    "# Lecture 5 LIVE V2\n",
    "\n",
    "## Lecture Recap\n",
    "\n",
    "- In Lecture 5 we used pythontutor.com to visualize function calls and evaluation.\n",
    "- We compared iterative and recursive implementations of the factorial function.\n",
    "- We introduced operations on strings such as:\n",
    "    - `s[i]`\n",
    "    - `s[i:j]`\n",
    "- We introduced **methods** on strings such as\n",
    "    - s.upper()\n",
    "    - s.replace(,)\n",
    "- We introduced lists and methods on these, which include string operations and\n",
    "    - myList.append()\n",
    "    - myList.sort()\n",
    "- We concluded by considering the \"Subset-Sum\" problem."
   ]
  },
  {
   "cell_type": "markdown",
   "metadata": {},
   "source": [
    "## Lecture 5 Concept Questions\n",
    "\n",
    "### Concept Q1:\n",
    "\n",
    "What are the two main parts of any recursive function?"
   ]
  },
  {
   "cell_type": "code",
   "execution_count": null,
   "metadata": {},
   "outputs": [],
   "source": []
  },
  {
   "cell_type": "markdown",
   "metadata": {},
   "source": [
    "### Concept Q2:\n",
    "\n",
    "Complete the following sentence:\n",
    "\n",
    "`Everything is an --(fill in the blank)-- in Python.`\n",
    "\n",
    "*Hint:* Look here: https://elizaveta239.github.io/the-hidden-power-part1/"
   ]
  },
  {
   "cell_type": "code",
   "execution_count": null,
   "metadata": {},
   "outputs": [],
   "source": []
  },
  {
   "cell_type": "markdown",
   "metadata": {},
   "source": [
    "### Concept Q3:\n",
    "\n",
    "Compare the <a href=\"http://pythontutor.com/visualize.html#code=def%20factorial_loop%28n%29%3A%0A%20%20%20%20total%3D1%0A%20%20%20%20j%3D1%0A%20%20%20%20while%20j%20%3C%3D%20n%3A%0A%20%20%20%20%20%20%20%20total%3Dtotal*j%0A%20%20%20%20%20%20%20%20j%3Dj%2B1%0A%20%20%20%20return%20total%0A%0Afactorial_loop%284%29&cumulative=false&curInstr=0&heapPrimitives=nevernest&mode=display&origin=opt-frontend.js&py=3&rawInputLstJSON=%5B%5D&textReferences=false\">iterative implementation of factorial</a>\n",
    "and the <a href=\"http://pythontutor.com/visualize.html#code=def%20factorial%28n%29%3A%0A%20%20%20%20if%20n%3D%3D0%20or%20n%3D%3D1%3A%20%23%20This%20is%20the%20base%20case!%0A%20%20%20%20%20%20%20%20return%201%0A%20%20%20%20else%3A%0A%20%20%20%20%20%20%20%20return%20n*factorial%28n-1%29%20%23%20This%20is%20the%20recursive%20call!%0A%0Afactorial%284%29&cumulative=false&curInstr=0&heapPrimitives=nevernest&mode=display&origin=opt-frontend.js&py=3&rawInputLstJSON=%5B%5D&textReferences=false\">recursive implementation of factorial.</a>\n",
    "\n",
    "What is the main difference that you see?"
   ]
  },
  {
   "cell_type": "code",
   "execution_count": null,
   "metadata": {},
   "outputs": [],
   "source": []
  },
  {
   "cell_type": "markdown",
   "metadata": {},
   "source": [
    "## Lecture 5 Coding Exercises\n",
    "\n",
    "### Coding Q1:\n",
    "\n",
    "Using the method introduced in lecture, sort the list `a=[1,43,22,54,12]`."
   ]
  },
  {
   "cell_type": "code",
   "execution_count": null,
   "metadata": {},
   "outputs": [],
   "source": [
    "a=[1,43,22,54,12]"
   ]
  },
  {
   "cell_type": "markdown",
   "metadata": {},
   "source": [
    "### Coding Q2: \n",
    "\n",
    "Write a function that takes in two lists of integers and returns a single list that combines their values and **is sorted** from lowest to highest."
   ]
  },
  {
   "cell_type": "code",
   "execution_count": null,
   "metadata": {},
   "outputs": [],
   "source": []
  },
  {
   "cell_type": "markdown",
   "metadata": {},
   "source": [
    "### Coding Q3:\n",
    "\n",
    "How might you modify the code below so that one fewer recursive calls are made? Check your answer using pythontutor.com and report on how many steps are needed.\n",
    "\n",
    "```python\n",
    "def reverse(s):\n",
    "    if len(s)==0:\n",
    "        return ''\n",
    "    else:\n",
    "        return reverse(s[1:]) + s[0]```"
   ]
  },
  {
   "cell_type": "code",
   "execution_count": null,
   "metadata": {},
   "outputs": [],
   "source": []
  },
  {
   "cell_type": "markdown",
   "metadata": {},
   "source": [
    "### Coding Q4:\n",
    "\n",
    "#### Using Python, remove all the clap emojis from the following string:\n",
    "\n",
    "`‪And 👏 when 👏 they 👏 consider 👏 all 👏 this, 👏 must 👏 not 👏 true 👏 philosophers 👏 make 👏 a 👏 reflection, 👏 of 👏 which 👏 they 👏 will 👏 speak 👏 to 👏 one 👏 another 👏 in 👏 such 👏 words 👏 as 👏 these: 👏 We 👏 have 👏 found, 👏 they 👏 will 👏 say, 👏 a 👏 path 👏 of 👏 speculation 👏 which 👏 seems 👏 to 👏 bring 👏 us 👏 and 👏 the 👏 argument 👏 to 👏 the 👏 conclusion 👏 that 👏 while 👏 we 👏 are 👏 in 👏 the 👏 body, 👏 and 👏 while 👏 the 👏 soul 👏 is 👏 mingled 👏 with 👏 this 👏 mass 👏 of 👏 evil, 👏 our 👏 desire 👏 will 👏 not 👏 be 👏 satisfied, 👏 and 👏 our 👏 desire 👏 is 👏 of 👏 the 👏 truth. 👏 For 👏 the 👏 body 👏 is 👏 a 👏 source 👏 of 👏 endless 👏 trouble 👏 to 👏 us 👏 by 👏 reason 👏 of 👏 the 👏 mere 👏 requirement 👏 of 👏 food; 👏 and 👏 also 👏 is 👏 liable 👏 to 👏 diseases 👏 which 👏 overtake 👏 and 👏 impede 👏 us 👏 in 👏 the 👏 search 👏 after 👏 truth: 👏 and 👏 by 👏 filling 👏 us 👏 so 👏 full 👏 of 👏 loves, 👏 and 👏 lusts, 👏 and 👏 fears, 👏 and 👏 fancies, 👏 and 👏 idols, 👏 and 👏 every 👏 sort 👏 of 👏 folly, 👏 prevents 👏 our 👏 ever 👏 having, 👏 as 👏 people 👏 say, 👏 so 👏 much 👏 as 👏 a 👏 thought. 👏 For 👏 whence 👏 come 👏 wars, 👏 and 👏 fightings, 👏 and 👏 factions? 👏 whence 👏 but 👏 from 👏 the 👏 body 👏 and 👏 the 👏 lusts 👏 of 👏 the 👏 body? 👏 For 👏 wars 👏 are 👏 occasioned 👏 by 👏 the 👏 love 👏 of 👏 money, 👏 and 👏 money 👏 has 👏 to 👏 be 👏 acquired 👏 for 👏 the 👏 sake 👏 and 👏 in 👏 the 👏 service 👏 of 👏 the 👏 body; 👏 and 👏 in 👏 consequence 👏 of 👏 all 👏 these 👏 things 👏 the 👏 time 👏 which 👏 ought 👏 to 👏 be 👏 given 👏 to 👏 philosophy 👏 is 👏 lost. 👏 Moreover, 👏 if 👏 there 👏 is 👏 time 👏 and 👏 an 👏 inclination 👏 toward 👏 philosophy, 👏 yet 👏 the 👏 body 👏 introduces 👏 a 👏 turmoil 👏 and 👏 confusion 👏 and 👏 fear 👏 into 👏 the 👏 course 👏 of 👏 speculation, 👏 and 👏 hinders 👏 us 👏 from 👏 seeing 👏 the 👏 truth: 👏 and 👏 all 👏 experience 👏 shows 👏 that 👏 if 👏 we 👏 would 👏 have 👏 pure 👏 knowledge 👏 of 👏 anything 👏 we 👏 must 👏 be 👏 quit 👏 of 👏 the 👏 body, 👏 and 👏 the 👏 soul 👏 in 👏 herself 👏 must 👏 behold 👏 all 👏 things 👏 in 👏 themselves: 👏 then 👏 I 👏 suppose 👏 that 👏 we 👏 shall 👏 attain 👏 that 👏 which 👏 we 👏 desire, 👏 and 👏 of 👏 which 👏 we 👏 say 👏 that 👏 we 👏 are 👏 lovers, 👏 and 👏 that 👏 is 👏 wisdom, 👏 not 👏 while 👏 we 👏 live, 👏 but 👏 after 👏 death, 👏 as 👏 the 👏 argument 👏 shows; 👏 for 👏 if 👏 while 👏 in 👏 company 👏 with 👏 the 👏 body 👏 the 👏 soul 👏 cannot 👏 have 👏 pure 👏 knowledge, 👏 one 👏 of 👏 two 👏 things 👏 seems 👏 to 👏 follow-either 👏 knowledge 👏 is 👏 not 👏 to 👏 be 👏 attained 👏 at 👏 all, 👏 or, 👏 if 👏 at 👏 all, 👏 after 👏 death. 👏 For 👏 then, 👏 and 👏 not 👏 till 👏 then, 👏 the 👏 soul 👏 will 👏 be 👏 in 👏 herself 👏 alone 👏 and 👏 without 👏 the 👏 body. 👏 In 👏 this 👏 present 👏 life, 👏 I 👏 reckon 👏 that 👏 we 👏 make 👏 the 👏 nearest 👏 approach 👏 to 👏 knowledge 👏 when 👏 we 👏 have 👏 the 👏 least 👏 possible 👏 concern 👏 or 👏 interest 👏 in 👏 the 👏 body, 👏 and 👏 are 👏 not 👏 saturated 👏 with 👏 the 👏 bodily 👏 nature, 👏 but 👏 remain 👏 pure 👏 until 👏 the 👏 hour 👏 when 👏 God 👏 himself 👏 is 👏 pleased 👏 to 👏 release 👏 us. 👏 And 👏 then 👏 the 👏 foolishness 👏 of 👏 the 👏 body 👏 will 👏 be 👏 cleared 👏 away 👏 and 👏 we 👏 shall 👏 be 👏 pure 👏 and 👏 hold 👏 converse 👏 with 👏 other 👏 pure 👏 souls, 👏 and 👏 know 👏 of 👏 ourselves 👏 the 👏 clear 👏 light 👏 everywhere; 👏 and 👏 this 👏 is 👏 surely 👏 the 👏 light 👏 of 👏 truth. 👏 For 👏 no 👏 impure 👏 thing 👏 is 👏 allowed 👏 to 👏 approach 👏 the 👏 pure. 👏 These 👏 are 👏 the 👏 sort 👏 of 👏 words, 👏 Simmias, 👏 which 👏 the 👏 true 👏 lovers 👏 of 👏 wisdom 👏 cannot 👏 help 👏 saying 👏 to 👏 one 👏 another, 👏 and 👏 thinking 👏`\n",
    "\n",
    "#### What famous text is this quote from?"
   ]
  },
  {
   "cell_type": "code",
   "execution_count": null,
   "metadata": {},
   "outputs": [],
   "source": []
  },
  {
   "cell_type": "code",
   "execution_count": null,
   "metadata": {},
   "outputs": [],
   "source": []
  },
  {
   "cell_type": "markdown",
   "metadata": {},
   "source": [
    "### Coding Q5\n",
    "\n",
    "Answer the reflection questions below the following code.**\n",
    "\n",
    "```python\n",
    "def subsetSum(cap,myList):\n",
    "    \"\"\"Assumes that cap is a positive number and that myList is a list of positive numbers. \n",
    "    Returns the maximum subset sum that is less than cap.\"\"\"\n",
    "    if cap<=0 or myList == []:\n",
    "        return 0\n",
    "    \n",
    "    first = myList[0]\n",
    "    rest = myList[1:]\n",
    "    \n",
    "    if first > cap:\n",
    "        return subsetSum(cap,rest)\n",
    "    \n",
    "    if first == cap:\n",
    "        return cap\n",
    "    \n",
    "    if first < cap:\n",
    "        useit = first + subsetSum(cap-first, rest) #This executes the \"Use it\" strategy.\n",
    "        loseit = subsetSum(cap, rest) #This executes the \"Lose it\" strategy.\n",
    "        return max(useit, loseit)\n",
    "```\n",
    "\n",
    "1. How many steps did this implementation of subsetSum take when using http://pythontutor.com/ AND evaluate on `subsetSum(42,[45,30,23,18,10,5])` \n",
    "2. If you were to compress this code by using `if...elif...else` statements how would this change? Try to clean up the code above!\n",
    "3. Do you have a conjecture as to the complexity of subsetSum as a function of list length?"
   ]
  },
  {
   "cell_type": "code",
   "execution_count": null,
   "metadata": {},
   "outputs": [],
   "source": []
  },
  {
   "cell_type": "code",
   "execution_count": null,
   "metadata": {},
   "outputs": [],
   "source": []
  }
 ],
 "metadata": {
  "kernelspec": {
   "display_name": "Python 3",
   "language": "python",
   "name": "python3"
  },
  "language_info": {
   "codemirror_mode": {
    "name": "ipython",
    "version": 3
   },
   "file_extension": ".py",
   "mimetype": "text/x-python",
   "name": "python",
   "nbconvert_exporter": "python",
   "pygments_lexer": "ipython3",
   "version": "3.7.4"
  }
 },
 "nbformat": 4,
 "nbformat_minor": 2
}
