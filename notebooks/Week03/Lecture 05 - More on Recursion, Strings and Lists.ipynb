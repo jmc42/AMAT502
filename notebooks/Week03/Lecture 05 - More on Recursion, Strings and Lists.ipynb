{
 "cells": [
  {
   "cell_type": "markdown",
   "metadata": {
    "slideshow": {
     "slide_type": "slide"
    }
   },
   "source": [
    "# AMAT 502: Modern Computing for Mathematicians\n",
    "## Lecture 5 - More on Recursion, Strings and Intro to Lists\n",
    "### University at Albany SUNY\n",
    "\n",
    "\n",
    "\n",
    "\n",
    "\n"
   ]
  },
  {
   "cell_type": "markdown",
   "metadata": {
    "slideshow": {
     "slide_type": "slide"
    }
   },
   "source": [
    "# Resource Alert!\n",
    "\n",
    "Although we'll continue to use parts of Guttag's \"Introduction to Computation and Programming using Python\" (aka *The MIT Book*), some of today's material will be drawn from\n",
    "\n",
    "**CS for All, by Christine Alvarado, Zachary Dodds, Geoff Kuenning, Ran Libeskind-Hadas**\n",
    "\n",
    "<img src=\"cs-for-all.jpg\" alt=\"CS for All\" title=\"CS for All Cover\" width=\"500\" height=\"500\" />\n",
    "    \n",
    "aka *The Harvey Mudd Book*. You can buy it <a href=\"https://fbeedle.com/our-books/26-cs-for-all-9781590282908.html\">here</a>.\n",
    "\n",
    "There is an excellent source of free exercises available at the companion sight: https://www.cs.hmc.edu/twiki/bin/view/CSforAll"
   ]
  },
  {
   "cell_type": "markdown",
   "metadata": {
    "slideshow": {
     "slide_type": "slide"
    }
   },
   "source": [
    "# Recursion Recap\n",
    "\n",
    "There are two important aspects of recursion:\n",
    "- A function is **recursive** if and only if its definition makes reference to itself. \n",
    "    - This is why people new to recursion think recursive functions are circular! They're actually not because the self-reference changes the arguments to a simpler one so as not to get caught in an infinite loop. This infinite loop is prevented by a base case.\n",
    "- The **base case** is the one (or multiple!) situations were we define the function's value without making reference to itself.\n",
    "    - For example, we define 1!=0!=1. For all larger integers $n$ we can then define $n!=n*(n-1)!$."
   ]
  },
  {
   "cell_type": "markdown",
   "metadata": {
    "slideshow": {
     "slide_type": "slide"
    }
   },
   "source": [
    "## Factorial Revisited\n",
    "\n",
    "### Iterative Implementation\n",
    "```python\n",
    "def factorial_loop(n):\n",
    "    total=1\n",
    "    j=1\n",
    "    while j <= n:\n",
    "        total=total*j\n",
    "        j=j+1\n",
    "    return total\n",
    "```\n",
    "### Recursive Implementation\n",
    "```python\n",
    "def factorial(n):\n",
    "    if n==0 or n==1: # This is the base case!\n",
    "        return 1\n",
    "    else:\n",
    "        return n*factorial(n-1) # This is the recursive call!\n",
    "```"
   ]
  },
  {
   "cell_type": "markdown",
   "metadata": {
    "slideshow": {
     "slide_type": "slide"
    }
   },
   "source": [
    "## Visualization of Functions, Frames and Calls\n",
    "\n",
    "The website http://www.pythontutor.com offers a visual interface to understand how functions and their calls operate \"under the hood\". The key idea is that Python uses **stacks** and **frames** to organize memory and the execution of a program.\n",
    "\n",
    "Every call of a function brings into memory a new frame, which is collapsed after the value is returned.\n",
    "\n",
    "For an example, <a href=\"http://pythontutor.com/visualize.html#code=def%20g%28x%29%3A%0A%20%20%20%20result%20%3D%204*x%2B2%0A%20%20%20%20return%20result%0A%20%20%20%20%0Adef%20demo%28x%29%3A%0A%20%20%20%20y%20%3D%20x//3%0A%20%20%20%20z%3Dg%28y%29%0A%20%20%20%20return%20x%2By%2Bz%0A%0Ademo%2815%29&cumulative=false&curInstr=0&heapPrimitives=nevernest&mode=display&origin=opt-frontend.js&py=3&rawInputLstJSON=%5B%5D&textReferences=false\">let's walk through this program, using python tutor.</a>\n",
    "\n",
    "```python\n",
    "def g(x):\n",
    "    result = 4*x+2\n",
    "    return result\n",
    "    \n",
    "def demo(x):\n",
    "    y = x//3\n",
    "    z=g(y)\n",
    "    return x+y+z\n",
    "\n",
    "demo(15)\n",
    "```"
   ]
  },
  {
   "cell_type": "markdown",
   "metadata": {
    "slideshow": {
     "slide_type": "slide"
    }
   },
   "source": [
    "## Visualization of Recursion\n",
    "\n",
    "Here is the visualization for the <a href=\"http://pythontutor.com/visualize.html#code=def%20factorial_loop%28n%29%3A%0A%20%20%20%20total%3D1%0A%20%20%20%20j%3D1%0A%20%20%20%20while%20j%20%3C%3D%20n%3A%0A%20%20%20%20%20%20%20%20total%3Dtotal*j%0A%20%20%20%20%20%20%20%20j%3Dj%2B1%0A%20%20%20%20return%20total%0A%0Afactorial_loop%284%29&cumulative=false&curInstr=0&heapPrimitives=nevernest&mode=display&origin=opt-frontend.js&py=3&rawInputLstJSON=%5B%5D&textReferences=false\">iterative implementation of factorial.</a>\n",
    "\n",
    "Here is the visualization for the <a href=\"http://pythontutor.com/visualize.html#code=def%20factorial%28n%29%3A%0A%20%20%20%20if%20n%3D%3D0%20or%20n%3D%3D1%3A%20%23%20This%20is%20the%20base%20case!%0A%20%20%20%20%20%20%20%20return%201%0A%20%20%20%20else%3A%0A%20%20%20%20%20%20%20%20return%20n*factorial%28n-1%29%20%23%20This%20is%20the%20recursive%20call!%0A%0Afactorial%284%29&cumulative=false&curInstr=0&heapPrimitives=nevernest&mode=display&origin=opt-frontend.js&py=3&rawInputLstJSON=%5B%5D&textReferences=false\">recursive implementation of factorial.</a>"
   ]
  },
  {
   "cell_type": "markdown",
   "metadata": {
    "slideshow": {
     "slide_type": "slide"
    }
   },
   "source": [
    "# Operations on Strings\n",
    "\n",
    "The factorial example illustrates an application of recursion to *numbers,* but we want to consider other applications as well.\n",
    "\n",
    "To do this we need to understand strings better.\n",
    "\n",
    "### String Length\n",
    "\n",
    "We can find the length of a string using \n",
    "```python\n",
    "len(s) # returns the length of s\n",
    "```\n",
    "\n",
    "### String Indexing\n",
    "\n",
    "Strings are instances of arrays, which means that characters (the things that make up strings) and sub-strings can be accessed using indices.\n",
    "\n",
    "#### Accessing the character at position $i$\n",
    "```python\n",
    "s[i] # returns the the character in the i'th position\n",
    "```"
   ]
  },
  {
   "cell_type": "markdown",
   "metadata": {
    "slideshow": {
     "slide_type": "slide"
    }
   },
   "source": [
    "### Pop Quiz\n",
    "\n",
    "Exploration and question: Why does `s[len(s)]` return an error?"
   ]
  },
  {
   "cell_type": "code",
   "execution_count": 3,
   "metadata": {
    "slideshow": {
     "slide_type": "fragment"
    }
   },
   "outputs": [
    {
     "name": "stdout",
     "output_type": "stream",
     "text": [
      "The length of s is 10\n",
      "The character at index 1 is y\n"
     ]
    },
    {
     "data": {
      "text/plain": [
       "'a'"
      ]
     },
     "execution_count": 3,
     "metadata": {},
     "output_type": "execute_result"
    }
   ],
   "source": [
    "s = 'My Sharona'\n",
    "\n",
    "print(\"The length of s is\",len(s))\n",
    "\n",
    "print(\"The character at index 1 is\", s[1])\n",
    "\n",
    "#s[len(s)] ## Why does this generate an error?"
   ]
  },
  {
   "cell_type": "markdown",
   "metadata": {
    "slideshow": {
     "slide_type": "slide"
    }
   },
   "source": [
    "### Slicing Strings\n",
    "\n",
    "We can access the sub-string between index $i$ and index $j-1$, via **slicing**, using\n",
    "\n",
    "```python\n",
    "s[i:j]\n",
    "```\n",
    "\n",
    "We can access the string from index $i$ to the end of the string using\n",
    "\n",
    "```python\n",
    "s[i:]\n",
    "```\n",
    "\n",
    "Similarly, we can access the string from index 0 up to index $j-1$ using\n",
    "\n",
    "```python\n",
    "s[:j]\n",
    "```"
   ]
  },
  {
   "cell_type": "code",
   "execution_count": 8,
   "metadata": {
    "slideshow": {
     "slide_type": "subslide"
    }
   },
   "outputs": [
    {
     "data": {
      "text/plain": [
       "'My Sha'"
      ]
     },
     "execution_count": 8,
     "metadata": {},
     "output_type": "execute_result"
    }
   ],
   "source": [
    "s[0:6] #Notice this is still a length 6 string. Counting starts at 0!\n",
    "#s[1:6]\n",
    "#s[6:]\n",
    "#s[6]\n",
    "#s[:6] #same as s[0:6]"
   ]
  },
  {
   "cell_type": "markdown",
   "metadata": {
    "slideshow": {
     "slide_type": "slide"
    }
   },
   "source": [
    "### Reversing a String via Recursion\n",
    "\n",
    "Reversing a string is very simple with recursion: You put the first string last and repeat this operation with what's remaining.\n",
    "\n",
    "For example, here's how we might implement `reverse` with recursion:\n",
    "\n",
    "```python\n",
    "def reverse(s):\n",
    "    if len(s)==0:\n",
    "        return ''\n",
    "    else:\n",
    "        return reverse(s[1:]) + s[0]\n",
    "    ```\n",
    "Let's <a href=\"http://pythontutor.com/visualize.html#code=def%20reverse%28s%29%3A%0A%20%20%20%20if%20len%28s%29%3D%3D0%3A%0A%20%20%20%20%20%20%20%20return%20''%0A%20%20%20%20else%3A%0A%20%20%20%20%20%20%20%20return%20reverse%28s%5B1%3A%5D%29%20%2B%20s%5B0%5D%0Aprint%28reverse%28'spam'%29%29&cumulative=false&curInstr=0&heapPrimitives=nevernest&mode=display&origin=opt-frontend.js&py=3&rawInputLstJSON=%5B%5D&textReferences=false\">step through the visualization of this function being called on `spam`.</a>"
   ]
  },
  {
   "cell_type": "markdown",
   "metadata": {
    "slideshow": {
     "slide_type": "slide"
    }
   },
   "source": [
    "## More String Operations and Dot Notation\n",
    "\n",
    "As we learn more about different data types we'll discover that Python has different **methods** for manipulating objects of certain types. \n",
    "\n",
    "Generally speaking, methods are invoked by calling an object followed by a dot `.` and then method we want to apply to the object. This updates attributes of the object.\n",
    "\n",
    "For example, the way that we invoke these operations...\n",
    "\n",
    "- **lower( )**: makes all characters lowecase\n",
    "- **upper( )**: makdes all characters uppercase\n",
    "- **replace( , )**: replaces the first input character with the second\n",
    "\n",
    "is by using\n",
    "```python\n",
    "s = 'My Sharona'\n",
    "s.upper()\n",
    "```\n",
    "\n",
    "There are many, many operations that one can perform on strings and I encourage you to RTFM (\"Read the Forgotten Manual\"): \n",
    "- https://docs.python.org/3.8/library/string.html\n",
    "- https://www.programiz.com/python-programming/methods/string\n"
   ]
  },
  {
   "cell_type": "code",
   "execution_count": 10,
   "metadata": {
    "slideshow": {
     "slide_type": "slide"
    }
   },
   "outputs": [
    {
     "data": {
      "text/plain": [
       "'My Sharona'"
      ]
     },
     "execution_count": 10,
     "metadata": {},
     "output_type": "execute_result"
    }
   ],
   "source": [
    "s = 'My Sharona'\n",
    "s.upper()\n",
    "#upper(s) # This will generate an error!\n",
    "s # This will show the original string."
   ]
  },
  {
   "cell_type": "markdown",
   "metadata": {
    "slideshow": {
     "slide_type": "slide"
    }
   },
   "source": [
    "# Lists\n",
    "\n",
    "Lists are defined using square brackets [  ]. All of the methods uesd before on strings, specifically the way we navigated through characters of a string and the way we sliced a string, are the similar for lists. \n",
    "\n",
    "## Examples:"
   ]
  },
  {
   "cell_type": "code",
   "execution_count": 11,
   "metadata": {
    "slideshow": {
     "slide_type": "subslide"
    }
   },
   "outputs": [
    {
     "name": "stdout",
     "output_type": "stream",
     "text": [
      "['boats', 2.7182818, 3]\n",
      "boats and ships\n",
      "['cars', 'boats and ships', 2.7182818, 3]\n",
      "6\n",
      "['cars', 'boats and ships', 2.7182818, 6]\n",
      "63\n",
      "['cars', 'boats and ships', 2.7182818, '63']\n"
     ]
    }
   ],
   "source": [
    "a = [\"cars\", \"boats\", 2.7182818, 3]\n",
    "print(a[1:4])\n",
    "\n",
    "a[1] = a[1] + \" and ships\"\n",
    "print(a[1])\n",
    "print(a)\n",
    "\n",
    "a[3] = a[3] + 3\n",
    "print(a[3])\n",
    "print(a)\n",
    "\n",
    "a[3] = str(a[3]) + \"3\"\n",
    "print(a[3])\n",
    "print(a)"
   ]
  },
  {
   "cell_type": "markdown",
   "metadata": {
    "slideshow": {
     "slide_type": "slide"
    }
   },
   "source": [
    "## Lists: Operations\n",
    "\n",
    "Since lists are more dynamic than strings---they are **mutable** rather than **immutable**---we have additional operations that we can use that fundamentally alter attributes of the object at hand.\n",
    "\n",
    "Here are two:\n",
    "\n",
    "* append( ): adds an item to the end of the list\n",
    "\n",
    "* insert( ): adds an item to a given index\n"
   ]
  },
  {
   "cell_type": "code",
   "execution_count": 1,
   "metadata": {
    "slideshow": {
     "slide_type": "subslide"
    }
   },
   "outputs": [
    {
     "name": "stdout",
     "output_type": "stream",
     "text": [
      "['statistics', 'algebra', 'topology', 'statistics', 'analysis']\n",
      "['statistics', 'complex analysis', 'algebra', 'topology', 'statistics', 'analysis']\n"
     ]
    }
   ],
   "source": [
    "a = [\"statistics\",\"algebra\", \"topology\", \"statistics\"]\n",
    "a.append(\"analysis\")\n",
    "print(a)\n",
    "\n",
    "a.insert(1,\"complex analysis\")\n",
    "print(a)"
   ]
  },
  {
   "cell_type": "markdown",
   "metadata": {
    "slideshow": {
     "slide_type": "slide"
    }
   },
   "source": [
    "## Lists: More Operations\n",
    "\n",
    "Here are two more methods that we can use on lists:\n",
    "* reverse( ): Reverses the order of the list\n",
    "* sort( ): Sorts the list\n",
    "\n",
    "Some of these have function analogs, such as...\n",
    "* `sorted(list)`\n",
    "\n",
    "As we'll understand better once we've covered object oriented programming, sort and sorted behave very differently!\n",
    "* Read this: https://realpython.com/python-sort/"
   ]
  },
  {
   "cell_type": "code",
   "execution_count": 9,
   "metadata": {
    "slideshow": {
     "slide_type": "slide"
    }
   },
   "outputs": [
    {
     "name": "stdout",
     "output_type": "stream",
     "text": [
      "['statistics', 'complex analysis', 'algebra', 'topology', 'statistics', 'analysis']\n",
      "['algebra', 'analysis', 'complex analysis', 'statistics', 'statistics', 'topology']\n"
     ]
    }
   ],
   "source": [
    "list0 = ['statistics', 'complex analysis', 'algebra', 'topology', 'statistics', 'analysis']\n",
    "\n",
    "list1 = sorted(list0)\n",
    "\n",
    "#list0.sort()\n",
    "#list2=list0\n",
    "print(list0)\n",
    "print(list1) #Try this next. Then check it's type!\n",
    "#type(list2)"
   ]
  },
  {
   "cell_type": "markdown",
   "metadata": {
    "slideshow": {
     "slide_type": "slide"
    }
   },
   "source": [
    "# The Subset-Sum Problem\n",
    "\n",
    "Suppose you're given a list of things that need delivery, but you only have a set capacity. How might you go about selecting items to deliver?\n",
    "\n",
    "For example, suppose your list of item sizes is\n",
    "```python\n",
    "myList = [5, 10, 18, 23, 30, 45]\n",
    "```\n",
    "and your capacity is 42. How might you go about selecting items?"
   ]
  },
  {
   "cell_type": "markdown",
   "metadata": {
    "slideshow": {
     "slide_type": "slide"
    }
   },
   "source": [
    "## Subset-Sum Attack #1\n",
    "\n",
    "Given your list \n",
    "```python\n",
    "myList = [5, 10, 18, 23, 30, 45]\n",
    "```\n",
    "and capacity 42, you could go about it by taking on every item in list order until you exceed your capacity, i.e.\n",
    "\n",
    "- ```myList[0]=5``` Is less than 42.  OK! Go on...\n",
    "- ```myList[1] + myList[0]= 10 + 5 = 15``` Is less than 42. OK! Go on...\n",
    "- ```myList[2] + myList[1] + myList[0]= 18 + 15 = 33``` Is less than 42. OK! Go on...\n",
    "- ```myList[3] + myList[2] + myList[1] + myList[0]= 23 + 33 = 56``` Is NOT LESS than 42. STOP!\n",
    "\n",
    "However, this approach only allows us to ship 33 units of stuff.\n",
    "\n",
    "**Question #1) Can we do better than 33? What choice of list entries achieves this maximum result?**\n",
    "\n",
    "**Question #2) What would happen if our list was provided to us backwards?**"
   ]
  },
  {
   "cell_type": "markdown",
   "metadata": {
    "slideshow": {
     "slide_type": "slide"
    }
   },
   "source": [
    "## Subset-Sum Strategy: Check and Use it or Discard and Move On\n",
    "\n",
    "Let's give a recursive variation of this first strategy, but where we discard the first entry if it exceeds the capacity:"
   ]
  },
  {
   "cell_type": "code",
   "execution_count": 20,
   "metadata": {
    "slideshow": {
     "slide_type": "slide"
    }
   },
   "outputs": [],
   "source": [
    "def subsetSum1(cap,myList):\n",
    "    \"\"\"Assumes that cap is a positive number and that myList is a list of positive numbers. \n",
    "    Attempts to return the maximum subset sum that is less than cap.\"\"\"\n",
    "    if cap<=0 or myList == []:\n",
    "        return 0\n",
    "    \n",
    "    first = myList[0]\n",
    "    rest = myList[1:]\n",
    "    \n",
    "    if first > cap:\n",
    "        return subsetSum1(cap,rest)\n",
    "    \n",
    "    if first == cap:\n",
    "        return cap\n",
    "    \n",
    "    if first < cap:\n",
    "        return first + subsetSum1(cap-first, rest)\n",
    "    "
   ]
  },
  {
   "cell_type": "code",
   "execution_count": 21,
   "metadata": {
    "slideshow": {
     "slide_type": "fragment"
    }
   },
   "outputs": [
    {
     "data": {
      "text/plain": [
       "33"
      ]
     },
     "execution_count": 21,
     "metadata": {},
     "output_type": "execute_result"
    }
   ],
   "source": [
    "test=[5, 10, 18, 23, 30, 45]\n",
    "subsetSum1(42,test)"
   ]
  },
  {
   "cell_type": "code",
   "execution_count": 22,
   "metadata": {
    "slideshow": {
     "slide_type": "fragment"
    }
   },
   "outputs": [],
   "source": [
    "test.reverse()"
   ]
  },
  {
   "cell_type": "code",
   "execution_count": 23,
   "metadata": {
    "slideshow": {
     "slide_type": "fragment"
    }
   },
   "outputs": [
    {
     "data": {
      "text/plain": [
       "[45, 30, 23, 18, 10, 5]"
      ]
     },
     "execution_count": 23,
     "metadata": {},
     "output_type": "execute_result"
    }
   ],
   "source": [
    "test"
   ]
  },
  {
   "cell_type": "code",
   "execution_count": 24,
   "metadata": {
    "slideshow": {
     "slide_type": "fragment"
    }
   },
   "outputs": [
    {
     "data": {
      "text/plain": [
       "40"
      ]
     },
     "execution_count": 24,
     "metadata": {},
     "output_type": "execute_result"
    }
   ],
   "source": [
    "subsetSum1(42,test)"
   ]
  },
  {
   "cell_type": "code",
   "execution_count": 25,
   "metadata": {
    "slideshow": {
     "slide_type": "fragment"
    }
   },
   "outputs": [
    {
     "data": {
      "text/plain": [
       "40"
      ]
     },
     "execution_count": 25,
     "metadata": {},
     "output_type": "execute_result"
    }
   ],
   "source": [
    "subsetSum1(42,[45, 30, 23, 18, 10, 5])"
   ]
  },
  {
   "cell_type": "markdown",
   "metadata": {
    "slideshow": {
     "slide_type": "slide"
    }
   },
   "source": [
    "## Visualizing Execution of subsetSum1\n",
    "\n",
    "- <a href=\"http://pythontutor.com/visualize.html#code=def%20subsetSum1%28cap,myList%29%3A%0A%20%20%20%20%22%22%22Assumes%20that%20cap%20is%20a%20positive%20number%20and%20that%20myList%20is%20a%20list%20of%20positive%20numbers.%20%0A%20%20%20%20Attempts%20to%20return%20the%20maximum%20subset%20sum%20that%20is%20less%20than%20cap.%22%22%22%0A%20%20%20%20if%20cap%3C%3D0%20or%20myList%20%3D%3D%20%5B%5D%3A%0A%20%20%20%20%20%20%20%20return%200%0A%20%20%20%20%0A%20%20%20%20first%20%3D%20myList%5B0%5D%0A%20%20%20%20rest%20%3D%20myList%5B1%3A%5D%0A%20%20%20%20%0A%20%20%20%20if%20first%20%3E%20cap%3A%0A%20%20%20%20%20%20%20%20return%20subsetSum1%28cap,rest%29%0A%20%20%20%20%0A%20%20%20%20if%20first%20%3D%3D%20cap%3A%0A%20%20%20%20%20%20%20%20return%20cap%0A%20%20%20%20%0A%20%20%20%20if%20first%20%3C%20cap%3A%0A%20%20%20%20%20%20%20%20return%20first%20%2B%20subsetSum1%28cap-first,%20rest%29%0AsubsetSum1%2842,%5B5,%2010,%2018,%2023,%2030,%2045%5D%29&cumulative=false&curInstr=0&heapPrimitives=nevernest&mode=display&origin=opt-frontend.js&py=3&rawInputLstJSON=%5B%5D&textReferences=false\">Here's a visualization of `subsetSum1(42,[5,10,18,23,30,45])`</a>\n",
    "\n",
    "- <a href=\"http://pythontutor.com/visualize.html#code=def%20subsetSum1%28cap,myList%29%3A%0A%20%20%20%20%22%22%22Assumes%20that%20cap%20is%20a%20positive%20number%20and%20that%20myList%20is%20a%20list%20of%20positive%20numbers.%20%0A%20%20%20%20Attempts%20to%20return%20the%20maximum%20subset%20sum%20that%20is%20less%20than%20cap.%22%22%22%0A%20%20%20%20if%20cap%3C%3D0%20or%20myList%20%3D%3D%20%5B%5D%3A%0A%20%20%20%20%20%20%20%20return%200%0A%20%20%20%20%0A%20%20%20%20first%20%3D%20myList%5B0%5D%0A%20%20%20%20rest%20%3D%20myList%5B1%3A%5D%0A%20%20%20%20%0A%20%20%20%20if%20first%20%3E%20cap%3A%0A%20%20%20%20%20%20%20%20return%20subsetSum1%28cap,rest%29%0A%20%20%20%20%0A%20%20%20%20if%20first%20%3D%3D%20cap%3A%0A%20%20%20%20%20%20%20%20return%20cap%0A%20%20%20%20%0A%20%20%20%20if%20first%20%3C%20cap%3A%0A%20%20%20%20%20%20%20%20return%20first%20%2B%20subsetSum1%28cap-first,%20rest%29%0A%0AsubsetSum1%2842,%5B45,%2030,%2023,%2018,%2010,%205%5D%29&cumulative=false&curInstr=0&heapPrimitives=nevernest&mode=display&origin=opt-frontend.js&py=3&rawInputLstJSON=%5B%5D&textReferences=false\">Here's a visualization of `subsetSum1(42,[45,30,23,18,10,5])`</a>"
   ]
  },
  {
   "cell_type": "markdown",
   "metadata": {
    "slideshow": {
     "slide_type": "slide"
    }
   },
   "source": [
    "## SubsetSum Solved: Use it or Lose it\n",
    "\n",
    "We can see how forcing ourselves to always use an entry if it less than the capacity doesn't always acheive optimal results. Sometimes skipping an entry (or two!) does better.\n",
    "\n",
    "So let's employ both strategies and in our recursive call and take the better of the two:\n",
    "\n",
    "```python\n",
    "def subsetSum(cap,myList):\n",
    "    \"\"\"Assumes that cap is a positive number and that myList is a list of positive numbers. \n",
    "    Returns the maximum subset sum that is less than cap.\"\"\"\n",
    "    if cap<=0 or myList == []:\n",
    "        return 0\n",
    "    \n",
    "    first = myList[0]\n",
    "    rest = myList[1:]\n",
    "    \n",
    "    if first > cap:\n",
    "        return subsetSum(cap,rest)\n",
    "    \n",
    "    if first == cap:\n",
    "        return cap\n",
    "    \n",
    "    if first < cap:\n",
    "        useit = first + subsetSum(cap-first, rest) #This executes the \"Use it\" strategy.\n",
    "        loseit = subsetSum(cap, rest) #This executes the \"Lose it\" strategy.\n",
    "        return max(useit, loseit)\n",
    "```"
   ]
  },
  {
   "cell_type": "code",
   "execution_count": 26,
   "metadata": {
    "slideshow": {
     "slide_type": "slide"
    }
   },
   "outputs": [],
   "source": [
    "def subsetSum(cap,myList):\n",
    "    \"\"\"Assumes that cap is a positive number and that myList is a list of positive numbers. \n",
    "    Returns the maximum subset sum that is less than cap.\"\"\"\n",
    "    if cap<=0 or myList == []:\n",
    "        return 0\n",
    "    \n",
    "    first = myList[0]\n",
    "    rest = myList[1:]\n",
    "    \n",
    "    if first > cap:\n",
    "        return subsetSum(cap,rest)\n",
    "    \n",
    "    if first == cap:\n",
    "        return cap\n",
    "    \n",
    "    if first < cap:\n",
    "        useit = first + subsetSum(cap-first, rest) #This executes the \"Use it\" strategy.\n",
    "        loseit = subsetSum(cap, rest) #This executes the \"Lose it\" strategy.\n",
    "        return max(useit, loseit)"
   ]
  },
  {
   "cell_type": "code",
   "execution_count": 27,
   "metadata": {
    "slideshow": {
     "slide_type": "fragment"
    }
   },
   "outputs": [
    {
     "data": {
      "text/plain": [
       "41"
      ]
     },
     "execution_count": 27,
     "metadata": {},
     "output_type": "execute_result"
    }
   ],
   "source": [
    "subsetSum(42,[5,10,18,23,30,45])"
   ]
  },
  {
   "cell_type": "code",
   "execution_count": 28,
   "metadata": {
    "slideshow": {
     "slide_type": "fragment"
    }
   },
   "outputs": [
    {
     "data": {
      "text/plain": [
       "41"
      ]
     },
     "execution_count": 28,
     "metadata": {},
     "output_type": "execute_result"
    }
   ],
   "source": [
    "subsetSum(42,[45,30,23,18,10,5])"
   ]
  },
  {
   "cell_type": "markdown",
   "metadata": {
    "slideshow": {
     "slide_type": "slide"
    }
   },
   "source": [
    "## Reflection Questions\n",
    "\n",
    "- How many steps did this implementation of subsetSum take when using http://pythontutor.com/?\n",
    "- If you were to compress this code by using `if...elif...else` statements how would this change? Try to clean up the code above!\n",
    "- Do you have a conjecture as to the complexity of subsetSum as a function of list length?"
   ]
  },
  {
   "cell_type": "code",
   "execution_count": null,
   "metadata": {},
   "outputs": [],
   "source": []
  }
 ],
 "metadata": {
  "celltoolbar": "Slideshow",
  "kernelspec": {
   "display_name": "Python 3",
   "language": "python",
   "name": "python3"
  },
  "language_info": {
   "codemirror_mode": {
    "name": "ipython",
    "version": 3
   },
   "file_extension": ".py",
   "mimetype": "text/x-python",
   "name": "python",
   "nbconvert_exporter": "python",
   "pygments_lexer": "ipython3",
   "version": "3.7.4"
  }
 },
 "nbformat": 4,
 "nbformat_minor": 2
}
