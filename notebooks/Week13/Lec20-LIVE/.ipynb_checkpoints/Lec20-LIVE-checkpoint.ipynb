{
 "cells": [
  {
   "cell_type": "markdown",
   "metadata": {},
   "source": [
    "# Lecture 20 LIVE\n",
    "\n",
    "## Topics for Today\n",
    "- Bayesian Probability\n",
    "- Final Project Prep\n",
    "    - Google CoLab\n",
    "    - $\\LaTeX$ on Overleaf\n",
    "- Final Project Proposals\n",
    "    - **IDEAS due in class on Monday, November 15, 2021. WRITEUPS due via email on Wednesday, November 17, 2021.**"
   ]
  },
  {
   "cell_type": "markdown",
   "metadata": {},
   "source": [
    "## Bayesian Probability Question\n",
    "\n",
    "![Probability Urn](probability-urn.jpg)\n",
    "\n",
    "Suppose I have two urns (an urn is shown above):\n",
    "- $U_1$ has 5 red balls and 2 blue balls\n",
    "- $U_2$ has 2 red balls and 7 blue balls\n",
    "Suppose I select an urn at random and draw out a red ball. Let's call this event $R$.\n",
    "\n",
    "In this problem we're going to use Bayes' Rule to compute the probability that it came from a specific urn.\n",
    "\n",
    "### Part A\n",
    "Compute the following conditional probabilities:\n",
    "- $P(R|U_1)=$ \"The probability of a red ball assuming I draw from Urn 1\"\n",
    "- $P(R|U_2)=$ \"The probability of a red ball assuming I draw from Urn 2\""
   ]
  },
  {
   "cell_type": "markdown",
   "metadata": {},
   "source": [
    "*Type your answers here in $\\LaTeX$*"
   ]
  },
  {
   "cell_type": "markdown",
   "metadata": {},
   "source": [
    "### Part B\n",
    "\n",
    "By the Law of Total Probability, the probability of a red ball is \n",
    "$$P(R)=P(R|U_1)P(U_1) + P(R|U_2)P(U_2)$$\n",
    "Compute the probability of drawing out a red ball, i.e. compute $P(R)$."
   ]
  },
  {
   "cell_type": "markdown",
   "metadata": {},
   "source": [
    "*Type your answers here in $\\LaTeX$*"
   ]
  },
  {
   "cell_type": "markdown",
   "metadata": {},
   "source": [
    "### Part C\n",
    "\n",
    "Use Bayes' Rule\n",
    "$$P(U_i|R) = \\frac{P(R|U_i) P(U_i)}{P(R)}$$\n",
    "to compute\n",
    "- The probability of Urn 1 given that we draw out a red ball, i.e. $P(U_1|R)$\n",
    "- The probability of Urn 2 given that we draw out a red ball, i.e. $P(U_2|R)$"
   ]
  },
  {
   "cell_type": "markdown",
   "metadata": {},
   "source": [
    "*Type your answers here in $\\LaTeX$*"
   ]
  },
  {
   "cell_type": "markdown",
   "metadata": {},
   "source": [
    "## Final Project Prep\n",
    "\n",
    "### Collaboration on Python\n",
    "\n",
    "Create an empty Jupyter Notebook for the Final Project on Google's CoLab site and share it with your teammates.\n",
    "\n",
    "https://colab.research.google.com/\n",
    "\n",
    "### Collaboration on $\\LaTeX$\n",
    "\n",
    "Create an account on https://www.overleaf.com/ and create a replica of the \n",
    "> [Latex Practice](Latex-Practice.pdf)\n",
    "\n",
    "Use the sample LaTeX Document on page two of the [LaTex 2e Cheat Sheet](latexsheet.pdf). I've included this code below. You might find the [Undergrad Math Cheat Sheet](undergradmath.pdf) helpful as well. \n",
    "```latex\n",
    "\\documentclass[11pt]{article}\n",
    "\\usepackage{fullpage}\n",
    "\\title{Template}\n",
    "\\author{Name}\n",
    "\n",
    "\\begin{document}\n",
    "\n",
    "\\maketitle\n",
    "\\section{section}\n",
    "\\subsection*{subsection without number}\n",
    "\n",
    "text \\textbf{bold text} text. Some math: $2+2=5$ \n",
    "\n",
    "\\subsection{subsection}\n",
    "\n",
    "text \\emph{emphasized text} text. \\cite{WC:1953} discovered the structure of DNA.\n",
    "\n",
    "A table:\n",
    "\n",
    "\\begin{table}[!th]\n",
    "\n",
    "\\begin{tabular}{|l|c|r|}\n",
    "\n",
    "\\hline\n",
    "\n",
    "first  &  row  &  data \\\\\n",
    "second &  row  &  data \\\\\n",
    "\n",
    "\\hline\n",
    "\\end{tabular}\n",
    "\\caption{This is the caption}\n",
    "\\label{ex:table}\n",
    "\\end{table}\n",
    "\n",
    "The table is numbered \\ref{ex:table}. \n",
    "\\end{document}\n",
    "```"
   ]
  },
  {
   "cell_type": "code",
   "execution_count": null,
   "metadata": {},
   "outputs": [],
   "source": []
  }
 ],
 "metadata": {
  "kernelspec": {
   "display_name": "Python 3",
   "language": "python",
   "name": "python3"
  },
  "language_info": {
   "codemirror_mode": {
    "name": "ipython",
    "version": 3
   },
   "file_extension": ".py",
   "mimetype": "text/x-python",
   "name": "python",
   "nbconvert_exporter": "python",
   "pygments_lexer": "ipython3",
   "version": "3.7.4"
  }
 },
 "nbformat": 4,
 "nbformat_minor": 2
}
