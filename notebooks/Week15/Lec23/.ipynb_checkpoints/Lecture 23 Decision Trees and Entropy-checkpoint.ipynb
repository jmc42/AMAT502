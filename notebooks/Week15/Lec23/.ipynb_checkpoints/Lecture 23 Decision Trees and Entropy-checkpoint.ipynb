{
 "cells": [
  {
   "cell_type": "markdown",
   "metadata": {
    "slideshow": {
     "slide_type": "slide"
    }
   },
   "source": [
    "# AMAT 502: Modern Computing for Mathematicians\n",
    "## Lecture 23 - Decision Trees and Entropy\n",
    "### University at Albany SUNY"
   ]
  },
  {
   "cell_type": "markdown",
   "metadata": {
    "slideshow": {
     "slide_type": "slide"
    }
   },
   "source": [
    "# Topics for Today\n",
    "\n",
    "- Decision Trees\n",
    "- Entropy\n",
    "- Entropy of a partition and Information Gain\n",
    "- The ID3 Algorithm\n",
    "- Example on Hiring Decisions"
   ]
  },
  {
   "cell_type": "markdown",
   "metadata": {
    "slideshow": {
     "slide_type": "slide"
    }
   },
   "source": [
    "## More References\n",
    "\n",
    "- A group of researchers at Colorado State University has made precise the number of support vectors in a generic configuration. You can [read their paper](https://arxiv.org/abs/2011.00617) that was posted to the ArXiv on November 1st, 2020: \n",
    "\n",
    "- The above paper makes use of Radon's theorem, which is part of any good education on convex geometry and linear programming. You should consider taking a course in Linear Programming that follows either\n",
    "    - Bertsimas and Tsitsiklis's [*Introduction to Linear Optimization*](http://www.athenasc.com/linoptbook.html)\n",
    "    - Matousek and Gärtner's [*Understanding and Using Linear Programming*](https://www.springer.com/gp/book/9783540306979)\n",
    "    \n",
    "- For beach reading on Deep Learning, I'd consider John D. Kellher's book [*Deep Learning*](https://mitpress.mit.edu/books/deep-learning-1) through MIT Press."
   ]
  },
  {
   "cell_type": "markdown",
   "metadata": {
    "slideshow": {
     "slide_type": "slide"
    }
   },
   "source": [
    "## What is a Decision Tree?\n",
    "\n",
    "* A decision tree is a locally optimal search algorithm that uses a test function to iteratively split the data set. \n",
    "* A decision tree can be viewed as a graph in which each internal node represents a “test” on an attribute. \n",
    "* Each branch represents the outcome of the test, and each leaf node represents a class label. \n",
    "* The paths from root to leaf represent classification rules."
   ]
  },
  {
   "cell_type": "markdown",
   "metadata": {
    "slideshow": {
     "slide_type": "slide"
    }
   },
   "source": [
    "<center>\n",
    "    <img src=\"Root.png\" alt=\"A Decision Tree\" width=\"500\"/>\n",
    "</center>"
   ]
  },
  {
   "cell_type": "markdown",
   "metadata": {
    "slideshow": {
     "slide_type": "slide"
    }
   },
   "source": [
    "## Purpose of Using a Decision Tree\n",
    "\n",
    "* The goal of using a decision tree is to 'clean up' our data. We want to use a given number of assesments to efficiently seperate our data into however many groups necessary, in order to have clean seperation. \n",
    "\n",
    "* If we know what questions to ask in order to separate our data, we have a better chance at making predictions just be using the answers to those questions.\n",
    "\n",
    "* Decision trees fall into the category of **supervised learning algorithms** (having a pre-defined target variable) that is mostly used in **classification problems**, however there are decision tree methods for both categorical and continuous labels, so one can use decision trees for **regression** as well."
   ]
  },
  {
   "cell_type": "markdown",
   "metadata": {
    "slideshow": {
     "slide_type": "slide"
    }
   },
   "source": [
    "## Decisions\n",
    "\n",
    "In order to 'clean up' our data, we need to compare the values of the features associated to each data point and then make a decision of cutoff value to seperate our data into two groups, let's say people we want to hire or not hire, and then split up those groups based off of their feature values, and so on...\n",
    "\n",
    "This leads to the natural question, how do we know we've made a good seperation of our data?"
   ]
  },
  {
   "cell_type": "markdown",
   "metadata": {
    "slideshow": {
     "slide_type": "slide"
    }
   },
   "source": [
    "## Entropy\n",
    "\n",
    "* At each step of seperation, we want to decrease how 'messy' our data set looks in order to justify/validate our decision making process. The measure of this disorder is what we call **Entropy**.\n",
    "\n",
    "* For our purposes, another convenient interperetation of **entropy** is a measure of uncertainty in our data, i.e., after making some decision to split my data, how uncertain am I in knowing how to label each data point."
   ]
  },
  {
   "cell_type": "markdown",
   "metadata": {
    "slideshow": {
     "slide_type": "slide"
    }
   },
   "source": [
    "## Entropy\n",
    "The picture below shows a splitting such that we can be more sure that data points on the left and right are *more* similar to each other than they were in the root node.\n",
    "<center>\n",
    "    <img src=\"DecisionTree.png\" alt=\"Decision Tree\" width=\"300\"/>\n",
    "</center>\n",
    "\n",
    "**Question: If we interpret entropy as \"messiness\", which of the above boxes have high entropy and which have low entropy?**"
   ]
  },
  {
   "cell_type": "markdown",
   "metadata": {
    "slideshow": {
     "slide_type": "slide"
    }
   },
   "source": [
    "## Measuring Entropy\n",
    "\n",
    "Suppose we have a set of $N$ data points and that these points fall into two categories, $n$  have Label 1 and $m = N-n$ have Label 2. To get our data a bit more ordered, we want to group them by labels. We introduce the ratio\n",
    "$$ p = \\frac{n}{N} \\; \\text{and}\\; q = \\frac{m}{N} $$\n",
    "\n",
    "in order to measure how much of the data is labeled as Label 1 and Label 2 in a given node.\n",
    "\n",
    "### Probability of a Class Label\n",
    "\n",
    "One can interpret the above ratios as the probability that a randomly selected point is in class 1 or in class 2. This is an example of a **Bernoulli random variable** because it has only two possible values, with probability $p$ and $(1-p)=q$, respectively."
   ]
  },
  {
   "cell_type": "markdown",
   "metadata": {
    "slideshow": {
     "slide_type": "slide"
    }
   },
   "source": [
    "## Entropy for Data with Two Class Labels\n",
    "\n",
    "The formula we use to calculate the *entropy*, or *uncertainty* in our data is\n",
    "\n",
    "$$ E = -p\\log_2(p) - q\\log_2(q) = -p\\log_2(p)-(1 - p)\\log_2(1 - p) $$\n",
    "\n",
    "Notice that the maximum of this function is 1 and is symmetric about $p = 0.5$. We can interperet this as, when the proportion of our data in a single node is split 50/50 we are the most uncertain how to label the data in that node."
   ]
  },
  {
   "cell_type": "code",
   "execution_count": 2,
   "metadata": {
    "scrolled": true,
    "slideshow": {
     "slide_type": "slide"
    }
   },
   "outputs": [
    {
     "data": {
      "image/png": "[encoded data removed]",
      "text/plain": [
       "<Figure size 432x288 with 1 Axes>"
      ]
     },
     "metadata": {
      "needs_background": "light"
     },
     "output_type": "display_data"
    }
   ],
   "source": [
    "import numpy as np\n",
    "import matplotlib.pyplot as plt\n",
    "fig=plt.figure()\n",
    "ax=fig.add_subplot(111)\n",
    "x = np.linspace(0.01,.99)\n",
    "ax.plot(np.linspace(0.01,.99),-x*np.log2(x) - (1 - x)*np.log2(1 - x))\n",
    "ax.set_xlabel(\"x\")\n",
    "ax.set_ylabel(\"-xlog2(x) - (1 - x)log2(1 - x)\")\n",
    "plt.title('Entropy Graph for Two Labels')\n",
    "plt.show()"
   ]
  },
  {
   "cell_type": "markdown",
   "metadata": {
    "slideshow": {
     "slide_type": "slide"
    }
   },
   "source": [
    "## Measuring Entropy\n",
    "\n",
    "In general, for $n$ classes $C_1, \\cdots, C_n$ with $p_i$ the proportion of data labeled as class $C_i$, we define the **entropy** as:\n",
    "\n",
    "$$ E(S) = - \\sum_{i=1}^n p_i \\log_2(p_i) = − p_1\\log_2(p_1) − \\cdots − p_n\\log_2(p_n) $$\n",
    "\n",
    "This means the entropy will be small when every $p_i$ is close to 0 or 1 (i.e., when most of the data is in a single class), and it will be larger when many of the $p_i$’s are not close to 0 (i.e., when the data is spread across multiple classes)."
   ]
  },
  {
   "cell_type": "code",
   "execution_count": 3,
   "metadata": {
    "slideshow": {
     "slide_type": "fragment"
    }
   },
   "outputs": [],
   "source": [
    "def entropy(class_probabilities):\n",
    "    \"\"\"given a list of class probabilities, compute the entropy\"\"\"\n",
    "    import math\n",
    "    return sum(-p * math.log(p, 2) for p in class_probabilities if p) # ignore zero probabilities"
   ]
  },
  {
   "cell_type": "markdown",
   "metadata": {
    "slideshow": {
     "slide_type": "slide"
    }
   },
   "source": [
    "## Example: Entropy of Grade Distributions\n",
    "\n",
    "In project 3 we used k-means to automatically grade students. When I ran k-means with $k=5$ and `random_state=0`, I got the follow predictions:\n",
    "\n",
    "> **24 As, 29 Bs, 23 Cs, 13 Ds, 6 Fs**\n",
    "\n",
    "In contrast, the Duke professor gave\n",
    "\n",
    "> **45 As, 33 Bs, 11 Cs, 5 Ds, 1 F**"
   ]
  },
  {
   "cell_type": "code",
   "execution_count": 4,
   "metadata": {},
   "outputs": [
    {
     "name": "stdout",
     "output_type": "stream",
     "text": [
      "The Entropy of the K-Means Grades distribution is 2.16377176406274\n",
      "The Entropy of the Duke Professor's distribution is 1.693415781456091\n"
     ]
    }
   ],
   "source": [
    "kmeansGrades = [24, 29, 23, 13, 6]\n",
    "DukeGrades = [45, 33, 11, 5, 1]\n",
    "\n",
    "kDistro = [i/95 for i in kmeansGrades]\n",
    "dDistro = [i/95 for i in DukeGrades]\n",
    "print(\"The Entropy of the K-Means Grades distribution is \"+ str(entropy(kDistro)))\n",
    "print(\"The Entropy of the Duke Professor's distribution is \" + str(entropy(dDistro)))"
   ]
  },
  {
   "cell_type": "markdown",
   "metadata": {
    "slideshow": {
     "slide_type": "slide"
    }
   },
   "source": [
    "## Measuring Entropy\n",
    "\n",
    "Correspondingly, we’d like some notion of the entropy that results from partitioning a set of data in a certain way. We want a partition to have low entropy if it splits the data into subsets that themselves have low entropy (i.e., are highly certain), and high entropy if it contains subsets that (are large and) have high entropy (i.e., are highly\n",
    "uncertain). This leads to the notion of **Information Gain**."
   ]
  },
  {
   "cell_type": "markdown",
   "metadata": {
    "slideshow": {
     "slide_type": "slide"
    }
   },
   "source": [
    "## Information Gain\n",
    "\n",
    "If we partition our data $S$ into subsets $S_1, \\cdots, S_m$ containing proportions $q_1, \\cdots, q_m$\n",
    "of the data, then we compute the *entropy of the partition* as a weighted sum:\n",
    "$$E(S_1, \\cdots, S_m) = q_1E(S_1)+ \\cdots + q_mE(S_m) $$\n",
    "\n",
    "Where each $E(S_i)$ is the entropy of the empirical probability distribution of class labels within in the subset $S_i$. Consequently, we can think of \n",
    "- $E(S_1,\\cdots,S_m)$ is the *average entropy* across the partition. \n",
    "- Notice that the number $m$ of sets in the partition is not necessarily equal to the number $n$ of class labels.\n",
    "\n",
    "Then the ***information gained*** would be calculated as the entropy of the data $S$ before the partition minus the entropy of the partition :\n",
    "\n",
    "$$E = E(S) - E(S_1, \\cdots, S_m) $$\n",
    "\n",
    "**Question: What partition maximizes the information gained?**"
   ]
  },
  {
   "cell_type": "markdown",
   "metadata": {
    "slideshow": {
     "slide_type": "slide"
    }
   },
   "source": [
    "## The K-Means Project Reconsidered\n",
    "\n",
    "Let's analyze the grading provided by K-means more closely:\n",
    "\n",
    "- The k-means A (call it a k-A) cluster consisted of 24 Duke As\n",
    "- The k-B cluster consisted of 21 Duke As and 8 Duke Bs\n",
    "- The k-C cluster consisted of 23 Duke Bs\n",
    "- The k-D cluster consisted of 2 Duke Bs and 11 Duke Cs\n",
    "- The k-F cluster consisted of 5 Duke Ds and 1 Duke F\n",
    "\n",
    "Let's analyze the entropy of this partition, treating the Duke grades as labels and the K-means labels as clusters in a partition."
   ]
  },
  {
   "cell_type": "code",
   "execution_count": 9,
   "metadata": {
    "slideshow": {
     "slide_type": "slide"
    }
   },
   "outputs": [
    {
     "name": "stdout",
     "output_type": "stream",
     "text": [
      "The Entropy of the k-Means partition is 0.38520932674799657\n",
      "Information Gained is 1.7785624373147433\n",
      "For comparison, the overall purity of k-means partition ends up being .884\n"
     ]
    }
   ],
   "source": [
    "kA = [24/24]\n",
    "kB = [21/29, 8/29]\n",
    "kC = [23/23]\n",
    "kD = [11/13, 2/13]\n",
    "kF = [5/6, 1/6]\n",
    "\n",
    "partitionEntropy = (24/95)*entropy(kA)+ (29/95)*entropy(kB)+(23/95)*entropy(kC)+(13/95)*entropy(kD) + (6/95)*entropy(kF)\n",
    "print(\"The Entropy of the k-Means partition is \" + str(partitionEntropy))\n",
    "diff=entropy(kDistro)-partitionEntropy\n",
    "print(\"Information Gained is \"+ str(diff))\n",
    "print(\"For comparison, the overall purity of k-means partition ends up being .884\")"
   ]
  },
  {
   "cell_type": "markdown",
   "metadata": {
    "slideshow": {
     "slide_type": "slide"
    }
   },
   "source": [
    "## Digression on Information Theory and Entropy\n",
    "\n",
    "![Claude Shannon](Shannon_and_mouse.png)\n",
    "\n",
    "The definition of entropy using a sum (or integral) of $p_i\\log_2 p_i$ is due to [Claude Shannon (1916-2001)](https://en.wikipedia.org/wiki/Claude_Shannon) who apparently decided to call his quantity *entropy* after [John von Neumann](https://en.wikipedia.org/wiki/John_von_Neumann) encouraged him to use that word because \"nobody really knows that entropy really is.\" (Bishop, p.55). \n",
    "\n",
    "Shannon had a storied life after going to college at 16, inventing digital circuit theory in his master's thesis when he was 21, promoting that to a PhD thesis when he was 24, and then worked at Bell labs where he defined information-theoretic entropy and coined the word **bit**, which is the basis 0-or-1 unit of information, when he was 32.\n",
    "\n",
    "As you can read in [Bishop's book](https://www.springer.com/gp/book/9780387310732) on pages 48-58, you can think of **information** as the degree of surprise of learning the value of a random variable $X$. Moreover, if you observe two independent events $X=x$ and $X=y$ then you'd want the information associated to the this pair\n",
    "$$h(x,y)=h(x) + h(y)$$\n",
    "But since for independent events\n",
    "$$p(x,y)=p(x)p(y)$$\n",
    "then we can surmise that whatever information is, ***it has to turn products of events to sums, and hence it should be proportional to the logarithm:***\n",
    "$$h(x)=-\\log p(x)$$\n",
    "The negative sign makes sure this number is positive, since logarithms of numbers less than 1 is negative or undefined. Moreover, in order to make the limit of this function well defined as we move towards $p=0$ multiplying by $p$ makes the term $$p(x)\\log p(x)$$ well defined.\n",
    "\n",
    "Alternative notation to the function $E$ we've used above is the notation $H$. You will sometimes see information entropy defined for a discrete random variable $X$ and probability mass function $p(x)$, which is the probability of observing the outcome $X=x$, as follows:\n",
    "$$H[X] = -\\sum_{x} p(x) \\log_2 p(x)$$"
   ]
  },
  {
   "cell_type": "markdown",
   "metadata": {
    "slideshow": {
     "slide_type": "slide"
    }
   },
   "source": [
    "## Data Example\n",
    "\n",
    "Consider that you are provided with interviewee data, consisting of (per your specification) pairs (input, label), where each input is a dict of candidate attributes, and each label is either True (the candidate interviewed well) or False (the candidate interviewed poorly). In particular, you are provided with each candidate’s level, her preferred language, whether she is active on Twitter, and whether she has a PhD:"
   ]
  },
  {
   "cell_type": "code",
   "execution_count": 10,
   "metadata": {
    "slideshow": {
     "slide_type": "subslide"
    }
   },
   "outputs": [],
   "source": [
    "def class_probabilities(labels):\n",
    "    import collections as c\n",
    "    total_count = len(labels)\n",
    "    return [count / total_count for count in c.Counter(labels).values()]\n",
    "\n",
    "def data_entropy(labeled_data):\n",
    "    labels = [label for _, label in labeled_data]\n",
    "    probabilities = class_probabilities(labels)\n",
    "    return entropy(probabilities)"
   ]
  },
  {
   "cell_type": "code",
   "execution_count": 11,
   "metadata": {
    "slideshow": {
     "slide_type": "subslide"
    }
   },
   "outputs": [],
   "source": [
    "def partition_entropy(subsets):\n",
    "    \"\"\"find the entropy from this partition of data into subsets\"\"\"\n",
    "    total_count = sum(len(subset) for subset in subsets)\n",
    "    return sum( data_entropy(subset) * len(subset) / total_count for subset in subsets )"
   ]
  },
  {
   "cell_type": "code",
   "execution_count": 12,
   "metadata": {
    "slideshow": {
     "slide_type": "subslide"
    }
   },
   "outputs": [],
   "source": [
    "inputs = [({'level':'Senior', 'lang':'Java', 'tweets':'no', 'phd':'no'}, False),\n",
    " ({'level':'Senior', 'lang':'Java', 'tweets':'no', 'phd':'yes'}, False),\n",
    " ({'level':'Mid', 'lang':'Python', 'tweets':'no', 'phd':'no'}, True),\n",
    " ({'level':'Junior', 'lang':'Python', 'tweets':'no', 'phd':'no'}, True),\n",
    " ({'level':'Junior', 'lang':'R', 'tweets':'yes', 'phd':'no'}, True),\n",
    " ({'level':'Junior', 'lang':'R', 'tweets':'yes', 'phd':'yes'}, False),\n",
    " ({'level':'Mid', 'lang':'R', 'tweets':'yes', 'phd':'yes'}, True),\n",
    " ({'level':'Senior', 'lang':'Python', 'tweets':'no', 'phd':'no'}, False),\n",
    " ({'level':'Senior', 'lang':'R', 'tweets':'yes', 'phd':'no'}, True),\n",
    " ({'level':'Junior', 'lang':'Python', 'tweets':'yes', 'phd':'no'}, True),\n",
    " ({'level':'Senior', 'lang':'Python', 'tweets':'yes', 'phd':'yes'}, True),\n",
    " ({'level':'Mid', 'lang':'Python', 'tweets':'no', 'phd':'yes'}, True),\n",
    " ({'level':'Mid', 'lang':'Java', 'tweets':'yes', 'phd':'no'}, True),\n",
    " ({'level':'Junior', 'lang':'Python', 'tweets':'no', 'phd':'yes'}, False)\n",
    "]"
   ]
  },
  {
   "cell_type": "markdown",
   "metadata": {
    "slideshow": {
     "slide_type": "slide"
    }
   },
   "source": [
    "### ID3 Algorithm\n",
    "\n",
    "Let’s say we’re given some labeled data, and a list of attributes to consider branching on. Then the ID3(Iterative Dichotomiser 3) tree algorithm is:\n",
    "* If the data all have the same label, then create a leaf node that predicts that label and then stop.\n",
    "\n",
    "* If the list of attributes is empty (i.e., there are no more possible questions to ask), then create a leaf node that predicts the most common label and then stop.\n",
    "\n",
    "* Otherwise, try partitioning the data by each of the attributes\n",
    "\n",
    "* Choose the partition with the lowest partition entropy\n",
    "\n",
    "* Add a decision node based on the chosen attribute\n",
    "\n",
    "* Recur on each partitioned subset using the remaining attributes"
   ]
  },
  {
   "cell_type": "code",
   "execution_count": 13,
   "metadata": {
    "slideshow": {
     "slide_type": "subslide"
    }
   },
   "outputs": [],
   "source": [
    "def partition_by(inputs, attribute):\n",
    "    \"\"\"each input is a pair (attribute_dict, label). Returns a dict : attribute_value -> inputs\"\"\"\n",
    "    from collections import defaultdict\n",
    "    groups = defaultdict(list)\n",
    "    for input in inputs:\n",
    "        key = input[0][attribute] # get the value of the specified attribute\n",
    "        groups[key].append(input) # then add this input to the correct list\n",
    "    return groups"
   ]
  },
  {
   "cell_type": "code",
   "execution_count": 15,
   "metadata": {
    "slideshow": {
     "slide_type": "subslide"
    }
   },
   "outputs": [
    {
     "name": "stdout",
     "output_type": "stream",
     "text": [
      "level 0.6935361388961919\n",
      "lang 0.8601317128547441\n",
      "tweets 0.7884504573082896\n",
      "phd 0.8921589282623617\n"
     ]
    }
   ],
   "source": [
    "def partition_entropy_by(inputs, attribute):\n",
    "    \"\"\"computes the entropy corresponding to the given partition\"\"\"\n",
    "    partitions = partition_by(inputs, attribute)\n",
    "    return partition_entropy(partitions.values())\n",
    "for key in ['level','lang','tweets','phd']:\n",
    "    print(key, partition_entropy_by(inputs, key))"
   ]
  },
  {
   "cell_type": "markdown",
   "metadata": {
    "slideshow": {
     "slide_type": "slide"
    }
   },
   "source": [
    "### Example:\n",
    "The *lowest* entropy comes from splitting on level, so we’ll need to make a subtree for each possible level value. Every Mid candidate is labeled True, which means that the Mid subtree is simply a leaf node predicting True. For Senior candidates, we have a mix of Trues and Falses, so we need to split again:"
   ]
  },
  {
   "cell_type": "code",
   "execution_count": 16,
   "metadata": {
    "slideshow": {
     "slide_type": "subslide"
    }
   },
   "outputs": [
    {
     "name": "stdout",
     "output_type": "stream",
     "text": [
      "lang 0.4\n",
      "tweets 0.0\n",
      "phd 0.9509775004326938\n"
     ]
    }
   ],
   "source": [
    "senior_inputs = [(input, label) for input, label in inputs if input[\"level\"] == \"Senior\"]\n",
    "for key in ['lang', 'tweets', 'phd']:\n",
    "    print(key, partition_entropy_by(senior_inputs, key))"
   ]
  },
  {
   "cell_type": "markdown",
   "metadata": {
    "slideshow": {
     "slide_type": "slide"
    }
   },
   "source": [
    "### Example\n",
    "\n",
    "This shows us that our next split should be on tweets, which results in a zeroentropy partition. For these Senior-level candidates, “yes” tweets always result in True while “no” tweets always result in False. Finally, if we do the same thing for the Junior candidates, we end up splitting on phd, after which we find that no PhD always results in True and PhD always results in False."
   ]
  },
  {
   "cell_type": "markdown",
   "metadata": {
    "slideshow": {
     "slide_type": "subslide"
    }
   },
   "source": [
    "### Decision Tree for Hiring\n",
    "\n",
    "<center>\n",
    "    <img src=\"HireTree.png\" alt=\"Hiring Decisions\" width=\"500\"/>\n",
    "</center>"
   ]
  },
  {
   "cell_type": "markdown",
   "metadata": {
    "slideshow": {
     "slide_type": "slide"
    }
   },
   "source": [
    "### Overfitting\n",
    "\n",
    "Given how closely decision trees can fit themselves to their training data, they tend to go too deep into the tree and *overfit* the data. Consider the two trees given by the first and second half of our original input data:"
   ]
  },
  {
   "cell_type": "code",
   "execution_count": 17,
   "metadata": {
    "slideshow": {
     "slide_type": "subslide"
    }
   },
   "outputs": [],
   "source": [
    "def partition_by_2(inputs, attribute):\n",
    "    from collections import defaultdict\n",
    "    groups = defaultdict(list)\n",
    "    for input in inputs[:len(inputs)//2]:\n",
    "        key = input[0][attribute] # get the value of the specified attribute\n",
    "        groups[key].append(input) # then add this input to the correct list\n",
    "    return groups"
   ]
  },
  {
   "cell_type": "code",
   "execution_count": 18,
   "metadata": {
    "slideshow": {
     "slide_type": "subslide"
    }
   },
   "outputs": [
    {
     "name": "stdout",
     "output_type": "stream",
     "text": [
      "level 0.3935553574519241\n",
      "lang 0.3935553574519241\n",
      "tweets 0.9649839288804956\n",
      "phd 0.8571428571428572\n"
     ]
    }
   ],
   "source": [
    "def partition_entropy_by_2(inputs, attribute):\n",
    "    partitions = partition_by_2(inputs, attribute)\n",
    "    return partition_entropy(partitions.values())\n",
    "for key in ['level','lang','tweets','phd']:\n",
    "    print(key, partition_entropy_by_2(inputs, key))"
   ]
  },
  {
   "cell_type": "code",
   "execution_count": 19,
   "metadata": {
    "slideshow": {
     "slide_type": "subslide"
    }
   },
   "outputs": [],
   "source": [
    "def partition_by_3(inputs, attribute):\n",
    "    from collections import defaultdict\n",
    "    groups = defaultdict(list)\n",
    "    for input in inputs[len(inputs)//2:]:\n",
    "        key = input[0][attribute] # get the value of the specified attribute\n",
    "        groups[key].append(input) # then add this input to the correct list\n",
    "    return groups"
   ]
  },
  {
   "cell_type": "code",
   "execution_count": 20,
   "metadata": {
    "slideshow": {
     "slide_type": "subslide"
    }
   },
   "outputs": [
    {
     "name": "stdout",
     "output_type": "stream",
     "text": [
      "level 0.6792696431662097\n",
      "lang 0.6935361388961919\n",
      "tweets 0.3935553574519241\n",
      "phd 0.8571428571428572\n"
     ]
    }
   ],
   "source": [
    "def partition_entropy_by_3(inputs, attribute):\n",
    "    \"\"\"computes the entropy corresponding to the given partition\"\"\"\n",
    "    partitions = partition_by_3(inputs, attribute)\n",
    "    return partition_entropy(partitions.values())\n",
    "for key in ['level','lang','tweets','phd']:\n",
    "    print(key, partition_entropy_by_3(inputs, key))"
   ]
  },
  {
   "cell_type": "markdown",
   "metadata": {
    "slideshow": {
     "slide_type": "slide"
    }
   },
   "source": [
    "### Overfitting\n",
    "\n",
    "Even though there is some overlap, these two trees give two different classifications, i.e., level and language vs tweets. Therefore, some people will use information from several trees in order to further improve our results. One way of doing this is a technique called **random forests**, in which we build multiple decision trees and let them vote on how to classify inputs."
   ]
  },
  {
   "cell_type": "markdown",
   "metadata": {
    "slideshow": {
     "slide_type": "slide"
    }
   },
   "source": [
    "### Resources\n",
    "\n",
    "* https://bricaud.github.io/personal-blog/entropy-in-decision-trees/\n",
    "* https://towardsdatascience.com/entropy-how-decision-trees-make-decisions-2946b9c18c8\n",
    "* http://backspaces.net/temp/Ebooks/DataScienceFromScratch/Data_Science_from_Scratch.pdf"
   ]
  }
 ],
 "metadata": {
  "celltoolbar": "Slideshow",
  "kernelspec": {
   "display_name": "Python 3",
   "language": "python",
   "name": "python3"
  },
  "language_info": {
   "codemirror_mode": {
    "name": "ipython",
    "version": 3
   },
   "file_extension": ".py",
   "mimetype": "text/x-python",
   "name": "python",
   "nbconvert_exporter": "python",
   "pygments_lexer": "ipython3",
   "version": "3.7.4"
  }
 },
 "nbformat": 4,
 "nbformat_minor": 2
}
