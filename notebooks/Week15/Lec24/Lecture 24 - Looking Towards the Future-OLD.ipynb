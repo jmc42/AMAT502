{
 "cells": [
  {
   "cell_type": "markdown",
   "metadata": {
    "slideshow": {
     "slide_type": "slide"
    }
   },
   "source": [
    "# AMAT 502: Modern Computing for Mathematicians\n",
    "## Lecture 24 - Looking Towards the Future: \n",
    "### A Holistic View of Data Science and the Challenges of Non-linearity\n",
    "### University at Albany SUNY"
   ]
  },
  {
   "cell_type": "markdown",
   "metadata": {
    "slideshow": {
     "slide_type": "slide"
    }
   },
   "source": [
    "# Topics for Today\n",
    "\n",
    "- Final Project Details\n",
    "- \"What is Data Science?\" Revisited\n",
    "- The Importance of Good communication and **visualization**\n",
    "- Fundamental Challenges in Data Science: The Road to TDA"
   ]
  },
  {
   "cell_type": "markdown",
   "metadata": {
    "slideshow": {
     "slide_type": "slide"
    }
   },
   "source": [
    "# FINAL PROJECT DETAILS\n",
    "\n",
    "## Final Project Proposal (5 pts)\n",
    "\n",
    "As a reminder, you must send me a 1-2 page PDF where\n",
    "\n",
    "- You describe the data set and provide a link to where I can find it online. Additionally,\n",
    "    1. State the number of samples (e.g. rows) in your data set\n",
    "    2. State how many numerical variables there are\n",
    "    3. State how many categorical (i.e. non-numerical) variables there are and whether any of these variables can be viewed numerically. For example, education level (high school, college, masters, etc.) is traditionally viewed as a categorical feature, but it can also be viewed as a proxy for number of years of education.\n",
    "    4. Finally, if there is a clearly identified target column for a prediction task, say what it is.\n",
    "- Write two-to-three paragraphs---per person, if you're working in a team---where each paragraph\n",
    "    1. identifies a unique question you want to investigate on your dataset, and\n",
    "    2. identifies a machine learning method---introduced in this class---for tackling your question of interest. \n",
    "    \n",
    "Your proposal should be as specific as possible in describing a first attempt in applying your method to your question. For example, don't just say you want to identify clusters using K-Means. Instead, state explicitly what features you're going to try to cluster on and how you're going to evaluate the quality of your clustering. For another example, don't just say you're going to use decision trees on your data set. Instead, say what target value you're trying to predict and what features you're going to use to train your decision tree on. Identify any pre-processing steps or feature engineering you might need to do.\n",
    "\n"
   ]
  },
  {
   "cell_type": "markdown",
   "metadata": {
    "slideshow": {
     "slide_type": "slide"
    }
   },
   "source": [
    "## Final Presentation Grading Rubric (20 pts)\n",
    "\n",
    "Before the end of finals (i.e. Wednesday, May 10th, 2023) you must send me a video of you (and your partner, if you have one) delivering a slideshow presentation that is 10-20 minutes long.\n",
    "\n",
    "I will grade each presenter individually using the following 20 point rubric:\n",
    "\n",
    "1. **Timeliness (2 pts):** Did you speak enough as an individual? 5 minutes is too little, 8-10 minutes is ideal, 12 minutes is too much.\n",
    "2. **Motivation (2 pts):** Did you articulate a clear reason why you were interested in this dataset and the questions you investigated? Why should other people care? Is there clear intellectual merit or broader impacts to your project, e.g. does your project address a tough technical/theoretical challenge or does it help with some societal outcome? Or would your project be of financial interest for some company?\n",
    "3. **Professionalism and Design (2 pts):** Was it clear that you rehearsed your presentation and took care in designing your slides to be delivered in a high-stakes professional setting? Would you be proud to deliver this presentation to your boss or CEO? Were there parts of your presentation that a non-technical audience could appreciate it, but did you also come off sounding like an expert?\n",
    "4. **Introducing and Exploring the Dataset with Elementary Statistics (2 pts):** How did you explore your data set? Did you run any initial summary statistics to identify correlations or trends in the dataset, e.g. with histograms, an all-pairs plot, or a correlation matrix? Did you explain the features of the dataset and how you began to formulate your questions about the dataset?\n",
    "5. **Data Visualizations (2 pts):** Overall, how nice were your data visuals? Did you title and label appropriately? Did you use colors effectively? Are your confusion matrices displayed with a heat map? Are your decesion trees readable?\n",
    "6. **Pre-Processing or Feature Engineering (2 pts):** Explain if you had to do any pre-processing on your dataset, and if so, what you did. Did you do any feature engineering? Any preparation you had to do apply your method counts here, including dropping columns, identifying target variables, running train-test-split or k-fold cross validation.\n",
    "7. **Use of Machine Learning Methods (6=2x3 pts):** Did you use at least two different machine learning methods? For each method did you\n",
    "    - **Summarize the method briefly,** including it's type (supervised versus unsupervised), **and how you applied it to your specific data set.** For example, what features did you use to cluster on? Or, what was your target regression/classification task and what variables did you use to achieve this task?\n",
    "    - Did you **evaluate the efficacy** of your method? For classification, what was your accuracy? For regression, what was your R^2 score or mean squared error? For clustering, what was the silhouette score, rand score, or purity? For PCA, what was the percent variance explained?\n",
    "    - Did you **vary hyperparameters in your model** to get better predictions? For KNN/K-Means, did you vary k and did you use the elbow method? For SVM, did you use different types of kernels? For regression, did you vary the degree of the polynomial?\n",
    "8. **Interpret your results (2 pts):** Did your results make sense in the context of the original data set? What conclusions did you draw? What recommendations could you make? Imagine you're a scientist and you're trying to interpret your findings for a broader audience. Or imagine you're trying to recommend a specific course of action for your boss and company!"
   ]
  },
  {
   "cell_type": "markdown",
   "metadata": {
    "slideshow": {
     "slide_type": "slide"
    }
   },
   "source": [
    "# What is Data Science? Redux!\n",
    "\n",
    "In the very first lecture, I introduced [Drew Conway's Venn Diagram for Data Science](http://drewconway.com/zia/2013/3/26/the-data-science-venn-diagram).\n",
    "\n",
    "Really this diagram describes what *skills* a data scientist should have. \n",
    "\n",
    "![Data Science Venn Diagram](Data_Science_VD.png)\n"
   ]
  },
  {
   "cell_type": "markdown",
   "metadata": {
    "slideshow": {
     "slide_type": "slide"
    }
   },
   "source": [
    "## The \"Science\" in \"Data Science\"\n",
    "\n",
    "Aside from skills, one should try to understand the end goal or purpose of data science.\n",
    "\n",
    "Joel Grus, author of [Data Science From Scratch](https://joelgrus.com/2019/05/13/data-science-from-scratch-second-edition/), says \n",
    "> \"a data scientist is one who ***turns data into insight.***\"\n",
    "\n",
    "However \"insight\" is just a vague synonym for \"science\". \n",
    "\n",
    "The term ***science*** is important to understand. It has the Proto-Indo-European root **skei**, which means *to cut.*\n",
    "\n",
    "Indeed, the notion that a scientist \"cuts\" agrees with the scientist-as-butcher metaphor in [Plato's Phaedrus](http://classics.mit.edu/Plato/phaedrus.html), which encourages us to\n",
    "\n",
    "> 1. \"Comprehend scattered particulars with one idea\"\n",
    "> 2. \"Divide species according to the natural formation, where the joint is, not breaking any part as a bad carver might.\"\n",
    "\n",
    "**In science we attempt *to know*---to cut truth away from un-truth---in practical, applied settings.**"
   ]
  },
  {
   "cell_type": "markdown",
   "metadata": {
    "slideshow": {
     "slide_type": "slide"
    }
   },
   "source": [
    "## Data Science as Value Extraction\n",
    "\n",
    "However, what makes Harvard Business Review call Data Science [\"the sexiest job of the 21st century\"](https://hbr.org/2012/10/data-scientist-the-sexiest-job-of-the-21st-century) is not the simple act of knowledge acquisition. It's about something else depicted in [this art piece](https://trendland.com/one-billion-dollar-art-piece/):\n",
    "\n",
    "![One Billion USD in Cash](one-billion-cash.jpg)\n",
    "\n",
    "Data Science's surge in importance and popularity is more accurately captured by Hal Varian, chief economist at Google and UC Berkeley professor, who said \n",
    "> “The ability to take data — to be able to understand it, to process it, ***to extract value from it,*** to visualize it, to communicate it — that’s going to be a hugely important skill in the next decades.” [Berkeley's \"What is Data Science?\"](https://datascience.berkeley.edu/about/what-is-data-science/)\n"
   ]
  },
  {
   "cell_type": "markdown",
   "metadata": {
    "slideshow": {
     "slide_type": "slide"
    }
   },
   "source": [
    "## Examples of Value Extraction\n",
    "\n",
    "This perspective of data-science-as-value-extraction is well documented in [this article](https://www.thinkful.com/blog/what-is-data-science/), which notes that\n",
    "\n",
    "1. Southwest Airlines saved **100 Million US Dollars**  by using data science to reduce the time its planes stood idle on the tarmac.\n",
    "2. UPS used data science to save **39 Million Gallons of Gas/Petrol** by optimizing how it routed deliveries.\n",
    "3. The IRS has re-captured **2 Billion US Dollars** in tax revenue by writing programs that could automatically detect identity fraud or improper payment.\n"
   ]
  },
  {
   "cell_type": "markdown",
   "metadata": {
    "slideshow": {
     "slide_type": "slide"
    }
   },
   "source": [
    "## A Business-Focused Data Science Venn Diagram\n",
    "\n",
    "The [focus on value extraction in data science](https://www.innoarchitech.com/blog/what-is-data-science-does-data-scientist-do) suggests that perhaps we should [redraw the data science Venn diagram](http://rpubs.com/ptherond/DSc_Venn) to focus on the importance of business savvy:\n",
    "\n",
    "<img src=\"business-data-science-diagram.png\" style=\"width:1140px;height:814px;\">"
   ]
  },
  {
   "cell_type": "markdown",
   "metadata": {
    "slideshow": {
     "slide_type": "slide"
    }
   },
   "source": [
    "## Getting the Data Science Job\n",
    "\n",
    "For employers, the term \"data scientist\" is vague. It can run the gamut of machine learning expert to a software engineer who knows a lot of math.\n",
    "\n",
    "For compensation, places like [levels.fyi](https://levels.fyi) can be very useful, but there is [specific link to \"Data Science\" salaries](https://www.levels.fyi/comp.html?track=Data%20Scientist)\n",
    "\n",
    "However, if one of these jobs is your goal, you should know there is ***a lot* of outside work that you need to do.** Getting books like [Cracking the Coding Interview](http://www.crackingthecodinginterview.com/) can be useful. This is where I got this one year prep chart:\n",
    "\n",
    "![One Year Prep Page 1](1year-prep-pg1.png)\n",
    "\n",
    "![One Year Prep Page 2](1year-prep-pg2.png)"
   ]
  },
  {
   "cell_type": "markdown",
   "metadata": {
    "slideshow": {
     "slide_type": "slide"
    }
   },
   "source": [
    "## The Importance of Good Communication\n",
    "\n",
    "Whether you go to work in Big Tech, a small startup, a hedge fund, a bank or government agency, you will need to interact with people with less technical know-how than you and convince them of your importance and your ability to guide decision-making.\n",
    "\n",
    "70% of the human brain's sensory processing capability is focused on visual input. We are inherently visual creatures and visualizing data is an art, but making sure you know [the practical aspects of matplotlib](https://jakevdp.github.io/PythonDataScienceHandbook/04.00-introduction-to-matplotlib.html) will go a long way.\n",
    "\n",
    "### Edward Tufte --- Cult Hero of Data Graphic Design\n",
    "\n",
    "This is why people like the Yale statistician and artist, **Edward Tufte**, have become famous for their theories on what makes for good communication of data.\n",
    "\n",
    "Some of you may know Tufte for popularizing [this graphic depiction of Napolean's Failed Invasion of Russia](https://www.edwardtufte.com/tufte/minard) where he called it \n",
    "> \"one of the best statistical drawings ever made\" \n",
    "Edward Tufte on [Analyzing Minard's Visualization Of Napoleon's 1812 March](https://thoughtbot.com/blog/analyzing-minards-visualization-of-napoleons-1812-march)\n",
    "\n",
    "![Napolean's March to Russia](napolean.gif)\n",
    "\n",
    "### More on Tufte\n",
    "\n",
    "Tufte was hired by Princeton University’s Woodrow Wilson School, where he taught courses in political economy and data analysis while publishing three quantitatively inclined political science books.\n",
    "\n",
    "In 1975, while at Princeton, Tufte was asked to teach a statistics course to a group of journalists who were visiting the school to study economics. He developed a set of readings and lectures on statistical graphics, which he further developed in joint seminars he taught with renowned statistician John Tukey, a pioneer in the field of information design. These course materials became the foundation for his first book on information design, [The Visual Display of Quantitative Information](https://www.edwardtufte.com/tufte/books_vdqi).\n",
    "\n",
    "![The Visual Display of Quantitative Knowledge](vdqi_bookcover.gif)\n",
    "\n",
    "### One-Day Courses with Tufte\n",
    "\n",
    "In fact, you might consider [taking a one-day course with Tufte](https://www.edwardtufte.com/tufte/courses), next time he is in NYC or Boston. The fee for full time students is only 240 USD, and you get the following 4 books:\n",
    "\n",
    "![Tufte 4 Books](tufte-4-books.jpg)\n",
    "\n",
    "\n",
    "### Other Books on Good Graphic Design\n",
    "\n",
    "There are of course other books, such as Stephen Few's [Show Me The Numbers](http://www.stephen-few.com/smtn.php) which offers guidance on good graph design."
   ]
  },
  {
   "cell_type": "markdown",
   "metadata": {
    "slideshow": {
     "slide_type": "slide"
    }
   },
   "source": [
    "## Beyond Profit Motive: Knowledge and Engineering\n",
    "\n",
    "However, data science is not supposed to be entirely about making people richer. Rather, it is about ***uncovering patterns in data***, which is what every experimental scientist must do. \n",
    "\n",
    "After all, when does a scientist *not* need to use some aspect of\n",
    "\n",
    "- Regression\n",
    "- Classification\n",
    "- Clustering\n",
    "- Dimensionality Reduction\n",
    "    \n",
    "in order to better understand their data? Experimental scientists give us knowledge about the world, which is inherently a good thing. Better data science techniques allow us to squeeze more information out of our data."
   ]
  },
  {
   "cell_type": "markdown",
   "metadata": {
    "slideshow": {
     "slide_type": "slide"
    }
   },
   "source": [
    "## Data Science: a Blend of Science and Engineering\n",
    "\n",
    "Often a data science method can emerge directed towards, perhaps, an uninspiring engineering application: \n",
    ">*How can I automatically separate images on the internet based on whether they contain a picture of a dog or not?*\n",
    "\n",
    "However those tools, properly shared, can also be put to use to address more pressing problems:\n",
    ">*How can I take an MRI scan of a tumor and automatically determine if it is cancerous or not?*\n",
    "\n",
    "Indeed, what culturally separates a scientist from an engineer is the degree to which one focuses on **empirical questions**, such as\n",
    ">\"What is the case?\" \n",
    "\n",
    "versus **imperative questions**, such as\n",
    ">\"How do I accomplish the task?\"\n",
    "\n",
    "but these questions are inextricably linked by the epistemological question \n",
    ">\"How do I know what is the case?\"\n",
    "\n",
    "In our example above, if our image classification algorithm predicts that a tumor is cancerous, then we have learned something empirical that separates cancerous tumors from non-cancerous ones. \n",
    "\n",
    "From these effects (the shape) we can try to infer their causes (mutation of which gene)."
   ]
  },
  {
   "cell_type": "markdown",
   "metadata": {
    "slideshow": {
     "slide_type": "slide"
    }
   },
   "source": [
    "## Fundamental Challenges in Data Science\n",
    "\n",
    "In this course, we only managed to include a brief introduction to neural networks. Despite the unreasonable effectiveness of neural networks in classification problems, we don't fully understand why they work. Indeed, [mathematicians are actively trying to prove theorems about neural networks](https://youtu.be/9kzyNLC3SoE) so that we can better understand their limits and their internal mechanisms.\n",
    "\n",
    "If you go to [TensorFlow's Neural Net Playground](https://playground.tensorflow.org/#activation=tanh&batchSize=10&dataset=circle&regDataset=reg-plane&learningRate=0.03&regularizationRate=0&noise=0&networkShape=4,2&seed=0.43663&showTestData=false&discretize=false&percTrainData=50&x=true&y=true&xTimesY=false&xSquared=false&ySquared=false&cosX=false&sinX=false&cosY=false&sinY=false&collectStats=false&problem=classification&initZero=false&hideText=false)\n",
    "you can see how much better this neural network does on classifying radially separated points, rather than spirally separated points.\n",
    "\n",
    "![Tensor Flow Radial Example](TF-radial.png)\n",
    "\n",
    "![Tensor Flow Spiral Example](TF-swiss-roll.png)"
   ]
  },
  {
   "cell_type": "markdown",
   "metadata": {
    "slideshow": {
     "slide_type": "slide"
    }
   },
   "source": [
    "## Dealing with Non-Linearities\n",
    "\n",
    "The above examples show that one of the best methods in machine learning---neural networks---can struggle when data has interesting shape. This happens when the data has latent structure that is hard to simplify.\n",
    "\n",
    "Perhaps one of the most famous example of a \"non-linear data set\"---one where, for example, the \"true\" distance between points is not linearly related to distance in the ambient space---is the **Swiss Roll Data Set**.\n",
    "\n",
    "One of the best methods for handling non-linearly embedded data is a dimensionality reduction technique called `ISOMAP`, which was developed in 2000 by Josh Tenenbaum, Vin de Silva (an unofficial mentor of mine), and John Langford in [A Global Geometric Framework for Nonlinear Dimensionality Reduction](https://web.mit.edu/cocosci/Papers/sci_reprint.pdf). \n",
    "\n",
    "**ISOMAP has been cited 12,726 times** in its less than 20 year history, which can be compared with Watson and Crick's 1953 article on the helix structure of DNA, which according to Google, has **only been cited 13,372 times in over 60 years.**\n",
    "\n",
    "ISOMAP should be compared with methods like \n",
    "- Local Linear Embedding (LLE) \n",
    "- Multidimensional Scaling (MDS)\n",
    "- Laplacian Eigenmaps\n",
    "\n",
    "Notice how a technique like PCA would fail on a data set like the one shown below.\n",
    "\n",
    "![Isomap Swiss Roll Analysis](Isomap-Swiss-Roll.png)"
   ]
  },
  {
   "cell_type": "code",
   "execution_count": 2,
   "metadata": {
    "slideshow": {
     "slide_type": "slide"
    }
   },
   "outputs": [
    {
     "name": "stderr",
     "output_type": "stream",
     "text": [
      "/opt/anaconda3/lib/python3.7/site-packages/ipykernel_launcher.py:31: UserWarning: Matplotlib is currently using module://ipykernel.pylab.backend_inline, which is a non-GUI backend, so cannot show the figure.\n"
     ]
    },
    {
     "data": {
      "image/png": "[encoded data removed]",
      "text/plain": [
       "<Figure size 432x288 with 2 Axes>"
      ]
     },
     "metadata": {
      "needs_background": "light"
     },
     "output_type": "display_data"
    }
   ],
   "source": [
    "import matplotlib.pyplot as plt\n",
    "import numpy as np\n",
    "import seaborn as sns\n",
    "from sklearn.datasets import make_swiss_roll\n",
    "from sklearn.manifold import Isomap\n",
    "\n",
    "# common plot formatting for below\n",
    "def format_plot(ax, title):\n",
    "    ax.xaxis.set_major_formatter(plt.NullFormatter())\n",
    "    ax.yaxis.set_major_formatter(plt.NullFormatter())\n",
    "    ax.set_xlabel('feature 1', color='gray')\n",
    "    ax.set_ylabel('feature 2', color='gray')\n",
    "    ax.set_title(title, color='gray')\n",
    "\n",
    "# make data\n",
    "X, y = make_swiss_roll(200, noise=0.5, random_state=42)\n",
    "X = X[:, [0, 2]]\n",
    "\n",
    "model = Isomap(n_neighbors=8, n_components=1)\n",
    "y_fit = model.fit_transform(X).ravel()\n",
    "\n",
    "# visualize data\n",
    "fig, ax = plt.subplots()\n",
    "pts = ax.scatter(X[:, 0], X[:, 1], c=y_fit, cmap='viridis', s=30)\n",
    "cb = fig.colorbar(pts, ax=ax)\n",
    "\n",
    "# format the plot\n",
    "format_plot(ax, 'Learned Latent Parameter')\n",
    "cb.set_ticks([])\n",
    "cb.set_label('Latent Variable', color='gray')\n",
    "fig.show()\n",
    "\n",
    "#fig.savefig('figures/05.01-dimesionality-2.png')"
   ]
  },
  {
   "cell_type": "markdown",
   "metadata": {
    "slideshow": {
     "slide_type": "slide"
    }
   },
   "source": [
    "## Connecting Points at Varying Scales\n",
    "\n",
    "Implicit in the algorithm for ISOMAP is picking a scale at which to connect points, so as to infer the \"true\" shape of the data. However, we often can't say for certain what scale is the \"true\" scale.\n",
    "\n",
    "One benefit of **single linkage clustering (SLC)** is that it studies how to connect points at varying scales. Although there are variants, such as average linkage clustering and complete linkage clustering that you should be aware of.\n",
    "\n",
    "![SLC](SLC.png)\n"
   ]
  },
  {
   "cell_type": "markdown",
   "metadata": {
    "slideshow": {
     "slide_type": "slide"
    }
   },
   "source": [
    "## Topological Data Analysis: A New Approach to Clustering\n",
    "\n",
    "[A lot of notions of clustering](https://towardsdatascience.com/tda-to-rule-them-all-tomato-clustering-878e03394a1), [but not all](https://arxiv.org/pdf/1011.5270.pdf) can be viewed as special cases of methods coming from **topological data analysis (TDA)**.\n",
    "\n",
    "One of the main methods of TDA is **persistent homology**, which you can get a quick [YouTube introduction to](https://youtu.be/2PSqWBIrn90).\n",
    "\n",
    "In persistence, we can extend SLC to the sublevel sets of any function. We can summarize the way components merge via the merge tree, [which can be translated into the **barcode** or **persistence Diagram**](https://arxiv.org/abs/1706.06059)\n",
    "\n",
    "![Merge Tree to Barcode](fun-merge-pers-7.png)\n",
    "\n",
    "![Barcode and PD](fun-barcode-pd.png)"
   ]
  },
  {
   "cell_type": "markdown",
   "metadata": {
    "slideshow": {
     "slide_type": "slide"
    }
   },
   "source": [
    "## Persistent Topology (not Topography!)\n",
    "\n",
    "We can of course study height functions on higher dimensional base spaces and persistent homology also offers a ***simplification procedure*** that [compresses out unnecessary fluctuations](https://arxiv.org/abs/1001.1269)\n",
    "\n",
    "![Topo Map](topo-map.png)"
   ]
  },
  {
   "cell_type": "markdown",
   "metadata": {
    "slideshow": {
     "slide_type": "slide"
    }
   },
   "source": [
    "## Topology of Data\n",
    "\n",
    "Topological summaries allow us to compress a lot of information that is independent of stretching. It provides a new set of techniques under *unsupervised learning*. \n",
    "\n",
    "Topology also encourages us to think abstractly about shapes, so that commonalities that might have otherwise gone unnoticed are registered as important features of the data.\n",
    "\n",
    "![Reeb Graph Simplification](Reeb-Graph-Simplification.png)\n",
    "\n",
    "From Hajij and Rosen [AN EFFICIENT DATA RETRIEVAL PARALLEL REEB GRAPH ALGORITHM](https://arxiv.org/abs/1810.08310)\n",
    "\n"
   ]
  },
  {
   "cell_type": "markdown",
   "metadata": {
    "slideshow": {
     "slide_type": "slide"
    }
   },
   "source": [
    "## More References\n",
    "\n",
    "Of course, [here at UAlbany](https://www.albany.edu/graduatebulletin/data_science_ms_degree.php) we're lucky that we have a program that gives extensive theoretical training in\n",
    "\n",
    "- Statistics\n",
    "    - 554 - Introduction to Theory of Statistics I\n",
    "    - 565 - Applied Statistics\n",
    "    - 581 - Nonparametric Statistics\n",
    "    - 582 - Computational Methods in Statistical Inference\n",
    "- Topological Data Analysis:\n",
    "    - 583 - Intro to TDA\n",
    "    - 584 - Advanced Topics in TDA\n",
    "    - 585 - Practicum in TDA\n",
    "- Machine Learning:\n",
    "    - 590 - Function Theory and Functional Analysis for Applications (3 credits)\n",
    "        - Being replaced with 587 (Math for Machine Learning) in Fall 2023!\n",
    "    - 591 - Optimization Methods and Nonlinear Programming (3 credits)\n",
    "    - 592 - Machine Learning (3 credits)\n",
    "    - 593 - Practicum in ML\n",
    "\n",
    "I am most experienced with the TDA track above, so see this [recent Medium article](https://towardsdatascience.com/persistent-homology-with-examples-1974d4b9c3d0) or come speak to me after class, if you're interested in learning more about how ***Topology is the Ultimate Non-Linear Data Analysis Toolkit***"
   ]
  },
  {
   "cell_type": "code",
   "execution_count": null,
   "metadata": {},
   "outputs": [],
   "source": []
  }
 ],
 "metadata": {
  "celltoolbar": "Slideshow",
  "kernelspec": {
   "display_name": "Python 3",
   "language": "python",
   "name": "python3"
  },
  "language_info": {
   "codemirror_mode": {
    "name": "ipython",
    "version": 3
   },
   "file_extension": ".py",
   "mimetype": "text/x-python",
   "name": "python",
   "nbconvert_exporter": "python",
   "pygments_lexer": "ipython3",
   "version": "3.7.4"
  }
 },
 "nbformat": 4,
 "nbformat_minor": 2
}
