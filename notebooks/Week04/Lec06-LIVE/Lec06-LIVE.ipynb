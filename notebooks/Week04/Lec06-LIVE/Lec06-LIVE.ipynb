{
 "cells": [
  {
   "cell_type": "markdown",
   "metadata": {},
   "source": [
    "# Lecture 6 Live Exercises\n",
    "\n",
    "In lecture we talked about\n",
    "- Lists\n",
    "- Tuples\n",
    "- Sets\n",
    "- Dictionaries\n",
    "- Edit Distances\n",
    "    - Hamming\n",
    "    - Levenshtein"
   ]
  },
  {
   "cell_type": "markdown",
   "metadata": {},
   "source": [
    "**Exercise 1:** Write a function `count_overlapping(intervals,point)` takes in a list of closed intervals `[[a_0,b_0],[a_1,b_1],...]` and a value `point` and outputs how many of the closed intervals contain the point."
   ]
  },
  {
   "cell_type": "code",
   "execution_count": null,
   "metadata": {},
   "outputs": [],
   "source": []
  },
  {
   "cell_type": "markdown",
   "metadata": {},
   "source": [
    "**Exercise 2:** Write a function `makeDict(n)` that takes an integer input `n` and makes a dictionary that whose keys are the the strings `'key1'`, `'key2'`,...,`'keyn'` and whose values are integers `n`, `n-1` and so on. In general `keyi` should have value `n-i`."
   ]
  },
  {
   "cell_type": "code",
   "execution_count": 7,
   "metadata": {},
   "outputs": [],
   "source": []
  },
  {
   "cell_type": "markdown",
   "metadata": {},
   "source": [
    " **Exercise 3:** How might you generalize the Hamming distance, let's call it the **substitution distance** between two strings of unequal length?"
   ]
  },
  {
   "cell_type": "code",
   "execution_count": null,
   "metadata": {},
   "outputs": [],
   "source": []
  },
  {
   "cell_type": "markdown",
   "metadata": {},
   "source": [
    "**Exercise 4:** Write a function that takes in a list of lists of equal length and then produces their *average* list, i.e. this is a list where the entry in index `[i]` is the average of all the given entries in index `[i]`."
   ]
  },
  {
   "cell_type": "code",
   "execution_count": null,
   "metadata": {},
   "outputs": [],
   "source": []
  },
  {
   "cell_type": "markdown",
   "metadata": {},
   "source": [
    "**Exercise 5: Challenge** Write a function that takes in a list of 3 numbers and returns a list of all possible permutations of that list.\n",
    "\n",
    "You can do this by brute force and but also try using recursion. If you figure out a recursive solution, try to make it work for a list of $n$ numbers."
   ]
  },
  {
   "cell_type": "code",
   "execution_count": null,
   "metadata": {},
   "outputs": [],
   "source": []
  },
  {
   "cell_type": "markdown",
   "metadata": {},
   "source": [
    "**Exercise 5 BONUS:** Using the function from **Exercise 4 Challenge** can you compose these functions to compute the average of a list under all of it's permutations?"
   ]
  },
  {
   "cell_type": "code",
   "execution_count": null,
   "metadata": {},
   "outputs": [],
   "source": []
  }
 ],
 "metadata": {
  "kernelspec": {
   "display_name": "Python 3",
   "language": "python",
   "name": "python3"
  },
  "language_info": {
   "codemirror_mode": {
    "name": "ipython",
    "version": 3
   },
   "file_extension": ".py",
   "mimetype": "text/x-python",
   "name": "python",
   "nbconvert_exporter": "python",
   "pygments_lexer": "ipython3",
   "version": "3.7.4"
  }
 },
 "nbformat": 4,
 "nbformat_minor": 2
}
