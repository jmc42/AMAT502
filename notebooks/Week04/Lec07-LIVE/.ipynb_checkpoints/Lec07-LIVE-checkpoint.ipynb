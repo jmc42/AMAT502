{
 "cells": [
  {
   "cell_type": "markdown",
   "metadata": {},
   "source": [
    "# Lecture 7 Live Exercises\n",
    "\n",
    "In lecture we talked about\n",
    "- \"One-Liners\" with Lists \n",
    "    - Slice Notation\n",
    "    - List Comprehension\n",
    "    - The `lambda` Function\n",
    "    - The `map` Function\n",
    "- Intro to Object Oriented Programming\n",
    "    - Attributes and Methods\n",
    "    - The `__init__` function\n",
    "    - The role of `self`"
   ]
  },
  {
   "cell_type": "markdown",
   "metadata": {},
   "source": [
    "## Question 1 on Slice Notation\n",
    "### Question1: Part A \n",
    "\n",
    "Using just one line of a Python code, reverse the string `\"Was it a cat I saw\"`"
   ]
  },
  {
   "cell_type": "code",
   "execution_count": 1,
   "metadata": {},
   "outputs": [],
   "source": [
    "s=\"Was it a cat I saw\"\n"
   ]
  },
  {
   "cell_type": "markdown",
   "metadata": {},
   "source": [
    "### Question 1: Part B \n",
    "\n",
    "Using methods from Lecture 5, remove spaces and capitalization and write a function that returns `TRUE` if the string is a palindrome and `FALSE` otherwise."
   ]
  },
  {
   "cell_type": "code",
   "execution_count": null,
   "metadata": {},
   "outputs": [],
   "source": []
  },
  {
   "cell_type": "markdown",
   "metadata": {},
   "source": [
    "## Question 2 on List Comprehension\n",
    "### Question 2: Part A\n",
    "\n",
    "Using list comphrension, use one line of Python code to produce a list of integers $n$ between 0 and 15 (inclusive) if and only if the $n^2-2n + 1$ is divisible by 3."
   ]
  },
  {
   "cell_type": "code",
   "execution_count": null,
   "metadata": {},
   "outputs": [],
   "source": []
  },
  {
   "cell_type": "markdown",
   "metadata": {},
   "source": [
    "### Question 2: Part B \n",
    "Store the corresponding numbers of the form $n^2-2n + 1$ that are divisble by 3 for n between 0 and 15, inclusive."
   ]
  },
  {
   "cell_type": "code",
   "execution_count": null,
   "metadata": {},
   "outputs": [],
   "source": []
  },
  {
   "cell_type": "markdown",
   "metadata": {},
   "source": [
    "### Question 2: Part C \n",
    "Use list comprehension to create a list of tuples $(n,n^2-2n + 1)$ for those n between 0 and 15 where $n^2-2n + 1$ is divisble by 3."
   ]
  },
  {
   "cell_type": "code",
   "execution_count": null,
   "metadata": {},
   "outputs": [],
   "source": []
  },
  {
   "cell_type": "markdown",
   "metadata": {},
   "source": [
    "## Question 3 on Multiple List Comprehension\n",
    "Use list comprehension to make a list that has the entries as all possible sums of the elements in the lists `[3, 5, 6]` and `[10, 13, 27]`, i.e. `[13, 16, 30, 15, 18, 32, 16, 19, 33]`"
   ]
  },
  {
   "cell_type": "code",
   "execution_count": 1,
   "metadata": {},
   "outputs": [],
   "source": [
    "a =[3, 5, 6]\n",
    "b =[10, 13, 27]\n"
   ]
  },
  {
   "cell_type": "code",
   "execution_count": null,
   "metadata": {},
   "outputs": [],
   "source": []
  },
  {
   "cell_type": "markdown",
   "metadata": {},
   "source": [
    "## Question 4 on Derivatives with Lambda Functions \n",
    "\n",
    "### Question 4: Part A\n",
    "Modify the code below so that `dx` is provided as an argument. Write your new code in the code cell below!\n",
    "\n",
    "```python\n",
    "def derivative(f):\n",
    "    dx = .001\n",
    "    return lambda x : (f(x+dx) - f(x))/dx\n",
    "```\n"
   ]
  },
  {
   "cell_type": "code",
   "execution_count": null,
   "metadata": {},
   "outputs": [],
   "source": []
  },
  {
   "cell_type": "markdown",
   "metadata": {},
   "source": [
    "### Question 4: Part B\n",
    "Write a function `kthDerivative(f,dx,k)` that takes in a function `f` a step-size `dx` and a non-negative integer `k` and returns the $k^{th}$ derivative of $f$ with stepsize $dx$.\n",
    "\n",
    "I've started this code below for you. **HINT: You are free to call the `derivative` function above.**"
   ]
  },
  {
   "cell_type": "code",
   "execution_count": 2,
   "metadata": {},
   "outputs": [],
   "source": [
    "def kthDerivative(f,dx,k):\n",
    "    \"\"\"Assumes f is a function, dx is a positive float, k is a non-negative int.\n",
    "    Returns a new function that is an approximation of the kth derivative of f, using step-size dx.\"\"\"\n",
    "    ### BEGIN SOLUTION\n",
    "    ### END SOLUTION"
   ]
  },
  {
   "cell_type": "markdown",
   "metadata": {},
   "source": [
    "### Question 4: Part C\n",
    "\n",
    "Use this code to evaluate the third derivative of $g(x)=x^4$ at $x=10$ with stepsize $.0001$.\n",
    "How does this compare with the true answer? What happens if you try larger and smaller stepsizes?"
   ]
  },
  {
   "cell_type": "code",
   "execution_count": null,
   "metadata": {},
   "outputs": [],
   "source": []
  },
  {
   "cell_type": "markdown",
   "metadata": {},
   "source": [
    "## Question 5 on OOP\n",
    "\n",
    "### Question 5: Part A\n",
    "Let's make a new class called `House` that where you have to provide the following attributes in the `__init__` function:\n",
    "- address,\n",
    "- style, (see [this list](https://www.diynetwork.com/how-to/rooms-and-spaces/exterior/26-popular-architectural-home-styles-pictures) for inspiration)\n",
    "- yearBuilt\n",
    "- numUnits (are there rental units in the property?)\n",
    "- numFloors (how many floors does it have?)\n",
    "\n",
    "You should also include the attributes and provide methods to change the values of (or just check!) \n",
    "- doorsLocked\n",
    "- windowsClosed\n"
   ]
  },
  {
   "cell_type": "code",
   "execution_count": null,
   "metadata": {},
   "outputs": [],
   "source": []
  },
  {
   "cell_type": "code",
   "execution_count": null,
   "metadata": {},
   "outputs": [],
   "source": []
  },
  {
   "cell_type": "code",
   "execution_count": null,
   "metadata": {},
   "outputs": [],
   "source": []
  },
  {
   "cell_type": "markdown",
   "metadata": {},
   "source": [
    "### Question 5: Part B\n",
    "\n",
    "Add any attributes or methods that you want!"
   ]
  },
  {
   "cell_type": "code",
   "execution_count": null,
   "metadata": {},
   "outputs": [],
   "source": []
  }
 ],
 "metadata": {
  "kernelspec": {
   "display_name": "Python 3",
   "language": "python",
   "name": "python3"
  },
  "language_info": {
   "codemirror_mode": {
    "name": "ipython",
    "version": 3
   },
   "file_extension": ".py",
   "mimetype": "text/x-python",
   "name": "python",
   "nbconvert_exporter": "python",
   "pygments_lexer": "ipython3",
   "version": "3.7.4"
  }
 },
 "nbformat": 4,
 "nbformat_minor": 2
}
