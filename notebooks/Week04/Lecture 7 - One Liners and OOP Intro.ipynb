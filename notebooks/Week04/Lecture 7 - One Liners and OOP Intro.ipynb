{
 "cells": [
  {
   "cell_type": "markdown",
   "metadata": {
    "slideshow": {
     "slide_type": "slide"
    }
   },
   "source": [
    "# AMAT 502: Modern Computing for Mathematicians\n",
    "## Lecture 7 - List Comprehension, Lambda Functions and Intro to OOP\n",
    "### University at Albany SUNY\n",
    "\n"
   ]
  },
  {
   "cell_type": "markdown",
   "metadata": {
    "slideshow": {
     "slide_type": "slide"
    }
   },
   "source": [
    "# Table of Contents\n",
    "\n",
    "Two main parts:\n",
    "- Tricks with lists and Lambda functions\n",
    "    * Recap of how we can do fancy list/string extraction using colon operators.\n",
    "    * List comprehension is a tool which creates a new list based on another list, in a single, readable line.\n",
    "    * Lambda functions are anonymous functions that take in $0 - n$ arguments and evaluate a single expression\n",
    "- Introduction to Object Oriented Programming\n",
    "    * Attributes and Methods\n",
    "    * `__init__` and `self`"
   ]
  },
  {
   "cell_type": "markdown",
   "metadata": {
    "slideshow": {
     "slide_type": "slide"
    }
   },
   "source": [
    "# Tricks with Lists\n",
    "## Recap on `:` Notation\n",
    "\n",
    "[How to Slice Lists and Arrays](https://www.pythoncentral.io/how-to-slice-listsarrays-and-tuples-in-python/)\n",
    "\n",
    "If `x` is a list/string/tuple/iterable the command...\n",
    "- `x[a:b:s]` returns the iterable with from index a to index b in increments of step size s.\n",
    "- `x[:]` has default values 0 for start index and len(x) for stop index\n",
    "- `x[a:]` starts at index `a` and goes to the end\n",
    "- `x[::2]` takes every second entry\n",
    "- `x[::-2]` lists in reverse, taking every 2nd entry\n"
   ]
  },
  {
   "cell_type": "code",
   "execution_count": 1,
   "metadata": {
    "slideshow": {
     "slide_type": "subslide"
    }
   },
   "outputs": [
    {
     "name": "stdout",
     "output_type": "stream",
     "text": [
      "Stately, plump Buck Mulligan \n",
      "Saey lm ukMlia aefo h tiha,baigabw flte nwihamro n  ao a rse.\n",
      ".dessorc yal rozar a dna rorrim a hcihw no rehtal fo lwob a gniraeb ,daehriats eht morf emac nagilluM kcuB pmulp ,yletatS\n"
     ]
    },
    {
     "data": {
      "text/plain": [
       "'ananab'"
      ]
     },
     "execution_count": 1,
     "metadata": {},
     "output_type": "execute_result"
    }
   ],
   "source": [
    "x = \"Stately, plump Buck Mulligan came from the stairhead, bearing a bowl of lather on which a mirror and a razor lay crossed.\"\n",
    "y='banana'\n",
    "print(x[0:29])\n",
    "print(x[::2])\n",
    "print(x[::-1])\n",
    "y[::-1]"
   ]
  },
  {
   "cell_type": "markdown",
   "metadata": {
    "slideshow": {
     "slide_type": "slide"
    }
   },
   "source": [
    "## List Comprehension\n",
    "List comprehension is a tool that allows us to replace loops that create new lists from old lists with a single line of code.\n",
    "\n",
    "### Syntax \n",
    "<pre>\n",
    "    L = [<i>expression</i> for <i>item</i> in <i>list</i>]\n",
    "</pre>\n",
    "\n",
    "Here are two ways of doing the same thing, one with and one without list comprehension."
   ]
  },
  {
   "cell_type": "code",
   "execution_count": 2,
   "metadata": {
    "slideshow": {
     "slide_type": "subslide"
    }
   },
   "outputs": [
    {
     "name": "stdout",
     "output_type": "stream",
     "text": [
      "['h', 'u', 'm', 'a', 'n']\n"
     ]
    }
   ],
   "source": [
    "h = 'human'\n",
    "\n",
    "letters = []\n",
    "for i in h:\n",
    "    letters.append(i)\n",
    "\n",
    "print(letters) # Why do we use print here and not return?"
   ]
  },
  {
   "cell_type": "code",
   "execution_count": 3,
   "metadata": {
    "slideshow": {
     "slide_type": "fragment"
    }
   },
   "outputs": [
    {
     "name": "stdout",
     "output_type": "stream",
     "text": [
      "['hh', 'uu', 'mm', 'aa', 'nn']\n",
      "['h', 'u', 'm', 'a', 'n']\n"
     ]
    }
   ],
   "source": [
    "L = [2*i for i in h]\n",
    "a = [i for i in h]\n",
    "print(L)\n",
    "print(a)"
   ]
  },
  {
   "cell_type": "markdown",
   "metadata": {
    "slideshow": {
     "slide_type": "slide"
    }
   },
   "source": [
    "## Conditionals with List Comprehension\n",
    "\n",
    "We can further require that items in a list satisfy some Boolean conditional.\n",
    "\n",
    "### Syntax \n",
    "<pre>\n",
    "    L = [<i>expression</i> for <i>item</i> in <i>list</i> if <i>conditional</i>]\n",
    "</pre>\n"
   ]
  },
  {
   "cell_type": "code",
   "execution_count": 4,
   "metadata": {
    "slideshow": {
     "slide_type": "fragment"
    }
   },
   "outputs": [
    {
     "name": "stdout",
     "output_type": "stream",
     "text": [
      "[9, 36, 81, 144, 225]\n",
      "[9, 36, 81, 144, 225]\n"
     ]
    }
   ],
   "source": [
    "## Using list comprehension\n",
    "K = [x**2 for x in range(2,16) if x%3 == 0]\n",
    "print(K)\n",
    "\n",
    "## Compare with the version without list comprehension\n",
    "l=[]\n",
    "for i in range(2,16):\n",
    "    if i%3==0:\n",
    "        l.append(i**2)\n",
    "\n",
    "print(l)"
   ]
  },
  {
   "cell_type": "markdown",
   "metadata": {
    "slideshow": {
     "slide_type": "slide"
    }
   },
   "source": [
    "### Finger Exercise: \n",
    "\n",
    "**Use list comprehension to make a list that has the entries as all possible sums of the elements in the lists `[3, 5, 6]` and `[10, 13, 27]`, i.e. `[13, 16, 30, 15, 18, 32, 16, 19, 33]`**"
   ]
  },
  {
   "cell_type": "markdown",
   "metadata": {
    "slideshow": {
     "slide_type": "slide"
    }
   },
   "source": [
    "# Lambda Functions\n",
    "\n",
    "![SICP Cover](sicp.jpg)\n",
    "\n",
    "## Anonymous Functions\n",
    "\n",
    "In Python, anonymous function means that a function is without a name. \n",
    "\n",
    "As we already know that the `def` keyword is used to define the normal functions, but in that syntax \n",
    "<pre>\n",
    "def myFunction(x):\n",
    "    <i>function body</i>\n",
    "    return <i>something</i>\n",
    "</pre>\n",
    "\n",
    "Notice that we have to give the function a name, which in this case is `myFunction`.\n",
    "\n",
    "We can circumvent this by using the keyword:\n",
    "```python\n",
    "lambda\n",
    "```\n",
    "This allows us to define anonymous functions.\n",
    "\n",
    "### Syntax\n",
    "<pre>\n",
    "lambda <i>arguments</i>: <i>expression</i>\n",
    "</pre>\n",
    "**Notice:**\n",
    "* This allows us to 'define' a function in one line without naming it.\n",
    "* In the given syntax, you can put in however many arguments you would like, but can only have one expression using them."
   ]
  },
  {
   "cell_type": "code",
   "execution_count": 5,
   "metadata": {
    "slideshow": {
     "slide_type": "subslide"
    }
   },
   "outputs": [
    {
     "data": {
      "text/plain": [
       "30"
      ]
     },
     "execution_count": 5,
     "metadata": {},
     "output_type": "execute_result"
    }
   ],
   "source": [
    "h = lambda x, y, z : x*y*z\n",
    "h(2,3,5)"
   ]
  },
  {
   "cell_type": "markdown",
   "metadata": {
    "slideshow": {
     "slide_type": "slide"
    }
   },
   "source": [
    "## Why do we care?\n",
    "![Python and SICP](python-sicp.jpeg)\n",
    "*Figure from [https://www.dabeaz.com/](https://www.dabeaz.com/)*\n",
    "\n",
    "We could give several lectures on lambda functions, but here are some important take-aways:\n",
    "1. **Lambda functions provide a way of returning functions in a way that respects abstraction.**\n",
    "2. Lambda functions come from [Lambda Calculus](https://en.wikipedia.org/wiki/Lambda_calculus), which was developed in the 1930s as a mathematical theory for computation that makes precise:\n",
    "    - Variable Binding, like when we write `x=3`, \n",
    "    - Substitution\n",
    "    - Function Abstraction\n",
    "    - Application, cf. the [Read-Eval-Print Loop (REPL)](https://en.wikipedia.org/wiki/Read%E2%80%93eval%E2%80%93print_loop)\n",
    "3. Lambda functions are featured prominently in Lisp and Scheme, which are great pedagogical languages for **learning foundational concepts in computer science.** \n",
    "    - [Read Structure and Interpretation of Computer Programs (SICP) in html form](https://mitpress.mit.edu/sites/default/files/sicp/full-text/book/book.html)\n",
    "    - [Read Structure and Interpretation of Computer Programs (SICP) in PDF form](https://web.mit.edu/alexmv/6.037/sicp.pdf)\n",
    "    - [Read this for some of the CS culture around Lisp](https://twobithistory.org/2018/10/14/lisp.html)\n",
    "    - [Source of the quote \"Lisp did for Programming what Euclid did for Geometry.\"](http://languagelog.ldc.upenn.edu/myl/llog/jmc.pdf)"
   ]
  },
  {
   "cell_type": "markdown",
   "metadata": {
    "slideshow": {
     "slide_type": "slide"
    }
   },
   "source": [
    "### An Example from Calculus\n",
    "\n",
    "Consider the following code cell:"
   ]
  },
  {
   "cell_type": "code",
   "execution_count": 7,
   "metadata": {
    "slideshow": {
     "slide_type": "fragment"
    }
   },
   "outputs": [
    {
     "data": {
      "text/plain": [
       "function"
      ]
     },
     "execution_count": 7,
     "metadata": {},
     "output_type": "execute_result"
    }
   ],
   "source": [
    "def derivative(f):\n",
    "    dx = .001\n",
    "    return lambda x : (f(x+dx) - f(x))/dx\n",
    "\n",
    "def f(x):\n",
    "    return x**2\n",
    "\n",
    "derivative(f)(.5)\n",
    "type(derivative(f)) # Yes you can make a function that returns functions!"
   ]
  },
  {
   "cell_type": "code",
   "execution_count": 11,
   "metadata": {
    "slideshow": {
     "slide_type": "subslide"
    }
   },
   "outputs": [
    {
     "data": {
      "text/plain": [
       "int"
      ]
     },
     "execution_count": 11,
     "metadata": {},
     "output_type": "execute_result"
    }
   ],
   "source": [
    "h = lambda x, y, z : x*y*z\n",
    "\n",
    "def g(z):\n",
    "    return h(2,5,z)\n",
    "g(9)\n",
    "type(g(9))"
   ]
  },
  {
   "cell_type": "markdown",
   "metadata": {
    "slideshow": {
     "slide_type": "slide"
    }
   },
   "source": [
    "## The MapList Function `map`\n",
    "\n",
    "The map( ) function takes in a function (or lambda expression) and a list and produces a new list that with the elements of the old list modified by the function (or lambda expression)."
   ]
  },
  {
   "cell_type": "code",
   "execution_count": 7,
   "metadata": {
    "slideshow": {
     "slide_type": "fragment"
    }
   },
   "outputs": [
    {
     "name": "stdout",
     "output_type": "stream",
     "text": [
      "[2, 28, 50, 8, 64, 228, 50, 196, 20]\n",
      "[2, 28, 50, 8, 64, 228, 50, 196, 20]\n"
     ]
    }
   ],
   "source": [
    "a_list = [1,14,25,4,32,114,25,98,10]\n",
    "def testf(x):\n",
    "    return 2*x\n",
    "a_new_list = list(map(lambda x : x - 200, a_list))\n",
    "a_new_list\n",
    "b_list = list(map(testf,a_list))\n",
    "print(b_list)\n",
    "b_listcomp = [testf(x) for x in a_list]\n",
    "print(b_listcomp)"
   ]
  },
  {
   "cell_type": "markdown",
   "metadata": {
    "slideshow": {
     "slide_type": "slide"
    }
   },
   "source": [
    "### Another Example from Calculus\n"
   ]
  },
  {
   "cell_type": "code",
   "execution_count": 16,
   "metadata": {
    "slideshow": {
     "slide_type": "fragment"
    }
   },
   "outputs": [
    {
     "data": {
      "text/plain": [
       "[0.9999999999998899, 4.000999999999699, 12.006000999997823]"
      ]
     },
     "execution_count": 16,
     "metadata": {},
     "output_type": "execute_result"
    }
   ],
   "source": [
    "powers = [1,2,3]\n",
    "def power_of(i):\n",
    "    return lambda x: x**i\n",
    "funList = list(map(power_of, powers))\n",
    "#type(funList[0])\n",
    "[derivative(f)(2) for f in funList]"
   ]
  },
  {
   "cell_type": "markdown",
   "metadata": {
    "slideshow": {
     "slide_type": "slide"
    }
   },
   "source": [
    "## Map( ) Function\n",
    "\n",
    "Notice that map( ) doesn't return a list on its own. Instead you need to wrap it in order to determine which iterable you are passing to it, i.e., list( ), set( ), tuple( ),.."
   ]
  },
  {
   "cell_type": "code",
   "execution_count": 19,
   "metadata": {
    "slideshow": {
     "slide_type": "fragment"
    }
   },
   "outputs": [
    {
     "name": "stdout",
     "output_type": "stream",
     "text": [
      "[-5, -4, -3, -2, -1, 0, 1, 2, 3, 4, 5]\n",
      "[25, 16, 9, 4, 1, 0, 1, 4, 9, 16, 25]\n",
      "{0, 1, 4, 9, 16, 25}\n"
     ]
    },
    {
     "data": {
      "text/plain": [
       "map"
      ]
     },
     "execution_count": 19,
     "metadata": {},
     "output_type": "execute_result"
    }
   ],
   "source": [
    "w = range(-5,6)\n",
    "print(list(w))\n",
    "a = map(lambda x : x**2 , w)\n",
    "b = map(lambda x : x**2 , w)\n",
    "print(list(a))\n",
    "print(set(b))\n",
    "type(a)"
   ]
  },
  {
   "cell_type": "markdown",
   "metadata": {
    "slideshow": {
     "slide_type": "slide"
    }
   },
   "source": [
    "## Overview of Part 1:\n",
    "\n",
    "* Lambda expressions are useful to create functions that we aren't going to necessarily use all of the time, so we just define and use them in the same place.\n",
    "\n",
    "* List comprehension is useful whenever you want to easily create a new list from an old one."
   ]
  },
  {
   "cell_type": "markdown",
   "metadata": {
    "slideshow": {
     "slide_type": "slide"
    }
   },
   "source": [
    "# Part 2: Intro to Object Oriented Programming\n",
    "\n",
    "**Object Oriented Programming (OOP)** gives us a way to view objects we would like to compute with as both collections of data AND functions (methods) that act on that data. \n",
    "\n",
    "<img src=\"oop.jpeg\" alt=\"oop\" style=\"width:500px;\"/>"
   ]
  },
  {
   "cell_type": "markdown",
   "metadata": {
    "slideshow": {
     "slide_type": "slide"
    }
   },
   "source": [
    "## Objects: Attributes and Methods\n",
    "\n",
    "For instance if we think about trying to have a `car` object we might expect defining characteristics, i.e. **attributes** to be\n",
    "\n",
    "* make, \n",
    "* model, \n",
    "* color, and \n",
    "* year.\n",
    "\n",
    "There are also several things that we'd like to do with a `car`. Here are some examples of possible **methods** we'd like to perform with a `car`.\n",
    "\n",
    "* start, \n",
    "* park, and \n",
    "* turn off."
   ]
  },
  {
   "cell_type": "markdown",
   "metadata": {
    "slideshow": {
     "slide_type": "slide"
    }
   },
   "source": [
    "## OOP: Defining a Class\n",
    "\n",
    "The way we implement objects, their attributes and their methods is to define a **class**. \n",
    "\n",
    "This class will provide the syntax necessary to deal with objects such as `car`s, along with the other methods and attributes we might like to use to manipulate that data. \n",
    "\n",
    "The first steps towards defining a class is to\n",
    "* initialize our object along with its descriptors, and\n",
    "* define methods."
   ]
  },
  {
   "cell_type": "code",
   "execution_count": 6,
   "metadata": {
    "slideshow": {
     "slide_type": "slide"
    }
   },
   "outputs": [],
   "source": [
    "class Car:\n",
    "    \n",
    "    #initializing our object\n",
    "    def __init__(self,make, model, color, year):\n",
    "        self.make = make\n",
    "        self.model = model\n",
    "        self.color = color\n",
    "        self.year = year       \n",
    "                \n",
    "myCar = Car('Honda', 'Accord', 'Red', '2013')"
   ]
  },
  {
   "cell_type": "code",
   "execution_count": 7,
   "metadata": {
    "slideshow": {
     "slide_type": "slide"
    }
   },
   "outputs": [
    {
     "name": "stdout",
     "output_type": "stream",
     "text": [
      "2013\n",
      "Honda\n"
     ]
    }
   ],
   "source": [
    "print(myCar.year)\n",
    "print(myCar.make)"
   ]
  },
  {
   "cell_type": "markdown",
   "metadata": {
    "slideshow": {
     "slide_type": "slide"
    }
   },
   "source": [
    "## `__init__` and `self`\n",
    "\n",
    "Everytime we define a class we want to have a function `__init__` that creates new variables associated to any object of that class. These new variables are called **attributes**\n",
    "\n",
    "Notice that when we created the Car object `myCar` we gave it a `make`, `model`, `color` and `year`, but NOT `self`.\n",
    "\n",
    "This is because the variable name `myCar = Car('Honda', 'Accord', 'Red', '2013')` was used to populate `self`.\n",
    "\n",
    "These were all passed as arguments to `__init__` which then created the \"global\" variables `myCar.year` and so on."
   ]
  },
  {
   "cell_type": "markdown",
   "metadata": {
    "slideshow": {
     "slide_type": "slide"
    }
   },
   "source": [
    "## Methods\n",
    "\n",
    "Let's add some more attributes to our `Car` class as well as some functions that are defined internal to the Car class that we call **methods**."
   ]
  },
  {
   "cell_type": "code",
   "execution_count": 12,
   "metadata": {
    "slideshow": {
     "slide_type": "slide"
    }
   },
   "outputs": [],
   "source": [
    "class Car:\n",
    "    \n",
    "    #initializing our object\n",
    "    def __init__(self,make, model, color, year):\n",
    "        self.make = make\n",
    "        self.model = model\n",
    "        self.color = color\n",
    "        self.year = year \n",
    "        self.speed = 0\n",
    "        self.on = False\n",
    "        \n",
    "    def Start(self):\n",
    "        self.on = True\n",
    "    \n",
    "    def TurnOff(self):\n",
    "        self.on = False\n",
    "    def firstGear(self):\n",
    "        self.speed = 10\n",
    "    def secondGear(self):\n",
    "        self.speed = 30\n",
    "    def checkSpeed(self):\n",
    "        return \"Your speed is \" + str(self.speed)"
   ]
  },
  {
   "cell_type": "code",
   "execution_count": 13,
   "metadata": {
    "slideshow": {
     "slide_type": "slide"
    }
   },
   "outputs": [],
   "source": [
    "myCar = Car('Honda', 'Accord', 'Red', '2013')\n"
   ]
  },
  {
   "cell_type": "code",
   "execution_count": 14,
   "metadata": {},
   "outputs": [],
   "source": [
    "myCar.firstGear()"
   ]
  },
  {
   "cell_type": "code",
   "execution_count": 15,
   "metadata": {},
   "outputs": [
    {
     "data": {
      "text/plain": [
       "'Your speed is 10'"
      ]
     },
     "execution_count": 15,
     "metadata": {},
     "output_type": "execute_result"
    }
   ],
   "source": [
    "myCar.checkSpeed()"
   ]
  },
  {
   "cell_type": "code",
   "execution_count": 16,
   "metadata": {},
   "outputs": [],
   "source": [
    "myCar.secondGear()"
   ]
  },
  {
   "cell_type": "code",
   "execution_count": 17,
   "metadata": {},
   "outputs": [
    {
     "data": {
      "text/plain": [
       "'Your speed is 30'"
      ]
     },
     "execution_count": 17,
     "metadata": {},
     "output_type": "execute_result"
    }
   ],
   "source": [
    "myCar.checkSpeed()"
   ]
  },
  {
   "cell_type": "code",
   "execution_count": null,
   "metadata": {},
   "outputs": [],
   "source": []
  }
 ],
 "metadata": {
  "celltoolbar": "Slideshow",
  "kernelspec": {
   "display_name": "Python 3",
   "language": "python",
   "name": "python3"
  },
  "language_info": {
   "codemirror_mode": {
    "name": "ipython",
    "version": 3
   },
   "file_extension": ".py",
   "mimetype": "text/x-python",
   "name": "python",
   "nbconvert_exporter": "python",
   "pygments_lexer": "ipython3",
   "version": "3.7.4"
  }
 },
 "nbformat": 4,
 "nbformat_minor": 2
}
