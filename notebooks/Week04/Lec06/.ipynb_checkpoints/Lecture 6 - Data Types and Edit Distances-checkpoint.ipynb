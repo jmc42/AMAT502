{
 "cells": [
  {
   "cell_type": "markdown",
   "metadata": {
    "slideshow": {
     "slide_type": "slide"
    }
   },
   "source": [
    "# AMAT 502: Modern Computing for Mathematicians\n",
    "## Lecture 6 - More Data Types and the Edit Distance\n",
    "### University at Albany SUNY\n",
    "\n"
   ]
  },
  {
   "cell_type": "markdown",
   "metadata": {
    "slideshow": {
     "slide_type": "slide"
    }
   },
   "source": [
    "# Table of Contents\n",
    "\n",
    "- Collection Data Types (*Skim this and refer later!*)\n",
    "    - Lists\n",
    "    - Tuples\n",
    "    - Sets\n",
    "    - Dictionaries\n",
    "- **Edit Distances between Strings**"
   ]
  },
  {
   "cell_type": "markdown",
   "metadata": {
    "slideshow": {
     "slide_type": "slide"
    }
   },
   "source": [
    "# Collection Data Types\n",
    "\n",
    "- **List** is a collection which is ordered and changeable (**mutable**) and allows duplicate members.\n",
    "- **Tuple** is a collection which is ordered and unchangeable. Allows duplicate members.\n",
    "- **Set** is a collection which is unordered and unindexed. No duplicate members.\n",
    "- **Dictionary** is a collection which is unordered, changeable and indexed. No duplicate members."
   ]
  },
  {
   "cell_type": "markdown",
   "metadata": {
    "slideshow": {
     "slide_type": "slide"
    }
   },
   "source": [
    "## Lists\n",
    "\n",
    "In Python, lists are defined using square brackets `[ ]`\n",
    "\n",
    "Last time we introduced lists, where we have additional operations that we can use such as...\n",
    "\n",
    "* append( ): adds an item to the end of the list\n",
    "* insert( ): adds an item to a given index\n",
    "* reverse( ): Reverses the order of the list\n",
    "* sort( ): Sorts the list"
   ]
  },
  {
   "cell_type": "code",
   "execution_count": 1,
   "metadata": {
    "slideshow": {
     "slide_type": "subslide"
    }
   },
   "outputs": [
    {
     "name": "stdout",
     "output_type": "stream",
     "text": [
      "['statistics', 'algebra', 'topology', 'statistics', 'analysis']\n",
      "['statistics', 'complex analysis', 'algebra', 'topology', 'statistics', 'analysis']\n"
     ]
    }
   ],
   "source": [
    "a = [\"statistics\",\"algebra\", \"topology\", \"statistics\"]\n",
    "a.append(\"analysis\")\n",
    "print(a)\n",
    "\n",
    "a.insert(1,\"complex analysis\")\n",
    "print(a)"
   ]
  },
  {
   "cell_type": "markdown",
   "metadata": {
    "slideshow": {
     "slide_type": "slide"
    }
   },
   "source": [
    "### More List Operations\n",
    "\n",
    "* remove( ): removes an item of a specified value\n",
    "* pop( ): removes an item at a given index"
   ]
  },
  {
   "cell_type": "code",
   "execution_count": 2,
   "metadata": {
    "slideshow": {
     "slide_type": "subslide"
    }
   },
   "outputs": [
    {
     "name": "stdout",
     "output_type": "stream",
     "text": [
      "['statistics', 'complex analysis', 'algebra', 'topology', 'statistics', 'analysis']\n",
      "['complex analysis', 'algebra', 'topology', 'statistics', 'analysis']\n",
      "['complex analysis', 'algebra', 'statistics', 'analysis']\n"
     ]
    }
   ],
   "source": [
    "print(a)\n",
    "\n",
    "a.remove(\"statistics\")\n",
    "print(a)\n",
    "#NOTICE: remove only removes the first instance of the element you want to remove\n",
    "a.pop(2)\n",
    "print(a)"
   ]
  },
  {
   "cell_type": "markdown",
   "metadata": {
    "slideshow": {
     "slide_type": "slide"
    }
   },
   "source": [
    "## Lists of Lists = Multidimensional Lists\n",
    "\n",
    "We can also consider lists who entries are lists, this allows us extra dimensions to navigate through."
   ]
  },
  {
   "cell_type": "code",
   "execution_count": 1,
   "metadata": {
    "slideshow": {
     "slide_type": "subslide"
    }
   },
   "outputs": [
    {
     "name": "stdout",
     "output_type": "stream",
     "text": [
      "[1, 2]\n",
      "2\n",
      "[[1, 3], [3, 4], [5, 6]]\n"
     ]
    }
   ],
   "source": [
    "a = [[1,2],[3,4],[5,6]]\n",
    "\n",
    "print(a[0])\n",
    "\n",
    "print(a[0][1])\n",
    "\n",
    "a[0][1] = 3\n",
    "\n",
    "print(a)"
   ]
  },
  {
   "cell_type": "markdown",
   "metadata": {
    "slideshow": {
     "slide_type": "slide"
    }
   },
   "source": [
    "## Tuples\n",
    "\n",
    "Tuples are defined using round brackets `( )`. \n",
    "\n",
    "Tuples are \n",
    "- ordered, and\n",
    "- immutable.\n",
    "\n",
    "So for example, the method `.append( )` would not apply to a tuple. \n",
    "\n",
    "You can only access elements in a tuple as follows:"
   ]
  },
  {
   "cell_type": "code",
   "execution_count": 3,
   "metadata": {
    "slideshow": {
     "slide_type": "subslide"
    }
   },
   "outputs": [
    {
     "name": "stdout",
     "output_type": "stream",
     "text": [
      "4\n",
      "(2, 3, 4)\n"
     ]
    }
   ],
   "source": [
    "t = (2,3,4)\n",
    "print(t[2])\n",
    "#t[2]=5 # this will generate an error.\n",
    "#t.append(2) # as will this\n",
    "print(t)"
   ]
  },
  {
   "cell_type": "code",
   "execution_count": 9,
   "metadata": {
    "slideshow": {
     "slide_type": "subslide"
    }
   },
   "outputs": [
    {
     "name": "stdout",
     "output_type": "stream",
     "text": [
      "1\n",
      "[1]\n"
     ]
    },
    {
     "data": {
      "text/plain": [
       "int"
      ]
     },
     "execution_count": 9,
     "metadata": {},
     "output_type": "execute_result"
    }
   ],
   "source": [
    "#s=(1,) # Need to have the comma!\n",
    "#s=(1) # This will generate an error if you don't have the comma.\n",
    "r= [1]\n",
    "print(s)\n",
    "print(r)\n",
    "#t = t[0:2] + s + t[2:]\n",
    "#t\n",
    "#type(s)"
   ]
  },
  {
   "cell_type": "markdown",
   "metadata": {
    "slideshow": {
     "slide_type": "slide"
    }
   },
   "source": [
    "## Set\n",
    "\n",
    "In Python sets are written with curly brackets `{ }`. \n",
    "\n",
    "A set is a collection which is... \n",
    "- unordered, \n",
    "- unindexed, and \n",
    "- changeable/mutable. \n",
    "\n",
    "Sets give the opposite functionallity of a tuple, so we can `add` and `remove` elements from a set using\n",
    "- `s.add()`\n",
    "- `s.remove()`\n",
    "\n",
    "However we cannot gain access to any given element since there is no indexing of the elements of the set.\n",
    "\n",
    "We also have\n",
    "- `s.pop()` which removes the \"first\" entry"
   ]
  },
  {
   "cell_type": "code",
   "execution_count": 10,
   "metadata": {
    "slideshow": {
     "slide_type": "subslide"
    }
   },
   "outputs": [
    {
     "name": "stdout",
     "output_type": "stream",
     "text": [
      "{'topology', 'algebra', 'analysis'}\n",
      "{'topology', 'algebra', 'statistics', 'analysis'}\n",
      "{'algebra', 'statistics', 'analysis'}\n"
     ]
    }
   ],
   "source": [
    "s = {\"algebra\", \"topology\", \"analysis\"}\n",
    "print(s) # Explain why this prints differently than the order above!\n",
    "\n",
    "s.add(\"statistics\") # Can you explain the behavior of the add operation? Why does it print in the order shown below?\n",
    "print(s)\n",
    "\n",
    "s.pop()\n",
    "print(s)\n",
    "\n",
    "# try print(s[0])\n",
    "#s[0]"
   ]
  },
  {
   "cell_type": "markdown",
   "metadata": {
    "slideshow": {
     "slide_type": "subslide"
    }
   },
   "source": [
    "### Sets in `for` Loops\n",
    "\n",
    "If we want to include a set in a loop, we need to access the elements not by their index, but just by the elements themselves. For example:"
   ]
  },
  {
   "cell_type": "code",
   "execution_count": 11,
   "metadata": {},
   "outputs": [
    {
     "name": "stdout",
     "output_type": "stream",
     "text": [
      "topology\n",
      "algebra\n",
      "analysis\n"
     ]
    }
   ],
   "source": [
    "s = {\"algebra\", \"topology\", \"analysis\"}\n",
    "for x in s:\n",
    "    print(x)"
   ]
  },
  {
   "cell_type": "markdown",
   "metadata": {
    "slideshow": {
     "slide_type": "subslide"
    }
   },
   "source": [
    "### More Set Operations\n",
    "\n",
    "* difference( ): returns a set containing the difference between two or more sets\n",
    "\n",
    "* intersection( ): returns a set, that is the intersection of two other sets\n",
    "\n",
    "* isdisjoint( ):\treturns whether two sets have a intersection or not\n",
    "\n",
    "* issubset( ): returns whether another set contains this set or not\n",
    "\n",
    "* issuperset( ): returns whether this set contains another set or not\n",
    "\n",
    "* symmetric_difference( ): returns a set with the symmetric differences of two sets\n",
    "\n",
    "* union( ): return a set containing the union of sets\n"
   ]
  },
  {
   "cell_type": "markdown",
   "metadata": {
    "slideshow": {
     "slide_type": "slide"
    }
   },
   "source": [
    "## Dictionaries\n",
    "\n",
    "In Python dictionaries are defined with curly brackets and colons, i.e. `d= {keyA: valueA, keyB: valueB,... }`.\n",
    "\n",
    "Dictionaries are very similar to sets. Especially in the way that we have to navigate them, and how they are defined. \n",
    "A dictionary is a collection which is...\n",
    "- unordered, \n",
    "- changeable, and \n",
    "- indexed. \n",
    "\n",
    "The way indexing works for dictionaries is that you provide the `key` as an index, i.e. `d[\"keyA\"]` would return `valueA`."
   ]
  },
  {
   "cell_type": "code",
   "execution_count": 13,
   "metadata": {
    "slideshow": {
     "slide_type": "subslide"
    }
   },
   "outputs": [
    {
     "name": "stdout",
     "output_type": "stream",
     "text": [
      "{'make': 'Ford', 'model': 'Mustang', 'year': 1964}\n",
      "Ford\n"
     ]
    }
   ],
   "source": [
    "myCar = {\n",
    "  \"make\": \"Ford\",\n",
    "  \"model\": \"Mustang\",\n",
    "  \"year\": 1964\n",
    "}\n",
    "print(myCar)\n",
    "print(myCar[\"make\"])"
   ]
  },
  {
   "cell_type": "markdown",
   "metadata": {
    "slideshow": {
     "slide_type": "subslide"
    }
   },
   "source": [
    "### Dictionaries: Keys and Values\n",
    "\n",
    "Navigating through dictionaries is exactly the same as navigating a list except now we use the *key* to access an element or *values*. The following methods access the key and values information of a dictionary.\n",
    "\n",
    "* `.keys( )`: returns key value\n",
    "\n",
    "* `.values( )`: returns values of dictionary"
   ]
  },
  {
   "cell_type": "code",
   "execution_count": 14,
   "metadata": {
    "slideshow": {
     "slide_type": "subslide"
    }
   },
   "outputs": [
    {
     "name": "stdout",
     "output_type": "stream",
     "text": [
      "dict_keys(['make', 'model', 'year'])\n",
      "dict_values(['Ford', 'Mustang', 1964])\n"
     ]
    }
   ],
   "source": [
    "print(myCar.keys())\n",
    "print(myCar.values())"
   ]
  },
  {
   "cell_type": "markdown",
   "metadata": {
    "slideshow": {
     "slide_type": "slide"
    }
   },
   "source": [
    "# And Now for Something Different...\n",
    "\n",
    "![Bats](bat-crop.png)"
   ]
  },
  {
   "cell_type": "markdown",
   "metadata": {
    "slideshow": {
     "slide_type": "slide"
    }
   },
   "source": [
    "# Edit Distance (Warmup Problem)\n",
    "\n",
    "How different are the strings `s1` and `s2` for... \n",
    "\n",
    "- `s1='cats'` and `s2='dogs'`?\n",
    "- `s3='spam'` and `s4='spa'`?\n",
    "- `s5='aloud'` and `s6='loud'`?\n",
    "- `s7='alien'` and `s8='sales'`?"
   ]
  },
  {
   "cell_type": "markdown",
   "metadata": {
    "slideshow": {
     "slide_type": "slide"
    }
   },
   "source": [
    "# Hamming Distance\n",
    "\n",
    "One way of quantifying the difference between strings is to compare them character by character and add up the number of times they disagree. This is called the **Hamming distance** In our example we would have that\n",
    "$$d_{\\text{Ham}}(s_1,s_2)=3$$"
   ]
  },
  {
   "cell_type": "code",
   "execution_count": 6,
   "metadata": {
    "slideshow": {
     "slide_type": "slide"
    }
   },
   "outputs": [
    {
     "data": {
      "text/plain": [
       "4"
      ]
     },
     "execution_count": 6,
     "metadata": {},
     "output_type": "execute_result"
    }
   ],
   "source": [
    "def Hamming_Distance(s1,s2):\n",
    "    \"\"\"Assumes s1 and s2 are strings of the same length and returns their Hamming Distance\"\"\"\n",
    "    counter = 0\n",
    "    for i in range(len(s1)):\n",
    "        if s1[i]!=s2[i]:\n",
    "            counter = counter +1\n",
    "    return counter\n",
    "\n",
    "s1='cats'\n",
    "s2='dogs'\n",
    "s3='spam'\n",
    "s4='spa'\n",
    "s5='aloud'\n",
    "s6='loud'\n",
    "s7='alien'\n",
    "s8='sales'\n",
    "\n",
    "#Hamming_Distance(s1,s2)\n",
    "#Hamming_Distance(s3,s4) #Why does this throw an error? How would you fix it?\n",
    "Hamming_Distance(s7,s8)"
   ]
  },
  {
   "cell_type": "markdown",
   "metadata": {
    "slideshow": {
     "slide_type": "slide"
    }
   },
   "source": [
    "# Why Should We Care?\n",
    "\n",
    "Traditionally the Hamming distance is formulated for strings consisting of 0's and 1's, so called **binary strings**. This is because he was interested in the theory of [error correcting codes](https://en.wikipedia.org/wiki/Error_correction_code) which is a huge part of our digital existence. These are methods to minimize distortions of data that undergo transmission in via noisy channel (see Claude Shannon's *The Mathematical Theory of Communication* for more).\n",
    "\n",
    "For example the following image of the Mona Lisa was corrupted by transmission through the Earth's atmosphere and was subsequently corrected using the Reed-Solomon method, which is commonly used in CDs and DVDs.\n",
    "\n",
    "![Mona Lisa Corrupted](mona-lisa-reed-solomon.jpg)\n",
    "*Figure Caption: To clean up transmission errors introduced by Earth’s atmosphere (left), Goddard scientists applied Reed–Solomon error correction (right), which is commonly used in CDs and DVDs. Typical errors include missing pixels (white) and false signals (black). The white stripe indicates a brief period when transmission was paused.*"
   ]
  },
  {
   "cell_type": "markdown",
   "metadata": {
    "slideshow": {
     "slide_type": "slide"
    }
   },
   "source": [
    "## Coronaviruses\n",
    "\n",
    "Of course, since 2020, we know about **SARS-CoV-2**, which is the virus that causes COVID-19 (CoronaVirusDisease from 2019), but there are plenty of other coronaviruses.\n",
    "\n",
    "Remarkably, the RNA transcriptase from cornaviruses have their own form of an error correcting code!\n",
    "\n",
    "![Coronavirus Article](coronavirus.png)\n",
    "*From [https://www.ncbi.nlm.nih.gov/pmc/articles/PMC3127101/](https://www.ncbi.nlm.nih.gov/pmc/articles/PMC3127101/)*"
   ]
  },
  {
   "cell_type": "markdown",
   "metadata": {
    "slideshow": {
     "slide_type": "slide"
    }
   },
   "source": [
    "## Cancer\n",
    "\n",
    "The kind of errors in transcription that happens when a virus replicates itself is also illustrative of the main causes of cancer, which is **mutation**. Things that causes mutations are called *mutagens*\n",
    "\n",
    "![Types of DNA Mutations](DNA-mutations.jpg)\n",
    "*Taken from a Frontiers For Young Minds Article: [Ways You Can Protect Your Genes From Mutations With a Healthy Lifestyle](https://kids.frontiersin.org/article/10.3389/frym.2019.00046)*"
   ]
  },
  {
   "cell_type": "markdown",
   "metadata": {
    "slideshow": {
     "slide_type": "slide"
    }
   },
   "source": [
    "## The Origin of Life\n",
    "\n",
    "Mutations that occur during replication of DNA is also what drive evolution. One might characterize evolution of novel types of coronaviruses as an example of [microevolution](https://en.wikipedia.org/wiki/Microevolution), but it is also well accepted that mutations are the driver of [macroevolution](https://en.wikipedia.org/wiki/Macroevolution), which is what accounts for the origins of species.\n",
    "\n",
    "![Haeckel's Tree of Life](tree-of-life-512.png)\n",
    "*From [https://commons.wikimedia.org/wiki/File:Haeckel_arbol_bn.png](https://commons.wikimedia.org/wiki/File:Haeckel_arbol_bn.png)*"
   ]
  },
  {
   "cell_type": "markdown",
   "metadata": {
    "slideshow": {
     "slide_type": "slide"
    }
   },
   "source": [
    "## The Origin of Vertebrates\n",
    "\n",
    "![Haeckel's \"Age of Man\"](age-of-man.jpg)\n",
    "\n",
    "*From [https://en.wikipedia.org/wiki/File:Age-of-Man-wiki.jpg](https://en.wikipedia.org/wiki/File:Age-of-Man-wiki.jpg)*"
   ]
  },
  {
   "cell_type": "markdown",
   "metadata": {
    "slideshow": {
     "slide_type": "slide"
    }
   },
   "source": [
    "## The Origin of Hominids\n",
    "\n",
    "![Haeckel's Pedigree of Man](pedigree-of-man.png)\n",
    "*Cropped from [https://commons.wikimedia.org/wiki/File:Tree_of_life_by_Haeckel.jpg](https://commons.wikimedia.org/wiki/File:Tree_of_life_by_Haeckel.jpg)*"
   ]
  },
  {
   "cell_type": "markdown",
   "metadata": {
    "slideshow": {
     "slide_type": "slide"
    }
   },
   "source": [
    "## Taxonomic Justifications\n",
    "\n",
    "There were historically lots of reasons to believe gorillas, chimps and humans were related by a common ancestor, but when comparing their differences it was hard to determine which species diverged when.\n",
    "\n",
    "![Gorilla Chimp and Human Comparisons](gorilla-chimp-human.png)\n",
    "*Slide taken from [https://www.slideshare.net/mpallen/bio263-who-is-our-closest-relative](https://www.slideshare.net/mpallen/bio263-who-is-our-closest-relative)*"
   ]
  },
  {
   "cell_type": "markdown",
   "metadata": {
    "slideshow": {
     "slide_type": "slide"
    }
   },
   "source": [
    "## Cladistics Says Differently\n",
    "\n",
    "In the middle of the 20th century people were unlocking other methods for determining when humans, chimps and gorillas separated in the tree of life. Instead of using phenotypic expressions to compare organisms people like [Vincent Sarich](https://en.wikipedia.org/wiki/Vincent_Sarich) and Allan Wilson, used a method known as [molecular clocking](https://en.wikipedia.org/wiki/Molecular_clock) to determine evolutionary relationships. What we now know due to efforts by Sarich and others is that:\n",
    "- Humans and chimps likely shared a common ancestor **4-6 million years ago**\n",
    "- Gorillas separated from the human-chimp group **2 million years before that**\n",
    "\n",
    "![Sequence Based Comparisons](sequence-tree.png)\n",
    "*Slide taken from [https://www.slideshare.net/mpallen/bio263-who-is-our-closest-relative](https://www.slideshare.net/mpallen/bio263-who-is-our-closest-relative)*"
   ]
  },
  {
   "cell_type": "markdown",
   "metadata": {
    "slideshow": {
     "slide_type": "slide"
    }
   },
   "source": [
    "# A More Flexible Distance\n",
    "\n",
    "We already saw how there are different kinds of mutations, so how can we reliably compare strings using something other than the Hamming Distance, which just measures the number of substitutions for going between strings?\n",
    "\n",
    "In particular, we want to define a distance between strings that uses the three operations:\n",
    "- **Substitution:** Just change one character in a string.\n",
    "    - Easiest way to go from `'maps'` to `'mops'`\n",
    "- **Insertion:** Insert a character in a given location.\n",
    "    - Easiest way to go from `'loud'` to `'aloud'`\n",
    "- **Deletion:** Just delete a character at a given location.\n",
    "    - Easiest way to go from `'spam'` to `'spa'`"
   ]
  },
  {
   "cell_type": "markdown",
   "metadata": {
    "slideshow": {
     "slide_type": "slide"
    }
   },
   "source": [
    "## An Example Revisited: `'alien'` versus `'sales'`\n",
    "\n",
    "The Hamming Distance between `s7='alien'` and `s8='sales'` is.."
   ]
  },
  {
   "cell_type": "code",
   "execution_count": 18,
   "metadata": {
    "slideshow": {
     "slide_type": "fragment"
    }
   },
   "outputs": [
    {
     "data": {
      "text/plain": [
       "4"
      ]
     },
     "execution_count": 18,
     "metadata": {},
     "output_type": "execute_result"
    }
   ],
   "source": [
    "Hamming_Distance(s7,s8)"
   ]
  },
  {
   "cell_type": "markdown",
   "metadata": {
    "slideshow": {
     "slide_type": "subslide"
    }
   },
   "source": [
    "### Counting Mutations between `'alien'` and `'sales'`\n",
    "\n",
    "We could...\n",
    "1. INSERT an `'s'` in the beginning of `'alien'` to obtain...\n",
    "    - `'salien'`\n",
    "2. DELETE an `'i'` from `'salien'` to obtain...\n",
    "    - `'salen'`\n",
    "3. SUBSTITUTE an `'n'` for `'s'` to obtain...\n",
    "    - `'sales'`"
   ]
  },
  {
   "cell_type": "markdown",
   "metadata": {
    "slideshow": {
     "slide_type": "slide"
    }
   },
   "source": [
    "# Edit Distance(s)\n",
    "\n",
    "The distance on strings that uses the above three types of mutations is called the [**Levenshtein Distance**](https://en.wikipedia.org/wiki/Levenshtein_distance) and it is one of several types of [**edit distances**](https://en.wikipedia.org/wiki/Edit_distance) which includes the Hamming Distance. However, in practice I've mostly heard people refer to the Levenshtein distance as **the edit distance**.\n",
    "\n",
    "If you take a look at this definition for computing the minimum edit distance between strings\n",
    "- a of length $m$\n",
    "- b of length $n$\n",
    "and define define $\\text{lev}_{a,b}(i,j)$ to be the edit distance between the first $i$ characters of $a$ and the first $j$ characters of $b$. \n",
    "\n",
    "You'll see straight away that recursion is involved!\n",
    "\n",
    "![Levenshtein Table](leven-table.png)\n",
    "*From [https://medium.com/@ethannam/understanding-the-levenshtein-distance-equation-for-beginners-c4285a5604f0](https://medium.com/@ethannam/understanding-the-levenshtein-distance-equation-for-beginners-c4285a5604f0)*\n"
   ]
  },
  {
   "cell_type": "markdown",
   "metadata": {
    "slideshow": {
     "slide_type": "slide"
    }
   },
   "source": [
    "## Step 1: Thinking About Base Cases\n",
    "\n",
    "If we think about the line\n",
    "$$\\max(i,j) \\qquad \\text{if} \\min(i,j)=0$$\n",
    "What this is saying is that if one of the strings is empty, then return the length of the other string.\n",
    "\n",
    "Said in Python we can start our definition of the edit distance using the following code block\n",
    "\n",
    "```python\n",
    "def edit_distance1(s,t):\n",
    "    if len(s)==0 or len(t) ==0:\n",
    "        return max(len(s),len(t))\n",
    "```"
   ]
  },
  {
   "cell_type": "markdown",
   "metadata": {
    "slideshow": {
     "slide_type": "slide"
    }
   },
   "source": [
    "## Step 2: Easy Recursive Case\n",
    "\n",
    "Additionally, if two strings `s` and `t` have the same starting character, i.e. `s[0]==t[0]` then we can compute the edit distance on the rest of the string, i.e.\n",
    "\n",
    "```python\n",
    "def edit_distance2(s,t):\n",
    "    if len(s)==0 or len(t) ==0:\n",
    "        return max(len(s),len(t))\n",
    "    if s[0]==t[0]:\n",
    "        return edit_distance2(s[1:],t[1:])\n",
    "```"
   ]
  },
  {
   "cell_type": "markdown",
   "metadata": {
    "slideshow": {
     "slide_type": "slide"
    }
   },
   "source": [
    "## Step 3: Recursing Via 3 Strategies\n",
    "\n",
    "We now emulate the \"Use it\" or \"Lose it\" strategy of the Subset-Sum problem that we considered last time.\n",
    "\n",
    "What happens if `s` and `t` **DON'T** have the same starting character then we can either use a substitution to make them match and then recurse on the remaining string:\n",
    "- `substitution = 1 + edit_distance(s[1:],t[1:])`\n",
    "\n",
    "Or we can try deleting the first character of the first string and recurse on the shorter first string and the full second string:\n",
    "- `deletion = 1 + edit_distance(s[1:],t)`\n",
    "\n",
    "Or we can try inserting a character in the front of `s` so that it matches the first character of `t` and then recurse on the edit distance between the original (before insertion) string `s` and the rest of `t`. Alternatively you can think of this as deleting the first character of the second string:\n",
    "- `insertion = 1 + edit_distance(s,t[1:])`"
   ]
  },
  {
   "cell_type": "code",
   "execution_count": 8,
   "metadata": {
    "slideshow": {
     "slide_type": "slide"
    }
   },
   "outputs": [
    {
     "data": {
      "text/plain": [
       "3"
      ]
     },
     "execution_count": 8,
     "metadata": {},
     "output_type": "execute_result"
    }
   ],
   "source": [
    "def edit_distance(s,t):\n",
    "    \"\"\"Given two strings s and t it returns the edit distance between them\"\"\"\n",
    "    if len(s)==0 or len(t) ==0:\n",
    "        return max(len(s),len(t))\n",
    "    if s[0]==t[0]:\n",
    "        return edit_distance(s[1:],t[1:])\n",
    "    else:\n",
    "        substitution = 1 + edit_distance(s[1:], t[1:])\n",
    "        deletion = 1 + edit_distance(s[1:], t)\n",
    "        insertion = 1 + edit_distance(s, t[1:])\n",
    "        return min(substitution, deletion, insertion)\n",
    "        #return substitution\n",
    "#edit_distance('aloud','loud')\n",
    "edit_distance('alien','sales')"
   ]
  },
  {
   "cell_type": "markdown",
   "metadata": {
    "slideshow": {
     "slide_type": "slide"
    }
   },
   "source": [
    "## Reflection Questions\n",
    "- Is `edit_distance` symmetric? I.e. is `edit_distance(s,t)==edit_distance(t,s)` `True`?\n",
    "- Is it non-negative?\n",
    "- Does it satisfy the triangle inequality?"
   ]
  },
  {
   "cell_type": "code",
   "execution_count": null,
   "metadata": {},
   "outputs": [],
   "source": []
  }
 ],
 "metadata": {
  "celltoolbar": "Slideshow",
  "kernelspec": {
   "display_name": "Python 3",
   "language": "python",
   "name": "python3"
  },
  "language_info": {
   "codemirror_mode": {
    "name": "ipython",
    "version": 3
   },
   "file_extension": ".py",
   "mimetype": "text/x-python",
   "name": "python",
   "nbconvert_exporter": "python",
   "pygments_lexer": "ipython3",
   "version": "3.7.4"
  }
 },
 "nbformat": 4,
 "nbformat_minor": 2
}
