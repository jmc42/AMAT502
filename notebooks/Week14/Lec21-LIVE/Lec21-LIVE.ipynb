{
 "cells": [
  {
   "cell_type": "markdown",
   "metadata": {},
   "source": [
    "# Lecture 21 LIVE\n",
    "\n",
    "## Topics for Today\n",
    "- Alien Coin Flips\n",
    "    - Review of Bayesian Inference\n",
    "    - Special Case of Bayes' Rule\n",
    "    - Practice in Plotting\n",
    "- Final Project Proposals \n",
    "    - **IDEAS Due Monday, November 15th, 2021. WRITEUPS Due Wednesday, November 17th, 2021 via email**"
   ]
  },
  {
   "cell_type": "markdown",
   "metadata": {},
   "source": [
    "# Alien Coin Flips and Inference\n",
    "\n",
    "![Alien Coin](alien-coin.png)\n",
    "*Picture from [this dubious article](https://www.thesun.co.uk/living/1976877/could-these-creepy-coins-prove-that-aliens-lived-among-the-ancient-egyptians/)*\n",
    "## The Problem\n",
    "\n",
    "Suppose we are visitors from a remote galaxy and we discover a coin from past visitors to Earth. \n",
    "\n",
    "We might have no idea how likely a heads is. So we assume a uniform prior on the probability of a heads. \n",
    "\n",
    "**Suppose we flip the above coin 20 times and get 7 (alien) heads.** \n",
    "\n",
    "**We want to compute the posterior distribution on the probability of heads given the observed data.**\n"
   ]
  },
  {
   "cell_type": "markdown",
   "metadata": {},
   "source": [
    "## Review of Bayesian Inference\n",
    "\n",
    "In Lecture we gave the following version of Bayes' Rule in order to discuss inference.\n",
    "\n",
    "$$P(H | D) = \\frac{P(D | H) P(H)}{P(D)}$$\n",
    "\n",
    "- $P(H)$ is the **prior**. It is the probability that the hypothesis is true (or that our model parameters lie in some range)\n",
    "- $P(H|D)$ is the **posterior**. It is the probability that $H$ is true, given the data $D$.\n",
    "- $P(D|H)$ is the **likelihood** of the data given the hypothesis $H$. This gives *evidence* for $H$.\n",
    "- $P(D)$ is the probability of the data, aggregated over all possible hypotheses.\n",
    "\n",
    "For this problem we're focusing not so much on probabilities, but the PDFs of a continuously varying random variable that models our hypothesis.\n",
    "\n",
    "## A More Formal Version of Bayes' Rule\n",
    "\n",
    "$$f_{\\Theta | X} (r | X=k) = \\frac{f_{\\Theta}(r) p_{X|\\Theta}(k | r)}{\\int f_{\\Theta}(r') p_{X|\\Theta}(k | r') dr'}$$\n",
    "\n",
    "Here we assume \n",
    "- $\\Theta$ is a continuous random variable that encodes our hypothesis about model parameters.\n",
    "    - We write $f_{\\Theta}(r)$ for the prior PDF\n",
    "- $X$ is a discrete random variable that encodes our observed data.\n",
    "    - We write $p_{X|\\Theta}(k | r)$ for the conditional PMF\n",
    "- The conditional distribution for $\\Theta$ given the observed data that $X=k$ is $f_{\\Theta | X} (r | X=k)$"
   ]
  },
  {
   "cell_type": "markdown",
   "metadata": {},
   "source": [
    "### Q1: Plot the Prior\n",
    "\n",
    "Assume that the prior distribution on the probability of getting a heads is $$f_{\\Theta}(r) \\sim \\text{Unif}[0,1]$$\n",
    "\n",
    "This means that $$f_{\\Theta}(r) = \\mathbb{1}_{[0,1]}$$ where $\\mathbb{1}_{[0,1]}$ is the function that is 1 when $r\\in [0,1]$ and 0 when $r\\notin [0,1]$.\n",
    "\n",
    "**Make a plot of a uniform distribution on $[0,1]$ below where the values for $r$ range between -.1 and 1.1.**\n",
    "\n",
    "You may find the following functions useful.\n",
    "\n",
    "```python\n",
    "def unif(x):\n",
    "    if (x < 0) or (x>1):\n",
    "        return 0\n",
    "    else:\n",
    "        return 1\n",
    "```"
   ]
  },
  {
   "cell_type": "code",
   "execution_count": 1,
   "metadata": {},
   "outputs": [],
   "source": [
    "import numpy as np\n",
    "\n",
    "import seaborn as sns\n",
    "import matplotlib.pyplot as plt\n",
    "%matplotlib inline\n",
    "from scipy import stats\n",
    "\n",
    "## Useful Math Functions\n",
    "\n",
    "def unif(x):\n",
    "    if (x < 0) or (x>1):\n",
    "        return 0\n",
    "    else:\n",
    "        return 1\n",
    "\n",
    "## Code for plotting uniform prior\n"
   ]
  },
  {
   "cell_type": "markdown",
   "metadata": {},
   "source": [
    "### Q2: Computing the Denominator\n",
    "\n",
    "For our coin flipping example, we can see that the **numerator** of Bayes' Rule is\n",
    "$$ \\mathbb{1}_{[0,1]} \\binom{n}{k} r^k (1-r)^{n-k}$$\n",
    "\n",
    "The **denominator** in Bayes' rule for the coin flipping example is then\n",
    "$$(\\star) \\int_{-\\infty}^{\\infty} \\mathbb{1}_{[0,1]} \\binom{n}{k} r^k (1-r)^{n-k} dr$$\n",
    "\n",
    "This is a hard integral to compute, so you may use the fact that\n",
    "$$\\int_0^1 r^{\\alpha -1}(1-r)^{\\beta -1} dr = B(\\alpha,\\beta) = \\frac{(\\alpha -1)!(\\beta-1)!}{(\\alpha+\\beta-1)!}$$\n",
    "\n",
    "### Q2: Part A \n",
    "\n",
    "**Using the equation above, compute the integral next to $(\\star)$**"
   ]
  },
  {
   "cell_type": "markdown",
   "metadata": {},
   "source": [
    "*Type your answer here* "
   ]
  },
  {
   "cell_type": "markdown",
   "metadata": {},
   "source": [
    "### Q2: Part B\n",
    "Given that this computes the probability of the observed data, namely that out of $n$ flips we got $k$ heads, assuming the prior distribution was true, **why does the answer to Q2: Part A make sense?**"
   ]
  },
  {
   "cell_type": "markdown",
   "metadata": {},
   "source": [
    "*Type your answer here*"
   ]
  },
  {
   "cell_type": "markdown",
   "metadata": {},
   "source": [
    "### Q3: Plot the Posterior Distribution\n",
    "\n",
    "Write a function `posteriorDist(n,k,r)` that computes the PDF of $r$ given the observation that out of $n$ flips there were $k$ heads. Mathematically this function is given by the formula\n",
    "$$\\frac{1}{(\\star)} \\mathbb{1}_{[0,1]} \\binom{n}{k}r^k (1-r)^{n-k}$$\n",
    "where $(\\star)$ was determined in Q2: Part A.\n",
    "\n",
    "**Use the `posteriorDist(n,k,r)` function to plot the prior and posterior distributions for $r$ ranging between -.1 and 1.1 where $n=20$ and $k=7$.**\n",
    "\n",
    "You may find the following code useful\n",
    "\n",
    "```python\n",
    "import scipy.special as sp\n",
    "\n",
    "def BinomialPMF(n,k,r):\n",
    "    \"\"\"Assumes n is number of trials,\n",
    "    k is the number of successes,\n",
    "    r is the probability of a success in each trial.\n",
    "    Returns the probability of that event.\"\"\"\n",
    "    return sp.binom(n,k)*(r**k)*(1-r)**(n-k)\n",
    "```"
   ]
  },
  {
   "cell_type": "code",
   "execution_count": 2,
   "metadata": {},
   "outputs": [],
   "source": [
    "import scipy.special as sp\n",
    "\n",
    "def unif(x):\n",
    "    if (x < 0) or (x>1):\n",
    "        return 0\n",
    "    else:\n",
    "        return 1\n",
    "\n",
    "def BinomialPMF(n,k,r):\n",
    "    \"\"\"Assumes n is number of trials,\n",
    "    k is the number of successes,\n",
    "    r is the probability of a success in each trial.\n",
    "    Returns the probability of that event.\"\"\"\n",
    "    return sp.binom(n,k)*(r**k)*(1-r)**(n-k)\n",
    "\n",
    "## WRITE YOUR FUNCTION HERE AND PLOT BOTH PRIOR AND POSTERIOR"
   ]
  },
  {
   "cell_type": "code",
   "execution_count": null,
   "metadata": {},
   "outputs": [],
   "source": []
  }
 ],
 "metadata": {
  "kernelspec": {
   "display_name": "Python 3",
   "language": "python",
   "name": "python3"
  },
  "language_info": {
   "codemirror_mode": {
    "name": "ipython",
    "version": 3
   },
   "file_extension": ".py",
   "mimetype": "text/x-python",
   "name": "python",
   "nbconvert_exporter": "python",
   "pygments_lexer": "ipython3",
   "version": "3.7.4"
  }
 },
 "nbformat": 4,
 "nbformat_minor": 2
}
