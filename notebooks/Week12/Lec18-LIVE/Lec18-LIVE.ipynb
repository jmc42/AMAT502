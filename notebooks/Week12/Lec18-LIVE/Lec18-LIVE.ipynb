{
 "cells": [
  {
   "cell_type": "markdown",
   "metadata": {},
   "source": [
    "# Lecture 18 LIVE\n",
    "\n",
    "## Topics for Today\n",
    "- Understanding Cluster Purity\n",
    "- Trying Pre-Processing on MNIST"
   ]
  },
  {
   "cell_type": "markdown",
   "metadata": {},
   "source": [
    "## Accuracy of Clustering Algorithms\n",
    "\n",
    "Today I want to make sure people understand how cluster purity is defined and be able to explain how the following code works, which is part of **Project K-Means.**\n",
    "\n",
    "### Question 1: Warmup Math Calculation\n",
    "\n",
    "Compute each clusters purity and the overall purity for the following clustering of labeled data:\n",
    "\n",
    "$$\\{A, A, A, A, B, B\\}, \\{B, B, B, C, C, C\\}, \\{C,C,D,D,D,\\}, \\{D,F,F,F\\}, \\{F,F,F,F\\}$$"
   ]
  },
  {
   "cell_type": "code",
   "execution_count": 1,
   "metadata": {},
   "outputs": [
    {
     "data": {
      "text/plain": [
       "0.68"
      ]
     },
     "execution_count": 1,
     "metadata": {},
     "output_type": "execute_result"
    }
   ],
   "source": [
    "17/25"
   ]
  },
  {
   "cell_type": "markdown",
   "metadata": {},
   "source": [
    "### Question 2: Oral Explanation\n",
    "\n",
    "Present *as a group* an explanation of how the following code works. \n",
    "\n",
    "```python\n",
    "def clusters_stats(predict, y, num_clusters=5):\n",
    "    stats = np.zeros((num_clusters,3))\n",
    "    for i in range(num_clusters):\n",
    "        indices = np.where(predict == i)\n",
    "        cluster = y[indices]\n",
    "        stats[i,:] = clust_stats(cluster, num_clusters)\n",
    "    return stats\n",
    "        \n",
    "def clust_stats(cluster, num_clusters=5):\n",
    "    class_freq = np.zeros(num_clusters)\n",
    "    for i in range(num_clusters):\n",
    "        class_freq[i] = np.count_nonzero(cluster == i)\n",
    "    most_freq = np.argmax(class_freq)\n",
    "    n_majority = np.max(class_freq)\n",
    "    n_all = np.sum(class_freq)\n",
    "    return (n_majority, n_all, most_freq)\n",
    "    \n",
    "def clusters_purity(clusters_stats, num_clusters=5):\n",
    "    majority_sum  = clusters_stats[:,0].sum()\n",
    "    n = clusters_stats[:,1].sum()\n",
    "    return majority_sum / n\n",
    "```"
   ]
  },
  {
   "cell_type": "code",
   "execution_count": null,
   "metadata": {},
   "outputs": [],
   "source": []
  },
  {
   "cell_type": "markdown",
   "metadata": {},
   "source": [
    "### Question 3: Code Execution\n",
    "\n",
    "Use the code above to confirm the calculations from Question 1."
   ]
  },
  {
   "cell_type": "code",
   "execution_count": null,
   "metadata": {},
   "outputs": [],
   "source": []
  },
  {
   "cell_type": "markdown",
   "metadata": {},
   "source": [
    "## BONUS: Pre-Processing\n",
    "\n",
    "Try re-running the calculations from Lecture 18 by first applying the rescaling pre-processing. How much does your clustering purity or your KNN classification error change?"
   ]
  },
  {
   "cell_type": "code",
   "execution_count": null,
   "metadata": {},
   "outputs": [],
   "source": []
  }
 ],
 "metadata": {
  "kernelspec": {
   "display_name": "Python 3",
   "language": "python",
   "name": "python3"
  },
  "language_info": {
   "codemirror_mode": {
    "name": "ipython",
    "version": 3
   },
   "file_extension": ".py",
   "mimetype": "text/x-python",
   "name": "python",
   "nbconvert_exporter": "python",
   "pygments_lexer": "ipython3",
   "version": "3.7.4"
  }
 },
 "nbformat": 4,
 "nbformat_minor": 2
}
