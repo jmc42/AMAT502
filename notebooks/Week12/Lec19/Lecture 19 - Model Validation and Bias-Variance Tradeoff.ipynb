{
 "cells": [
  {
   "cell_type": "markdown",
   "metadata": {
    "slideshow": {
     "slide_type": "slide"
    }
   },
   "source": [
    "# AMAT 502: Modern Computing for Mathematicians\n",
    "## Lecture 19 - Model Validation and the Bias-Variance Tradeoff\n",
    "### University at Albany SUNY"
   ]
  },
  {
   "cell_type": "markdown",
   "metadata": {
    "slideshow": {
     "slide_type": "slide"
    }
   },
   "source": [
    "# Topics for Today\n",
    "\n",
    "- Recommended Reading from Vanderplas\n",
    "- Recap of the Data Science Pipeline\n",
    "- Model Validation\n",
    "    - Physics versus Data Science\n",
    "    - Under and Overfitting Data\n",
    "    - $R^2$---The Coefficient of Determination\n",
    "    - The Bias-Variance Tradeoff\n",
    "- Case Study in Polynomial Regression\n",
    "- Case Study in KNN and the Iris Data Set\n",
    "    - k-Fold Cross Validation"
   ]
  },
  {
   "cell_type": "markdown",
   "metadata": {
    "slideshow": {
     "slide_type": "slide"
    }
   },
   "source": [
    "## Recommended Reading: VanderPlas\n",
    "\n",
    "I recommend that everyone read Jake VanderPlas's [Data Science Handbook](https://github.com/jakevdp/PythonDataScienceHandbook) especially, Chapter 5 on Machine learning. Chaper 4 contains lots of instructions on plotting that will be useful for your final projects. Today's lecture will mostly follow [Secton 5.03 on Hyperparameters and Model Validation](https://jakevdp.github.io/PythonDataScienceHandbook/05.03-hyperparameters-and-model-validation.html).\n",
    "\n",
    "I *highly* recommend that everyone read VanderPlas's [Introduction to Scikit-learn](https://jakevdp.github.io/PythonDataScienceHandbook/05.02-introducing-scikit-learn.html) so that you have a more formal understanding of the Scikit-Learn API (API=Application Programming Interface). We'll go through a salient portion of that section to start. \n"
   ]
  },
  {
   "cell_type": "markdown",
   "metadata": {
    "slideshow": {
     "slide_type": "slide"
    }
   },
   "source": [
    "## The Scikit-Learn Data Science Pipeline\n",
    "\n",
    "1. **Choose a class of model**\n",
    "2. **Instantiate this class**\n",
    "3. **Shape your data into a features matrix and target vector**. For example, `X` is a matrix (Pandas dataFrame) with `m_samples` rows and `n_features` columns. The target vector `y` is just a length `m_samples` array/column vector.\n",
    "4. **Fit the model to your data** by calling the `fit()` method of the model instance, e.g. call `model.fit(X,y)`\n",
    "5. **Apply the model to new/reserved data**:\n",
    "    - For supervised learning, often we predict labels for unknown data using the `predict()` method, e.g. `xfit = np.linspace(-1, 11)`  and then `yfit = model.predict(Xfit)`\n",
    "    - For unsupervised learning, we often transform or infer properties of the data using the `transform()` or `predict()` method.\n",
    "\n",
    "### Quick Recall Question \n",
    "\n",
    "- **Give 2 examples of a supervised learning and 2 examples of an unsupervised learning method.**\n",
    "\n",
    "- **Did they use the `predict()` or the `transform()` method respectively?**\n"
   ]
  },
  {
   "cell_type": "markdown",
   "metadata": {
    "slideshow": {
     "slide_type": "slide"
    }
   },
   "source": [
    "## Simple Linear Regression Example"
   ]
  },
  {
   "cell_type": "code",
   "execution_count": 2,
   "metadata": {
    "slideshow": {
     "slide_type": "fragment"
    }
   },
   "outputs": [
    {
     "data": {
      "image/png": "[encoded data removed]",
      "text/plain": [
       "<Figure size 432x288 with 1 Axes>"
      ]
     },
     "metadata": {
      "needs_background": "light"
     },
     "output_type": "display_data"
    }
   ],
   "source": [
    "import matplotlib.pyplot as plt\n",
    "import numpy as np\n",
    "\n",
    "rng = np.random.RandomState(42)\n",
    "x = 10 * rng.rand(50)\n",
    "y = 2 * x - 1 + rng.randn(50)\n",
    "plt.scatter(x, y);"
   ]
  },
  {
   "cell_type": "markdown",
   "metadata": {
    "slideshow": {
     "slide_type": "slide"
    }
   },
   "source": [
    "### Step 1: Choose a class of model by importing the appropriate estimator class from Scikit-Learn"
   ]
  },
  {
   "cell_type": "code",
   "execution_count": 3,
   "metadata": {
    "slideshow": {
     "slide_type": "fragment"
    }
   },
   "outputs": [],
   "source": [
    "from sklearn.linear_model import LinearRegression"
   ]
  },
  {
   "cell_type": "markdown",
   "metadata": {
    "slideshow": {
     "slide_type": "slide"
    }
   },
   "source": [
    "### Step 2: Choose model hyperparameters by instantiating this class with desired attributes"
   ]
  },
  {
   "cell_type": "code",
   "execution_count": 4,
   "metadata": {
    "slideshow": {
     "slide_type": "fragment"
    }
   },
   "outputs": [],
   "source": [
    "# here we create an instance of the class LinearRegression (think back to OOP)\n",
    "model = LinearRegression(fit_intercept=True)"
   ]
  },
  {
   "cell_type": "markdown",
   "metadata": {
    "slideshow": {
     "slide_type": "slide"
    }
   },
   "source": [
    "### Step 3: Arrange data into a features matrix and target vector"
   ]
  },
  {
   "cell_type": "code",
   "execution_count": 7,
   "metadata": {
    "slideshow": {
     "slide_type": "fragment"
    }
   },
   "outputs": [
    {
     "data": {
      "text/plain": [
       "(50, 1)"
      ]
     },
     "execution_count": 7,
     "metadata": {},
     "output_type": "execute_result"
    }
   ],
   "source": [
    "X = x[:, np.newaxis]\n",
    "X.shape\n",
    "#x.shape"
   ]
  },
  {
   "cell_type": "markdown",
   "metadata": {
    "slideshow": {
     "slide_type": "slide"
    }
   },
   "source": [
    "### Step 4: Fit the model to the data"
   ]
  },
  {
   "cell_type": "code",
   "execution_count": 8,
   "metadata": {
    "slideshow": {
     "slide_type": "fragment"
    }
   },
   "outputs": [
    {
     "data": {
      "text/plain": [
       "LinearRegression(copy_X=True, fit_intercept=True, n_jobs=None, normalize=False)"
      ]
     },
     "execution_count": 8,
     "metadata": {},
     "output_type": "execute_result"
    }
   ],
   "source": [
    "model.fit(X, y)"
   ]
  },
  {
   "cell_type": "code",
   "execution_count": 9,
   "metadata": {
    "slideshow": {
     "slide_type": "fragment"
    }
   },
   "outputs": [
    {
     "data": {
      "text/plain": [
       "array([1.9776566])"
      ]
     },
     "execution_count": 9,
     "metadata": {},
     "output_type": "execute_result"
    }
   ],
   "source": [
    "model.coef_"
   ]
  },
  {
   "cell_type": "code",
   "execution_count": 10,
   "metadata": {
    "slideshow": {
     "slide_type": "fragment"
    }
   },
   "outputs": [
    {
     "data": {
      "text/plain": [
       "-0.9033107255311164"
      ]
     },
     "execution_count": 10,
     "metadata": {},
     "output_type": "execute_result"
    }
   ],
   "source": [
    "model.intercept_"
   ]
  },
  {
   "cell_type": "markdown",
   "metadata": {
    "slideshow": {
     "slide_type": "slide"
    }
   },
   "source": [
    "### Comment on Underscore Notation\n",
    "\n",
    "See [this article](https://dbader.org/blog/meaning-of-underscores-in-python) on the different ways the `_` notation is used in Python.\n",
    "\n",
    "I extracted this summary from the above article:\n",
    "\n",
    "![Underscore Summary](underscore_summary.png)\n"
   ]
  },
  {
   "cell_type": "markdown",
   "metadata": {
    "slideshow": {
     "slide_type": "slide"
    }
   },
   "source": [
    "### Step 5: Make Predictions"
   ]
  },
  {
   "cell_type": "code",
   "execution_count": 13,
   "metadata": {
    "slideshow": {
     "slide_type": "fragment"
    }
   },
   "outputs": [
    {
     "data": {
      "image/png": "[encoded data removed]",
      "text/plain": [
       "<Figure size 432x288 with 1 Axes>"
      ]
     },
     "metadata": {
      "needs_background": "light"
     },
     "output_type": "display_data"
    }
   ],
   "source": [
    "xfit = np.linspace(-1, 11)\n",
    "Xfit = xfit[:, np.newaxis]\n",
    "yfit = model.predict(Xfit)\n",
    "\n",
    "plt.scatter(x, y)\n",
    "plt.plot(xfit, yfit);"
   ]
  },
  {
   "cell_type": "markdown",
   "metadata": {
    "slideshow": {
     "slide_type": "slide"
    }
   },
   "source": [
    "## Model Validation: Physics versus Data Science\n",
    "\n",
    "### Key Question: Causation vs. Correlation\n",
    "\n",
    "**How do we know when a chosen model is a good (correct) one?**\n",
    "\n",
    "I propose two possible answers.\n",
    "\n",
    "1. If there is an underlying **causal explanation** that when modeled mathematically produces the choice of model, then we are likely to believe in the model.\n",
    "2. Alternatively, if we can come up with a model that **fits the data** better than any other model, then we are likely to believe in the model.\n",
    "\n",
    "Notice that **Reason 1** described above lies within the tradition of physics. One uses basic physical laws to model a problem and solving the appropriate equations (Newton's equations, Schrödinger's wave equations, et al) gives the specifically chosen model. However **Reason 1** is totally useless in most data science applications today, such as this one: \n",
    "\n",
    "> In predictive political science, one might want to know how living in a rural or urban area predicts ones choice of presidential candidate. \n",
    "\n",
    "**Is it the case that one can write down physical laws that causally determine one's voting preference?** \n",
    "\n",
    "The answer to the above question is clearly **NO.** This would contradict the widely held belief of *free will.*\n",
    "Nevertheless, it has [been observed empirically](https://www.pewsocialtrends.org/2018/05/22/urban-suburban-and-rural-residents-views-on-key-social-and-political-issues/) that where you live does have a strong correlation with political preference. \n",
    "\n",
    "Consequently, there are areas where non-causal models are the best we can hope for, such as K-nearest neighbors (KNN).\n",
    "\n",
    "**Question:** Do you think KNN is actually a non-causal model?"
   ]
  },
  {
   "cell_type": "markdown",
   "metadata": {
    "slideshow": {
     "slide_type": "slide"
    }
   },
   "source": [
    "## Under and Over Fitting Data\n",
    "\n",
    "### A Word of Caution\n",
    "\n",
    "Of course just fitting the data without some broader principles or heuristics is not wise either.\n",
    "\n",
    "For example, we know by [Lagrange's Interpolation Formula](https://en.wikipedia.org/wiki/Lagrange_polynomial#targetText=In%20numerical%20analysis%2C%20Lagrange%20polynomials,functions%20coincide%20at%20each%20point) that we can find a polynomial that passes through every point in our *training* data set. This is the canonical example of **over-fitting** that I gave in my first lecture on regression.\n",
    "\n",
    "**Question:** What are the approximate degrees of each of these polynomials?\n",
    "\n",
    "<center>\n",
    "    <img src=\"bias-variance.png\" alt=\"The Bias Variance Tradeoff\" width=\"1000\" height=\"800\">\n",
    "</center>"
   ]
  },
  {
   "cell_type": "markdown",
   "metadata": {
    "slideshow": {
     "slide_type": "slide"
    }
   },
   "source": [
    "## Testing the Quality of the Model\n",
    "\n",
    "Recall that we can either **split the data** into training and test samples `X_train` and `X_test` or we can just generate new samples and predict their targets using the training model. Usually we do the former.\n",
    "\n",
    "Luckily, just because an over-fitted model can (near) perfectly predict the targets values of the training data set, that doesn't mean it will do well on the test data set. Consequently, *this gives us a way of validating a model without physical laws!* \n",
    "\n",
    "### Quick summary of $R^2$\n",
    "\n",
    "The $R^2$ value is the coefficient of determination, which is\n",
    "$$R^{2}=1-{SS_{\\rm {res}} \\over SS_{\\rm {tot}}}$$\n",
    "where\n",
    "$$SS_{\\text{tot}}=\\sum _{i}(y_{i}-{\\bar {y}})^{2}$$\n",
    "is the **variance in the in the data** and\n",
    "$$SS_{\\text{res}}=\\sum _{i}(y_{i}-f_{i})^{2}=\\sum _{i}e_{i}^{2}$$\n",
    "is the **sum of the squared errors** between the prediction and the actual value.\n",
    "\n",
    "<center>\n",
    "    <img src=\"bias-variance-2.png\" alt=\"Testing the Bias-Variance Tradeoff\" width=\"1000\" height=\"800\">\n",
    "</center>"
   ]
  },
  {
   "cell_type": "markdown",
   "metadata": {
    "slideshow": {
     "slide_type": "slide"
    }
   },
   "source": [
    "## The Bias-Variance Tradeoff\n",
    "\n",
    "- For **high-bias models** the performance of the model on the validation set **is similar** to the performance on the training set.\n",
    "- For **high-variance models** the performance of the model on the validation set **is far worse** than the performance on the training set."
   ]
  },
  {
   "cell_type": "markdown",
   "metadata": {
    "slideshow": {
     "slide_type": "slide"
    }
   },
   "source": [
    "## The Validation Curve\n",
    "\n",
    "For example, if we consider the *degree of the polynomial* as a measure of *model complexity* then we obtain the following curve. \n",
    "\n",
    "*Note that the best model is one that maximizes the validation score*\n",
    "\n",
    "<center>\n",
    "    <img src=\"validation-curve.png\" alt=\"Validation Curve\" width=\"600\" height=\"400\">\n",
    "</center>"
   ]
  },
  {
   "cell_type": "markdown",
   "metadata": {
    "slideshow": {
     "slide_type": "slide"
    }
   },
   "source": [
    "## The Validation Curve: Polynomial Regression Example\n",
    "\n",
    "To consider an actual example, we follow VanderPlas's subsection of 5.03 on Validation Curves in Scikit-Learn."
   ]
  },
  {
   "cell_type": "code",
   "execution_count": 14,
   "metadata": {
    "slideshow": {
     "slide_type": "fragment"
    }
   },
   "outputs": [],
   "source": [
    "from sklearn.preprocessing import PolynomialFeatures\n",
    "from sklearn.linear_model import LinearRegression\n",
    "from sklearn.pipeline import make_pipeline\n",
    "\n",
    "#**kwargs is like *args in that they allow a variable number of arguments to be passed\n",
    "def PolynomialRegression(degree=2, **kwargs):\n",
    "    return make_pipeline(PolynomialFeatures(degree),\n",
    "                         LinearRegression(**kwargs))"
   ]
  },
  {
   "cell_type": "markdown",
   "metadata": {
    "slideshow": {
     "slide_type": "slide"
    }
   },
   "source": [
    "### Generating Synethetic Data\n",
    "\n",
    "**Question:** In the following code block, what is the actual function describing $y=f(x)$?\n",
    "\n",
    "$$y= 10 - \\frac{1}{x+.1}$$"
   ]
  },
  {
   "cell_type": "code",
   "execution_count": 15,
   "metadata": {
    "slideshow": {
     "slide_type": "fragment"
    }
   },
   "outputs": [],
   "source": [
    "import numpy as np\n",
    "\n",
    "def make_data(N, err=1.0, rseed=1):\n",
    "    # randomly sample the data\n",
    "    rng = np.random.RandomState(rseed)\n",
    "    X = rng.rand(N, 1) ** 2\n",
    "    y = 10 - 1. / (X.ravel() + 0.1)\n",
    "    if err > 0:\n",
    "        y += err * rng.randn(N)\n",
    "    return X, y\n",
    "\n",
    "X, y = make_data(40)"
   ]
  },
  {
   "cell_type": "code",
   "execution_count": 16,
   "metadata": {
    "slideshow": {
     "slide_type": "slide"
    }
   },
   "outputs": [
    {
     "data": {
      "image/png": "[encoded data removed]",
      "text/plain": [
       "<Figure size 432x288 with 1 Axes>"
      ]
     },
     "metadata": {},
     "output_type": "display_data"
    }
   ],
   "source": [
    "#%matplotlib inline\n",
    "import matplotlib.pyplot as plt\n",
    "import seaborn; seaborn.set()  # plot formatting\n",
    "\n",
    "X_test = np.linspace(-0.1, 1.1, 500)[:, None]\n",
    "\n",
    "plt.scatter(X.ravel(), y, color='black')\n",
    "axis = plt.axis()\n",
    "for degree in [1, 3, 5]:\n",
    "    y_test = PolynomialRegression(degree).fit(X, y).predict(X_test)\n",
    "    plt.plot(X_test.ravel(), y_test, label='degree={0}'.format(degree))\n",
    "plt.xlim(-0.1, 1.0)\n",
    "plt.ylim(-2, 12)\n",
    "plt.legend(loc='best');"
   ]
  },
  {
   "cell_type": "markdown",
   "metadata": {
    "slideshow": {
     "slide_type": "slide"
    }
   },
   "source": [
    "### Scikit-learn's Validation Curve Function"
   ]
  },
  {
   "cell_type": "code",
   "execution_count": 17,
   "metadata": {
    "slideshow": {
     "slide_type": "fragment"
    }
   },
   "outputs": [
    {
     "data": {
      "image/png": "[encoded data removed]",
      "text/plain": [
       "<Figure size 432x288 with 1 Axes>"
      ]
     },
     "metadata": {},
     "output_type": "display_data"
    }
   ],
   "source": [
    "#N.B. VanderPlas is out of date, sklearn.learning_curve has been replaced with sklearn.model_selection\n",
    "from sklearn.model_selection import validation_curve\n",
    "degree = np.arange(0, 21)\n",
    "train_score, val_score = validation_curve(PolynomialRegression(), X, y,\n",
    "                                          'polynomialfeatures__degree', degree, cv=7)\n",
    "\n",
    "plt.plot(degree, np.median(train_score, 1), color='blue', label='training score')\n",
    "plt.plot(degree, np.median(val_score, 1), color='red', label='validation score')\n",
    "plt.legend(loc='best')\n",
    "plt.ylim(0, 1)\n",
    "plt.xlabel('degree')\n",
    "plt.ylabel('score');"
   ]
  },
  {
   "cell_type": "markdown",
   "metadata": {
    "slideshow": {
     "slide_type": "slide"
    }
   },
   "source": [
    "## More Data Isn't Always Better\n",
    "\n",
    "Unfortunately as the size of the training set increases, the validation curve tends to approach the training score curve. This yields **the learning curve**.\n",
    "\n",
    "<center>\n",
    "    <img src=\"learning-curve2.png\" alt=\"Validation Curve\" width=\"600\" height=\"400\">\n",
    "</center>"
   ]
  },
  {
   "cell_type": "markdown",
   "metadata": {
    "slideshow": {
     "slide_type": "slide"
    }
   },
   "source": [
    "## Returning to our Regression Example"
   ]
  },
  {
   "cell_type": "code",
   "execution_count": 18,
   "metadata": {
    "slideshow": {
     "slide_type": "fragment"
    }
   },
   "outputs": [
    {
     "data": {
      "image/png": "[encoded data removed]",
      "text/plain": [
       "<Figure size 432x288 with 1 Axes>"
      ]
     },
     "metadata": {},
     "output_type": "display_data"
    }
   ],
   "source": [
    "X2, y2 = make_data(200)\n",
    "plt.scatter(X2.ravel(), y2);"
   ]
  },
  {
   "cell_type": "markdown",
   "metadata": {
    "slideshow": {
     "slide_type": "slide"
    }
   },
   "source": [
    "### More Data Means No Clear Model Winner\n",
    "\n",
    "Notice that the validation and training curve are plotted with respect to model complexity (degree of the polynomial) there is no clear local maximum, like it had with just 40 points and a third degree polynomial.\n",
    "\n",
    "Below the plot for 40 points is dashed, and the plot for 200 points is bold.\n",
    "\n",
    "**Question: Is VanderPlas's example a good one? For this example, is a degree 3 polynomial somehow more correct than a degree 20 polynomial?**"
   ]
  },
  {
   "cell_type": "code",
   "execution_count": 19,
   "metadata": {
    "slideshow": {
     "slide_type": "fragment"
    }
   },
   "outputs": [
    {
     "data": {
      "image/png": "[encoded data removed]",
      "text/plain": [
       "<Figure size 432x288 with 1 Axes>"
      ]
     },
     "metadata": {},
     "output_type": "display_data"
    }
   ],
   "source": [
    "degree = np.arange(21)\n",
    "train_score2, val_score2 = validation_curve(PolynomialRegression(), X2, y2,\n",
    "                                            'polynomialfeatures__degree', degree, cv=7)\n",
    "\n",
    "plt.plot(degree, np.median(train_score2, 1), color='blue', label='training score')\n",
    "plt.plot(degree, np.median(val_score2, 1), color='red', label='validation score')\n",
    "plt.plot(degree, np.median(train_score, 1), color='blue', alpha=0.3, linestyle='dashed')\n",
    "plt.plot(degree, np.median(val_score, 1), color='red', alpha=0.3, linestyle='dashed')\n",
    "plt.legend(loc='lower center')\n",
    "plt.ylim(0, 1)\n",
    "plt.xlabel('degree')\n",
    "plt.ylabel('score');"
   ]
  },
  {
   "cell_type": "markdown",
   "metadata": {
    "slideshow": {
     "slide_type": "slide"
    }
   },
   "source": [
    "## Cross-Validation and Holdout Sets\n",
    "\n",
    "We already considered a practical example, on the MNIST data set, where setting the training set to be 100% of the available data gave the result that our predictions were right 100% of the time.\n",
    "\n",
    "This is why we use **holdout sets**, which is built into the `train_test_split` function.\n",
    "\n",
    "Let's run through the Iris Data set with KNN again as an example.\n",
    "\n",
    "### First Example: The Wrong Way --- No Holdout Set"
   ]
  },
  {
   "cell_type": "code",
   "execution_count": 24,
   "metadata": {
    "slideshow": {
     "slide_type": "slide"
    }
   },
   "outputs": [
    {
     "data": {
      "text/plain": [
       "1.0"
      ]
     },
     "execution_count": 24,
     "metadata": {},
     "output_type": "execute_result"
    }
   ],
   "source": [
    "from sklearn.datasets import load_iris\n",
    "iris = load_iris()\n",
    "X = iris.data\n",
    "y = iris.target\n",
    "\n",
    "from sklearn.neighbors import KNeighborsClassifier\n",
    "model = KNeighborsClassifier(n_neighbors=1)\n",
    "\n",
    "model.fit(X, y)\n",
    "y_model = model.predict(X)\n",
    "\n",
    "from sklearn.metrics import accuracy_score\n",
    "accuracy_score(y, y_model)"
   ]
  },
  {
   "cell_type": "markdown",
   "metadata": {
    "slideshow": {
     "slide_type": "slide"
    }
   },
   "source": [
    "### Using Train_Test_Split\n",
    "\n",
    "Here we use a 50-50 split of the Iris data"
   ]
  },
  {
   "cell_type": "code",
   "execution_count": 26,
   "metadata": {
    "slideshow": {
     "slide_type": "fragment"
    }
   },
   "outputs": [
    {
     "data": {
      "text/plain": [
       "0.9066666666666666"
      ]
     },
     "execution_count": 26,
     "metadata": {},
     "output_type": "execute_result"
    }
   ],
   "source": [
    "from sklearn.model_selection import train_test_split #had to change VdP from cross_validation to model_selection\n",
    "# split the data with 50% in each set\n",
    "X1, X2, y1, y2 = train_test_split(X, y, random_state=0,\n",
    "                                  train_size=0.5)\n",
    "\n",
    "# fit the model on one set of data\n",
    "model.fit(X1, y1)\n",
    "\n",
    "# evaluate the model on the second set of data\n",
    "y2_model = model.predict(X2)\n",
    "accuracy_score(y2, y2_model)"
   ]
  },
  {
   "cell_type": "markdown",
   "metadata": {
    "slideshow": {
     "slide_type": "slide"
    }
   },
   "source": [
    "### Train on the Test and Test on the Train"
   ]
  },
  {
   "cell_type": "code",
   "execution_count": 27,
   "metadata": {
    "slideshow": {
     "slide_type": "fragment"
    }
   },
   "outputs": [
    {
     "data": {
      "text/plain": [
       "(0.96, 0.9066666666666666)"
      ]
     },
     "execution_count": 27,
     "metadata": {},
     "output_type": "execute_result"
    }
   ],
   "source": [
    "y2_model = model.fit(X1, y1).predict(X2)\n",
    "y1_model = model.fit(X2, y2).predict(X1)\n",
    "accuracy_score(y1, y1_model), accuracy_score(y2, y2_model)"
   ]
  },
  {
   "cell_type": "markdown",
   "metadata": {
    "slideshow": {
     "slide_type": "slide"
    }
   },
   "source": [
    "### K-Fold Cross Validation\n",
    "\n",
    "Luckily, there is a `cross_validation` function that automates this process.\n",
    "\n",
    "The simplest form of cross validation uses what's called **$k$-fold cross validation.** Here you divide your training data into $k$ subsets of equal size.\n",
    "\n",
    "- A model is trained using $k-1$ of the folds as training data\n",
    "\n",
    "- the resulting model is validated on the one remaining fold\n",
    "\n",
    "![Cross Validation](cross_validation.png)"
   ]
  },
  {
   "cell_type": "code",
   "execution_count": 29,
   "metadata": {
    "slideshow": {
     "slide_type": "slide"
    }
   },
   "outputs": [
    {
     "data": {
      "text/plain": [
       "array([1.        , 0.93333333, 1.        , 0.93333333, 0.86666667,\n",
       "       1.        , 0.86666667, 1.        , 1.        , 1.        ])"
      ]
     },
     "execution_count": 29,
     "metadata": {},
     "output_type": "execute_result"
    }
   ],
   "source": [
    "from sklearn.model_selection import cross_val_score\n",
    "cross_val_score(model, X, y, cv=10)"
   ]
  },
  {
   "cell_type": "code",
   "execution_count": null,
   "metadata": {},
   "outputs": [],
   "source": []
  }
 ],
 "metadata": {
  "celltoolbar": "Slideshow",
  "kernelspec": {
   "display_name": "Python 3",
   "language": "python",
   "name": "python3"
  },
  "language_info": {
   "codemirror_mode": {
    "name": "ipython",
    "version": 3
   },
   "file_extension": ".py",
   "mimetype": "text/x-python",
   "name": "python",
   "nbconvert_exporter": "python",
   "pygments_lexer": "ipython3",
   "version": "3.7.4"
  }
 },
 "nbformat": 4,
 "nbformat_minor": 2
}
