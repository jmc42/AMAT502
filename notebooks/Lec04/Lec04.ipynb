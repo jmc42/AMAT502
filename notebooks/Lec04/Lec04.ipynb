{
 "cells": [
  {
   "cell_type": "markdown",
   "metadata": {
    "slideshow": {
     "slide_type": "slide"
    }
   },
   "source": [
    "# AMAT 502: Modern Computing for Mathematicians\n",
    "## Lecture 4 - Functions, Abstraction and Recursion\n",
    "### University at Albany SUNY"
   ]
  },
  {
   "cell_type": "markdown",
   "metadata": {
    "slideshow": {
     "slide_type": "slide"
    }
   },
   "source": [
    "## Topics for Today\n",
    "\n",
    "- Functions, Keyword Arguments and Default Values\n",
    "- Docstrings\n",
    "- Abstraction\n",
    "- Recursion: Fibonacci Sequence and the Golden Ratio"
   ]
  },
  {
   "cell_type": "markdown",
   "metadata": {
    "slideshow": {
     "slide_type": "notes"
    }
   },
   "source": [
    "## Technical Details about our JupyterHub Server\n",
    "\n",
    "- Whenever you start using a notebook, whether it's a lecture or problem set, it creates a process and uses memory.\n",
    "- Whenever you're done editing. Make sure to click the \"save\" icon (floppy disk in upper left hand corner).\n",
    "- Whenever you're done working and whenever you're done with class...\n",
    "    - please click \"Kernel\" and\n",
    "    - \"Shut Down all Kernels\"\n",
    "    - this will help kill processes that are using too much memory"
   ]
  },
  {
   "cell_type": "markdown",
   "metadata": {
    "slideshow": {
     "slide_type": "slide"
    }
   },
   "source": [
    "## Function Syntax\n",
    "\n",
    "<pre>\n",
    "def <i>name of function</i>(<i>list of formal parameters</i>): #each formal parameter is separated by commas\n",
    "    <i>body of function</i> #this can be any piece of Python code\n",
    "</pre>"
   ]
  },
  {
   "cell_type": "markdown",
   "metadata": {
    "slideshow": {
     "slide_type": "slide"
    }
   },
   "source": [
    "## Function Call Flow\n",
    "\n",
    "Functions take in arguments and output values, lets break this down.\n",
    "\n",
    "1. When we call a function `f(x,y,z,w,...)` we pass it **actual parameter** values for `x,y,z,w,...`. These values can be commands, which are evaluated. The **formal parameters** are bound to the evaluated values for the actual parameters.\n",
    "2. The **point of execution** moves from the list of parameters to the first line in the code body.\n",
    "3. Code is executed line by line, until either a `return` statement is reached, in which case the value of the expression following `return` is the value of the function call. If no `return` statement is reached, then the value `None` is returned."
   ]
  },
  {
   "cell_type": "code",
   "execution_count": 6,
   "metadata": {
    "slideshow": {
     "slide_type": "subslide"
    }
   },
   "outputs": [
    {
     "name": "stdout",
     "output_type": "stream",
     "text": [
      "4\n",
      "2\n"
     ]
    }
   ],
   "source": [
    "x=2\n",
    "\n",
    "def do_nothing(x):\n",
    "    return x\n",
    "\n",
    "print(do_nothing(4))\n",
    "print(x)"
   ]
  },
  {
   "cell_type": "markdown",
   "metadata": {
    "slideshow": {
     "slide_type": "slide"
    }
   },
   "source": [
    "## Argument Evaluation\n",
    "\n",
    "Normally formal parameters are bound to actual parameter values by working from left to right, i.e. `f(4,'cat',False,10)` would bind x to 4, y to 'cat', z to `False`, and w to 10."
   ]
  },
  {
   "cell_type": "code",
   "execution_count": 7,
   "metadata": {
    "slideshow": {
     "slide_type": "slide"
    }
   },
   "outputs": [],
   "source": [
    "def mad_libs(number1,animals,case,number2):\n",
    "    if case==True:\n",
    "        return 'my ' + str(number1) + ' ' + animals + ' always kiss me ' + str(number2) + ' times'\n",
    "    else:\n",
    "        return 'my ' + str(number1) + ' ' + animals + ' never kiss me ' + str(number2) + ' times'"
   ]
  },
  {
   "cell_type": "code",
   "execution_count": 10,
   "metadata": {
    "slideshow": {
     "slide_type": "fragment"
    }
   },
   "outputs": [
    {
     "data": {
      "text/plain": [
       "'my 10 cats never kiss me 2 times'"
      ]
     },
     "execution_count": 10,
     "metadata": {},
     "output_type": "execute_result"
    }
   ],
   "source": [
    "mad_libs(10,'cats',False,2)"
   ]
  },
  {
   "cell_type": "markdown",
   "metadata": {
    "slideshow": {
     "slide_type": "slide"
    }
   },
   "source": [
    "## Keyword Arguments\n",
    "\n",
    "Alternatively, if we know the names of the variables used to define the function, we can pass these in any order."
   ]
  },
  {
   "cell_type": "code",
   "execution_count": 11,
   "metadata": {
    "slideshow": {
     "slide_type": "fragment"
    }
   },
   "outputs": [
    {
     "data": {
      "text/plain": [
       "'my 23 dogs never kiss me 41 times'"
      ]
     },
     "execution_count": 11,
     "metadata": {},
     "output_type": "execute_result"
    }
   ],
   "source": [
    "mad_libs(animals='dogs', number1=23, number2=41,case=False)"
   ]
  },
  {
   "cell_type": "markdown",
   "metadata": {
    "slideshow": {
     "slide_type": "slide"
    }
   },
   "source": [
    "## Default Values\n",
    "\n",
    "We can also set certain variables a **default value** so that we can pass fewer arguments to the function.\n",
    "\n",
    "*<b>Caveat Lector!</b> Any variable with a default value can only be followed by other variables with default values.*\n"
   ]
  },
  {
   "cell_type": "code",
   "execution_count": 14,
   "metadata": {
    "slideshow": {
     "slide_type": "fragment"
    }
   },
   "outputs": [
    {
     "data": {
      "text/plain": [
       "'my 10 cats always kiss me 42 times'"
      ]
     },
     "execution_count": 14,
     "metadata": {},
     "output_type": "execute_result"
    }
   ],
   "source": [
    "def mad_libs2(number1,animals,number2,case=True): \n",
    "    #For teaching the type of errors that can get thrown, switch the arguments for number2 and case=True\n",
    "    if case==True:\n",
    "        return 'my ' + str(number1) + ' ' + animals + ' always kiss me ' + str(number2) + ' times'\n",
    "    else:\n",
    "        return 'my ' + str(number1) + ' ' + animals + ' never kiss me ' + str(number2) + ' times'\n",
    "    \n",
    "mad_libs2(10,'cats',42)"
   ]
  },
  {
   "cell_type": "markdown",
   "metadata": {
    "slideshow": {
     "slide_type": "subslide"
    }
   },
   "source": [
    "## Class Question: \n",
    "\n",
    "**What is an example of a function that we've already considered in this class that uses default values?**"
   ]
  },
  {
   "cell_type": "markdown",
   "metadata": {
    "slideshow": {
     "slide_type": "slide"
    }
   },
   "source": [
    "## Specifying Use of a Function\n",
    "\n",
    "Consider the following code:\n",
    "\n",
    "<pre>\n",
    "def num_times(x,y):\n",
    "    #assumes x is a string or int and that y is an int and then returns either y copies of x or the int(x*y).\n",
    "    return y*x\n",
    "</pre>\n",
    "\n",
    "What does it do? And how might you tell the user without revealing the source code?"
   ]
  },
  {
   "cell_type": "markdown",
   "metadata": {
    "slideshow": {
     "slide_type": "slide"
    }
   },
   "source": [
    "## Specifications of Functions: docstrings\n",
    "\n",
    "We'd like to make the comment information available outside the function body, using a `help` function.\n",
    "\n",
    "We do this by specifying a **document string**, or **docstring** for short, by wrapping useful information in **three quotation marks**\n",
    "\n",
    "<pre>\n",
    "def num_times(x,y):\n",
    "    \"\"\"Assumes x is a string or int and that y is an int.\n",
    "        Returns either y copies of x or the integer x*y.\"\"\"\n",
    "    return y*x\n",
    "    \n",
    "help(num_times)\n",
    "</pre>"
   ]
  },
  {
   "cell_type": "code",
   "execution_count": 19,
   "metadata": {
    "slideshow": {
     "slide_type": "subslide"
    }
   },
   "outputs": [],
   "source": [
    "def num_times(x,y):\n",
    "    \"\"\"Assumes x is a string or int and that y is an int and then returns either y copies of x or the int(x*y)\"\"\"\n",
    "    return y*x\n",
    "\n",
    "#help(num_times)\n"
   ]
  },
  {
   "cell_type": "code",
   "execution_count": 21,
   "metadata": {
    "slideshow": {
     "slide_type": "subslide"
    }
   },
   "outputs": [
    {
     "name": "stdout",
     "output_type": "stream",
     "text": [
      "Help on function num_times in module __main__:\n",
      "\n",
      "num_times(x, y)\n",
      "    Assumes x is a string or int and that y is an int and then returns either y copies of x or the int(x*y)\n",
      "\n"
     ]
    }
   ],
   "source": [
    "#let's see what happens if we just try to type in num_times\n",
    "#num_times\n",
    "#you should see a list of the formal parameters for num_times\n",
    "help(num_times)"
   ]
  },
  {
   "cell_type": "markdown",
   "metadata": {
    "slideshow": {
     "slide_type": "subslide"
    }
   },
   "source": [
    "## Specifications of Funcations: Generating Error Messages\n",
    "\n",
    "There are other ways of double checking the that a function can be used in the right way, by using **type checking** with if, elif, else statements:\n",
    "\n",
    "<pre>\n",
    "def num_times(x,y):\n",
    "    \"\"\"Assumes x is a string or int and that y is an int.\n",
    "        Returns either y copies of x or the integer x*y\"\"\"\n",
    "    if (type(x)==str or type(x)==int) and type(y)==int:\n",
    "        return y*x\n",
    "    else\n",
    "        return 'Error Message: This function accepts two arguments. The first can be of type int or str. The second must be of type int.'\n",
    "</pre>"
   ]
  },
  {
   "cell_type": "markdown",
   "metadata": {
    "slideshow": {
     "slide_type": "slide"
    }
   },
   "source": [
    "# Abstraction \n",
    "\n",
    "<blockquote>\"Abstraction is the true art of programming.\" <footer>paraphrase of <i>John V. Guttag</i></footer></blockquote>\n",
    "\n",
    "**Abstraction** is the art of creating appropriate containers of information that can be referred to at a higher level without needing access to the information inside the containers.\n",
    "\n",
    "In computer programming we use abstraction to reduce functions to black boxes, where only the input and output is known to the user and not the details of the function.\n"
   ]
  },
  {
   "cell_type": "markdown",
   "metadata": {
    "slideshow": {
     "slide_type": "subslide"
    }
   },
   "source": [
    "## Abstraction: Example\n",
    "\n",
    "For example, last lecture we considered implementations of the square root function that used either an exhaustive (linear time) search or a bi-section (logarithmic time) search. \n",
    "\n",
    "If we were coding up lots of a mathematical functions that use square roots in their definition, we would not care about the specific choice of implementation."
   ]
  },
  {
   "cell_type": "markdown",
   "metadata": {
    "slideshow": {
     "slide_type": "subslide"
    }
   },
   "source": [
    "## Abstraction: Good Practice and Philosophy\n",
    "\n",
    "Not only do **specifications** and **abstractions** allow large numbers of programmers to collaborate on large programming projects, thereby making it a good programming practice, it is a good philosophical concept.\n",
    "\n",
    "For example, we can discuss many aspects of elementary chemistry without understanding quantum mechanics.\n",
    "\n",
    "In turn, I trust my doctor can help me when they prescribe me a new medicine, without them understanding the actual chemical reactions that it causes in the body. All that matters is a symptom relief or how certain metrics evolve accoding to some test, done in a blood lab, for example.\n",
    "\n",
    "But in turn, an epidemiologist or public health expert might only want to know if more people are going to the hospital from breathing problems caused by vaping. The outcome of each case might be irrelevant, just the time series of arrivals to hospitals."
   ]
  },
  {
   "cell_type": "markdown",
   "metadata": {
    "slideshow": {
     "slide_type": "slide"
    }
   },
   "source": [
    "# Recursion\n",
    "\n",
    "A **recursive function** is one whose function body calls itself.\n",
    "\n",
    "The usual first example of such a function in mathematics is $n!$ where\n",
    "\n",
    "$$n!:= n* (n-1)! \\qquad \\text{where} \\qquad 1!=1$$"
   ]
  },
  {
   "cell_type": "markdown",
   "metadata": {
    "slideshow": {
     "slide_type": "slide"
    }
   },
   "source": [
    "## Class Exercise: \n",
    "\n",
    "**Write a recursive implementation of the factorial function, with a docstring that explains what the function does and that checks that the input is valid, generating an appropriate error message if it doesn't.**"
   ]
  },
  {
   "cell_type": "code",
   "execution_count": 15,
   "metadata": {
    "slideshow": {
     "slide_type": "subslide"
    }
   },
   "outputs": [
    {
     "data": {
      "text/plain": [
       "5040"
      ]
     },
     "execution_count": 15,
     "metadata": {},
     "output_type": "execute_result"
    }
   ],
   "source": [
    "def factorial(n):\n",
    "    \"\"\"Assumes input is an int >=0.\n",
    "    Returns n!\"\"\"\n",
    "    if type(n)==int and n>=0:\n",
    "        if n==0:\n",
    "            return 1\n",
    "        else:\n",
    "            return n*factorial(n-1)\n",
    "    else:\n",
    "        return 'Please enter a non-negative integer.'\n",
    "\n",
    "factorial(7)"
   ]
  },
  {
   "cell_type": "markdown",
   "metadata": {
    "slideshow": {
     "slide_type": "slide"
    }
   },
   "source": [
    "## Factorial: Iterative Code\n",
    "\n",
    "We can also avoid a recursive implementation of factorial by using loops or iteration.\n",
    "\n",
    "<pre>\n",
    "def factorial_loop(n):\n",
    "    total=1\n",
    "    j=1\n",
    "    while j <= n:\n",
    "        total=total*j\n",
    "        j=j+1\n",
    "    return total\n",
    "</pre>"
   ]
  },
  {
   "cell_type": "markdown",
   "metadata": {
    "slideshow": {
     "slide_type": "slide"
    }
   },
   "source": [
    "## Fibonacci Sequence\n",
    "\n",
    "<pre>\n",
    "def fib(n):\n",
    "    \"\"\"Assumes n int>=0\n",
    "       Returns the n^th Fibonacci number\"\"\"\n",
    "    if n==0 or n==1:\n",
    "        return 1\n",
    "    else:\n",
    "        fib(n-1)+fib(n-2)\n",
    "</pre>"
   ]
  },
  {
   "cell_type": "code",
   "execution_count": 24,
   "metadata": {
    "slideshow": {
     "slide_type": "subslide"
    }
   },
   "outputs": [
    {
     "data": {
      "text/plain": [
       "5"
      ]
     },
     "execution_count": 24,
     "metadata": {},
     "output_type": "execute_result"
    }
   ],
   "source": [
    "def fib(n):\n",
    "    \"\"\"Assumes n int>=0\n",
    "       Returns the n^th Fibonacci number\"\"\"\n",
    "    if n==0 or n==1:\n",
    "        return 1\n",
    "    else:\n",
    "        return fib(n-1)+fib(n-2)\n",
    "\n",
    "fib(4)"
   ]
  },
  {
   "cell_type": "code",
   "execution_count": 20,
   "metadata": {
    "slideshow": {
     "slide_type": "fragment"
    }
   },
   "outputs": [
    {
     "data": {
      "text/plain": [
       "377"
      ]
     },
     "execution_count": 20,
     "metadata": {},
     "output_type": "execute_result"
    }
   ],
   "source": [
    "fib(13)"
   ]
  },
  {
   "cell_type": "markdown",
   "metadata": {
    "slideshow": {
     "slide_type": "subslide"
    }
   },
   "source": [
    "### *An aside on test functions*\n",
    "\n",
    "Assuming we've properly abstracted our functions, we can write other functions that use the function of interest.\n",
    "\n",
    "<pre>\n",
    "def test_fib(n):\n",
    "    for i in range(n+1):\n",
    "        print(\"Fib of\", i, \"=\", fib(i))\n",
    "</pre>"
   ]
  },
  {
   "cell_type": "code",
   "execution_count": 27,
   "metadata": {
    "slideshow": {
     "slide_type": "subslide"
    }
   },
   "outputs": [
    {
     "name": "stdout",
     "output_type": "stream",
     "text": [
      "Fib of 0 = 1\n",
      "Fib of 1 = 1\n",
      "Fib of 2 = 2\n",
      "Fib of 3 = 3\n",
      "Fib of 4 = 5\n",
      "Fib of 5 = 8\n",
      "Fib of 6 = 13\n",
      "Fib of 7 = 21\n",
      "Fib of 8 = 34\n",
      "Fib of 9 = 55\n",
      "Fib of 10 = 89\n",
      "Fib of 11 = 144\n",
      "Fib of 12 = 233\n"
     ]
    }
   ],
   "source": [
    "def fib(n):\n",
    "    \"\"\"Assumes n int>=0\n",
    "       Returns the n^th Fibonacci number\"\"\"\n",
    "    if n==0 or n==1:\n",
    "        return 1\n",
    "    #elif n==1:\n",
    "    #    return 3\n",
    "    else:\n",
    "        return fib(n-1)+fib(n-2)\n",
    "    \n",
    "def test_fib(n):\n",
    "    for i in range(n+1):\n",
    "        print(\"Fib of\", i, \"=\", fib(i))\n",
    "\n",
    "test_fib(12)"
   ]
  },
  {
   "cell_type": "code",
   "execution_count": 28,
   "metadata": {
    "slideshow": {
     "slide_type": "subslide"
    }
   },
   "outputs": [
    {
     "name": "stdout",
     "output_type": "stream",
     "text": [
      "The ratio of the 1 and 0 Fibonacci number is  1.0\n",
      "The ratio of the 2 and 1 Fibonacci number is  2.0\n",
      "The ratio of the 3 and 2 Fibonacci number is  1.5\n",
      "The ratio of the 4 and 3 Fibonacci number is  1.6666666666666667\n",
      "The ratio of the 5 and 4 Fibonacci number is  1.6\n",
      "The ratio of the 6 and 5 Fibonacci number is  1.625\n",
      "The ratio of the 7 and 6 Fibonacci number is  1.6153846153846154\n",
      "The ratio of the 8 and 7 Fibonacci number is  1.619047619047619\n",
      "The ratio of the 9 and 8 Fibonacci number is  1.6176470588235294\n",
      "The ratio of the 10 and 9 Fibonacci number is  1.6181818181818182\n",
      "The ratio of the 11 and 10 Fibonacci number is  1.6179775280898876\n",
      "The ratio of the 12 and 11 Fibonacci number is  1.6180555555555556\n",
      "The ratio of the 13 and 12 Fibonacci number is  1.6180257510729614\n",
      "The ratio of the 14 and 13 Fibonacci number is  1.6180371352785146\n",
      "The ratio of the 15 and 14 Fibonacci number is  1.618032786885246\n",
      "The ratio of the 16 and 15 Fibonacci number is  1.618034447821682\n",
      "The ratio of the 17 and 16 Fibonacci number is  1.6180338134001253\n",
      "The ratio of the 18 and 17 Fibonacci number is  1.618034055727554\n",
      "The ratio of the 19 and 18 Fibonacci number is  1.6180339631667064\n",
      "The ratio of the 20 and 19 Fibonacci number is  1.6180339985218033\n",
      "The ratio of the 21 and 20 Fibonacci number is  1.618033985017358\n",
      "The ratio of the 22 and 21 Fibonacci number is  1.6180339901755971\n",
      "The ratio of the 23 and 22 Fibonacci number is  1.618033988205325\n"
     ]
    }
   ],
   "source": [
    "def test_ratio(n):\n",
    "    for i in range(n+1):\n",
    "        print(\"The ratio of the\", i+1, \"and\", i, \"Fibonacci number is \", fib(i+1)/fib(i))\n",
    "test_ratio(22)"
   ]
  },
  {
   "cell_type": "markdown",
   "metadata": {
    "slideshow": {
     "slide_type": "subslide"
    }
   },
   "source": [
    "## The Golden Ratio\n",
    "\n",
    "The above sequence of numbers converges to the *golden ratio*, which is the unique positive number statisfying\n",
    "\n",
    "$$\\frac{a+b}{a} = \\frac{a}{b}=\\varphi=1.61803398875...$$\n",
    "\n",
    "This appears in multiple ways:\n",
    "\n",
    "- It is the aspect ratio of a rectangle that contains another sub-rectangle with the same aspect ratio, after exchanging width and height (or rotating 90 degrees).\n",
    "- Phylotaxis in plants, like spirals in a sunflower. [Read more here.](http://www.maths.surrey.ac.uk/hosted-sites/R.Knott/Fibonacci/fibnat2.html)\n",
    "- Spirals/ratios that are especially appealing in art\n",
    "- Continued fractions\n",
    "- Eigenvalues of a certain linear operator...\n",
    "\n",
    "![Golden Rectangle](golden-rect.png)"
   ]
  },
  {
   "cell_type": "markdown",
   "metadata": {
    "slideshow": {
     "slide_type": "subslide"
    }
   },
   "source": [
    "## The Golden Spiral\n",
    "\n",
    "![Cat Golden Spiral](cat-spiral.png)\n",
    "\n",
    "[Image from Vladanland](https://99designs.com/profiles/vladanland/designs/1461534)"
   ]
  },
  {
   "cell_type": "markdown",
   "metadata": {
    "slideshow": {
     "slide_type": "subslide"
    }
   },
   "source": [
    "## Phyllotaxis\n",
    "\n",
    "![Phyllotaxis in Aloe](Aloe-phyllotaxis.jpg)\n",
    "\n",
    "By <a href=\"//commons.wikimedia.org/wiki/User:Stan_Shebs\" title=\"User:Stan Shebs\">Stan Shebs</a>, <a href=\"https://creativecommons.org/licenses/by-sa/3.0\" title=\"Creative Commons Attribution-Share Alike 3.0\">CC BY-SA 3.0</a>, <a href=\"https://commons.wikimedia.org/w/index.php?curid=925941\">Link</a>"
   ]
  },
  {
   "cell_type": "markdown",
   "metadata": {
    "slideshow": {
     "slide_type": "subslide"
    }
   },
   "source": [
    "## Golden Ratio\n",
    "\n",
    "As a continued fraction...\n",
    "\n",
    "![Golden Fraction](golden-ratio-frac.png)"
   ]
  },
  {
   "cell_type": "code",
   "execution_count": null,
   "metadata": {},
   "outputs": [],
   "source": []
  }
 ],
 "metadata": {
  "celltoolbar": "Slideshow",
  "kernelspec": {
   "display_name": "Python 3 (ipykernel)",
   "language": "python",
   "name": "python3"
  },
  "language_info": {
   "codemirror_mode": {
    "name": "ipython",
    "version": 3
   },
   "file_extension": ".py",
   "mimetype": "text/x-python",
   "name": "python",
   "nbconvert_exporter": "python",
   "pygments_lexer": "ipython3",
   "version": "3.9.12"
  }
 },
 "nbformat": 4,
 "nbformat_minor": 4
}
