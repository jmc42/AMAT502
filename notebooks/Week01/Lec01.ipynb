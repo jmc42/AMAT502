{
 "cells": [
  {
   "cell_type": "markdown",
   "metadata": {
    "slideshow": {
     "slide_type": "slide"
    }
   },
   "source": [
    "# AMAT 502: Modern Computing for Mathematicians\n",
    "## Lecture 1 - Introduction to the Course\n",
    "### University at Albany SUNY"
   ]
  },
  {
   "cell_type": "markdown",
   "metadata": {
    "slideshow": {
     "slide_type": "slide"
    }
   },
   "source": [
    "# Course Delivery = JupyterHub + In-Person + ZOOM\n",
    "\n",
    "1. If you're off campus, make sure you have the <a href=\"https://albany.atlassian.net/wiki/spaces/askit/pages/52333741/VPN+Virtual+Private+Network\">UAlbany VPN installed</a>\n",
    "2. Use your NetID and password to log on (this will work for both sessions) to:\n",
    "    - https://amat502-9397-fa24.its.albany.edu/\n",
    "3. Under the \"Nbgrader\" menu item,\n",
    "    - Click on \"Assignment List\"\n",
    "    - You will see lectures and problem sets, which you must \"fetch\".\n",
    "    - Fetch \"PS00\" as a test problem set.\n",
    "4. When you're ready to submit an assignment you must click on \"submit\".\n",
    "5. You can submit as many times as you like, but when I collect the assignments only the most recent submission will be collected. I can provide feedback on practice assignments, quizzes and midterms, which you can also \"fetch\".\n",
    "\n",
    "**Your assignments will be released and collected via the JupyterHub Servers listed above!**\n",
    "\n",
    "### Class Meeting Details for Fall 2024\n",
    "\n",
    "- We will have in-person meetings on the following WEDNESDAYS from 3-5:50pm: \n",
    "    - August 28, September 11, September 25, October 9, October 23, November 6, November 20, and December 4\n",
    "- On Wednesdays that are not on this list, we will have ZOOM meetings to review the lecture material\n",
    "    - https://albany.zoom.us/my/jmcurry"
   ]
  },
  {
   "cell_type": "markdown",
   "metadata": {
    "slideshow": {
     "slide_type": "slide"
    }
   },
   "source": [
    "# Introduction to the Course\n",
    "\n",
    "## The History of 502\n",
    "Historically, 502 has been a sort of tasting platter of computing languages, including just *a little bit* of   \n",
    " - HTML, \n",
    " - $\\LaTeX$, \n",
    " - Matlab, \n",
    " - Sage, \n",
    " - and others...\n"
   ]
  },
  {
   "cell_type": "markdown",
   "metadata": {
    "slideshow": {
     "slide_type": "slide"
    }
   },
   "source": [
    "## The Problem = Old School Mathematicians\n",
    "The problem with the previous course design was that it was centered around the needs of mathematicians from 10-20 years ago.\n",
    " - HTML is for making your website\n",
    " - $\\LaTeX$ is for writing your papers\n",
    " - Matlab, Sage, et al are for computational experiments in math.\n"
   ]
  },
  {
   "cell_type": "markdown",
   "metadata": {
    "slideshow": {
     "slide_type": "slide"
    }
   },
   "source": [
    "## A New Course for Aspiring Data Scientists\n",
    "\n",
    "Since Fall 2019, AMAT 502 has been revamped to have a primary focus on *Python*, specifically *Python 3.*\n",
    "\n",
    "### Why Python?  \n",
    "\n",
    "Python is a *general purpose programming language* and has become the defacto language for doing *Data Science*.  \n",
    "\n",
    "Even if you aren't interested in becoming a data scientist per se, learning to code has become an essential skill for many mathematicians and mathematics educators."
   ]
  },
  {
   "cell_type": "markdown",
   "metadata": {
    "slideshow": {
     "slide_type": "slide"
    }
   },
   "source": [
    "## Resources for Our Class\n",
    "\n",
    "### Required Text  \n",
    "\n",
    "[*Introduction to Computation and Programming Using Python by John V. Guttag, 3rd edition!*](https://mitpress.mit.edu/books/introduction-computation-and-programming-using-python-third-edition)  \n",
    "\n",
    "![alt text](Week01-figs/required-text-cover-ed3.jpg \"MIT Book\")\n",
    "\n",
    "This is the same book that is used in MIT's intro to computer science sequence 6.00.1 and 6.00.2, both of which make there course materials freely available online using *edX* [6.00.1x](https://www.edx.org/course/introduction-to-computer-science-and-programming-using-python-2) and [6.00.2x](https://www.edx.org/course/introduction-to-computational-thinking-and-data-science-2)"
   ]
  },
  {
   "cell_type": "markdown",
   "metadata": {
    "slideshow": {
     "slide_type": "slide"
    }
   },
   "source": [
    "### Recommended Text\n",
    "\n",
    "[*Python Data Science Handbook by Jake VanderPlas*](https://github.com/jakevdp/PythonDataScienceHandbook)\n",
    "\n",
    "![alt text](Week01-figs/rec-text-cover.png \"O'Reilly Book\")\n",
    "\n",
    "This book is freely available online."
   ]
  },
  {
   "cell_type": "markdown",
   "metadata": {
    "slideshow": {
     "slide_type": "slide"
    }
   },
   "source": [
    "# Course Syllabus for Fall 2023\n",
    "\n",
    "1. **40%** Determined by problem sets and 1 extended programming project.\n",
    "3. **30%** Determined by take-home 72-hour midterm exam.\n",
    "2. **30%** Determined by final project."
   ]
  },
  {
   "cell_type": "markdown",
   "metadata": {
    "slideshow": {
     "slide_type": "slide"
    }
   },
   "source": [
    "# What is Data Science?\n",
    "\n",
    "Data Science is an interdisciplinary subject that overlays three fundamental skills or expertise:\n",
    "\n",
    "![Venn Diagram](Week01-figs/Data_Science_VD.png \"Data Scientists Venn Diagram\")*From [Drew Conway](http://drewconway.com/zia/2013/3/26/the-data-science-venn-diagram)*\n"
   ]
  },
  {
   "cell_type": "markdown",
   "metadata": {
    "slideshow": {
     "slide_type": "slide"
    }
   },
   "source": [
    "## Data Science Skill 1: **The Skills of a Mathematician**\n",
    "\n",
    "All of you are math graduate students, which indicates that you're comfortable with abstract thinking and problem solving. You also have familiarity with mathematical subject areas such as..\n",
    "  - Calculus\n",
    "  - Differential Equations\n",
    "  - Linear Algebra\n",
    "  - Probability\n",
    "  - *Statistics* (This being all important for doing hypothesis testing and hence science)\n",
    " "
   ]
  },
  {
   "cell_type": "markdown",
   "metadata": {
    "slideshow": {
     "slide_type": "slide"
    }
   },
   "source": [
    "## Data Science Skill 2: **The Skills of a Computer Scientist**\n",
    "\n",
    "The goal of this course is to develop these skills, which we will do by working through a lot of programming exercises in Python, in addition to learning some basic algorithms. Before being able to really dig into the more advanced topics of VanderPlas's *Python Data Science Handbook* (from here on called *The Handbook*) we must master basic topics in Python such as\n",
    "  - defining functions,\n",
    "  - assigning variables, \n",
    "  - calling methods of objects, \n",
    "  - controlling the flow of a program, \n",
    "  - and other basic tasks.\n",
    "  \n",
    "  This is what we will extract from Guttag's *Introduction to Computation and Programming Using Python* (from here on called *The MIT Book*).\n"
   ]
  },
  {
   "cell_type": "markdown",
   "metadata": {
    "slideshow": {
     "slide_type": "slide"
    }
   },
   "source": [
    "## The 'X'-Factor in Data Science: **Domain Specific Knowledge**\n",
    "\n",
    "The above two are *skills,* but we'd like to apply these skills to acquire new knowledge. This knowledge needs to be *about something,* whether it is specific to algebraic geometry, like elliptic curves, or specific to public health, like the spread of diseases such as measles, or the novel Coronavirus. \n",
    "\n",
    "For your **final project** you should be thinking of a particular topic that you'd like to acquire some domain specific knowledge about."
   ]
  },
  {
   "cell_type": "markdown",
   "metadata": {
    "slideshow": {
     "slide_type": "slide"
    }
   },
   "source": [
    "## The Python Data Stack\n",
    "\n",
    "One of the main reasons that we use Python is because of its *ecosystem of packages*.\n",
    "\n",
    "The primary packages that we will be interested in playing with are:\n",
    "- ``NumPy`` for manipulation of homogeneous array-based data, \n",
    "- ``Pandas`` for manipulation of heterogeneous and labeled data, \n",
    "- ``SciPy`` for common scientific computing tasks, \n",
    "- ``Matplotlib`` for publication-quality visualizations, and\n",
    "- ``Scikit-Learn`` for machine learning.\n",
    "\n",
    "## IPython and Jupyter Notebooks\n",
    "\n",
    "We will also being using **IPython** and **Jupyter Notebooks**. \n",
    "- ``ipython`` will allow us to experiment with programs in an interactive way\n",
    "- ``jupyter notebook`` will provide a browser based way of doing interactive programming that we can make look visually appealing with HTML, Markdown, and even $\\LaTeX$! *_Many of your homework assignments will be turned in as Jupyter Notebooks_*"
   ]
  },
  {
   "cell_type": "markdown",
   "metadata": {
    "slideshow": {
     "slide_type": "slide"
    }
   },
   "source": [
    "# Introduction to Programming\n",
    "\n",
    "## What is a Python Program?\n",
    "\n",
    "First we must note what a **program** is.  \n",
    "\n",
    "A **program** is a sequence of **definitions** and **commands.** What makes such a sequence of definitions a *Python* program is determined by whether or not a program can be understood by a Python interpreter.\n",
    "\n",
    "### Definitions and Commands  \n",
    "\n",
    "A **definition** is simply a way of naming something.  \n",
    "\n",
    "For example, we can call a name a number using a sequence of letters that's easy for us to speak aloud:"
   ]
  },
  {
   "cell_type": "code",
   "execution_count": 3,
   "metadata": {
    "slideshow": {
     "slide_type": "fragment"
    }
   },
   "outputs": [],
   "source": [
    "pi=4"
   ]
  },
  {
   "cell_type": "markdown",
   "metadata": {
    "slideshow": {
     "slide_type": "fragment"
    }
   },
   "source": [
    "This assigns the value 3 to the expression ``pi``.  \n",
    "\n",
    "A **command** on the other hand is an expression that can be evaluated immediately in a Python shell. Here are some example expressions and commands being passed to a Python shell."
   ]
  },
  {
   "cell_type": "code",
   "execution_count": 4,
   "metadata": {
    "slideshow": {
     "slide_type": "fragment"
    }
   },
   "outputs": [
    {
     "data": {
      "text/plain": [
       "16"
      ]
     },
     "execution_count": 4,
     "metadata": {},
     "output_type": "execute_result"
    }
   ],
   "source": [
    "pi*4"
   ]
  },
  {
   "cell_type": "code",
   "execution_count": 5,
   "metadata": {
    "slideshow": {
     "slide_type": "fragment"
    }
   },
   "outputs": [
    {
     "data": {
      "text/plain": [
       "9"
      ]
     },
     "execution_count": 5,
     "metadata": {},
     "output_type": "execute_result"
    }
   ],
   "source": [
    "pi + 5"
   ]
  },
  {
   "cell_type": "code",
   "execution_count": 10,
   "metadata": {
    "slideshow": {
     "slide_type": "fragment"
    }
   },
   "outputs": [
    {
     "name": "stdout",
     "output_type": "stream",
     "text": [
      "9\n"
     ]
    }
   ],
   "source": [
    "pi=8\n",
    "\n",
    "pi=pi + 1\n",
    "# x = x+1\n",
    "# x - x =x+1-x\n",
    "#0=1 !!!!!\n",
    "print(pi)"
   ]
  },
  {
   "cell_type": "markdown",
   "metadata": {
    "slideshow": {
     "slide_type": "slide"
    }
   },
   "source": [
    "## Arithmetical Commands\n",
    "\n",
    "There are lots of commands that we're going to learn along the way, most mathematical commands for  \n",
    "\n",
    "- Addition ``+``\n",
    "- Subtraction ``-``\n",
    "- Multiplication ``*``\n",
    "- Division ``/``\n",
    "\n",
    "are as you might imagine them.  \n",
    "\n",
    "However, exponentiation is syntactically expressed using two asterisks.\n",
    "\n",
    "- Exponentiation ``**``"
   ]
  },
  {
   "cell_type": "code",
   "execution_count": 16,
   "metadata": {
    "slideshow": {
     "slide_type": "fragment"
    }
   },
   "outputs": [
    {
     "data": {
      "text/plain": [
       "27"
      ]
     },
     "execution_count": 16,
     "metadata": {},
     "output_type": "execute_result"
    }
   ],
   "source": [
    "3**3"
   ]
  },
  {
   "cell_type": "markdown",
   "metadata": {
    "slideshow": {
     "slide_type": "slide"
    }
   },
   "source": [
    "### Finger Exercise 1\n",
    "\n",
    "Determine what the command ``//`` does."
   ]
  },
  {
   "cell_type": "code",
   "execution_count": 22,
   "metadata": {
    "slideshow": {
     "slide_type": "fragment"
    }
   },
   "outputs": [
    {
     "data": {
      "text/plain": [
       "3"
      ]
     },
     "execution_count": 22,
     "metadata": {},
     "output_type": "execute_result"
    }
   ],
   "source": [
    "11//3"
   ]
  },
  {
   "cell_type": "markdown",
   "metadata": {
    "slideshow": {
     "slide_type": "slide"
    }
   },
   "source": [
    "### Finger Exercise 2\n",
    "\n",
    "Determine how Python would answer the following infamous New York Times math \"puzzle\":\n",
    "\n",
    "![Order of Operations](Week01-figs/nyt-math-puzzle.jpg \"Math Puzzle Stumps the Internet\")*From [NYT](https://www.nytimes.com/2019/08/02/science/math-equation-pedmas-bemdas-bedmas.html)*"
   ]
  },
  {
   "cell_type": "code",
   "execution_count": 1,
   "metadata": {
    "slideshow": {
     "slide_type": "fragment"
    }
   },
   "outputs": [
    {
     "name": "stdout",
     "output_type": "stream",
     "text": [
      "The string 8/2*(2+2) evaluates to 16.0\n",
      "The string 8//2*(2+2) evaluates to 16\n",
      "The string 8/2*2+2 evaluates to 10.0\n",
      "The string 8/2*4 evaluates to 16.0\n"
     ]
    }
   ],
   "source": [
    "ans1=8/2*(2+2)\n",
    "ans2=8//2*(2+2)\n",
    "ans3=8/2*2+2\n",
    "ans4 = 8/2*4\n",
    "print('The string 8/2*(2+2) evaluates to ' + str(ans1))\n",
    "print('The string 8//2*(2+2) evaluates to ' + str(ans2))\n",
    "print('The string 8/2*2+2 evaluates to ' + str(ans3))\n",
    "print('The string 8/2*4 evaluates to ' + str(ans4))\n",
    "#8/(2*(2+2))"
   ]
  },
  {
   "cell_type": "code",
   "execution_count": 14,
   "metadata": {},
   "outputs": [
    {
     "data": {
      "text/plain": [
       "False"
      ]
     },
     "execution_count": 14,
     "metadata": {},
     "output_type": "execute_result"
    }
   ],
   "source": [
    "1==0"
   ]
  },
  {
   "cell_type": "markdown",
   "metadata": {
    "slideshow": {
     "slide_type": "slide"
    }
   },
   "source": [
    "## Defining Functions and Intro to Object Types\n",
    "\n",
    "Definitions such as ``pi=3`` assigns the value ``3`` to the variable ``pi``, but we also can define **functions** just as we do in mathematics."
   ]
  },
  {
   "cell_type": "code",
   "execution_count": 31,
   "metadata": {
    "slideshow": {
     "slide_type": "slide"
    }
   },
   "outputs": [
    {
     "data": {
      "text/plain": [
       "110"
      ]
     },
     "execution_count": 31,
     "metadata": {},
     "output_type": "execute_result"
    }
   ],
   "source": [
    "def myfunction(x):\n",
    "    y=2*x\n",
    "    return y #we could also write print(y), but not for the homework.\n",
    "\n",
    "myfunction(55)"
   ]
  },
  {
   "cell_type": "markdown",
   "metadata": {
    "slideshow": {
     "slide_type": "slide"
    }
   },
   "source": [
    "## Objects have Types  \n",
    "\n",
    "In the above program we discovered a little quirk of Python, namely that our multiplication operation ``*`` behaves differently when we try to combine the **integer** 2 with the **string** ``'womp '`` These are because the object 2 and the object ``'womp'`` have different **types**.\n",
    "\n",
    "There are two basic sorts of types: **scalar** types, which are indivisible, and **non-scalar** types, which have internal structure.\n",
    "\n",
    "**The type of an object dictates what you can do with it.**\n",
    "\n",
    "**However, many operators are <u>overloaded</u> so that it can operate on multiple object types.**"
   ]
  },
  {
   "cell_type": "markdown",
   "metadata": {
    "slideshow": {
     "slide_type": "slide"
    }
   },
   "source": [
    "### Exploration Question\n",
    "\n",
    "We saw that one can take an integer $n$ and a string and produce a new string that repeats that string $n$ times.\n",
    "\n",
    "What else can you do? **Can you multiply or exponentiate one string by another?**"
   ]
  },
  {
   "cell_type": "code",
   "execution_count": 35,
   "metadata": {
    "slideshow": {
     "slide_type": "fragment"
    }
   },
   "outputs": [
    {
     "data": {
      "text/plain": [
       "' wow wow wow'"
      ]
     },
     "execution_count": 35,
     "metadata": {},
     "output_type": "execute_result"
    }
   ],
   "source": [
    "3*' wow'"
   ]
  },
  {
   "cell_type": "markdown",
   "metadata": {
    "slideshow": {
     "slide_type": "slide"
    }
   },
   "source": [
    "## Scalar Objects in Python\n",
    "\n",
    "There are four scalar types in Python. They are\n",
    "\n",
    "- ``int``: represents integers\n",
    "- ``float``: represents real numbers\n",
    "- ``bool``: represents conditionals such as ``True`` and ``False``\n",
    "- ``None``: presents a type with a single value (don't worry about this for now)"
   ]
  },
  {
   "cell_type": "markdown",
   "metadata": {
    "slideshow": {
     "slide_type": "slide"
    }
   },
   "source": [
    "We can convert between types as needed and when possible.\n",
    "\n",
    "This is extremely useful when asking a user for input using the `input` function."
   ]
  },
  {
   "cell_type": "code",
   "execution_count": 42,
   "metadata": {
    "slideshow": {
     "slide_type": "fragment"
    }
   },
   "outputs": [
    {
     "name": "stdout",
     "output_type": "stream",
     "text": [
      "Enter a radius: 5\n",
      "Your area assumes pi=3 and hence your area is 75.\n"
     ]
    }
   ],
   "source": [
    "radius = int(input('Enter a radius: '))\n",
    "area = 3*(radius)**2\n",
    "print('Your area assumes pi=3 and hence your area is ' + str(area)+ \".\")\n"
   ]
  },
  {
   "cell_type": "markdown",
   "metadata": {
    "slideshow": {
     "slide_type": "slide"
    }
   },
   "source": [
    "### Finger Exercise 3\n",
    "\n",
    "**Write a program that takes in an float radius and produces an float area. Then change this so that the program is part of a function where the argument is the radius and the area is returned using a `return` statement.**\n",
    "\n",
    "*Once you're done, you can start working on the LIVE Notebook*"
   ]
  },
  {
   "cell_type": "code",
   "execution_count": 43,
   "metadata": {
    "slideshow": {
     "slide_type": "fragment"
    }
   },
   "outputs": [
    {
     "name": "stdout",
     "output_type": "stream",
     "text": [
      "Enter a radius: 2.5\n",
      "Your area assumes pi=3 and hence your area is 18.75.\n"
     ]
    }
   ],
   "source": [
    "radius = float(input('Enter a radius: '))\n",
    "area = 3*(radius)**2\n",
    "print('Your area assumes pi=3 and hence your area is ' + str(area)+ \".\")"
   ]
  }
 ],
 "metadata": {
  "celltoolbar": "Slideshow",
  "kernelspec": {
   "display_name": "Python 3 (ipykernel)",
   "language": "python",
   "name": "python3"
  },
  "language_info": {
   "codemirror_mode": {
    "name": "ipython",
    "version": 3
   },
   "file_extension": ".py",
   "mimetype": "text/x-python",
   "name": "python",
   "nbconvert_exporter": "python",
   "pygments_lexer": "ipython3",
   "version": "3.9.12"
  }
 },
 "nbformat": 4,
 "nbformat_minor": 4
}
