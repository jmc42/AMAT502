{
 "cells": [
  {
   "cell_type": "markdown",
   "metadata": {
    "slideshow": {
     "slide_type": "slide"
    }
   },
   "source": [
    "# AMAT 502:  Modern Computing for Mathematicians\n",
    "## Lecture 2 - Conditionals and Loops\n",
    "### University at Albany SUNY"
   ]
  },
  {
   "cell_type": "markdown",
   "metadata": {
    "slideshow": {
     "slide_type": "slide"
    }
   },
   "source": [
    "# Topics for Today\n",
    "\n",
    "- If-then logic\n",
    "- Branching Programs\n",
    "- Iteration\n",
    "- Loops\n",
    "\n",
    "Following <a href=\"https://ailab-ua.github.io/courses/resources/Guttag_2013.pdf\">Guttag Sections 2.2-3.3</a>"
   ]
  },
  {
   "cell_type": "markdown",
   "metadata": {
    "slideshow": {
     "slide_type": "slide"
    }
   },
   "source": [
    "# Identation\n",
    "\n",
    "In Python, unlike languages such as C++ or Java, indentation is syntactically meaningful.\n",
    "\n",
    "This is especially apparent in `if` statements:\n",
    "\n",
    "## Syntax\n",
    "\n",
    "<pre> if <i>Boolean Expression</i>:\n",
    "    <i> block of code</i>\n",
    "</pre>"
   ]
  },
  {
   "cell_type": "markdown",
   "metadata": {
    "slideshow": {
     "slide_type": "slide"
    }
   },
   "source": [
    "# Boolean Expressions\n",
    "\n",
    "Boolean expressions are statements that evaluate to `True` or `False`.\n",
    "\n",
    "Boolean expressions usually involve **comparison operators** such as:\n",
    "- `<` i.e. \"less than\"\n",
    "- `<=` i.e. \"less than or equal to\"\n",
    "- `==` i.e. \"equal to\" *N.B. This is very different than `=` which is used for variable assignment!*\n",
    "- `!=` i.e. \"is NOT equal to\"\n",
    "- `is` or `is not` or `in`"
   ]
  },
  {
   "cell_type": "code",
   "execution_count": 22,
   "metadata": {
    "slideshow": {
     "slide_type": "slide"
    }
   },
   "outputs": [
    {
     "name": "stdout",
     "output_type": "stream",
     "text": [
      "The statement '3 < 5' is True\n",
      "The statement '3 < 3' is False\n",
      "The statement '10 == 10.0' is True\n",
      "The statement '10 != 10.0' is False\n",
      "The statement `'ct' in 'cat'` is False\n"
     ]
    }
   ],
   "source": [
    "## Here are examples of Boolean expressions and their evaluations:\n",
    "\n",
    "print(\"The statement '3 < 5' is\", 3< 5)\n",
    "print(\"The statement '3 < 3' is\", 3< 3)\n",
    "print(\"The statement '10 == 10.0' is\", 10 == 10.0)\n",
    "print(\"The statement '10 != 10.0' is\", 10 != 10.0)\n",
    "print(\"The statement `'ct' in 'cat'` is\", 'ct' in 'cat')"
   ]
  },
  {
   "cell_type": "markdown",
   "metadata": {
    "slideshow": {
     "slide_type": "slide"
    }
   },
   "source": [
    "# Logical Operations\n",
    "## AND, OR, XOR, NAND,...\n",
    "\n",
    "- `p and q` evaluates to true if and only if both `p` and `q` are true.\n",
    "- `p or q` evaluates to true if at least one of `p` or `q` are true.\n",
    "\n",
    "**Quick Question: What is a tautology? And why is the statement \"I might or might not go out tonight.\" a tautology?**\n",
    "\n",
    "There are other operations, such as **exclusive or (XOR)** which evaluates to True if and only if exactly one of the expressions evaluates to True. **NAND** is, unsuprisingly, `not and`.\n"
   ]
  },
  {
   "cell_type": "markdown",
   "metadata": {
    "slideshow": {
     "slide_type": "slide"
    }
   },
   "source": [
    "![If Then](if-then.png \"Simple If Then Visualization\")*From [Tech Beamers](https://www.techbeamers.com/python-if-else/)*"
   ]
  },
  {
   "cell_type": "code",
   "execution_count": 24,
   "metadata": {
    "slideshow": {
     "slide_type": "fragment"
    }
   },
   "outputs": [
    {
     "name": "stdout",
     "output_type": "stream",
     "text": [
      "Enter an integer:5\n"
     ]
    }
   ],
   "source": [
    "my_int=int(input('Enter an integer:'))\n",
    "\n",
    "if my_int%27==0:\n",
    "    print('You entered an number divisible by 27.')"
   ]
  },
  {
   "cell_type": "code",
   "execution_count": 26,
   "metadata": {
    "slideshow": {
     "slide_type": "fragment"
    }
   },
   "outputs": [
    {
     "name": "stdout",
     "output_type": "stream",
     "text": [
      "Enter an integer:4\n",
      "You entered an even number.\n"
     ]
    }
   ],
   "source": [
    "my_int=int(input('Enter an integer:'))\n",
    "\n",
    "if my_int%2==0:\n",
    "    print('You entered an even number.') #Without indenting, Python3 will return an error."
   ]
  },
  {
   "cell_type": "markdown",
   "metadata": {
    "slideshow": {
     "slide_type": "slide"
    }
   },
   "source": [
    "# Variations on `if` statements\n",
    "\n",
    "We have 3 basic types of conditional programs:\n",
    "\n",
    "## if-then-stop\n",
    "<pre> if <i>Boolean Expression</i>:\n",
    "    <i> block of code</i>\n",
    "</pre>\n",
    "\n",
    "## if-else\n",
    "<pre> \n",
    "if <i>Boolean Expression</i>:\n",
    "    <i> block of code executed if true</i>\n",
    "else:\n",
    "    <i> block of code if false</i>\n",
    "</pre>\n",
    "\n",
    "## if-else-if\n",
    "<pre> \n",
    "if <i>Logical_Expression_1</i>:\n",
    "    <i> Indented Code Block 1</i>\n",
    "elif <i>Logical_Expression_2</i>:\n",
    "    <i>Indented Code Block 2</i>\n",
    "elif <i>Logical_Expression_3</i>:\n",
    "    <i>Indented Code Block 3</i>\n",
    "...\n",
    "else :\n",
    "    <i>Indented Code Block N</i>\n",
    "</pre>\n"
   ]
  },
  {
   "cell_type": "markdown",
   "metadata": {
    "slideshow": {
     "slide_type": "slide"
    }
   },
   "source": [
    "![If Then 1](if-elif.png \"Simple If Elif Visualization\")*From [Tech Beamers](https://www.techbeamers.com/python-if-else/)*"
   ]
  },
  {
   "cell_type": "markdown",
   "metadata": {
    "slideshow": {
     "slide_type": "slide"
    }
   },
   "source": [
    "## Some Simple Branching Programs\n",
    "\n",
    "<pre>\n",
    "#here is a function that takes in two integers and returns the largest\n",
    "def largest_of_2(x,y):\n",
    "    if x>y:\n",
    "        print(x,' is the largest of the two.')\n",
    "    elif y>x:\n",
    "        print(y,' is the largest of the two.')\n",
    "    else:\n",
    "        print(x,' is the largest of the two.')\n",
    "</pre>"
   ]
  },
  {
   "cell_type": "code",
   "execution_count": 6,
   "metadata": {
    "slideshow": {
     "slide_type": "slide"
    }
   },
   "outputs": [
    {
     "name": "stdout",
     "output_type": "stream",
     "text": [
      "42 is equal to 42\n"
     ]
    },
    {
     "data": {
      "text/plain": [
       "NoneType"
      ]
     },
     "execution_count": 6,
     "metadata": {},
     "output_type": "execute_result"
    }
   ],
   "source": [
    "def largest_of_2(x,y):\n",
    "    if x>y:\n",
    "        #return str(x)+ \" is the largest of the two.\"\n",
    "        print(x,' is the largest of the two.')\n",
    "    elif y>x:\n",
    "        #return str(y)+ \" is the largest of the two.\"\n",
    "        print(y,' is the largest of the two.')\n",
    "    else:\n",
    "        #return str(x)+ \" is equal to \"+str(y)\n",
    "        print(x,'is equal to',y)\n",
    "        \n",
    "\n",
    "\n",
    "type(largest_of_2(42,42)) #rerun this command after you've replaced the return statements with print statements"
   ]
  },
  {
   "cell_type": "code",
   "execution_count": 5,
   "metadata": {
    "slideshow": {
     "slide_type": "skip"
    }
   },
   "outputs": [],
   "source": [
    "def twoorthree(x):\n",
    "    if x%2 == 0:\n",
    "        if x%3 == 0:\n",
    "            print(x,'is divisible by 2 and 3.')\n",
    "        else:\n",
    "            print(x, 'is divisible by 2, but not 3.')\n",
    "    elif x%3 == 0:\n",
    "        print(x,'is divisible by 3, but not by 2.')\n",
    "    else:\n",
    "        print(x,'is not divisible by 3 or 2')"
   ]
  },
  {
   "cell_type": "code",
   "execution_count": 6,
   "metadata": {
    "slideshow": {
     "slide_type": "skip"
    }
   },
   "outputs": [
    {
     "name": "stdout",
     "output_type": "stream",
     "text": [
      "16 is divisible by 2, but not 3.\n",
      "9 is divisible by 3, but not by 2.\n",
      "12 is divisible by 2 and 3.\n",
      "17 is not divisible by 3 or 2\n"
     ]
    }
   ],
   "source": [
    "twoorthree(16)\n",
    "twoorthree(9)\n",
    "twoorthree(12)\n",
    "twoorthree(17)"
   ]
  },
  {
   "cell_type": "markdown",
   "metadata": {
    "slideshow": {
     "slide_type": "slide"
    }
   },
   "source": [
    "## Comment on Computational Complexity\n",
    "\n",
    "A \"straight-line\" program executes one line after another, so a program with $n$ lines of code will take $n$ units of time to execute.\n",
    "\n",
    "A \"branching\" program, which contains conditionals, can skip lines, so it can take less than $n$ units of time to execute.\n",
    "\n",
    "**Consider in the next example how many lines are executed depending on the input:**"
   ]
  },
  {
   "cell_type": "code",
   "execution_count": 31,
   "metadata": {
    "slideshow": {
     "slide_type": "slide"
    }
   },
   "outputs": [
    {
     "name": "stdout",
     "output_type": "stream",
     "text": [
      "Please enter an integer:65\n",
      "65 is at most 100, but greater than 50\n"
     ]
    }
   ],
   "source": [
    "x = int(input('Please enter an integer:'))\n",
    "if x >= 0 and x <= 100: \n",
    "    if x < 50:\n",
    "        print(x, 'is less than 50')\n",
    "    elif x==50:\n",
    "        print('wow...what a special number')\n",
    "    else:\n",
    "        print(x, 'is at most 100, but greater than 50')\n",
    "else:\n",
    "    print(x, \"failed my tests\")"
   ]
  },
  {
   "cell_type": "markdown",
   "metadata": {
    "slideshow": {
     "slide_type": "slide"
    }
   },
   "source": [
    "### Finger Exercise 1\n",
    "\n",
    "**Write a function that takes in three integer arguments---$x,y,z$---and prints the largest number among them.**\n",
    "\n",
    "<pre>\n",
    "#here I define a function that takes in 3 integers\n",
    "def largest_of_3(x,y,z):\n",
    "    <i> fill in the blank </i>\n",
    "\n",
    "#now I test my function to see if it works\n",
    "largest_of_3(24,53,12)\n",
    "</pre>\n",
    "Spend the next ~10 minutes attempting this. \n",
    "\n",
    "**Harder Variation:** If this is too easy, modify the program to print the largest *odd* number of the three."
   ]
  },
  {
   "cell_type": "code",
   "execution_count": 36,
   "metadata": {
    "slideshow": {
     "slide_type": "fragment"
    }
   },
   "outputs": [
    {
     "data": {
      "text/plain": [
       "True"
      ]
     },
     "execution_count": 36,
     "metadata": {},
     "output_type": "execute_result"
    }
   ],
   "source": [
    "def largest_of_3(x,y,z):\n",
    "    if x>y and x > z:\n",
    "        #print(x, \"is the largest integer.\")\n",
    "        return str(x) + \" is the largest integer.\"\n",
    "    elif y > z:\n",
    "        #print(y, \"is the largest integer.\")\n",
    "        return str(y) + \" is the largest integer.\"\n",
    "    else:\n",
    "        #print(z, \"is the largest integer.\")\n",
    "        return str(z) + \" is the largest integer.\"\n",
    "\n",
    "largest_of_3(5,6,4) == '6 is the largest integer.'"
   ]
  },
  {
   "cell_type": "markdown",
   "metadata": {
    "slideshow": {
     "slide_type": "slide"
    }
   },
   "source": [
    "# \"Looping\" Programs\n",
    "\n",
    "We saw in that for branching programs certain lines can be skipped, so the run time can be less than the number of lines of code.\n",
    "\n",
    "However, most interesting computational tasks require some sort of **looping**. There are three broad categories of looping:\n",
    "\n",
    "1. `while` statements (Section 2.4 of Guttag)\n",
    "2. `for` loops (Section 3.2 of Guttag)\n",
    "3. Recursion, e.g. the Fibonacci numbers (Section 4.3 of Guttag)\n",
    "\n",
    "We'll take these each up in turn."
   ]
  },
  {
   "cell_type": "markdown",
   "metadata": {
    "slideshow": {
     "slide_type": "slide"
    }
   },
   "source": [
    "## While Loops\n",
    "\n",
    "The syntax is simple...\n",
    "\n",
    "<pre> while <i>conditional is true</i>:\n",
    "    <i> do something </i>\n",
    "</pre>    \n",
    "\n",
    "However, we want to make sure the program does not loop forever. This happens in the following example:\n",
    "\n",
    "<pre> \n",
    "while True:\n",
    "    print(\"oompa loomp\")\n",
    "</pre>"
   ]
  },
  {
   "cell_type": "code",
   "execution_count": 1,
   "metadata": {
    "slideshow": {
     "slide_type": "slide"
    }
   },
   "outputs": [],
   "source": [
    "#while True:\n",
    "    #print(\"oompa loompa\")\n",
    "#THIS WILL LOOP FOREVER!"
   ]
  },
  {
   "cell_type": "markdown",
   "metadata": {
    "slideshow": {
     "slide_type": "slide"
    }
   },
   "source": [
    "## Decrementing or Incrementing Variables\n",
    "\n",
    "Suppose we want to print our favorite phrase only a certain number of times, specified by the user.\n",
    "\n",
    "<pre>\n",
    "num_times = int(input('How many times would you like to see \"oompa loompa\"?))\n",
    "while num_times != 0\n",
    "    print('oompa loompa')\n",
    "    num_times = num_times -1 #This decreases our test variable, guaranteeing that the loop will terminate.\n",
    "</pre>\n",
    "\n",
    "### Useful Abbreviation\n",
    "\n",
    "We can also use the command <code> num_times -= 1 </code> or <code> num_times += -1</code> as an abbreviation for <code> num_times = num_times - 1 </code>."
   ]
  },
  {
   "cell_type": "code",
   "execution_count": 40,
   "metadata": {
    "slideshow": {
     "slide_type": "slide"
    }
   },
   "outputs": [
    {
     "name": "stdout",
     "output_type": "stream",
     "text": [
      "How many times would you like to see \"oompa loompa\"? 5\n",
      "oompa loompa\n",
      "oompa loompa\n",
      "oompa loompa\n",
      "oompa loompa\n",
      "oompa loompa\n"
     ]
    }
   ],
   "source": [
    "num_times = int(input('How many times would you like to see \"oompa loompa\"? '))\n",
    "i=1\n",
    "while i<=num_times:\n",
    "    print('oompa loompa')\n",
    "    #num_times = num_times -1\n",
    "    #num_times -= 1\n",
    "    i=i+1\n",
    "    #i+=1\n",
    "    #num_times -= 1"
   ]
  },
  {
   "cell_type": "markdown",
   "metadata": {
    "slideshow": {
     "slide_type": "slide"
    }
   },
   "source": [
    "### Question on Overloaded Operations\n",
    "\n",
    "In lecture 1 we saw how certain numerical operators such as `+` and `*` are **over-loaded**, meaning that they can operate on multiple data types. \n",
    "\n",
    "***How would you write a program that accomplishes the same task as the previous program, without using a `while` loop?***"
   ]
  },
  {
   "cell_type": "code",
   "execution_count": 43,
   "metadata": {
    "slideshow": {
     "slide_type": "skip"
    }
   },
   "outputs": [
    {
     "name": "stdout",
     "output_type": "stream",
     "text": [
      "How many times would you like to see \"oompa loompa\"? 5\n",
      "oompa loompa \n",
      "oompa loompa \n",
      "oompa loompa \n",
      "oompa loompa \n",
      "oompa loompa \n",
      "\n"
     ]
    }
   ],
   "source": [
    "num_times = int(input('How many times would you like to see \"oompa loompa\"? '))\n",
    "print(num_times*'oompa loompa \\n')"
   ]
  },
  {
   "cell_type": "markdown",
   "metadata": {
    "slideshow": {
     "slide_type": "slide"
    }
   },
   "source": [
    "### Finger Exercise 2\n",
    "\n",
    "Write a program that asks for the user to input 10 positive integers and then prints the largest number entered.\n",
    "\n",
    "Take 10 minutes to think about this.\n",
    "\n",
    "**Harder Variation:** Write a program that asks for the user to input 10 positive integers and then prints the largest odd number entered. If no odd integer was entered, print a message to this effect."
   ]
  },
  {
   "cell_type": "markdown",
   "metadata": {
    "slideshow": {
     "slide_type": "slide"
    }
   },
   "source": [
    "### The `break` statement \n",
    "\n",
    "One way to prevent looping forever or specifying the number of times you need to loop is to embed a conditional `if` statement that contains a `break` statement:\n"
   ]
  },
  {
   "cell_type": "code",
   "execution_count": 46,
   "metadata": {
    "slideshow": {
     "slide_type": "fragment"
    }
   },
   "outputs": [
    {
     "name": "stdout",
     "output_type": "stream",
     "text": [
      "30 is divisible by 10 and 15\n"
     ]
    }
   ],
   "source": [
    "x=1 #this is called variable initialization\n",
    "while True:\n",
    "    if x%10==0 and x%15==0:\n",
    "        break\n",
    "    else:\n",
    "        x=x+1\n",
    "print(x, 'is divisible by 10 and 15')"
   ]
  },
  {
   "cell_type": "markdown",
   "metadata": {
    "slideshow": {
     "slide_type": "slide"
    }
   },
   "source": [
    "## `for` Loops\n",
    "\n",
    "While loops use a boolean to test whether a given boolean expression is true before executing a loop.\n",
    "We end up \"hacking\" this boolean test to iterate through a loop a prescribed number of times by using a decrementing (or incrementing!) variable.\n",
    "\n",
    "`for` loops make iterating a certain number of times extremely simple. Here is the syntax.\n",
    "\n",
    "<pre>\n",
    "for <i>variable </i> in <i> sequence </i>:\n",
    "    <i> code block </i>\n",
    "</pre>\n"
   ]
  },
  {
   "cell_type": "code",
   "execution_count": 47,
   "metadata": {
    "slideshow": {
     "slide_type": "fragment"
    }
   },
   "outputs": [
    {
     "name": "stdout",
     "output_type": "stream",
     "text": [
      "0\n",
      "4\n",
      "8\n",
      "12\n",
      "16\n",
      "20\n"
     ]
    }
   ],
   "source": [
    "for i in [0,1,2,3,4,5]:\n",
    "    print(4*i)"
   ]
  },
  {
   "cell_type": "markdown",
   "metadata": {
    "slideshow": {
     "slide_type": "subslide"
    }
   },
   "source": [
    "## the `range` function\n",
    "\n",
    "Constructing a sequence of numbers in Python can be done extremely simply:\n",
    "\n",
    "The function `range` takes 3 integer arguments\n",
    "<pre>\n",
    "range(start,stop,step)\n",
    "</pre>\n",
    "and produces a sequence of  integers\n",
    "<pre>\n",
    "start, start + step, start +2*step, start + 3*step, ...\n",
    "</pre>\n",
    "ending before `start +i*step` surpasses (or equals!) the `stop` value."
   ]
  },
  {
   "cell_type": "code",
   "execution_count": 7,
   "metadata": {
    "slideshow": {
     "slide_type": "fragment"
    }
   },
   "outputs": [
    {
     "name": "stdout",
     "output_type": "stream",
     "text": [
      "0\n",
      "2\n",
      "4\n"
     ]
    }
   ],
   "source": [
    "my_seq = range(0,5,2)\n",
    "\n",
    "for i in my_seq:\n",
    "    print(i)"
   ]
  },
  {
   "cell_type": "code",
   "execution_count": 8,
   "metadata": {},
   "outputs": [
    {
     "name": "stdout",
     "output_type": "stream",
     "text": [
      "0\n",
      "2\n",
      "4\n"
     ]
    }
   ],
   "source": [
    "start =0\n",
    "stop =5\n",
    "index=start\n",
    "\n",
    "while index < stop:\n",
    "    print(index)\n",
    "    index = index +2"
   ]
  },
  {
   "cell_type": "markdown",
   "metadata": {
    "slideshow": {
     "slide_type": "slide"
    }
   },
   "source": [
    "## More on `range`\n",
    "\n",
    "Although `range` takes 3 arguments---start, stop, step---it operates with 1 or 2 as well:\n",
    "\n",
    "`range(a,b)` produces a sequence starting at $a$ and ending at $b-1$\n",
    "\n",
    "`range(b)` produces a sequence starting at $0$ and ends at $b-1$"
   ]
  },
  {
   "cell_type": "code",
   "execution_count": 50,
   "metadata": {
    "slideshow": {
     "slide_type": "slide"
    }
   },
   "outputs": [
    {
     "name": "stdout",
     "output_type": "stream",
     "text": [
      "Here is what range(1,5) produces:\n",
      "1\n",
      "2\n",
      "3\n",
      "4\n",
      "Here is what range(5) produces:\n",
      "0\n",
      "1\n",
      "2\n",
      "3\n",
      "4\n"
     ]
    }
   ],
   "source": [
    "#for the two argument scenario\n",
    "print('Here is what range(1,5) produces:')\n",
    "for i in range(1,5):\n",
    "    print(i)\n",
    "\n",
    "print('Here is what range(5) produces:')  \n",
    "\n",
    "for i in range(5):\n",
    "    print(i)"
   ]
  },
  {
   "cell_type": "markdown",
   "metadata": {
    "slideshow": {
     "slide_type": "slide"
    }
   },
   "source": [
    "## Understanding Argument Evaluation\n",
    "\n",
    "Consider the code\n",
    "\n",
    "<pre>\n",
    "x=4\n",
    "for j in range(x):\n",
    "    for i in range(x):\n",
    "        print(i)\n",
    "        x=2\n",
    "</pre>\n",
    "\n",
    "Let's try to explain it's behavior."
   ]
  },
  {
   "cell_type": "code",
   "execution_count": 51,
   "metadata": {
    "slideshow": {
     "slide_type": "slide"
    }
   },
   "outputs": [
    {
     "name": "stdout",
     "output_type": "stream",
     "text": [
      "0\n",
      "1\n",
      "2\n",
      "3\n",
      "0\n",
      "1\n",
      "0\n",
      "1\n",
      "0\n",
      "1\n"
     ]
    }
   ],
   "source": [
    "x=4\n",
    "for j in range(x):\n",
    "    for i in range(x):\n",
    "        print(i)\n",
    "        x=2"
   ]
  },
  {
   "cell_type": "markdown",
   "metadata": {
    "slideshow": {
     "slide_type": "slide"
    }
   },
   "source": [
    "## Using a string to iterate over\n",
    "\n",
    "Since strings have the natural structure of an list, we can step along characters in a for loop:"
   ]
  },
  {
   "cell_type": "code",
   "execution_count": 53,
   "metadata": {
    "slideshow": {
     "slide_type": "fragment"
    }
   },
   "outputs": [
    {
     "name": "stdout",
     "output_type": "stream",
     "text": [
      "o\n",
      "o\n",
      "m\n",
      "p\n",
      "a\n",
      " \n",
      "l\n",
      "o\n",
      "o\n",
      "m\n",
      "p\n",
      "a\n"
     ]
    }
   ],
   "source": [
    "for i in 'oompa loompa':\n",
    "    print(i)"
   ]
  },
  {
   "cell_type": "code",
   "execution_count": 56,
   "metadata": {
    "slideshow": {
     "slide_type": "slide"
    }
   },
   "outputs": [
    {
     "name": "stdout",
     "output_type": "stream",
     "text": [
      "24\n"
     ]
    }
   ],
   "source": [
    "total = 0\n",
    "for i in '0101101010101101011004351':\n",
    "    total=total+int(i)\n",
    "print(total)"
   ]
  },
  {
   "cell_type": "markdown",
   "metadata": {
    "slideshow": {
     "slide_type": "slide"
    }
   },
   "source": [
    "### Finger Exercise 3\n",
    "\n",
    "Write a program that takes in a string of decimal numbers, separated by commas, e.g. s='1.5,6.4,3.8', and returns the sum of the integers in each of the decimals.\n"
   ]
  },
  {
   "cell_type": "code",
   "execution_count": null,
   "metadata": {},
   "outputs": [],
   "source": []
  }
 ],
 "metadata": {
  "celltoolbar": "Slideshow",
  "kernelspec": {
   "display_name": "Python 3",
   "language": "python",
   "name": "python3"
  },
  "language_info": {
   "codemirror_mode": {
    "name": "ipython",
    "version": 3
   },
   "file_extension": ".py",
   "mimetype": "text/x-python",
   "name": "python",
   "nbconvert_exporter": "python",
   "pygments_lexer": "ipython3",
   "version": "3.7.4"
  }
 },
 "nbformat": 4,
 "nbformat_minor": 2
}
