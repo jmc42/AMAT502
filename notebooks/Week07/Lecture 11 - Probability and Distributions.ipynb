{
 "cells": [
  {
   "cell_type": "markdown",
   "metadata": {
    "slideshow": {
     "slide_type": "slide"
    }
   },
   "source": [
    "# AMAT 502: Modern Computing for Mathematicians\n",
    "## Lecture 11 - Probability and Distributions\n",
    "### University at Albany SUNY"
   ]
  },
  {
   "cell_type": "markdown",
   "metadata": {
    "slideshow": {
     "slide_type": "slide"
    }
   },
   "source": [
    "# Topics for Today\n",
    "\n",
    "- Determinism versus Randomness\n",
    "- Deterministic versus Stochastic Programs\n",
    "- Elementary Rules for Calculating Probabilities\n",
    "- The Frequentist Approach\n",
    "- Some Examples of Distributions"
   ]
  },
  {
   "cell_type": "markdown",
   "metadata": {
    "slideshow": {
     "slide_type": "slide"
    }
   },
   "source": [
    "# Determinism versus Randomness\n",
    "## Classical Mechanics\n",
    "Most of classical physics is deterministic. This means that if you know the initial position and velocity of an object, like a baseball, then you can predict perfectly it's future motion.\n",
    "![Classical Mechanics](motion.png)\n"
   ]
  },
  {
   "cell_type": "markdown",
   "metadata": {
    "slideshow": {
     "slide_type": "slide"
    }
   },
   "source": [
    "## Quantum Mechanics and Wave Mechanics\n",
    "By contrast, if we're interested in the behavior of objects at the atomic (and even molecular level!) then scientists have developed a framework where objects have several possible **states**. \n",
    "\n",
    "States are defined to be eigenvectors of certain measurement operators: like measuring energy, position, momentum or even \"spin\". The surprising fact is that for atomic objects the values of these measurements are discrete, i.e. they are *quantized*, just like the levels in the electron shell can only exist at discrete levels.\n",
    "\n",
    "Quantization is a fundamental feature of **wave mechanics**, as in the figure below.\n",
    "\n",
    "All of music, notes and the *harmonies* we like to listen to, are features of **standing waves.** In fact this explains the origin of the term **harmonic series**\n",
    "$$1 + \\dfrac{1}{2} + \\dfrac{1}{3} + \\dfrac{1}{4} + \\dfrac{1}{5} + \\cdots = \\sum_{n=1}^{\\infty} \\dfrac{1}{n}$$\n",
    "\n",
    "![Rope Waves](rope-waves.jpg)"
   ]
  },
  {
   "cell_type": "markdown",
   "metadata": {
    "slideshow": {
     "slide_type": "slide"
    }
   },
   "source": [
    "## Model of the Atom\n",
    "Now suppose we're interested in waves around a circle. Notice that the endpoints must match up, so just like with standing waves, there are only so many wavelengths that can exist as an electron (which we know as wave-like behavior) \"orbits\" the nucleus in the atom.\n",
    "![Model of the Atom](atom.jpg)\n",
    "*From [https://www.slideshare.net/mrtangextrahelp/tang-02-schrdingers-atomic-model](https://www.slideshare.net/mrtangextrahelp/tang-02-schrdingers-atomic-model)*"
   ]
  },
  {
   "cell_type": "markdown",
   "metadata": {
    "slideshow": {
     "slide_type": "slide"
    }
   },
   "source": [
    "## Schrödinger's Cat\n",
    "\n",
    "Quantum Mechanics says that all things exist in a **superposition**, which is just a fancy way of saying a *linear combination*, of states.\n",
    "\n",
    "The Copenhagen interpretation of Quantum Mechanics (QM) says that only upon observing a system (applying the measurement operator) does a system collapse to one of its possible states. In other words, a system (viewed as a linear combination of states) \"jumps\" to a state (an eigenvector of the measurement operator) with some probability given by the norm of the coefficient of that state.\n",
    "\n",
    "Consequently, QM says nature is fundamentally *random* at the atomic level. But this has big implications for how we should think of nature at the everyday level as well.\n",
    "\n",
    "Schrödinger's Cat is the thought experiment where a hammer is hooked up to a device that measures whether a particle decays or not. If it decays, then the hammer breaks a beaker filled with a poison gas, which kills a cat inside the box. Since we don't know whether the particle decays or not until we open the box, the cat is supposed to exist in a superposition of an alive and dead state!\n",
    "\n",
    "![Schrodinger's Cat](schrodingers-cat.png)"
   ]
  },
  {
   "cell_type": "markdown",
   "metadata": {
    "slideshow": {
     "slide_type": "slide"
    }
   },
   "source": [
    "## Deterministic Programs\n",
    "\n",
    "A program is **deterministic** if whenever it is run on the same input, it produces the same output.\n",
    "\n",
    "We could code up Newton's laws and simulate the motion of a baseball deterministically.\n",
    "\n",
    "Also, most of math is deterministic in the sense that we think of functions having a well defined output for any given input. This has bearing on programming as well, as we want to implement mathematical functions in Python.\n",
    "\n",
    "Consider the program where we found the square root of a number within epsilon of the true square root\n",
    "\n",
    "```python\n",
    "def squareRoot(x, e):\n",
    "    '''Returns value y such that x - e <= y*y <= x + e\n",
    "``` \n",
    "\n",
    "Although there are infinitely many values $y$ such that $x - \\epsilon \\leq y^2 \\leq x + \\epsilon$, our implementation of the bisection search algorithm to compute the square root provided the same value of $y$ everytime we ran the squareRoot function."
   ]
  },
  {
   "cell_type": "code",
   "execution_count": 1,
   "metadata": {
    "slideshow": {
     "slide_type": "slide"
    }
   },
   "outputs": [],
   "source": [
    "def squareRoot(x,e):\n",
    "    left = 0\n",
    "    right = max(x,1.0)\n",
    "    numGuesses2 = 0\n",
    "    guess = (right+left)/2.0\n",
    "    while abs(guess**2 - x) > e:\n",
    "        numGuesses2 += 1\n",
    "        if guess**2 < x:\n",
    "            left = guess\n",
    "        else:\n",
    "            right = guess\n",
    "        guess = (right+left)/2.0\n",
    "    return guess"
   ]
  },
  {
   "cell_type": "code",
   "execution_count": 2,
   "metadata": {
    "slideshow": {
     "slide_type": "fragment"
    }
   },
   "outputs": [
    {
     "name": "stdout",
     "output_type": "stream",
     "text": [
      "1.4140625\n",
      "1.4140625\n",
      "1.4140625\n",
      "1.4140625\n"
     ]
    }
   ],
   "source": [
    "x=2\n",
    "eps=.01\n",
    "print(squareRoot(x,eps))\n",
    "print(squareRoot(x,eps))\n",
    "print(squareRoot(x,eps))\n",
    "print(squareRoot(x,eps))"
   ]
  },
  {
   "cell_type": "markdown",
   "metadata": {
    "slideshow": {
     "slide_type": "slide"
    }
   },
   "source": [
    "## Stochastic Programs\n",
    "Now suppse we want to write a function that simulates rolling a fair six-sided die.\n",
    "\n",
    "```python\n",
    "def rollDie():\n",
    "    ''' Returns and integer between 1 and 6'''\n",
    "```\n",
    "\n",
    "How would we do it? From experience we know that not everytime we roll a die do we get the same output. Such a process is called **stochastic** because the outcome cannot be predicted precisely."
   ]
  },
  {
   "cell_type": "code",
   "execution_count": 5,
   "metadata": {
    "slideshow": {
     "slide_type": "slide"
    }
   },
   "outputs": [
    {
     "data": {
      "text/plain": [
       "[3, 4, 1, 4, 3, 6, 6, 5, 4, 2, 2, 5]"
      ]
     },
     "execution_count": 5,
     "metadata": {},
     "output_type": "execute_result"
    }
   ],
   "source": [
    "import numpy as np\n",
    "def rollDie():\n",
    "    return np.random.randint(1,7)\n",
    "\n",
    "l = []\n",
    "for i in range(12):\n",
    "    l.append(rollDie())\n",
    "l"
   ]
  },
  {
   "cell_type": "markdown",
   "metadata": {
    "slideshow": {
     "slide_type": "slide"
    }
   },
   "source": [
    "## Independence\n",
    "Our output seems to be giving us what we want in terms of randomness. Would it be more or less surprising to instead see the output $$[1,1,1,1,1,1,1,1,1,1,1,1]?$$ \n",
    "\n",
    "Your answer should be **NEITHER**. The sequence generated in the code cell above and the sequence shown above are equally likely.\n",
    "\n",
    "This is because each roll of the die is **independent**, meaning that the value of the first roll has no bearing on the value of the second roll and so on."
   ]
  },
  {
   "cell_type": "markdown",
   "metadata": {
    "slideshow": {
     "slide_type": "slide"
    }
   },
   "source": [
    "## Calculating Probabilities\n",
    "\n",
    "In general, we need to talk about the **probability of an event**. An **event** is a subset of the space of all possible outcomes.\n",
    "\n",
    "In discrete probability, where all possible outcomes are equally likely, the probability of an event is equal to the fraction of all possible states with the desired property.\n",
    "\n",
    "### Probability of an Outcome\n",
    "For example, what's the probability of rolling a fair six-sided die and getting a value of 3?\n",
    "\n",
    "Well, there six possible outcomes, so we have a probability of $\\dfrac{1}{6}$.\n",
    "\n",
    "If we want to know the probability of rolling two 3's then there are now $6^2 = 36$ pairs of values between 1 and 6, the first value representing the first roll and the second value representing the second roll. Out of those pairs there is only one pair $(3,3)$, so the probability of that outcome is $\\dfrac{1}{36}$\n",
    "\n",
    "### Probability of an Event\n",
    "What's the probability of rolling an even number? \n",
    "\n",
    "Well, there are three states that are even $\\{2,4,6\\}$, so the probability of getting an even outcome is $\\dfrac{3}{6}$.\n",
    " \n",
    "**Question:** What's the probability of rolling two fair six sided die and at least one of the values being even? "
   ]
  },
  {
   "cell_type": "markdown",
   "metadata": {
    "slideshow": {
     "slide_type": "slide"
    }
   },
   "source": [
    "### Independence and the Multiplication Rule\n",
    "\n",
    "The probability of rolling two 3's is an instance of the **multiplication rule of independent probabilities**. \n",
    "\n",
    "Notice that $$P(\\text{Roll a 3 AND Roll a 3 again}) = \\frac{1}{36} = \\frac{1}{6}*\\frac{1}{6} =P(\\text{Roll a 3})\\times P(\\text{Roll a 3})$$.\n",
    "\n",
    "### The Rule of Complements\n",
    "\n",
    "If we want to know the probability of an event **not occurring** we can use the rule of complements, i.e. $$P(\\text{not A})= 1 - P(\\text{A})$$\n",
    "\n",
    "This along with the multiplication rule allows us to answer more complicated questions like \"What is the probability of rolling a fair six-sided die 25 times and never rolling a 1?\" \n",
    "\n",
    "This is the same thing as\n",
    "$$P(\\text{not rolling a 1})\\times P(\\text{not rolling a 1}) \\times \\cdots \\times P(\\text{not rolling a 1}) = (1-\\frac{1}{6})^{25}$$"
   ]
  },
  {
   "cell_type": "markdown",
   "metadata": {
    "slideshow": {
     "slide_type": "slide"
    }
   },
   "source": [
    "# Frequentist Statistics\n",
    "\n",
    "The basic laws of probability discussed above all assume we are given a well-defined space of outcomes and some probabilities for these.\n",
    "\n",
    "What if we instead we are \"in the world\" and we want to calculate these probabilities by observation?\n",
    "\n",
    "For example, how might we check that the die we were rolling truly is fair? Or in our case, how do we check that randint is giving us truly random integers between 1 and 6 in our code above? \n",
    "\n",
    "We would want to use **inferential (or frequentist) statistics** to estimate the probability of getting either a 1,2,3,4,5, or 6 by trying out our process `rollDie()` a large number of times and check that each value is close to the probability of rolling a fair die."
   ]
  },
  {
   "cell_type": "markdown",
   "metadata": {
    "slideshow": {
     "slide_type": "slide"
    }
   },
   "source": [
    "## Inferential Statistics\n",
    "\n",
    "The guiding principle of inferential statistics is that a random sample will tend to exhibit the same properties as the population from which it's drawn."
   ]
  },
  {
   "cell_type": "code",
   "execution_count": 6,
   "metadata": {
    "slideshow": {
     "slide_type": "subslide"
    }
   },
   "outputs": [],
   "source": [
    "def rollMean(n):\n",
    "    for j in range(1,7):    \n",
    "        c = 0\n",
    "        for i in range(n):\n",
    "            r = rollDie()\n",
    "            if r == j:\n",
    "                c += 1\n",
    "        print('Probability of rolling a ', j, 'is', c/n)"
   ]
  },
  {
   "cell_type": "code",
   "execution_count": 7,
   "metadata": {
    "scrolled": true,
    "slideshow": {
     "slide_type": "subslide"
    }
   },
   "outputs": [
    {
     "name": "stdout",
     "output_type": "stream",
     "text": [
      "Probability of rolling a  1 is 0.15\n",
      "Probability of rolling a  2 is 0.13\n",
      "Probability of rolling a  3 is 0.18\n",
      "Probability of rolling a  4 is 0.17\n",
      "Probability of rolling a  5 is 0.2\n",
      "Probability of rolling a  6 is 0.12\n"
     ]
    }
   ],
   "source": [
    "rollMean(100)"
   ]
  },
  {
   "cell_type": "code",
   "execution_count": 8,
   "metadata": {
    "slideshow": {
     "slide_type": "subslide"
    }
   },
   "outputs": [
    {
     "name": "stdout",
     "output_type": "stream",
     "text": [
      "Probability of rolling a  1 is 0.16768\n",
      "Probability of rolling a  2 is 0.16706\n",
      "Probability of rolling a  3 is 0.16598\n",
      "Probability of rolling a  4 is 0.1669\n",
      "Probability of rolling a  5 is 0.16585\n",
      "Probability of rolling a  6 is 0.16773\n"
     ]
    }
   ],
   "source": [
    "rollMean(100000)"
   ]
  },
  {
   "cell_type": "markdown",
   "metadata": {
    "slideshow": {
     "slide_type": "slide"
    }
   },
   "source": [
    "## The Law of Large Numbers\n",
    "\n",
    "What we are witnessing is the **law of large numbers** which tells us that as the number of trials $n$ increases, the average value of the sample approaches the true probability of the event occuring."
   ]
  },
  {
   "cell_type": "code",
   "execution_count": 10,
   "metadata": {
    "slideshow": {
     "slide_type": "slide"
    }
   },
   "outputs": [
    {
     "data": {
      "image/png": "[encoded data removed]",
      "text/plain": [
       "<Figure size 432x288 with 1 Axes>"
      ]
     },
     "metadata": {
      "needs_background": "light"
     },
     "output_type": "display_data"
    }
   ],
   "source": [
    "import matplotlib.pyplot as plt\n",
    "%matplotlib inline\n",
    "#convergence of probability of rolling a 3\n",
    "def lawLargeNumbers(n):\n",
    "    avg_three = []\n",
    "    for i in range(1,n + 1):\n",
    "        c = 0\n",
    "        for j in range(1,i):\n",
    "            r = rollDie()\n",
    "            if r == 3:\n",
    "                c += 1\n",
    "        avg_three.append(c/i)\n",
    "    x = range(n)\n",
    "    plt.axhline(y=0.16667, color='r', linestyle='-')\n",
    "    plt.plot(x,avg_three)\n",
    "    plt.xlabel('Number of Rolls')\n",
    "    plt.ylabel('Probability of rolling a three')\n",
    "    plt.show()\n",
    "lawLargeNumbers(1000)"
   ]
  },
  {
   "cell_type": "markdown",
   "metadata": {
    "slideshow": {
     "slide_type": "slide"
    }
   },
   "source": [
    "# Probability Distributions\n",
    "\n",
    "The above experiments shows us that in the limit, we have the following probability distribution on each roll:\n",
    "\n",
    "| X |  1 | 2  | 3  | 4  | 5 | 6  |\n",
    "|---|---|---|---|---|---|---|\n",
    "|p(x) | 1/6  | 1/6  | 1/6  | 1/6  | 1/6  | 1/6 |\n",
    "\n",
    "This is an example of a **uniform distribution**, where the probability of each event is given as the value of the **probability mass function** $p_X(x)$.\n",
    "\n",
    "A **histogram** plot is a computational way of calculating and visualization probability distributions. \n",
    "\n",
    "The values are sorted and divided up into a certain number of bins, and those bins are drawn out with their heights being the number of elements in each bin. Dividing by the total number of observations gives **empirical probabilities**, i.e frequencies that are observed in an experiment."
   ]
  },
  {
   "cell_type": "code",
   "execution_count": 13,
   "metadata": {
    "slideshow": {
     "slide_type": "fragment"
    }
   },
   "outputs": [
    {
     "data": {
      "image/png": "[encoded data removed]",
      "text/plain": [
       "<Figure size 432x288 with 1 Axes>"
      ]
     },
     "metadata": {
      "needs_background": "light"
     },
     "output_type": "display_data"
    }
   ],
   "source": [
    "x = np.random.randn(10000)\n",
    "\n",
    "# the histogram of the data\n",
    "#alpha parameter just adjusts color saturation, low values are dimmer, high values are darker\n",
    "plt.hist(x, 20, alpha = .5)\n",
    "plt.xlabel('Data')\n",
    "plt.ylabel('Frequency')\n",
    "plt.title('Histogram')\n",
    "plt.show()"
   ]
  },
  {
   "cell_type": "markdown",
   "metadata": {
    "slideshow": {
     "slide_type": "slide"
    }
   },
   "source": [
    "## Discrete versus Continuous Distributions\n",
    "\n",
    "A histogram is a depiction of a frequency distribuition. It tells us how often a random variable has taken on some value. It also provides information about relative frequency as well, i.e., we can see how many times a numbers between -2 and 2 show up relative to the rest of the values showing up. A **probability distribution** captures the notion of relative frequency by giving the probability of a random value taking on a value within a certain range. Probability distributions can either be \n",
    "\n",
    "* Discrete: Fintite number of values our random variables can take on\n",
    "\n",
    "* Continuous: The possible values our random variable can take is infinite, and the probability that a continuous random variable will take on a specific value is usually zero. **However, probabilities can be computed using integration of the probability distribution function.**"
   ]
  },
  {
   "cell_type": "markdown",
   "metadata": {
    "slideshow": {
     "slide_type": "slide"
    }
   },
   "source": [
    "## Binomial Distribution\n",
    "\n",
    "Suppose we go back to our rolling dice example. Then we can see that since our random variable, the die, can only take on values 1,2,3,4,5, or 6 so the underlying ditribution of rolling a given value $k$ times when you roll a die $n$ times will have a discrete distribution. If we want to answer the question\n",
    "                    What is the probability of rolling exactly two 1s in 3 rolls of a die?\n",
    "we can calculate it as follows:\n",
    "\n",
    "Denote rolling a 1 as $Y$ and rolling anything that is not a 1 as $N$. When rolling a die three times, the different ways to get exactly two 1s is $YYN$, $YNY$, $NYY$. "
   ]
  },
  {
   "cell_type": "markdown",
   "metadata": {
    "slideshow": {
     "slide_type": "slide"
    }
   },
   "source": [
    "## Binomial Distribution\n",
    "\n",
    "So if we calculate the probability of each event we see that they are all equal to $\\frac{1}{6}*\\frac{1}{6}*\\frac{5}{6} = \\frac{5}{6^3}$ and so the probability of rolling exactly two 1s when rolling three times is $3*\\frac{5}{6^3}$. Notice that each way of the three ways of getting exactly two 1s is an instance of ordering two successes and 1 failure, or how many ways can we succeed two times with three attempts. This number (so in our example the 3) is just\n",
    "\n",
    "$${3 \\choose 2} = \\dfrac{3!}{2!1!}$$\n",
    "\n",
    "Then each probability was just the product of \n",
    "$$(\\text{probability of success})^{\\text{number of success}}*(\\text{probability of failure})^{\\text{number of failures}}$$"
   ]
  },
  {
   "cell_type": "markdown",
   "metadata": {
    "slideshow": {
     "slide_type": "slide"
    }
   },
   "source": [
    "## Binomial Distribution\n",
    "\n",
    "In general if we are analyzing a random variable where it's values are either success or failure then the probability of exactly $k$ successes in $n$ independent trials with the probabilty of success being $p$ is \n",
    "\n",
    "$${n \\choose k}*p^k*(1 - p)^{n - k} $$\n",
    "\n",
    "and this probability distribution is called the **binomial distribution**"
   ]
  },
  {
   "cell_type": "markdown",
   "metadata": {
    "slideshow": {
     "slide_type": "slide"
    }
   },
   "source": [
    "## Normal Distribution\n",
    "\n",
    "A **normal** distribution is defined by the probability density function\n",
    "\n",
    "$$P(x) = \\dfrac{1}{\\sigma \\sqrt{2\\pi}} e^{-\\frac{(x - \\mu)^2}{2\\sigma^2}}$$\n",
    "\n",
    "Where $\\mu$ is the mean and $\\sigma$ is the standard deviation. A **standard normal distribution** or a **unit normal** is one where $\\mu = 0$ and $\\sigma = 1$."
   ]
  },
  {
   "cell_type": "code",
   "execution_count": 14,
   "metadata": {
    "scrolled": true,
    "slideshow": {
     "slide_type": "slide"
    }
   },
   "outputs": [
    {
     "data": {
      "image/png": "[encoded data removed]",
      "text/plain": [
       "<Figure size 432x288 with 1 Axes>"
      ]
     },
     "metadata": {
      "needs_background": "light"
     },
     "output_type": "display_data"
    }
   ],
   "source": [
    "mean = 0\n",
    "std = 1\n",
    "var = np.square(std)\n",
    "x = np.arange(-5,5,.01)\n",
    "f = np.exp(-np.square(x-mean)/2*var)/(np.sqrt(2*np.pi*var))\n",
    "\n",
    "plt.plot(x,f)\n",
    "plt.title('Normal Distribution')\n",
    "plt.show()"
   ]
  },
  {
   "cell_type": "markdown",
   "metadata": {},
   "source": [
    "## Integrating the Normal PDF\n",
    "\n",
    "Recall that for a continuous RV probability is computed using area under the curve of the PDF. For a standard normal RV, this function is even, i.e. it is symmetric about the y axis. It's useful to understand the area under the curve for certain symmetric intervals.\n",
    "\n",
    "![68 95 99.7 Rule](68-95-997.png)"
   ]
  },
  {
   "cell_type": "code",
   "execution_count": 15,
   "metadata": {
    "slideshow": {
     "slide_type": "slide"
    }
   },
   "outputs": [
    {
     "data": {
      "image/png": "[encoded data removed]",
      "text/plain": [
       "<Figure size 648x432 with 1 Axes>"
      ]
     },
     "metadata": {
      "needs_background": "light"
     },
     "output_type": "display_data"
    }
   ],
   "source": [
    "## Following https://pythonforundergradengineers.com/plotting-normal-curve-with-python.html\n",
    "## First we import all the necessary libraries\n",
    "import math\n",
    "import numpy as np\n",
    "import matplotlib.pyplot as plt\n",
    "from scipy.stats import binom\n",
    "from scipy.stats import norm\n",
    "plt.style.use('fivethirtyeight')\n",
    "%matplotlib inline\n",
    "\n",
    "x1sd = np.arange(-1, 1, 0.001) # range of x in 1 standard deviation\n",
    "x2sd = np.arange(-2, 2, 0.001) # range of x in 2 standard deviation\n",
    "x3sd = np.arange(-3, 3, 0.001) # range of x in 3 standard deviation\n",
    "x_all = np.arange(-4, 4, 0.001) # practically entire range of x\n",
    "\n",
    "y_all = norm.pdf(x_all,0,1)\n",
    "y1sd = norm.pdf(x1sd,0,1)\n",
    "y2sd = norm.pdf(x2sd,0,1)\n",
    "y3sd = norm.pdf(x3sd,0,1)\n",
    "\n",
    "# build the plot\n",
    "fig, ax = plt.subplots(figsize=(9,6))\n",
    "ax.plot(x_all,y_all)\n",
    "\n",
    "ax.fill_between(x_all,y_all,0, alpha=0.05)\n",
    "ax.fill_between(x3sd,y3sd,0, alpha=0.15, color='b')\n",
    "ax.fill_between(x2sd,y2sd,0, alpha=0.25, color='b')\n",
    "ax.fill_between(x1sd,y1sd,0, alpha=0.35, color='b')\n",
    "ax.set_xlim([-4,4])\n",
    "ax.set_xlabel('# of Standard Deviations Outside the Mean')\n",
    "ax.set_yticklabels([])\n",
    "ax.set_title('Normal Gaussian Curve')\n",
    "plt.savefig('68-95-997.png', dpi=72, bbox_inches='tight')\n",
    "#plt.show()"
   ]
  },
  {
   "cell_type": "markdown",
   "metadata": {},
   "source": [
    "## Normal Distributions: The 68-95-99.7 Rule\n",
    "\n",
    "One of the properties of the normal distribution independednt of the mean and standard deviation is the **68-95-99.7 Rule** also called the **empirical rule** in Guttag. \n",
    "\n",
    "This says that for a random variable $X$ whose PDF is a unit normal, then\n",
    "\n",
    "- $P(-1 \\leq X \\leq 1)$ is about 68%, i.e. the area under the curve between -1 and 1 is .68\n",
    "- $P(-2 \\leq X \\leq 2)$ is about 95%, i.e. the area under the curve between -2 and 2 is .95\n",
    "- $P(-3 \\leq X \\leq 3)$ is about 99.73%, i.e. the area under the curve between -3 and 3 is .9973"
   ]
  }
 ],
 "metadata": {
  "celltoolbar": "Slideshow",
  "kernelspec": {
   "display_name": "Python 3",
   "language": "python",
   "name": "python3"
  },
  "language_info": {
   "codemirror_mode": {
    "name": "ipython",
    "version": 3
   },
   "file_extension": ".py",
   "mimetype": "text/x-python",
   "name": "python",
   "nbconvert_exporter": "python",
   "pygments_lexer": "ipython3",
   "version": "3.7.4"
  }
 },
 "nbformat": 4,
 "nbformat_minor": 2
}
