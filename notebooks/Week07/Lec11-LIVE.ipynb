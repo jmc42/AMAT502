{
 "cells": [
  {
   "cell_type": "markdown",
   "metadata": {},
   "source": [
    "# Lecture 11 LIVE\n",
    "\n",
    "## Topics from Lecture\n",
    "- Randomness versus Determinism\n",
    "- Frequency statistics\n",
    "- Basic Distributions"
   ]
  },
  {
   "cell_type": "markdown",
   "metadata": {},
   "source": [
    "### Question 1 - Biased Coin Flips\n",
    "\n",
    "Write three functions \n",
    "- `biasedFlip(pHeads)` that returns `H` with probability `pHeads` and `T` with probability `1-pHeads`, and\n",
    "- `biasedCoinTrial(n,pHeads)` that returns a list or array that flips a biased coin with probability `pHeads` of heads a total of n times.\n",
    "- `countHeads(trial)` that counts the number of heads in the list produced by `biasedCoinTrial`\n",
    "\n",
    "**HINT:** You might want to use the function `np.random.choice` from Lecture 10."
   ]
  },
  {
   "cell_type": "code",
   "execution_count": null,
   "metadata": {},
   "outputs": [],
   "source": []
  },
  {
   "cell_type": "code",
   "execution_count": null,
   "metadata": {},
   "outputs": [],
   "source": []
  },
  {
   "cell_type": "code",
   "execution_count": null,
   "metadata": {},
   "outputs": [],
   "source": []
  },
  {
   "cell_type": "markdown",
   "metadata": {},
   "source": [
    "### Question 2 - Run an Experiment\n",
    "\n",
    "Write a function `runExperiment(d,n,pHeads)` that returns a list of length `d` where every each entry in this list is given by the average number of heads provided by a single run of `biasedCoinTrial(n,pHeads)`."
   ]
  },
  {
   "cell_type": "code",
   "execution_count": null,
   "metadata": {},
   "outputs": [],
   "source": []
  },
  {
   "cell_type": "markdown",
   "metadata": {},
   "source": [
    "### Question 3 - Plot the Results and Compare with `seaborn`\n",
    "\n",
    "### Q3: Part A\n",
    "Use the code below to create a histogram of the results of `runExperiment(1000,100,.2)`. \n",
    "\n",
    "Here `x` should be the output of `runExperiment`\n",
    "\n",
    "```python\n",
    "import matplotlib.pyplot as plt\n",
    "%matplotlib inline\n",
    "\n",
    "plt.hist(x, bins=numBins, alpha = .5)\n",
    "plt.xlabel('Average Number of Heads')\n",
    "plt.ylabel('Frequency')\n",
    "plt.title('Histogram of Average Number of Heads')\n",
    "plt.show()\n",
    "```"
   ]
  },
  {
   "cell_type": "code",
   "execution_count": null,
   "metadata": {
    "scrolled": true
   },
   "outputs": [],
   "source": []
  },
  {
   "cell_type": "markdown",
   "metadata": {},
   "source": [
    "### Q3: Part B\n",
    "\n",
    "Use the code below to plot a histogram using Python's Seaborn package and the [`distplot` function](https://seaborn.pydata.org/generated/seaborn.distplot.html). It says it's deprecated, but mine is still working.\n",
    "\n",
    "```python\n",
    "import seaborn as sns\n",
    "sns.distplot(x); # Hopefully there are no errors!\n",
    "```\n",
    "\n",
    "Vary the number of bins in your first plot to get a plot that looks like the seaborn plot."
   ]
  },
  {
   "cell_type": "code",
   "execution_count": null,
   "metadata": {},
   "outputs": [],
   "source": []
  },
  {
   "cell_type": "markdown",
   "metadata": {},
   "source": [
    "### Q3: Part C - BONUS MATH QUESTION\n",
    "\n",
    "Notice that the scale of the `y` axis is different between these two plots. Why do you think that is?\n",
    "\n",
    "**This is a vague question with lots of possible answers. Think about how we standardize a random variable.**"
   ]
  },
  {
   "cell_type": "markdown",
   "metadata": {},
   "source": []
  },
  {
   "cell_type": "code",
   "execution_count": null,
   "metadata": {},
   "outputs": [],
   "source": []
  },
  {
   "cell_type": "markdown",
   "metadata": {},
   "source": [
    "### Question 4 - Plotting two different coins being flipped\n",
    "### Q4: Part A\n",
    "Using different colors, plot a historgram that shows the results of\n",
    "- `runExperiment(100,5,.2)` in the color yellow and \n",
    "- `runExperiment(100,5,.5)` in the color green\n",
    "all on one plot.\n",
    "\n",
    "Then try doing the same thing with\n",
    "- `runExperiment(1000,100,.2)` in the color yellow and \n",
    "- `runExperiment(1000,100,.5)` in the color green\n",
    "\n",
    "Look here! https://seaborn.pydata.org/generated/seaborn.distplot.html"
   ]
  },
  {
   "cell_type": "code",
   "execution_count": null,
   "metadata": {},
   "outputs": [],
   "source": []
  },
  {
   "cell_type": "code",
   "execution_count": null,
   "metadata": {},
   "outputs": [],
   "source": []
  },
  {
   "cell_type": "markdown",
   "metadata": {},
   "source": [
    "### Q4: Part B BONUS MATH QUESTION\n",
    "\n",
    "If you were given the a biased coin with `pHeads=.2`, but you didn't know it wasn't a fair coin, how many times would you need to flip it in order to be 95% sure that your coin wasn't fair?\n",
    "\n",
    "**This question is missing some additional information. Say as much as you can.**"
   ]
  },
  {
   "cell_type": "code",
   "execution_count": null,
   "metadata": {},
   "outputs": [],
   "source": []
  },
  {
   "cell_type": "markdown",
   "metadata": {},
   "source": [
    "### Question 5: Rolling a Die\n",
    "\n",
    "Write a function that calculates the probability of rolling exactly two 3's in k rolls of a fair six sided die. \n",
    "\n",
    "Use this function to plot the probability as k varies from 2 to 100. "
   ]
  },
  {
   "cell_type": "code",
   "execution_count": null,
   "metadata": {},
   "outputs": [],
   "source": []
  }
 ],
 "metadata": {
  "kernelspec": {
   "display_name": "Python 3",
   "language": "python",
   "name": "python3"
  },
  "language_info": {
   "codemirror_mode": {
    "name": "ipython",
    "version": 3
   },
   "file_extension": ".py",
   "mimetype": "text/x-python",
   "name": "python",
   "nbconvert_exporter": "python",
   "pygments_lexer": "ipython3",
   "version": "3.7.4"
  }
 },
 "nbformat": 4,
 "nbformat_minor": 2
}
