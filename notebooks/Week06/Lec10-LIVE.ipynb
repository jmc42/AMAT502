{
 "cells": [
  {
   "cell_type": "markdown",
   "metadata": {},
   "source": [
    "# Lecture 10 LIVE\n",
    "\n",
    "## Topics from Lecture\n",
    "- `import numpy as np`\n",
    "- Create various arrays of homogeneous data\n",
    "- Reshaping arrays\n",
    "- Random Arrays using `np.random.randint` and other methods\n"
   ]
  },
  {
   "cell_type": "markdown",
   "metadata": {},
   "source": [
    "### Question 1 (Boolean Arrays)\n",
    "Create a 3×3 numpy array of all True’s"
   ]
  },
  {
   "cell_type": "code",
   "execution_count": 1,
   "metadata": {},
   "outputs": [],
   "source": [
    "import numpy as np"
   ]
  },
  {
   "cell_type": "markdown",
   "metadata": {},
   "source": [
    "### Question 2: Part A (Using the `arange` Function)\n",
    "Create a 1-D array of the numbers between 0 and 30."
   ]
  },
  {
   "cell_type": "code",
   "execution_count": null,
   "metadata": {},
   "outputs": [],
   "source": []
  },
  {
   "cell_type": "markdown",
   "metadata": {},
   "source": [
    "### Question 2: Part B (Extracting Values Satisfying a Conditional)\n",
    "Create a new array from the first that only includes the odd values of your array."
   ]
  },
  {
   "cell_type": "code",
   "execution_count": null,
   "metadata": {},
   "outputs": [],
   "source": []
  },
  {
   "cell_type": "markdown",
   "metadata": {},
   "source": [
    "### Question 2: Part C (Replacing Values Satisfying a Conditional)\n",
    "Using the array from Part A, replace all odd numbers in the array with -1."
   ]
  },
  {
   "cell_type": "code",
   "execution_count": null,
   "metadata": {},
   "outputs": [],
   "source": []
  },
  {
   "cell_type": "markdown",
   "metadata": {},
   "source": [
    "### Question 3 (Reshape Function)\n",
    "The function **np.reshape(A, (n, m))** takes in the array $A$ and converts it to an array of $n$ rows and $m$ columns. Write a function that creates a random 1D array of $n$ integers and converts in into a 2D array with 2 rows. If $n$ is not divisible by 2, return an error message to that effect."
   ]
  },
  {
   "cell_type": "code",
   "execution_count": null,
   "metadata": {},
   "outputs": [],
   "source": []
  },
  {
   "cell_type": "markdown",
   "metadata": {},
   "source": [
    "## Exploring the Central Limit Theorem\n",
    "![Standardized Sum](standard-sum.png)\n",
    "### Question 4: Part A (`randint` function)\n",
    "Generate a random numpy array of length 20 where every entry is drawn from the uniform distribution on $\\{-1,0,1\\}$."
   ]
  },
  {
   "cell_type": "code",
   "execution_count": null,
   "metadata": {},
   "outputs": [],
   "source": [
    "randint()"
   ]
  },
  {
   "cell_type": "markdown",
   "metadata": {},
   "source": [
    "### Question 4: Part B (`sum` function)\n",
    "Use the `sum()` function to sum all the entries in your random array from Part A."
   ]
  },
  {
   "cell_type": "code",
   "execution_count": null,
   "metadata": {},
   "outputs": [],
   "source": []
  },
  {
   "cell_type": "markdown",
   "metadata": {},
   "source": [
    "### Question 4: Part C (List Comprehension)\n",
    "Use list comprehension to create a list `data` of length $d$ where every entry in `data` is the sum of $n$ random numbers drawn from the uniform distribution on $\\{-1,0,1\\}$. I've provided some candidate numbers for $n$ and $d$ below."
   ]
  },
  {
   "cell_type": "code",
   "execution_count": null,
   "metadata": {},
   "outputs": [],
   "source": [
    "n=100 #number of random ints between -1 and 1 (inclusive of 1) to sum\n",
    "d=500 #length of the list data\n",
    "## CREATE THE LIST data BELOW HERE"
   ]
  },
  {
   "cell_type": "markdown",
   "metadata": {},
   "source": [
    "### Question 4: Part D (Plotting a Histogram)\n",
    "Create a new list `normData` which is the list `data` where every entry is divided by `np.sqrt(2*n/3)`.\n",
    "\n",
    "Use the plot function below to visualize the distribution. What does it remind you of? Your plot could like the one at the start of this question.\n",
    "\n"
   ]
  },
  {
   "cell_type": "code",
   "execution_count": null,
   "metadata": {},
   "outputs": [],
   "source": [
    "## CREATE THE LIST normData and uncomment the \n",
    "\n",
    "## SOLUTION ABOVE HERE\n",
    "## UNCOMMENT THIS CODE BELOW\n",
    "import matplotlib.pyplot as plt\n",
    "plt.hist(normData, bins=50)\n",
    "plt.show()"
   ]
  },
  {
   "cell_type": "code",
   "execution_count": null,
   "metadata": {},
   "outputs": [],
   "source": []
  },
  {
   "cell_type": "code",
   "execution_count": null,
   "metadata": {},
   "outputs": [],
   "source": []
  }
 ],
 "metadata": {
  "kernelspec": {
   "display_name": "Python 3",
   "language": "python",
   "name": "python3"
  },
  "language_info": {
   "codemirror_mode": {
    "name": "ipython",
    "version": 3
   },
   "file_extension": ".py",
   "mimetype": "text/x-python",
   "name": "python",
   "nbconvert_exporter": "python",
   "pygments_lexer": "ipython3",
   "version": "3.7.4"
  }
 },
 "nbformat": 4,
 "nbformat_minor": 2
}
