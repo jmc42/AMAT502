{
 "cells": [
  {
   "cell_type": "markdown",
   "metadata": {
    "slideshow": {
     "slide_type": "slide"
    }
   },
   "source": [
    "# AMAT 502: Modern Computing for Mathematicians\n",
    "## Lecture 10 - NumPy Arrays vs. Python Lists\n",
    "### University at Albany SUNY"
   ]
  },
  {
   "cell_type": "markdown",
   "metadata": {
    "slideshow": {
     "slide_type": "slide"
    }
   },
   "source": [
    "# Topics for Today\n",
    "\n",
    "* NumPy Array Intro\n",
    "* Comparison with Lists\n",
    "* NumPy Array Operations and Syntax\n",
    "* Vectorization\n",
    "* Random Arrays"
   ]
  },
  {
   "cell_type": "markdown",
   "metadata": {
    "slideshow": {
     "slide_type": "slide"
    }
   },
   "source": [
    "# Intro to NumPy\n",
    "\n",
    "![numpy](numpy.png)\n",
    "\n",
    "NumPy is a Python package that allows you to store and manipulate **homogeneous arrays of data**. These are like lists, but where every entry needs to be of the same data type, e.g. all entries are of type `float` or `str`. \n",
    "\n",
    "The definition of **homogeneous** means that, unlike Python lists, all elements of a NumPy array should be of same type.\n",
    "\n",
    "Later, when we get into Pandas, we'll see how **dataframes** are well-built for **heterogeneous arrays of data**."
   ]
  },
  {
   "cell_type": "markdown",
   "metadata": {
    "slideshow": {
     "slide_type": "slide"
    }
   },
   "source": [
    "## Why NumPy?\n",
    "\n",
    "We already have lists built in to Python, so why NumPy arrays?\n",
    "\n",
    "- \"Under the hood\" NumPy has very fast encodings of array data structures, which makes them fast to search and manipulate---*much faster* then traditional search algorithms in a list, like bisection search.\n",
    "\n",
    "- Because array-based data is so commonplace in computing, it makes sense to optimize your objects and methods to handle these. Indeed, one of ther reasons MATLAB, which is another popular programming language for scientific computing and modeling, is so popular is that it is optimized around arrays. **NumPy is Python's Matlab**\n",
    "\n",
    "- NumPy is the basis for a [huge amount of other libraries, which you will want to use](https://numpy.org/). Packages such as...\n",
    "    - `SciPy`\n",
    "    - `random`\n",
    "    - Pandas\n",
    "    - scikit-learn (for machine learning!)\n",
    "    - and many others are built \"on top of\" NumPy.\n"
   ]
  },
  {
   "cell_type": "markdown",
   "metadata": {
    "slideshow": {
     "slide_type": "slide"
    }
   },
   "source": [
    "## Basic Syntax"
   ]
  },
  {
   "cell_type": "code",
   "execution_count": 2,
   "metadata": {
    "slideshow": {
     "slide_type": "slide"
    }
   },
   "outputs": [
    {
     "data": {
      "text/plain": [
       "array([[1, 2, 3],\n",
       "       [4, 5, 6],\n",
       "       [7, 8, 9]])"
      ]
     },
     "execution_count": 2,
     "metadata": {},
     "output_type": "execute_result"
    }
   ],
   "source": [
    "import numpy as np # this is very important!\n",
    "A = np.array([[1,2,3],[4,5,6],[7,8,9]])\n",
    "A"
   ]
  },
  {
   "cell_type": "code",
   "execution_count": 25,
   "metadata": {
    "scrolled": true,
    "slideshow": {
     "slide_type": "slide"
    }
   },
   "outputs": [
    {
     "data": {
      "text/plain": [
       "numpy.ndarray"
      ]
     },
     "execution_count": 25,
     "metadata": {},
     "output_type": "execute_result"
    }
   ],
   "source": [
    "l = [[1,2,2],[4,-3,1],[12,2,10]]\n",
    "B = np.array(l)\n",
    "A+B\n",
    "type(A)"
   ]
  },
  {
   "cell_type": "markdown",
   "metadata": {
    "slideshow": {
     "slide_type": "slide"
    }
   },
   "source": [
    "## Rows versus Columns\n",
    "\n",
    "What (if any) difference does it make if an array is created with list $j$ rather than list $k$?\n",
    "\n",
    "$j = [[1],[2],[3]]$\n",
    "\n",
    "$k = [1,2,3]$"
   ]
  },
  {
   "cell_type": "code",
   "execution_count": 26,
   "metadata": {
    "slideshow": {
     "slide_type": "subslide"
    }
   },
   "outputs": [
    {
     "name": "stdout",
     "output_type": "stream",
     "text": [
      "[[1]\n",
      " [2]\n",
      " [3]]\n",
      "[1 2 3]\n"
     ]
    }
   ],
   "source": [
    "print(np.array([[1],[2],[3]]))\n",
    "print(np.array([1,2,3]))"
   ]
  },
  {
   "cell_type": "markdown",
   "metadata": {
    "slideshow": {
     "slide_type": "slide"
    }
   },
   "source": [
    "# Python List Operations\n",
    "\n",
    "### Example Version 1\n",
    "Suppose we have a list of distances traveled over a period of time and a list of those times for 10 cars. How would we calculate the speed for each car?"
   ]
  },
  {
   "cell_type": "code",
   "execution_count": 27,
   "metadata": {
    "slideshow": {
     "slide_type": "fragment"
    }
   },
   "outputs": [],
   "source": [
    "distances = [20, 15, 17, 4, 70, 42, 32, 37, 12, 10]\n",
    "times = [1,3,6,2,5,13,8,7,9,.5]"
   ]
  },
  {
   "cell_type": "code",
   "execution_count": 28,
   "metadata": {
    "slideshow": {
     "slide_type": "subslide"
    }
   },
   "outputs": [
    {
     "data": {
      "text/plain": [
       "[20.0,\n",
       " 5.0,\n",
       " 2.8333333333333335,\n",
       " 2.0,\n",
       " 14.0,\n",
       " 3.230769230769231,\n",
       " 4.0,\n",
       " 5.285714285714286,\n",
       " 1.3333333333333333,\n",
       " 20.0]"
      ]
     },
     "execution_count": 28,
     "metadata": {},
     "output_type": "execute_result"
    }
   ],
   "source": [
    "speeds = []\n",
    "for i in range(len(distances)):\n",
    "    speeds.append(distances[i]/times[i])\n",
    "speeds"
   ]
  },
  {
   "cell_type": "markdown",
   "metadata": {
    "slideshow": {
     "slide_type": "slide"
    }
   },
   "source": [
    "## `zip` function\n",
    "In Python you can take two iterable objects---like lists or tuples---and use the function `zip(i1,i2)` to return an iterable of tuples. \n",
    "\n",
    "This makes it easier to apply list comprehension.\n",
    "\n",
    "### Example Version 2"
   ]
  },
  {
   "cell_type": "code",
   "execution_count": 38,
   "metadata": {
    "slideshow": {
     "slide_type": "fragment"
    }
   },
   "outputs": [
    {
     "name": "stdout",
     "output_type": "stream",
     "text": [
      "[20.0, 5.0, 2.8333333333333335, 2.0, 14.0, 3.230769230769231, 4.0, 5.285714285714286, 1.3333333333333333, 20.0]\n"
     ]
    }
   ],
   "source": [
    "pairs = zip(distances,times)\n",
    "#type(pairs)\n",
    "#print(list(pairs)) # uncomment to show what zip does\n",
    "#note that list(pairs) is empty after it's used to compute speeds\n",
    "speeds = [d/t for (d,t) in pairs]\n",
    "print(speeds)\n",
    "#print(list(pairs))"
   ]
  },
  {
   "cell_type": "markdown",
   "metadata": {
    "slideshow": {
     "slide_type": "slide"
    }
   },
   "source": [
    "## Working with \"Higher Dimensional\" Lists\n",
    "\n",
    "Now what if we have higher dimensional arrays or lists? \n",
    "\n",
    "Write a loop (or use list comprehension if you can) to make a new list that is the product of each of the entries in the lists $a$ and $b$ defined below:"
   ]
  },
  {
   "cell_type": "code",
   "execution_count": 39,
   "metadata": {
    "slideshow": {
     "slide_type": "fragment"
    }
   },
   "outputs": [],
   "source": [
    "a = [[23,41],[-1,2]]\n",
    "b = [[2,-4],[3,8]]"
   ]
  },
  {
   "cell_type": "code",
   "execution_count": 43,
   "metadata": {
    "slideshow": {
     "slide_type": "subslide"
    }
   },
   "outputs": [
    {
     "name": "stdout",
     "output_type": "stream",
     "text": [
      "[[46, -164], [-3, 16]]\n",
      "[[  46 -164]\n",
      " [  -3   16]]\n"
     ]
    },
    {
     "data": {
      "text/plain": [
       "-164"
      ]
     },
     "execution_count": 43,
     "metadata": {},
     "output_type": "execute_result"
    }
   ],
   "source": [
    "l3 = [[0,0],[0,0]]\n",
    "for i in range(2):\n",
    "    for j in range(2):\n",
    "        l3[i][j] = a[i][j]*b[i][j]\n",
    "print(l3)\n",
    "C = np.array(l3)\n",
    "print(C)\n",
    "l3[0][1]"
   ]
  },
  {
   "cell_type": "markdown",
   "metadata": {
    "slideshow": {
     "slide_type": "slide"
    }
   },
   "source": [
    "## Trying to Divide Lists\n",
    "**Question:** Why do we get an *error* when we try to run:"
   ]
  },
  {
   "cell_type": "code",
   "execution_count": 46,
   "metadata": {
    "slideshow": {
     "slide_type": "fragment"
    }
   },
   "outputs": [
    {
     "name": "stdout",
     "output_type": "stream",
     "text": [
      "[20, 15, 17, 4, 70, 42, 32, 37, 12, 10]\n",
      "[1, 3, 6, 2, 5, 13, 8, 7, 9, 0.5]\n"
     ]
    },
    {
     "ename": "TypeError",
     "evalue": "unsupported operand type(s) for /: 'list' and 'list'",
     "output_type": "error",
     "traceback": [
      "\u001b[0;31m--------------------------------------------------------------------------\u001b[0m",
      "\u001b[0;31mTypeError\u001b[0m                                Traceback (most recent call last)",
      "\u001b[0;32m<ipython-input-46-9de9267c8f19>\u001b[0m in \u001b[0;36m<module>\u001b[0;34m\u001b[0m\n\u001b[1;32m      1\u001b[0m \u001b[0mprint\u001b[0m\u001b[0;34m(\u001b[0m\u001b[0mdistances\u001b[0m\u001b[0;34m)\u001b[0m\u001b[0;34m\u001b[0m\u001b[0;34m\u001b[0m\u001b[0m\n\u001b[1;32m      2\u001b[0m \u001b[0mprint\u001b[0m\u001b[0;34m(\u001b[0m\u001b[0mtimes\u001b[0m\u001b[0;34m)\u001b[0m\u001b[0;34m\u001b[0m\u001b[0;34m\u001b[0m\u001b[0m\n\u001b[0;32m----> 3\u001b[0;31m \u001b[0mspeeds\u001b[0m \u001b[0;34m=\u001b[0m \u001b[0mdistances\u001b[0m\u001b[0;34m/\u001b[0m\u001b[0mtimes\u001b[0m \u001b[0;31m#this should generate an error\u001b[0m\u001b[0;34m\u001b[0m\u001b[0;34m\u001b[0m\u001b[0m\n\u001b[0m",
      "\u001b[0;31mTypeError\u001b[0m: unsupported operand type(s) for /: 'list' and 'list'"
     ]
    }
   ],
   "source": [
    "print(distances)\n",
    "print(times)\n",
    "speeds = distances/times #this should generate an error"
   ]
  },
  {
   "cell_type": "markdown",
   "metadata": {
    "slideshow": {
     "slide_type": "slide"
    }
   },
   "source": [
    "# NumPy to the Rescue!\n",
    "\n",
    "Each of the above examples illustrate the rigidity of Python Lists.\n",
    "\n",
    "Now let's replace these lists with their NumPy array analogues and see what happens when we do the same thing."
   ]
  },
  {
   "cell_type": "code",
   "execution_count": 47,
   "metadata": {
    "slideshow": {
     "slide_type": "fragment"
    }
   },
   "outputs": [],
   "source": [
    "d = np.array(distances)\n",
    "t = np.array(times)"
   ]
  },
  {
   "cell_type": "code",
   "execution_count": 50,
   "metadata": {
    "slideshow": {
     "slide_type": "subslide"
    }
   },
   "outputs": [
    {
     "data": {
      "text/plain": [
       "array([20.        ,  5.        ,  2.83333333,  2.        , 14.        ,\n",
       "        3.23076923,  4.        ,  5.28571429,  1.33333333, 20.        ])"
      ]
     },
     "execution_count": 50,
     "metadata": {},
     "output_type": "execute_result"
    }
   ],
   "source": [
    "speeds = d/t\n",
    "speeds"
   ]
  },
  {
   "cell_type": "code",
   "execution_count": 51,
   "metadata": {
    "slideshow": {
     "slide_type": "subslide"
    }
   },
   "outputs": [
    {
     "data": {
      "text/plain": [
       "array([[  46, -164],\n",
       "       [  -3,   16]])"
      ]
     },
     "execution_count": 51,
     "metadata": {},
     "output_type": "execute_result"
    }
   ],
   "source": [
    "a2 = np.array(a)\n",
    "b2 = np.array(b)\n",
    "a2*b2"
   ]
  },
  {
   "cell_type": "markdown",
   "metadata": {
    "slideshow": {
     "slide_type": "slide"
    }
   },
   "source": [
    "## NumPy Array Operations\n",
    "\n",
    "<ol>\n",
    "    \n",
    "* Determining the size, shape, memory consumption, and data types of arrays\n",
    "* Getting and setting the value of individual array elements\n",
    "* Getting and setting smaller subarrays within a larger array\n",
    "* Changing the shape of a given array\n",
    "* Combining multiple arrays into one, and splitting one array into many\n",
    "\n",
    "</ol>"
   ]
  },
  {
   "cell_type": "code",
   "execution_count": 52,
   "metadata": {
    "slideshow": {
     "slide_type": "slide"
    }
   },
   "outputs": [],
   "source": [
    "arr = np.array([1,2,3,4,5]) \n",
    "arr1 = np.array([[1,2,3],[4,5,6],[7,8,9]])"
   ]
  },
  {
   "cell_type": "code",
   "execution_count": 59,
   "metadata": {
    "slideshow": {
     "slide_type": "fragment"
    }
   },
   "outputs": [
    {
     "data": {
      "text/plain": [
       "array([[1, 2, 3],\n",
       "       [4, 5, 6],\n",
       "       [7, 8, 9]])"
      ]
     },
     "execution_count": 59,
     "metadata": {},
     "output_type": "execute_result"
    }
   ],
   "source": [
    "l2 = np.arange(1,10)\n",
    "#l2 = np.arange(1,13)\n",
    "# What does arange do if we needed this reshape function?\n",
    "#l2\n",
    "#l2.reshape(4,3)\n",
    "l2.reshape(3,3)"
   ]
  },
  {
   "cell_type": "markdown",
   "metadata": {
    "slideshow": {
     "slide_type": "slide"
    }
   },
   "source": [
    "## NumPy Array Operations\n",
    "\n",
    "* Notice that in order to define both the 1 x 5 array and the 3 x 3, we needed to define them using lists. In particular, we needed a list of lists to define the 3 x 3 array.\n",
    "\n",
    "* You may also specify the datatype by setting the *dtype* argument. Some of the most commonly used numpy *dtypes* are: 'float', 'int', 'bool', 'str' and 'object'."
   ]
  },
  {
   "cell_type": "code",
   "execution_count": 60,
   "metadata": {
    "scrolled": true,
    "slideshow": {
     "slide_type": "subslide"
    }
   },
   "outputs": [
    {
     "name": "stdout",
     "output_type": "stream",
     "text": [
      "[['1' '2' '3']\n",
      " ['4' '5' '6']\n",
      " ['7' '8' '9']]\n"
     ]
    }
   ],
   "source": [
    "arr2 = np.array(arr1, dtype = 'str')\n",
    "print(arr2)"
   ]
  },
  {
   "cell_type": "markdown",
   "metadata": {
    "slideshow": {
     "slide_type": "slide"
    }
   },
   "source": [
    "## NumPy Array Operations\n",
    "\n",
    "**Question:** How might we get a matrix of boolean values?"
   ]
  },
  {
   "cell_type": "code",
   "execution_count": 61,
   "metadata": {
    "slideshow": {
     "slide_type": "subslide"
    }
   },
   "outputs": [
    {
     "name": "stdout",
     "output_type": "stream",
     "text": [
      "[ True  True  True False False  True  True False False]\n"
     ]
    }
   ],
   "source": [
    "# Here is an example of how to incorporate boolean variables into an array\n",
    "\n",
    "A = np.array([2,3,5,16,25,5,4,41,57])\n",
    "B = A < 15\n",
    "print(B)\n",
    "\n",
    "# Notice that since we are defining a new array using a conditional statement, the new array \n",
    "#is made up of only True and False statements, i.e., the output for a conditional statement"
   ]
  },
  {
   "cell_type": "markdown",
   "metadata": {
    "slideshow": {
     "slide_type": "slide"
    }
   },
   "source": [
    "## Numpy Array Operations\n",
    "\n",
    "**Question:** How might we get the values that satisfy that condition instead?"
   ]
  },
  {
   "cell_type": "code",
   "execution_count": 62,
   "metadata": {
    "slideshow": {
     "slide_type": "fragment"
    }
   },
   "outputs": [
    {
     "data": {
      "text/plain": [
       "array([2, 3, 5, 5, 4])"
      ]
     },
     "execution_count": 62,
     "metadata": {},
     "output_type": "execute_result"
    }
   ],
   "source": [
    "C = A[A < 15]\n",
    "C"
   ]
  },
  {
   "cell_type": "markdown",
   "metadata": {
    "slideshow": {
     "slide_type": "slide"
    }
   },
   "source": [
    "### Differences between Python lists and Numpy arrays\n",
    "\n",
    "<ol>\n",
    "\n",
    "* Arrays support vectorized operations, while lists don’t.\n",
    "\n",
    "* Once an array is created, you cannot change its size. You will have to create a new array or overwrite the existing one.\n",
    "\n",
    "* Every array has one and only one data type. All items in it should be of that data type.\n",
    "\n",
    "* An equivalent numpy array occupies much less space than a python list of lists. (WHY?)\n",
    "\n",
    "</ol>"
   ]
  },
  {
   "cell_type": "markdown",
   "metadata": {
    "slideshow": {
     "slide_type": "slide"
    }
   },
   "source": [
    "## NumPy Arrays\n",
    "\n",
    "Here are some example computations to show you what we mean by \"vectorized operations\""
   ]
  },
  {
   "cell_type": "code",
   "execution_count": 65,
   "metadata": {
    "slideshow": {
     "slide_type": "fragment"
    }
   },
   "outputs": [
    {
     "name": "stdout",
     "output_type": "stream",
     "text": [
      "[ 2  3  5 16 25  5  4 41 57]\n",
      "[  6   9  15  48  75  15  12 123 171]\n",
      "[ True  True  True False False  True  True False False]\n",
      "[ 6  9 15  0  0 15 12  0  0]\n",
      "[3 3 3 0 0 3 3 0 0]\n"
     ]
    }
   ],
   "source": [
    "#Scalar Multiplication\n",
    "print(A)\n",
    "print(3*A)\n",
    "print(B)\n",
    "#Array multiplication is entrywise \n",
    "print(A*(3*B)) # Why is this what it is?\n",
    "# well consider..\n",
    "print(3*B)"
   ]
  },
  {
   "cell_type": "markdown",
   "metadata": {
    "slideshow": {
     "slide_type": "slide"
    }
   },
   "source": [
    "## NumPy Arrays\n",
    "\n",
    "We can also access rows and specific entries as we would for lists:"
   ]
  },
  {
   "cell_type": "code",
   "execution_count": 66,
   "metadata": {
    "slideshow": {
     "slide_type": "subslide"
    }
   },
   "outputs": [
    {
     "name": "stdout",
     "output_type": "stream",
     "text": [
      "[ 2  3  5 16 25  5  4 41 57]\n",
      "[ True  True  True False False  True  True False False]\n"
     ]
    },
    {
     "data": {
      "text/plain": [
       "6"
      ]
     },
     "execution_count": 66,
     "metadata": {},
     "output_type": "execute_result"
    }
   ],
   "source": [
    "#Accessing rows \n",
    "print(A)\n",
    "print(B)\n",
    "A[2] + B[1] # Explain this output!"
   ]
  },
  {
   "cell_type": "code",
   "execution_count": 67,
   "metadata": {
    "slideshow": {
     "slide_type": "fragment"
    }
   },
   "outputs": [
    {
     "name": "stdout",
     "output_type": "stream",
     "text": [
      "[[ 2  3  5]\n",
      " [16 25  5]\n",
      " [ 4 41 57]]\n",
      "[[ True  True  True]\n",
      " [False False  True]\n",
      " [ True False False]]\n"
     ]
    },
    {
     "data": {
      "text/plain": [
       "3"
      ]
     },
     "execution_count": 67,
     "metadata": {},
     "output_type": "execute_result"
    }
   ],
   "source": [
    "#Accessing specific entries\n",
    "A= A.reshape(3,3)\n",
    "print(A)\n",
    "B=B.reshape(3,3)\n",
    "print(B)\n",
    "A[0,0] + B[1,2] # Explain this output!"
   ]
  },
  {
   "cell_type": "markdown",
   "metadata": {
    "slideshow": {
     "slide_type": "slide"
    }
   },
   "source": [
    "## NumPy Arrays\n",
    "\n",
    "We can run through 1-D arrays in the same way we do for lists:"
   ]
  },
  {
   "cell_type": "code",
   "execution_count": 69,
   "metadata": {
    "slideshow": {
     "slide_type": "subslide"
    }
   },
   "outputs": [
    {
     "name": "stdout",
     "output_type": "stream",
     "text": [
      "[ 2  5  8 11 14 17 20 23 26]\n"
     ]
    },
    {
     "data": {
      "text/plain": [
       "array([ 5,  8, 11, 14, 17, 20])"
      ]
     },
     "execution_count": 69,
     "metadata": {},
     "output_type": "execute_result"
    }
   ],
   "source": [
    "# x[start:stop:step]\n",
    "x = np.arange(2,29,3)\n",
    "print(x)\n",
    "x[1:7]"
   ]
  },
  {
   "cell_type": "code",
   "execution_count": 70,
   "metadata": {
    "scrolled": true,
    "slideshow": {
     "slide_type": "fragment"
    }
   },
   "outputs": [
    {
     "name": "stdout",
     "output_type": "stream",
     "text": [
      "[14 17 20 23 26]\n",
      "[ 2  5  8 11]\n"
     ]
    }
   ],
   "source": [
    "#1D Subarrays\n",
    "print(x[4:])\n",
    "print(x[:4])"
   ]
  },
  {
   "cell_type": "markdown",
   "metadata": {
    "slideshow": {
     "slide_type": "slide"
    }
   },
   "source": [
    "## NumPy Arrays\n",
    "\n",
    "Multidimensional arrays are similar..."
   ]
  },
  {
   "cell_type": "code",
   "execution_count": 73,
   "metadata": {
    "slideshow": {
     "slide_type": "fragment"
    }
   },
   "outputs": [
    {
     "name": "stdout",
     "output_type": "stream",
     "text": [
      "[[7 8 9]\n",
      " [4 5 6]\n",
      " [1 2 3]]\n",
      "[[9 8 7]\n",
      " [6 5 4]\n",
      " [3 2 1]]\n"
     ]
    }
   ],
   "source": [
    "#Multidimensional Arrays\n",
    "#x[start:stop:step, start:stop:step, ...]\n",
    "A = np.array([[1,2,3],[4,5,6],[7,8,9]])\n",
    "print(A[::-1,::1])\n",
    "print(A[::-1,::-1]) #compare with this!"
   ]
  },
  {
   "cell_type": "code",
   "execution_count": 74,
   "metadata": {
    "slideshow": {
     "slide_type": "subslide"
    }
   },
   "outputs": [
    {
     "data": {
      "text/plain": [
       "array([[1, 2, 3],\n",
       "       [4, 5, 6],\n",
       "       [7, 8, 9]])"
      ]
     },
     "execution_count": 74,
     "metadata": {},
     "output_type": "execute_result"
    }
   ],
   "source": [
    "#Make copies of arrays to manipulate one without affecting the other\n",
    "A_copy = A.copy()\n",
    "A_copy"
   ]
  },
  {
   "cell_type": "code",
   "execution_count": 75,
   "metadata": {
    "scrolled": true,
    "slideshow": {
     "slide_type": "slide"
    }
   },
   "outputs": [
    {
     "name": "stdout",
     "output_type": "stream",
     "text": [
      "[[1. 1. 1.]\n",
      " [1. 1. 1.]\n",
      " [1. 1. 1.]]\n",
      "[[0. 0. 0.]\n",
      " [0. 0. 0.]\n",
      " [0. 0. 0.]]\n"
     ]
    }
   ],
   "source": [
    "#Make constant arrays\n",
    "\n",
    "A_ones = np.ones((3,3))\n",
    "print(A_ones)\n",
    "A_zeros = np.zeros((3,3))\n",
    "print(A_zeros)"
   ]
  },
  {
   "cell_type": "code",
   "execution_count": 3,
   "metadata": {
    "slideshow": {
     "slide_type": "slide"
    }
   },
   "outputs": [
    {
     "data": {
      "image/png": "[encoded data removed]",
      "text/plain": [
       "<Figure size 432x288 with 2 Axes>"
      ]
     },
     "metadata": {
      "needs_background": "light"
     },
     "output_type": "display_data"
    }
   ],
   "source": [
    "## 3d matplotlib x^2 - y^2 - 10\n",
    "from mpl_toolkits.mplot3d import Axes3D\n",
    "import matplotlib.pyplot as plt\n",
    "%matplotlib inline #Need to add this line starting Fa2021\n",
    "from matplotlib import cm\n",
    "import matplotlib.ticker as ticker\n",
    "fig = plt.figure()\n",
    "ax = fig.gca(projection='3d')\n",
    "\n",
    "# Make data.\n",
    "X = np.arange(-10, 10, 0.25)\n",
    "Y = np.arange(-10, 10, 0.25)\n",
    "X, Y = np.meshgrid(X, Y)\n",
    "\n",
    "Z = X**2 - Y**2 - 10\n",
    "\n",
    "# Plot the surface.\n",
    "surf = ax.plot_surface(X, Y, Z, cmap=cm.coolwarm,\n",
    "                       linewidth=0, antialiased=False)\n",
    "\n",
    "# Customize the z axis.\n",
    "ax.set_zlim(-100.01, 100.01)\n",
    "ax.zaxis.set_major_locator(ticker.LinearLocator(10))\n",
    "ax.zaxis.set_major_formatter(ticker.FormatStrFormatter('%.02f'))\n",
    "\n",
    "# Add a color bar which maps values to colors.\n",
    "fig.colorbar(surf, shrink=0.5, aspect=5)\n",
    "\n",
    "plt.show()\n"
   ]
  },
  {
   "cell_type": "markdown",
   "metadata": {
    "slideshow": {
     "slide_type": "slide"
    }
   },
   "source": [
    "## Numpy Arrays\n",
    "\n",
    "* We can also make arrays of random numbers using Numpy's built in random number generator, *.random*\n",
    "\n",
    "* Here we will use random.randomint() to create an array of random integers"
   ]
  },
  {
   "cell_type": "code",
   "execution_count": 93,
   "metadata": {
    "slideshow": {
     "slide_type": "subslide"
    }
   },
   "outputs": [
    {
     "data": {
      "text/plain": [
       "array([[1, 4, 3, 1],\n",
       "       [6, 1, 2, 5],\n",
       "       [7, 5, 7, 6]])"
      ]
     },
     "execution_count": 93,
     "metadata": {},
     "output_type": "execute_result"
    }
   ],
   "source": [
    "# x1 = np.random.randint(random integers between 0 and 10, 1 x 6 array)\n",
    "x1 = np.random.randint(10, size=6)  # One-dimensional array \n",
    "# x2 = np.random.randint(random integers between 0 and 10, 3 x 4 array)\n",
    "x2 = np.random.randint(10, size=(3, 4))  # Two-dimensional array\n",
    "# x3 = np.random.randint(random integer between 0 and 10, 3 x 4 x 5 array)\n",
    "x3 = np.random.randint(10, size=(3, 4, 5))  # Three-dimensional array\n",
    "\n",
    "x2"
   ]
  },
  {
   "cell_type": "code",
   "execution_count": 3,
   "metadata": {},
   "outputs": [
    {
     "data": {
      "text/plain": [
       "array([7, 0, 3, 1, 6, 2])"
      ]
     },
     "execution_count": 3,
     "metadata": {},
     "output_type": "execute_result"
    }
   ],
   "source": [
    "import numpy as np\n",
    "x1 = np.random.randint(10, size=6)\n",
    "x1"
   ]
  },
  {
   "cell_type": "markdown",
   "metadata": {
    "slideshow": {
     "slide_type": "slide"
    }
   },
   "source": [
    "## Random Arrays\n",
    "\n",
    "* Random numbers between [0,1) of shape 2,2: **np.random.rand(2,2)**\n",
    "\n",
    "* Normal distribution with mean=0 and variance=1 of shape 2,2: **np.random.randn(2,2)**\n",
    "\n",
    "* Random integers between [0, 10) of shape 2,2: **np.random.randint(0, 10, size=[2,2])**\n",
    "\n",
    "* One random number between [0,1): **np.random.random()**"
   ]
  },
  {
   "cell_type": "markdown",
   "metadata": {
    "slideshow": {
     "slide_type": "slide"
    }
   },
   "source": [
    "## Random Arrays\n",
    "\n",
    "* Random numbers between [0,1) of shape 2,2: **np.random.random(size=[2,2])**\n",
    "\n",
    "* Pick 10 items from a given list, with equal probability: **np.random.choice(['a', 'e', 'i', 'o', 'u'], size=10)**\n",
    "\n",
    "* Pick 10 items from a given list with a predefined probability 'p':\n",
    "**np.random.choice(['a', 'e', 'i', 'o', 'u'], size=10, p=[0.3, .1, 0.1, 0.4, 0.1])**"
   ]
  },
  {
   "cell_type": "markdown",
   "metadata": {
    "slideshow": {
     "slide_type": "slide"
    }
   },
   "source": [
    "# Numpy Arrays\n",
    "\n",
    "* Everytime we run the assignments of $x2, x2, x3$ above, the numbers within each array will change. If we want consistency throughout which random numbers are appearing for an array of a given size, we can use the command: **np.random.seed(0)**\n",
    "\n",
    "* If we run the same code as above over and over, we will see that we will get the same arrays each time."
   ]
  },
  {
   "cell_type": "code",
   "execution_count": 102,
   "metadata": {
    "slideshow": {
     "slide_type": "subslide"
    }
   },
   "outputs": [
    {
     "data": {
      "text/plain": [
       "array([[3, 5, 2, 4],\n",
       "       [7, 6, 8, 8],\n",
       "       [1, 6, 7, 7]])"
      ]
     },
     "execution_count": 102,
     "metadata": {},
     "output_type": "execute_result"
    }
   ],
   "source": [
    "np.random.seed(0)  # seed for reproducibility\n",
    "\n",
    "# x1 = np.random.randint(random integers between 0 and 10, 1 x 6 array)\n",
    "x1 = np.random.randint(10, size=6)  # One-dimensional array \n",
    "# x2 = np.random.randint(random integers between 0 and 10, 3 x 4 array)\n",
    "x2 = np.random.randint(10, size=(3, 4))  # Two-dimensional array\n",
    "# x3 = np.random.randint(random integer between 0 and 10, 3 x 4 x 5 array)\n",
    "x3 = np.random.randint(10, size=(3, 4, 5))  # Three-dimensional array\n",
    "\n",
    "x2"
   ]
  },
  {
   "cell_type": "code",
   "execution_count": null,
   "metadata": {},
   "outputs": [],
   "source": []
  }
 ],
 "metadata": {
  "celltoolbar": "Slideshow",
  "kernelspec": {
   "display_name": "Python 3",
   "language": "python",
   "name": "python3"
  },
  "language_info": {
   "codemirror_mode": {
    "name": "ipython",
    "version": 3
   },
   "file_extension": ".py",
   "mimetype": "text/x-python",
   "name": "python",
   "nbconvert_exporter": "python",
   "pygments_lexer": "ipython3",
   "version": "3.7.4"
  }
 },
 "nbformat": 4,
 "nbformat_minor": 2
}
