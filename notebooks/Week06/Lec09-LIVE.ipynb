{
 "cells": [
  {
   "cell_type": "markdown",
   "metadata": {},
   "source": [
    "# Lecture 9 LIVE\n",
    "\n",
    "In lecture 9 we covered\n",
    "- The 2008 Housing Crash\n",
    "- The `Mortgage` class\n",
    "    - The `Fixed` subclass\n",
    "    - The `FixedWithPts` subclass\n",
    "    - The `TwoRate` subclass\n",
    "- Intro to `matplotlib`"
   ]
  },
  {
   "cell_type": "markdown",
   "metadata": {},
   "source": [
    "## The `Mortgage` class and it's subclasses\n",
    "\n",
    "I've copied the code for `Mortgage(object)` below as well as the three subclasses mentioned above."
   ]
  },
  {
   "cell_type": "code",
   "execution_count": 1,
   "metadata": {},
   "outputs": [],
   "source": [
    "def findPayment(loan,r,m):\n",
    "    \"\"\"Assumes: loan and r are floats, m an int\n",
    "     Returns the monthly payment for a mortgage of size\n",
    "     loan at a monthly rate of r for m months\"\"\"\n",
    "    return loan*(r*(1+r)**m)/((1+r)**m -1)\n",
    "\n",
    "class Mortgage(object):\n",
    "    \"\"\"Abstract class for building different kinds of mortgages\"\"\"\n",
    "    \n",
    "    def __init__(self, loan, annRate, months):\n",
    "        \"\"\"Assumes: loan and annRate are floats, months an int.\n",
    "        Creates a new mortgage of size loan, duration months, and\n",
    "        annual rate annRate\"\"\"\n",
    "        self.loan = loan\n",
    "        self.rate = annRate/12.0\n",
    "        self.months = months\n",
    "        self.paid = [0.0]\n",
    "        self.owed = [loan]\n",
    "        self.payment = findPayment(loan, self.rate, months)\n",
    "        self.legend = None #description of mortgage\n",
    "        \n",
    "    def makePayment(self):\n",
    "        \"\"\"Make a payment\"\"\"\n",
    "        self.paid.append(self.payment)\n",
    "        reduction = self.payment - self.owed[-1]*self.rate\n",
    "        self.owed.append(self.owed[-1] - reduction) #remember that [-1] returns the last element of a list\n",
    "    \n",
    "    def getTotalPaid(self):\n",
    "        \"\"\"Return the total amount paid so far\"\"\"\n",
    "        return sum(self.paid)\n",
    "    \n",
    "    def __str__(self):\n",
    "        return self.legend\n",
    "##\n",
    "##\n",
    "## NOW WE HAVE OUR THREE SUBCLASSES\n",
    "##\n",
    "##\n",
    "class Fixed(Mortgage):\n",
    "    def __init__(self, loan, r, months):\n",
    "        Mortgage.__init__(self, loan, r, months) \n",
    "        self.legend = 'Fixed, ' + str(r*100) + '%'\n",
    "\n",
    "class FixedWithPts(Mortgage):\n",
    "    def __init__(self, loan, r, months, pts):\n",
    "        Mortgage.__init__(self, loan, r, months) \n",
    "        self.pts = pts\n",
    "        self.paid = [loan*(pts/100.0)]\n",
    "        self.legend = 'Fixed, ' + str(r*100) + '%, ' + str(pts) + ' points'\n",
    "        \n",
    "class TwoRate(Mortgage):\n",
    "    def __init__(self, loan, r, months, teaserRate, teaserMonths):\n",
    "        Mortgage.__init__(self, loan, teaserRate, months) \n",
    "        self.teaserMonths = teaserMonths\n",
    "        self.teaserRate = teaserRate\n",
    "        self.nextRate = r/12.0\n",
    "        self.legend = str(teaserRate*100) + '% for ' + str(self.teaserMonths) + ' months, then ' + str(r*100) + '%' \n",
    "        \n",
    "    def makePayment(self):\n",
    "        if len(self.paid) == self.teaserMonths + 1:\n",
    "            self.rate = self.nextRate\n",
    "            self.payment = findPayment(self.owed[-1], self.rate, self.months - self.teaserMonths) \n",
    "        Mortgage.makePayment(self)"
   ]
  },
  {
   "cell_type": "markdown",
   "metadata": {},
   "source": [
    "### Question 1: Buy a House!\n",
    "\n",
    "Pick a house you want to buy and figure out how much money you need to borry from the bank.\n",
    "\n",
    "Use this info to create **two different mortgages**\n",
    "\n",
    "   1) a fixed 5% loan for 30 years and \n",
    "   \n",
    "   2) a \"teaser mortgage\" that has a 3.5% rate for 5 years and then 7% for the remaining 25 years\n",
    "\n",
    "**Compute how much is owed on each loan after 5, 10, 15, and 20 years.** "
   ]
  },
  {
   "cell_type": "code",
   "execution_count": null,
   "metadata": {},
   "outputs": [],
   "source": []
  },
  {
   "cell_type": "code",
   "execution_count": null,
   "metadata": {},
   "outputs": [],
   "source": []
  },
  {
   "cell_type": "markdown",
   "metadata": {},
   "source": [
    "### Question 2: When is half paid off?\n",
    "\n",
    "For each of your mortgages determine when half of the principal has been paid off."
   ]
  },
  {
   "cell_type": "code",
   "execution_count": null,
   "metadata": {},
   "outputs": [],
   "source": []
  },
  {
   "cell_type": "code",
   "execution_count": null,
   "metadata": {},
   "outputs": [],
   "source": []
  },
  {
   "cell_type": "markdown",
   "metadata": {},
   "source": [
    "# Save For Your Retirement!\n",
    "\n",
    "![Retirement Savings](retirement.jpg)\n",
    "\n",
    "### Retirement Age:\n",
    "Estimate the age at which you want to retire. Store this in a variable called `retirementAge`."
   ]
  },
  {
   "cell_type": "code",
   "execution_count": 2,
   "metadata": {},
   "outputs": [],
   "source": [
    "retirementAge = 70 # Change this for you!"
   ]
  },
  {
   "cell_type": "markdown",
   "metadata": {},
   "source": [
    "### Death Age:\n",
    "Estimate how long you think you'll live. Assume that is after your retirement age. Store this in a variable called `deathAge`."
   ]
  },
  {
   "cell_type": "code",
   "execution_count": 3,
   "metadata": {},
   "outputs": [],
   "source": [
    "deathAge = 85 # Change this for you!"
   ]
  },
  {
   "cell_type": "markdown",
   "metadata": {},
   "source": [
    "### Retirement Pay:\n",
    "Figure out how much income you want to live on during your retirement. Assume for simplicity there is no inflation so you can use 2020 dollars. Store this in a variable called `retirementPay`."
   ]
  },
  {
   "cell_type": "code",
   "execution_count": 4,
   "metadata": {},
   "outputs": [],
   "source": [
    "retirementPay = 50000 # Change this for you!"
   ]
  },
  {
   "cell_type": "markdown",
   "metadata": {},
   "source": [
    "### Retirement Savings\n",
    "\n",
    "Figure out how much you need to retire by using the formula `savings = (deathAge - retirementAge)*retirementPay`"
   ]
  },
  {
   "cell_type": "code",
   "execution_count": 5,
   "metadata": {},
   "outputs": [
    {
     "name": "stdout",
     "output_type": "stream",
     "text": [
      "750000\n"
     ]
    }
   ],
   "source": [
    "savings = (deathAge - retirementAge)*retirementPay\n",
    "print(savings)"
   ]
  },
  {
   "cell_type": "markdown",
   "metadata": {},
   "source": [
    "## How to Build Up Your Retirement Savings\n",
    "\n",
    "Assume in one more year you have your dream job and are making a decent salary, which you will make until you retire.\n",
    "\n",
    "Every year you put in `M` dollars into the stock market, which earns `R` rate of return each year.\n",
    "\n",
    "Your retirement account then grows in the following pattern.\n",
    "- After Year 1, you'll have `M` in your account\n",
    "- After Year 2, you'll have `M*(1+R) + M` in your retirement account.\n",
    "- After Year 3, you'll have `M*(1+R)**2 + M*(1+R) + M`\n",
    "- After Year 4, you'll have `M*(1+R)**3 + M*(1+R)**2 + M*(1+R) + M`\n",
    "- After Year 5, you'll have `M*(1+R)**4 + M*(1+R)**3 + M*(1+R)**2 + M*(1+R) + M`\n",
    "\n",
    "In general, if you work `W` years, you should have $$M*(1+R)^W + M*(1+R)^{W-1} + \\cdots + M$$ in your retirement savings account.\n",
    "\n",
    "### Find `M` for various values of `R`\n",
    "\n",
    "**Assuming `R=.05` is the average annual return on the stock market, and you work `W=retirementAge - currentAge` number of years, how large does `M` need to be in order for you to have `savings`?**\n",
    "\n",
    "Notice that you can find $M$ by solving the equation\n",
    "$$\\text{savings} = M((1+R)^{W-1} + (1+R)^{W-2} + \\cdots + (1+R) + 1))$$\n",
    "\n",
    "Repeat this exercise for\n",
    "- R = .07\n",
    "- R = .10"
   ]
  },
  {
   "cell_type": "code",
   "execution_count": null,
   "metadata": {},
   "outputs": [],
   "source": [
    "currentAge= 34\n",
    "W = retirementAge - currentAge\n",
    "R =.05\n",
    "M = 0 ## This should NOT be 0. Find the real value of M!"
   ]
  },
  {
   "cell_type": "code",
   "execution_count": null,
   "metadata": {},
   "outputs": [],
   "source": []
  },
  {
   "cell_type": "markdown",
   "metadata": {},
   "source": [
    "## Plot your savings growth!\n",
    "\n",
    "Now import `matplotlib.pyplot` in order to plot the growth of your portfolio."
   ]
  },
  {
   "cell_type": "code",
   "execution_count": null,
   "metadata": {},
   "outputs": [],
   "source": [
    "import matplotlib.pyplot as plt\n",
    "\n",
    "mySavings = []\n",
    "for i in range(0,W+1):\n",
    "    if i ==0:\n",
    "        mySavings.append(0)\n",
    "    else:\n",
    "        mySavings.append(M + mySavings[-1]*(1 + R))"
   ]
  },
  {
   "cell_type": "code",
   "execution_count": null,
   "metadata": {},
   "outputs": [],
   "source": [
    "fig = plt.figure()\n",
    "plt.plot(mySavings)\n",
    "plt.title('Retirement Savings')\n",
    "plt.xlabel('Number of years working')\n",
    "plt.ylabel('Value of Retirement Account ($)')"
   ]
  },
  {
   "cell_type": "code",
   "execution_count": null,
   "metadata": {},
   "outputs": [],
   "source": []
  },
  {
   "cell_type": "code",
   "execution_count": null,
   "metadata": {},
   "outputs": [],
   "source": []
  }
 ],
 "metadata": {
  "kernelspec": {
   "display_name": "Python 3",
   "language": "python",
   "name": "python3"
  },
  "language_info": {
   "codemirror_mode": {
    "name": "ipython",
    "version": 3
   },
   "file_extension": ".py",
   "mimetype": "text/x-python",
   "name": "python",
   "nbconvert_exporter": "python",
   "pygments_lexer": "ipython3",
   "version": "3.7.4"
  }
 },
 "nbformat": 4,
 "nbformat_minor": 2
}
