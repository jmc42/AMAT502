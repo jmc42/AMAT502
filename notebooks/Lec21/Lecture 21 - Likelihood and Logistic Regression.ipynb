{
 "cells": [
  {
   "cell_type": "markdown",
   "metadata": {
    "slideshow": {
     "slide_type": "slide"
    }
   },
   "source": [
    "# AMAT 502: Modern Computing for Mathematicians\n",
    "## Lecture 21 - Likelihood and Bayesian Regression\n",
    "### University at Albany SUNY"
   ]
  },
  {
   "cell_type": "markdown",
   "metadata": {
    "slideshow": {
     "slide_type": "slide"
    }
   },
   "source": [
    "## Resource Reminder\n",
    "\n",
    "Check out [Joel Grus's *Data Science From Scratch: First Principles with Python*](https://joelgrus.com/2019/05/13/data-science-from-scratch-second-edition/) for material surrounding today's lecture.\n",
    "\n",
    "Additionally, anyone serious about Bayesian statistics and Machine Learning should know about [Bishop's *Pattern Recognition and Machine Learning*](https://www.amazon.com/Pattern-Recognition-Learning-Information-Statistics/dp/0387310738) \n",
    "\n",
    "Grus is a nice short book that codes its own implementations of basic concepts from probability, statistics, and data science. I also learned a joke from it:\n",
    "\n",
    "> Q: What makes a data scientist different from a statistician and a computer scientist?\n",
    "\n",
    "> A: Well...a data scientist is someone who knows more computer science than a statistician and more statistics than a computer scientist (but less about each of their respective fields!).\n",
    "\n",
    "\n"
   ]
  },
  {
   "cell_type": "markdown",
   "metadata": {
    "slideshow": {
     "slide_type": "slide"
    }
   },
   "source": [
    "## Topics for Today\n",
    "\n",
    "- Recap of Bayes' Theorem\n",
    "- The Principle of Maximum Likelihood\n",
    "- Revisiting Linear Regression\n",
    "- Logistic Regression (which is Really Classification!)\n",
    "\n"
   ]
  },
  {
   "cell_type": "markdown",
   "metadata": {
    "slideshow": {
     "slide_type": "slide"
    }
   },
   "source": [
    "## Bayes' Rule\n",
    "\n",
    "Recall that in probability theory we can assign an event $A$, which is a collection of possible outcomes in some universe $\\Omega$ of possibilities, a probability $P(A)$. For example, if our universe of possibilities consists of the possible outcomes of rolling a die $\\Omega=\\{1,2,3,4,5,6\\}$, one event could be that the die comes up with a one, i.e. $A=\\{1\\}$. Another event $B$ could be that the value of the die roll is odd $B=\\{1,3,5\\}$. \n",
    "\n",
    "We can define a **conditional probability**, where we try to incorporate the information that another event $B$ has occurred. This is defined by $$P(A | B) = \\frac{P(A \\text{ and } B)}{P(B)}.$$ In the example above $P(A|B)=1/3$\n",
    "\n",
    "**Bayes' Rule** allows us to switch the order of $B$ and $A$ in the conditional. It says that\n",
    "\n",
    "$$P(B | A) = \\frac{P(A | B) P(B)}{P(A)}$$\n",
    "\n",
    "**Question:** What's $P(B|A)$ in our dice example?"
   ]
  },
  {
   "cell_type": "markdown",
   "metadata": {
    "slideshow": {
     "slide_type": "slide"
    }
   },
   "source": [
    "## Redefining What A and B Mean\n",
    "\n",
    "In Bayesian inference, we dispense with the idea that $A$ and $B$ are nice events in some well-defined universe of possibilities. Instead we let $A=H$ a hypothetical parameter in some model and let $B=D$ some observed data.\n",
    "\n",
    "- $P(H)$ is the **prior**. It is the probability that the hypothesis is true (or that our model parameters lie in some range)\n",
    "- $P(H|D)$ is the **posterior**. It is the probability that $H$ is true, given the data $D$.\n",
    "- $P(D|H)$ is the **likelihood** of the data given the hypothesis $H$. This gives *evidence* for $H$.\n",
    "- $P(D)$ is the probability of the data, aggregated over all possible hypotheses.\n",
    "\n",
    "Ask yourself if you think these above definitions make sense. Are they mathematically well-defined? "
   ]
  },
  {
   "cell_type": "markdown",
   "metadata": {
    "slideshow": {
     "slide_type": "slide"
    }
   },
   "source": [
    "## Bayesian vs. Frequentism\n",
    "\n",
    "Some would say *no*, and it leads to one of the main arguments in the **Bayesian vs. Frequentist debates**. \n",
    "\n",
    "Indeed, spelling out a probability measure on the space of hypotheses does not seem well-defined at first glace. However, in practice this amounts to simply putting a PDF on the space of a parameters for a fixed class of probability models.\n",
    "\n",
    "One of the perceived advantages of Frequentism is that it does not require that we spell out the parameters for our probability calculations, and is why frequentist methods are sometimes considered ***non-parametric***. \n",
    "\n",
    "Frequentism was popular for much of the twentieth century, but now we can update our parameters using gradient descent, which was tough to do in the past because the number of parameters makes for a high-dimensional space for doing vector calculus.\n",
    "\n",
    "Now with computers and methods such as **stochastic gradient descent**, we can find critical points of the likelihood function much more efficiently.\n",
    "\n",
    "There are lots of things to read on this, but these [MIT notes for more information](https://ocw.mit.edu/courses/mathematics/18-05-introduction-to-probability-and-statistics-spring-2014/readings/MIT18_05S14_Reading20.pdf) seem to provide a decent overview."
   ]
  },
  {
   "cell_type": "markdown",
   "metadata": {
    "slideshow": {
     "slide_type": "slide"
    }
   },
   "source": [
    "## Maximum Likelihood Estimator: An Example\n",
    "\n",
    "Suppose we flip a coin 100 times and we get 55 heads. The way we model the probability of observing such an event is that we assume that the probability of flipping a coin once and it coming up heads is $p$. The probability of 55 heads out of 100 trials is computed by the **Binomial Probability Mass Function**\n",
    "\n",
    "$$P(\\text{55 heads}) = \\binom{100}{55} p^{55}(1-p)^{45}$$\n",
    "\n",
    "In statistics, and Bayesian inference in particular, we write this formula differently to show that $p$ is a parameter. The **likelihood function** is not a probability distribution, but rather the study of how the PMF/PDF changes as a function of the parameters.\n",
    "\n",
    "$$L(p):= P(\\text{55 heads} | p) = \\binom{100}{55} p^{55}(1-p)^{45}$$\n",
    "\n",
    "In **maximum likelihood estimation** we choose a value of $p$ that maximizes the likelihood of the observed data.\n",
    "\n",
    "We can do this by taking the derivative of the above likelihood function and setting it to zero.\n",
    "\n",
    "$$ \\frac{d}{dp} L(p) = 0 $$\n",
    "\n",
    "$$ \\Rightarrow \\binom{100}{55} [ 55p^{54}(1-p)^{45} - 45(1-p)^{44}p^{55} ] = 0 $$\n",
    "\n",
    "Rearranging and disregarding the constant terms\n",
    "\n",
    "$$\\Rightarrow 55p^{54}(1-p)^{45} = 45(1-p)^{44}p^{55}$$\n",
    "\n",
    "Further cancellation yields\n",
    "\n",
    "$$\\Rightarrow 55 (1-p) = 45p$$\n",
    "\n",
    "which gives that our MLE is the mean of the data!\n",
    "\n",
    "$$\\Rightarrow \\hat{p} = 55/100$$"
   ]
  },
  {
   "cell_type": "markdown",
   "metadata": {
    "slideshow": {
     "slide_type": "slide"
    }
   },
   "source": [
    "## Log Likelihood\n",
    "\n",
    "Since lots of PMFs/PDFs use exponents and products, the basic properties of logarithms are especially useful here.  \n",
    "\n",
    "Moreover, we can find critical points of the likelihood by finding critical points of the log likelihood.\n",
    "\n",
    "\\begin{eqnarray*}\n",
    "\\frac{d}{dx} \\log(L(x)) &=& 0 \\\\\n",
    "\\frac{1}{L(x)} \\frac{dL}{dx} &=& 0 \\\\\n",
    " &\\Leftrightarrow& \\\\\n",
    "\\frac{dL}{dx} &=& 0\n",
    "\\end{eqnarray*}\n",
    "\n",
    "In our example, the derivative is less messy and we avoid having to use the product rule.\n",
    "\n",
    "\\begin{eqnarray*}\n",
    "\\log L(p) &=& \\log \\binom{100}{55} p^{55} (1-p)^{45} \\\\\n",
    "& = & 55 \\log(p) + 45 \\log(1-p) + \\log (\\binom{100}{55})\n",
    "\\end{eqnarray*}\n",
    "\n",
    "Taking the derivative and setting to zero leads to $$\\frac{55}{p} -\\frac{45}{1-p} = 0,$$ which also implies that $\\hat{p}=55/100$ is a critical point of the log Likelihood function\n",
    "\n",
    "More examples of Maximizing Likelihood or Log Likelihood can be found in\n",
    "- [these 18.05 Lec 10 MIT notes](https://ocw.mit.edu/courses/mathematics/18-05-introduction-to-probability-and-statistics-spring-2014/readings/MIT18_05S14_Reading10b.pdf)\n",
    "- [these UMass notes on Ecology](https://www.umass.edu/landeco/teaching/ecodata/schedule/likelihood.pdf)"
   ]
  },
  {
   "cell_type": "markdown",
   "metadata": {
    "slideshow": {
     "slide_type": "slide"
    }
   },
   "source": [
    "## Likelihood in Linear Regression\n",
    "\n",
    "Suppose we select a linear model to fit to our data. This says that our label/target $y_i$ for sample $x_i$ is given by\n",
    "$$y_i = \\beta_0 + \\beta_1 x_i + \\epsilon_i$$\n",
    "where $\\epsilon_i$ is some error term.\n",
    "\n",
    "Normally we think of $\\epsilon_i$ as normally distributed with mean zero, this means that the likelihood of observing the label $y_i$ assuming our choice of parameters $\\beta_0$ and $\\beta_1$ are correct is \n",
    "$$P((x_i,y_i)| \\beta_0, \\beta_1) = \\frac{1}{\\sigma\\sqrt{2\\pi}} e^{-(y_i-\\beta_0 -\\beta_i x_i)^2/2\\sigma^2}$$"
   ]
  },
  {
   "cell_type": "markdown",
   "metadata": {
    "slideshow": {
     "slide_type": "slide"
    }
   },
   "source": [
    "## Negative Log Likelihood and Error in Linear Regression\n",
    "\n",
    "Now assume that our training data set $D$ consists of $N$ samples and feature/label pairs $\\{(x_i,y_i)\\}_{i=1}^N$. Assuming these samples are independent we have that this means that\n",
    "\n",
    "$$ L(\\beta_0,\\beta_1) := P(D|\\beta_0, \\beta_1) = \\prod_{i=1}^N \\frac{1}{\\sigma\\sqrt{2\\pi}} e^{-(y_i-\\beta_0 -\\beta_1 x_i)^2/2\\sigma^2} $$\n",
    "\n",
    "Now suppose further that we consider the **negative log likelihood**\n",
    "\n",
    "$$ -\\log L(\\beta_0,\\beta_1) = \\sum_{i=1}^N (y_i-\\beta_0 -\\beta_1)^2 + \\text{constants}$$\n",
    "\n",
    "Here are some important observations:\n",
    "- Up to an additive constant, the same thing as the sum of square residuals from our first lecture on regression! \n",
    "\n",
    "- Determining $\\hat{\\beta}_0$ and $\\hat{\\beta}_1$ that (locally) minimize this negative log likelihood is exactly the procedure of maximizing the probability that the observed data is true!\n",
    "\n",
    "- Sum of square residuals comes from assuming Gaussian error, so in fact this penalty function associated to our model is well-grounded in statistics.\n"
   ]
  },
  {
   "cell_type": "markdown",
   "metadata": {
    "slideshow": {
     "slide_type": "slide"
    }
   },
   "source": [
    "## Classification via Logistic Regression\n",
    "\n",
    "Very often in data science prediction, we want to predict categorical variables from continuous ones.\n",
    "\n",
    "For example, suppose we want to be able to determine if someone votes for Trump based on their age and income level. Here we're going to introduce a dummy variable $y$, which is 0 for people who don't vote for Trump and 1 for people who do.\n",
    "\n",
    "We could propose a simple linear model again, with some error terms:\n",
    "\n",
    "$$ \\text{Trump Voter (0 or 1)}= y = \\beta_0 + \\beta_1 \\text{age} + \\beta_2 \\text{income} + \\epsilon$$\n",
    "\n",
    "The problem here is that if we increase the age linearly, then the value of the $y$ also changes linearly. This doesn't make sense for something that is supposed to be yes or no, 1 or 0."
   ]
  },
  {
   "cell_type": "markdown",
   "metadata": {
    "slideshow": {
     "slide_type": "slide"
    }
   },
   "source": [
    "## Passing Through a Filter Function\n",
    "\n",
    "One idea is to modify the model so that we compose a linear model with a function that limits to 1 for large positive values of the dot product and 0 for large negative values of the dot product. Orthogonal features are treated as .5.\n",
    "\n",
    "Here is such a function, called the **logistic** or **sigmoid** function:\n",
    "\n",
    "$$f(x) = \\frac{1}{1 + e^{-x}}$$"
   ]
  },
  {
   "cell_type": "code",
   "execution_count": 1,
   "metadata": {
    "slideshow": {
     "slide_type": "slide"
    }
   },
   "outputs": [
    {
     "data": {
      "image/png": "[encoded data removed]",
      "text/plain": [
       "<Figure size 432x288 with 1 Axes>"
      ]
     },
     "metadata": {},
     "output_type": "display_data"
    }
   ],
   "source": [
    "import math\n",
    "import numpy as np\n",
    "import matplotlib.pyplot as plt\n",
    "%matplotlib inline\n",
    "import seaborn; seaborn.set()  # plot formatting\n",
    "#plt.style.use(\"classic\")\n",
    "\n",
    "X = np.linspace(-10, 10, 100)\n",
    "\n",
    "def logistic(x):\n",
    "    return 1.0/(1+math.exp(-x))\n",
    "\n",
    "Y=[logistic(x) for x in X]\n",
    "\n",
    "plt.plot(X, Y)\n",
    "plt.xlim(-10,10)\n",
    "plt.ylim(-.5,1.5)\n",
    "plt.show()"
   ]
  },
  {
   "cell_type": "markdown",
   "metadata": {
    "slideshow": {
     "slide_type": "slide"
    }
   },
   "source": [
    "## Logistic Regression\n",
    "\n",
    "So now we assume our target labels $y$ are determined by a feature vector $x$ as follows:\n",
    "\n",
    "$$ y = f(\\beta \\cdot x) + \\epsilon $$\n",
    "\n",
    "Notice that $\\beta=[\\beta_0 \\beta_1 \\beta_2 ...]$ is a parameter vector"
   ]
  },
  {
   "cell_type": "markdown",
   "metadata": {
    "slideshow": {
     "slide_type": "slide"
    }
   },
   "source": [
    "## Logistic Likelihood Function\n",
    "\n",
    "Given our parameter $\\beta$ our model says that the target value $y_i$ for sample $x_i$ should be 1 with probability\n",
    "\n",
    "$$f(x_i\\cdot\\beta)$$\n",
    "\n",
    "and 0 with probability\n",
    "\n",
    "$$1- f(x_i\\cdot \\beta)$$\n",
    "\n",
    "This implies that our likelihood function for $\\beta$ is given by\n",
    "\n",
    "$$L(\\beta) := p(y_i | x_i, \\beta) = f(x_i\\cdot\\beta)^{y_i}(1- f(x_i\\cdot \\beta))^{1-y_i}$$"
   ]
  },
  {
   "cell_type": "markdown",
   "metadata": {
    "slideshow": {
     "slide_type": "slide"
    }
   },
   "source": [
    "## Log Likelihood Function and Gradient Descent\n",
    "\n",
    "As before, we consider\n",
    "\n",
    "$$\\log L(\\beta) = y_i \\log f(x_i\\cdot \\beta) + (1-y_i) \\log(1-f(x_i\\cdot \\beta))$$\n",
    "\n",
    "The best fit comes from finding a vector of parameters $\\hat{\\beta}$ that maximizes this function. Recall that $x_i$ is a vector with entries $x_i[j]$ for $j\\in \\{1,\\cdots, d\\}$ where $d$ is the dimension of the feature space for the sample $x_i$.\n",
    "\n",
    "A little multivariable calculus reveals that\n",
    "\n",
    "$$\\frac{\\partial \\log L(\\beta)}{\\partial \\beta_j} = \\frac{ y_i - f(x_i\\cdot \\beta) }{f(x_i\\cdot \\beta) (1-f(x_i\\cdot \\beta))} x_i[j] f'(x_i\\cdot \\beta)$$\n",
    "\n",
    "This means that the jth component of the gradient is proportional to\n",
    "\n",
    "$$\\frac{\\partial \\log L(\\beta)}{\\partial \\beta_j} \\propto (y_i - f(x_i\\cdot \\beta))x_i[j]$$\n",
    "\n",
    "flowing according to this vector field on the RHS to a local maximum is what helps us to find $\\beta$."
   ]
  },
  {
   "cell_type": "markdown",
   "metadata": {
    "slideshow": {
     "slide_type": "slide"
    }
   },
   "source": [
    "# The Data Science Pipeline\n",
    "\n",
    "Today we're going to follow this [Geeks for Geeks Example](https://www.geeksforgeeks.org/ml-logistic-regression-using-python/) on Logistic Regression on an Employee Data set (features: gender, age, salary) and whether they purchased a product or not.\n",
    "\n",
    "> 0. Collect or load data\n",
    "> 1. Do some **exploratory data analysis** via visualization.\n",
    "> 2. Consider what **machine learning methods** you want to use.\n",
    "> 3. Create instances of your data science methods and train on the data.\n",
    "> 4. Analyze the results.\n",
    "> 5. Consider different pre-processing steps to re-apply Steps 3 and 4."
   ]
  },
  {
   "cell_type": "markdown",
   "metadata": {
    "slideshow": {
     "slide_type": "slide"
    }
   },
   "source": [
    "## Collecting and Loading the Employee Data Set"
   ]
  },
  {
   "cell_type": "code",
   "execution_count": 2,
   "metadata": {
    "slideshow": {
     "slide_type": "fragment"
    }
   },
   "outputs": [],
   "source": [
    "import pandas as pd \n",
    "import numpy as np \n",
    "import matplotlib.pyplot as plt\n",
    "%matplotlib inline\n",
    "\n",
    "dataset = pd.read_csv('User_Data.csv') "
   ]
  },
  {
   "cell_type": "code",
   "execution_count": 3,
   "metadata": {
    "slideshow": {
     "slide_type": "fragment"
    }
   },
   "outputs": [
    {
     "data": {
      "text/html": [
       "<div>\n",
       "<style scoped>\n",
       "    .dataframe tbody tr th:only-of-type {\n",
       "        vertical-align: middle;\n",
       "    }\n",
       "\n",
       "    .dataframe tbody tr th {\n",
       "        vertical-align: top;\n",
       "    }\n",
       "\n",
       "    .dataframe thead th {\n",
       "        text-align: right;\n",
       "    }\n",
       "</style>\n",
       "<table border=\"1\" class=\"dataframe\">\n",
       "  <thead>\n",
       "    <tr style=\"text-align: right;\">\n",
       "      <th></th>\n",
       "      <th>User ID</th>\n",
       "      <th>Gender</th>\n",
       "      <th>Age</th>\n",
       "      <th>EstimatedSalary</th>\n",
       "      <th>Purchased</th>\n",
       "    </tr>\n",
       "  </thead>\n",
       "  <tbody>\n",
       "    <tr>\n",
       "      <td>0</td>\n",
       "      <td>15624510</td>\n",
       "      <td>Male</td>\n",
       "      <td>19</td>\n",
       "      <td>19000</td>\n",
       "      <td>0</td>\n",
       "    </tr>\n",
       "    <tr>\n",
       "      <td>1</td>\n",
       "      <td>15810944</td>\n",
       "      <td>Male</td>\n",
       "      <td>35</td>\n",
       "      <td>20000</td>\n",
       "      <td>0</td>\n",
       "    </tr>\n",
       "    <tr>\n",
       "      <td>2</td>\n",
       "      <td>15668575</td>\n",
       "      <td>Female</td>\n",
       "      <td>26</td>\n",
       "      <td>43000</td>\n",
       "      <td>0</td>\n",
       "    </tr>\n",
       "    <tr>\n",
       "      <td>3</td>\n",
       "      <td>15603246</td>\n",
       "      <td>Female</td>\n",
       "      <td>27</td>\n",
       "      <td>57000</td>\n",
       "      <td>0</td>\n",
       "    </tr>\n",
       "    <tr>\n",
       "      <td>4</td>\n",
       "      <td>15804002</td>\n",
       "      <td>Male</td>\n",
       "      <td>19</td>\n",
       "      <td>76000</td>\n",
       "      <td>0</td>\n",
       "    </tr>\n",
       "    <tr>\n",
       "      <td>...</td>\n",
       "      <td>...</td>\n",
       "      <td>...</td>\n",
       "      <td>...</td>\n",
       "      <td>...</td>\n",
       "      <td>...</td>\n",
       "    </tr>\n",
       "    <tr>\n",
       "      <td>395</td>\n",
       "      <td>15691863</td>\n",
       "      <td>Female</td>\n",
       "      <td>46</td>\n",
       "      <td>41000</td>\n",
       "      <td>1</td>\n",
       "    </tr>\n",
       "    <tr>\n",
       "      <td>396</td>\n",
       "      <td>15706071</td>\n",
       "      <td>Male</td>\n",
       "      <td>51</td>\n",
       "      <td>23000</td>\n",
       "      <td>1</td>\n",
       "    </tr>\n",
       "    <tr>\n",
       "      <td>397</td>\n",
       "      <td>15654296</td>\n",
       "      <td>Female</td>\n",
       "      <td>50</td>\n",
       "      <td>20000</td>\n",
       "      <td>1</td>\n",
       "    </tr>\n",
       "    <tr>\n",
       "      <td>398</td>\n",
       "      <td>15755018</td>\n",
       "      <td>Male</td>\n",
       "      <td>36</td>\n",
       "      <td>33000</td>\n",
       "      <td>0</td>\n",
       "    </tr>\n",
       "    <tr>\n",
       "      <td>399</td>\n",
       "      <td>15594041</td>\n",
       "      <td>Female</td>\n",
       "      <td>49</td>\n",
       "      <td>36000</td>\n",
       "      <td>1</td>\n",
       "    </tr>\n",
       "  </tbody>\n",
       "</table>\n",
       "<p>400 rows × 5 columns</p>\n",
       "</div>"
      ],
      "text/plain": [
       "      User ID  Gender  Age  EstimatedSalary  Purchased\n",
       "0    15624510    Male   19            19000          0\n",
       "1    15810944    Male   35            20000          0\n",
       "2    15668575  Female   26            43000          0\n",
       "3    15603246  Female   27            57000          0\n",
       "4    15804002    Male   19            76000          0\n",
       "..        ...     ...  ...              ...        ...\n",
       "395  15691863  Female   46            41000          1\n",
       "396  15706071    Male   51            23000          1\n",
       "397  15654296  Female   50            20000          1\n",
       "398  15755018    Male   36            33000          0\n",
       "399  15594041  Female   49            36000          1\n",
       "\n",
       "[400 rows x 5 columns]"
      ]
     },
     "execution_count": 3,
     "metadata": {},
     "output_type": "execute_result"
    }
   ],
   "source": [
    "dataset"
   ]
  },
  {
   "cell_type": "markdown",
   "metadata": {
    "slideshow": {
     "slide_type": "slide"
    }
   },
   "source": [
    "## Identifying a Machine Learning Task:\n",
    "### Predicting Yes/No based on Continuous Data\n",
    "\n",
    "As data *scientists* we need to formulate a hypothesis and test it.\n",
    "\n",
    "> Question: Does age and salary allow us to predict whether a person bought a product or not?"
   ]
  },
  {
   "cell_type": "markdown",
   "metadata": {
    "slideshow": {
     "slide_type": "slide"
    }
   },
   "source": [
    "### Selecting Features of Interest\n",
    "\n",
    "Here we need to select out the age and salary columns"
   ]
  },
  {
   "cell_type": "code",
   "execution_count": 4,
   "metadata": {
    "slideshow": {
     "slide_type": "fragment"
    }
   },
   "outputs": [],
   "source": [
    "# input \n",
    "X = dataset.iloc[:, [2, 3]].values \n",
    "  \n",
    "# output \n",
    "y = dataset.iloc[:, 4].values"
   ]
  },
  {
   "cell_type": "code",
   "execution_count": 5,
   "metadata": {
    "slideshow": {
     "slide_type": "fragment"
    }
   },
   "outputs": [],
   "source": [
    "#Check out the data\n",
    "X;"
   ]
  },
  {
   "cell_type": "markdown",
   "metadata": {
    "slideshow": {
     "slide_type": "slide"
    }
   },
   "source": [
    "## Exploratory Data Analysis via Visualization"
   ]
  },
  {
   "cell_type": "code",
   "execution_count": 6,
   "metadata": {
    "slideshow": {
     "slide_type": "fragment"
    }
   },
   "outputs": [
    {
     "data": {
      "image/png": "[encoded data removed]",
      "text/plain": [
       "<Figure size 576x396 with 1 Axes>"
      ]
     },
     "metadata": {},
     "output_type": "display_data"
    }
   ],
   "source": [
    "import matplotlib.pyplot as plt\n",
    "%matplotlib inline\n",
    "plt.style.use('seaborn')\n",
    "import numpy as np\n",
    "\n",
    "plt.scatter(X[:,0], X[:,1], c=y, cmap='viridis');"
   ]
  },
  {
   "cell_type": "markdown",
   "metadata": {
    "slideshow": {
     "slide_type": "slide"
    }
   },
   "source": [
    "## Running our Code\n",
    "\n",
    "When actually running the code for our chosen machine learning method (logistic regression in this case), we need to...\n",
    "- separate our data into training and testing portions (or use cross-validation) and then\n",
    "- apply the `.fit()` method on our training data and `.predict()` on our `xtest` to produce predictions.\n",
    "- Using our reserved `ytest` we can then evaluate our model's accuracy.\n",
    "\n",
    "***All of this is part of our train-model-predict paradigm!***"
   ]
  },
  {
   "cell_type": "markdown",
   "metadata": {
    "slideshow": {
     "slide_type": "slide"
    }
   },
   "source": [
    "### Train-Test Split"
   ]
  },
  {
   "cell_type": "code",
   "execution_count": 7,
   "metadata": {
    "slideshow": {
     "slide_type": "fragment"
    }
   },
   "outputs": [],
   "source": [
    "from sklearn.model_selection import train_test_split #Note that cross_validation is now model_selection\n",
    "\n",
    "xtrain, xtest, ytrain, ytest = train_test_split(X, y, test_size = 0.25, random_state = 22)"
   ]
  },
  {
   "cell_type": "markdown",
   "metadata": {
    "slideshow": {
     "slide_type": "slide"
    }
   },
   "source": [
    "### Apply `.fit()` to our Training Data\n",
    "\n",
    "Here we use Logistic Regression, which, despite its name, is actually a classifier!"
   ]
  },
  {
   "cell_type": "code",
   "execution_count": 8,
   "metadata": {
    "slideshow": {
     "slide_type": "fragment"
    }
   },
   "outputs": [
    {
     "name": "stderr",
     "output_type": "stream",
     "text": [
      "/opt/anaconda3/lib/python3.7/site-packages/sklearn/linear_model/logistic.py:432: FutureWarning: Default solver will be changed to 'lbfgs' in 0.22. Specify a solver to silence this warning.\n",
      "  FutureWarning)\n"
     ]
    },
    {
     "data": {
      "text/plain": [
       "LogisticRegression(C=1.0, class_weight=None, dual=False, fit_intercept=True,\n",
       "                   intercept_scaling=1, l1_ratio=None, max_iter=100,\n",
       "                   multi_class='warn', n_jobs=None, penalty='l2',\n",
       "                   random_state=42, solver='warn', tol=0.0001, verbose=0,\n",
       "                   warm_start=False)"
      ]
     },
     "execution_count": 8,
     "metadata": {},
     "output_type": "execute_result"
    }
   ],
   "source": [
    "from sklearn.linear_model import LogisticRegression \n",
    "classifier = LogisticRegression(random_state = 42) \n",
    "classifier.fit(xtrain, ytrain)"
   ]
  },
  {
   "cell_type": "markdown",
   "metadata": {
    "slideshow": {
     "slide_type": "slide"
    }
   },
   "source": [
    "### Make Predictions with the `.predict()` method"
   ]
  },
  {
   "cell_type": "code",
   "execution_count": 9,
   "metadata": {
    "slideshow": {
     "slide_type": "fragment"
    }
   },
   "outputs": [],
   "source": [
    "y_pred = classifier.predict(xtest)"
   ]
  },
  {
   "cell_type": "markdown",
   "metadata": {
    "slideshow": {
     "slide_type": "slide"
    }
   },
   "source": [
    "### Evaluate Model Accuracy via the Confusion Matrix"
   ]
  },
  {
   "cell_type": "code",
   "execution_count": 10,
   "metadata": {
    "slideshow": {
     "slide_type": "fragment"
    }
   },
   "outputs": [
    {
     "name": "stdout",
     "output_type": "stream",
     "text": [
      "Confusion Matrix : \n",
      " [[65  0]\n",
      " [35  0]]\n"
     ]
    }
   ],
   "source": [
    "from sklearn.metrics import confusion_matrix \n",
    "cm = confusion_matrix(ytest, y_pred) \n",
    "  \n",
    "print (\"Confusion Matrix : \\n\", cm) "
   ]
  },
  {
   "cell_type": "code",
   "execution_count": 11,
   "metadata": {
    "slideshow": {
     "slide_type": "fragment"
    }
   },
   "outputs": [
    {
     "name": "stdout",
     "output_type": "stream",
     "text": [
      "Accuracy :  0.65\n"
     ]
    }
   ],
   "source": [
    "from sklearn.metrics import accuracy_score \n",
    "print (\"Accuracy : \", accuracy_score(ytest, y_pred))"
   ]
  },
  {
   "cell_type": "markdown",
   "metadata": {
    "slideshow": {
     "slide_type": "slide"
    }
   },
   "source": [
    "## Repeating our Analysis with Preprocessing\n",
    "\n",
    "### Rescaling the Data Using `StandardScaler()`\n",
    "\n",
    "Note that since the logistic classifier uses larger dot product values to give more of a \"yes\" versus \"no\" response, the fact that salary has much larger units (1000s) than age does (10s) **these features are not on equal footing.**\n",
    "\n",
    "This suggests we should use `sklearn`'s `StandardScaler` method for rescaling data appropriately. This is an instance of **pre-processing** of the data, which every data scientist should consider carefully."
   ]
  },
  {
   "cell_type": "code",
   "execution_count": 12,
   "metadata": {
    "slideshow": {
     "slide_type": "slide"
    }
   },
   "outputs": [
    {
     "name": "stdout",
     "output_type": "stream",
     "text": [
      "[[-1.02084134  2.00584815]\n",
      " [ 0.20567783 -0.343952  ]\n",
      " [ 2.09263039  0.41973305]\n",
      " [-0.17171268  0.18475304]\n",
      " [ 1.90393513 -1.34261706]\n",
      " [-0.45475557 -0.52018701]\n",
      " [ 0.1113302  -0.78453952]\n",
      " [ 0.39437309  1.1540456 ]\n",
      " [-0.83214608 -0.75516702]\n",
      " [ 0.7717636  -0.81391203]]\n"
     ]
    }
   ],
   "source": [
    "from sklearn.preprocessing import StandardScaler \n",
    "sc_x = StandardScaler() \n",
    "xtrain_rescaled = sc_x.fit_transform(xtrain)  #renamed the rescaled training data\n",
    "xtest_rescaled = sc_x.transform(xtest) #renamed the rescaled test data\n",
    "  \n",
    "print (xtrain_rescaled[0:10, :]) #check out the first 10 values of the rescaled training set"
   ]
  },
  {
   "cell_type": "code",
   "execution_count": 13,
   "metadata": {
    "slideshow": {
     "slide_type": "slide"
    }
   },
   "outputs": [
    {
     "data": {
      "image/png": "[encoded data removed]",
      "text/plain": [
       "<Figure size 576x396 with 1 Axes>"
      ]
     },
     "metadata": {},
     "output_type": "display_data"
    }
   ],
   "source": [
    "import matplotlib.pyplot as plt\n",
    "%matplotlib inline\n",
    "plt.style.use('seaborn')\n",
    "import numpy as np\n",
    "\n",
    "plt.scatter(xtrain_rescaled[:,0], xtrain_rescaled[:,1], c=ytrain, cmap='viridis');"
   ]
  },
  {
   "cell_type": "markdown",
   "metadata": {
    "slideshow": {
     "slide_type": "slide"
    }
   },
   "source": [
    "### Re-running our Classifier on the Newly Preprocessed Data"
   ]
  },
  {
   "cell_type": "code",
   "execution_count": 14,
   "metadata": {
    "slideshow": {
     "slide_type": "fragment"
    }
   },
   "outputs": [
    {
     "name": "stderr",
     "output_type": "stream",
     "text": [
      "/opt/anaconda3/lib/python3.7/site-packages/sklearn/linear_model/logistic.py:432: FutureWarning: Default solver will be changed to 'lbfgs' in 0.22. Specify a solver to silence this warning.\n",
      "  FutureWarning)\n"
     ]
    },
    {
     "data": {
      "text/plain": [
       "LogisticRegression(C=1.0, class_weight=None, dual=False, fit_intercept=True,\n",
       "                   intercept_scaling=1, l1_ratio=None, max_iter=100,\n",
       "                   multi_class='warn', n_jobs=None, penalty='l2',\n",
       "                   random_state=42, solver='warn', tol=0.0001, verbose=0,\n",
       "                   warm_start=False)"
      ]
     },
     "execution_count": 14,
     "metadata": {},
     "output_type": "execute_result"
    }
   ],
   "source": [
    "from sklearn.linear_model import LogisticRegression \n",
    "classifier = LogisticRegression(random_state = 42) \n",
    "classifier.fit(xtrain_rescaled, ytrain) #note that ytrain does not need to be rescaled"
   ]
  },
  {
   "cell_type": "markdown",
   "metadata": {
    "slideshow": {
     "slide_type": "slide"
    }
   },
   "source": [
    "### Making New Predictions Based on Rescaled Data"
   ]
  },
  {
   "cell_type": "code",
   "execution_count": 15,
   "metadata": {
    "slideshow": {
     "slide_type": "fragment"
    }
   },
   "outputs": [],
   "source": [
    "y_pred_rescaled = classifier.predict(xtest_rescaled)"
   ]
  },
  {
   "cell_type": "markdown",
   "metadata": {
    "slideshow": {
     "slide_type": "slide"
    }
   },
   "source": [
    "### Evaluating Our New Results"
   ]
  },
  {
   "cell_type": "code",
   "execution_count": 16,
   "metadata": {
    "slideshow": {
     "slide_type": "fragment"
    }
   },
   "outputs": [
    {
     "name": "stdout",
     "output_type": "stream",
     "text": [
      "Confusion Matrix : \n",
      " [[59  6]\n",
      " [ 7 28]]\n"
     ]
    }
   ],
   "source": [
    "from sklearn.metrics import confusion_matrix \n",
    "cm = confusion_matrix(ytest, y_pred_rescaled) \n",
    "  \n",
    "print (\"Confusion Matrix : \\n\", cm) "
   ]
  },
  {
   "cell_type": "code",
   "execution_count": 17,
   "metadata": {
    "slideshow": {
     "slide_type": "fragment"
    }
   },
   "outputs": [
    {
     "name": "stdout",
     "output_type": "stream",
     "text": [
      "Accuracy :  0.87\n"
     ]
    }
   ],
   "source": [
    "from sklearn.metrics import accuracy_score \n",
    "print (\"Accuracy : \", accuracy_score(ytest, y_pred_rescaled))"
   ]
  },
  {
   "cell_type": "markdown",
   "metadata": {
    "slideshow": {
     "slide_type": "slide"
    }
   },
   "source": [
    "### Preprocessing our data resulted in a 21% increase in classification accuracy! \n",
    "\n",
    ">**Imagine if you could tell your boss/your colleagues/the scientific community that you had a 21% increase in performance simply from re-scaling the data.**"
   ]
  },
  {
   "cell_type": "code",
   "execution_count": null,
   "metadata": {},
   "outputs": [],
   "source": []
  }
 ],
 "metadata": {
  "celltoolbar": "Slideshow",
  "kernelspec": {
   "display_name": "Python 3",
   "language": "python",
   "name": "python3"
  },
  "language_info": {
   "codemirror_mode": {
    "name": "ipython",
    "version": 3
   },
   "file_extension": ".py",
   "mimetype": "text/x-python",
   "name": "python",
   "nbconvert_exporter": "python",
   "pygments_lexer": "ipython3",
   "version": "3.7.4"
  }
 },
 "nbformat": 4,
 "nbformat_minor": 2
}
