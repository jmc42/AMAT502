{
 "cells": [
  {
   "cell_type": "markdown",
   "metadata": {
    "slideshow": {
     "slide_type": "slide"
    }
   },
   "source": [
    "# AMAT 502: Modern Computing for Mathematicians\n",
    "## Lecture 8 - Object Oriented Programming and Data Structures\n",
    "### University at Albany SUNY"
   ]
  },
  {
   "cell_type": "markdown",
   "metadata": {
    "slideshow": {
     "slide_type": "slide"
    }
   },
   "source": [
    "# Object Oriented Programming\n",
    "\n",
    "Object oriented programming is a system of thinking for treating things as objects of a certain (to be defined!) type and a set of operations to be performed on them.\n",
    "\n",
    "Many important concepts of computer science are wrapped up in OOP. Make sure by the end of this course that you can at least speak broadly on all of the terms in this diagram.\n",
    "\n",
    "<img src=\"oop.jpeg\" alt=\"oop\" style=\"width:500px;\"/>"
   ]
  },
  {
   "cell_type": "markdown",
   "metadata": {
    "slideshow": {
     "slide_type": "slide"
    }
   },
   "source": [
    "## The `Car` Example\n",
    "\n",
    "Last lecture we introduced the example of the `Car` class.\n",
    "\n",
    "Let's have a look at how that was defined."
   ]
  },
  {
   "cell_type": "code",
   "execution_count": 1,
   "metadata": {
    "slideshow": {
     "slide_type": "slide"
    }
   },
   "outputs": [],
   "source": [
    "class Car:\n",
    "    \n",
    "    #initializing our object\n",
    "    def __init__(self,make, model, color, year):\n",
    "        self.make = make\n",
    "        self.model = model\n",
    "        self.color = color\n",
    "        self.year = year \n",
    "        self.speed = 0\n",
    "        self.on = False\n",
    "        \n",
    "    def start(self):\n",
    "        self.on = True\n",
    "    \n",
    "    def turnOff(self):\n",
    "        self.on = False"
   ]
  },
  {
   "cell_type": "markdown",
   "metadata": {
    "slideshow": {
     "slide_type": "slide"
    }
   },
   "source": [
    "## A Text Based Game...\n",
    "\n",
    "The beautiful thing about OOP is that the limits of what we can do with our classes, instances of their objects, and the methods and attributes that act on these instances are only limited by our imagination!\n",
    "\n",
    "You can create a whole universe with OOP, maybe one that's filled with these...\n",
    "\n",
    "![Magic the Gathering](magic-skyshark.png)"
   ]
  },
  {
   "cell_type": "markdown",
   "metadata": {
    "slideshow": {
     "slide_type": "slide"
    }
   },
   "source": [
    "## New Bells and Whistles\n",
    "\n",
    "Let's make our `Car` class a little more interesting."
   ]
  },
  {
   "cell_type": "code",
   "execution_count": 2,
   "metadata": {
    "slideshow": {
     "slide_type": "slide"
    }
   },
   "outputs": [],
   "source": [
    "class Car:\n",
    "    \n",
    "    #initializing our object\n",
    "    def __init__(self,make, model, color, year):\n",
    "        self.make = make\n",
    "        self.model = model\n",
    "        self.color = color\n",
    "        self.year = year \n",
    "        self.speed = 0\n",
    "        self.on = False\n",
    "        \n",
    "    def start(self):\n",
    "        self.on = True\n",
    "    \n",
    "    def turnOff(self):\n",
    "        self.on = False\n",
    "        \n",
    "    def goFaster(self):\n",
    "        if self.on == True:\n",
    "            self.speed = self.speed + 10\n",
    "        else:\n",
    "            return \"The car is not on.\"\n",
    "    \n",
    "    def goSlower(self):\n",
    "        if self.on == True:\n",
    "            self.speed = self.speed - 10\n",
    "        else:\n",
    "            return \"The car is not on.\"\n",
    "        \n",
    "    def stop(self):\n",
    "        if self.on == True:\n",
    "            self.speed = 0\n",
    "        else:\n",
    "            return \"The car is not on.\"\n",
    "        \n",
    "    def checkSpeed(self):\n",
    "        return \"Your speed is \" + str(self.speed) + \" miles per hour.\""
   ]
  },
  {
   "cell_type": "code",
   "execution_count": 16,
   "metadata": {
    "slideshow": {
     "slide_type": "slide"
    }
   },
   "outputs": [],
   "source": [
    "## Create your own car!\n",
    "myOldCar = Car('Chrysler','Mini-Van','Gray',1995)\n",
    "myCar = Car('Jeep','Cherokee','Green', 2000)"
   ]
  },
  {
   "cell_type": "code",
   "execution_count": 17,
   "metadata": {
    "slideshow": {
     "slide_type": "fragment"
    }
   },
   "outputs": [
    {
     "data": {
      "text/plain": [
       "False"
      ]
     },
     "execution_count": 17,
     "metadata": {},
     "output_type": "execute_result"
    }
   ],
   "source": [
    "## Play Around with making your car go faster and slower!\n",
    "myOldCar.start()\n",
    "myOldCar.goFaster()\n",
    "myOldCar.checkSpeed()\n",
    "myOldCar.stop()\n",
    "myOldCar.checkSpeed()\n",
    "myOldCar.turnOff()\n",
    "myOldCar.on"
   ]
  },
  {
   "cell_type": "markdown",
   "metadata": {
    "slideshow": {
     "slide_type": "slide"
    }
   },
   "source": [
    "## Other Special Methods\n",
    "### `__str__` and `__lt__`\n",
    "\n",
    "In Python we have the ability to specify how objects created in a class are treated using built-in commands, such as\n",
    "- `print( )` <--- This is the command to print something to the screen.\n",
    "- `<` <--- This is the comparison operator.\n",
    "\n",
    "These two methods specify what should occur if I try to issue the command\n",
    "```python\n",
    "print(myCar)\n",
    "```\n",
    "or what happens if I try to decide the truth value of\n",
    "```python\n",
    "myCar < JordansCar\n",
    "```"
   ]
  },
  {
   "cell_type": "code",
   "execution_count": 18,
   "metadata": {
    "slideshow": {
     "slide_type": "slide"
    }
   },
   "outputs": [],
   "source": [
    "class Car():\n",
    "    \n",
    "    #initializing our object\n",
    "    def __init__(self, make, model, color, year):\n",
    "        self.make = make\n",
    "        self.model = model\n",
    "        self.color = color\n",
    "        self.year = year \n",
    "        self.speed = 0\n",
    "        self.on = False\n",
    "    \n",
    "    def __str__(self):\n",
    "        \"\"\"Returns self's name\"\"\"\n",
    "        return \"This car is a \" + str(self.color) + \" \" + str(self.year) + \" \" + str(self.make) + \" \" + str(self.model) + \".\"\n",
    "        \n",
    "    def __lt__(self,other): \n",
    "        #this is another special function \"lt\" stands for \"less than\" \n",
    "        #and allows comparison\n",
    "        \"\"\"Returns True if the speed of self is less than the speed of other.\n",
    "        If speeds are equal then return truth value of the comparison of car years.\n",
    "        In other words: If speeds are same, \n",
    "        then older cars are considered less than newer cars.\"\"\"\n",
    "        if self.speed == other.speed:\n",
    "            return self.year <= other.year\n",
    "        return self.speed < other.speed\n",
    "        \n",
    "    def start(self):\n",
    "        self.on = True\n",
    "    \n",
    "    def turnOff(self):\n",
    "        self.on = False\n",
    "        \n",
    "    def goFaster(self):\n",
    "        if self.on == True:\n",
    "            self.speed = self.speed + 10\n",
    "        else:\n",
    "            return \"The car is not on.\"\n",
    "    \n",
    "    def goSlower(self):\n",
    "        if self.on == True:\n",
    "            self.speed = self.speed - 10\n",
    "        else:\n",
    "            return \"The car is not on.\"\n",
    "        \n",
    "    def stop(self):\n",
    "        if self.on == True:\n",
    "            self.speed = 0\n",
    "        else:\n",
    "            return \"The car is not on.\"\n",
    "        \n",
    "    def checkSpeed(self):\n",
    "        return \"Your speed is \" + str(self.speed) + \" miles per hour.\""
   ]
  },
  {
   "cell_type": "code",
   "execution_count": 20,
   "metadata": {
    "slideshow": {
     "slide_type": "slide"
    }
   },
   "outputs": [
    {
     "name": "stdout",
     "output_type": "stream",
     "text": [
      "When I print myCar, I get: This car is a Green 2000 Jeep Cherokee.\n",
      "When I print JordansCar, I get: This car is a White 2018 Mazda Miata.\n",
      "The statement that myCar < JordansCar is True\n",
      "Once I go faster, the statement that myCar < JordansCar is False\n",
      "This car is a Green 2000 Jeep Cherokee.\n"
     ]
    }
   ],
   "source": [
    "myCar = Car('Jeep','Cherokee','Green',2000)\n",
    "JordansCar = Car('Mazda', 'Miata', 'White',2018)\n",
    "\n",
    "print(\"When I print myCar, I get:\",myCar)\n",
    "print(\"When I print JordansCar, I get:\", JordansCar)\n",
    "print(\"The statement that myCar < JordansCar is\", myCar < JordansCar)\n",
    "myCar.start()\n",
    "myCar.goFaster()\n",
    "print(\"Once I go faster, the statement that myCar < JordansCar is\", myCar < JordansCar)\n",
    "print(myCar)"
   ]
  },
  {
   "cell_type": "markdown",
   "metadata": {
    "slideshow": {
     "slide_type": "slide"
    }
   },
   "source": [
    "## Inheritance from a SuperClass and Overriding Methods\n",
    "\n",
    "As we all know, not all cars are created equal. Some go much faster naturally than others. We can further specify different types of cars by creating **subclasses** of the class `Car`. In fact, in Python, all classes are subclasses of the class `object`.\n",
    "\n",
    "In general, we do this using the code\n",
    "```python\n",
    "class NewClass(SuperClass)\n",
    "```\n",
    "\n",
    "In our case, let's create a new type of car called `SportsCar`. We do this by writing\n",
    "```python\n",
    "class SportsCar(Car)\n",
    "```\n",
    "To tell Python that any `SportsCar` is a special instance of a `Car`. You might like the notation\n",
    "$$\\text{SportsCar} \\quad \\subseteq \\quad \\text{Car} \\qquad \\text{i.e. every Sports Car is a Car in particular.}$$\n",
    "\n",
    "Additionally, the code `class SportsCar(Car)` has the effect of making every attribute and method in the **superclass** `Car` accessible for any instance of the subclass.\n",
    "\n",
    "However if we can also **override** the method or attribute in the superclass by creating our own version of the method inside the subclass.\n"
   ]
  },
  {
   "cell_type": "code",
   "execution_count": 21,
   "metadata": {
    "slideshow": {
     "slide_type": "slide"
    }
   },
   "outputs": [],
   "source": [
    "class SportsCar(Car):\n",
    "    def __init__(self, make, model, color, year):\n",
    "        Car.__init__(self, make, model, color, year) #This line calls the initialization method of Car\n",
    "    \n",
    "    def goFaster(self): # Here we override the goFaster method from Car\n",
    "        if self.on == True:\n",
    "            self.speed = self.speed + 50\n",
    "        else:\n",
    "            return \"The car is not on.\"\n",
    "    \n",
    "    def goSlower(self): # Here we override the goSlower method from Car\n",
    "        if self.on == True:\n",
    "            self.speed = self.speed - 50\n",
    "        else:\n",
    "            return \"The car is not on.\"\n",
    "        \n",
    "    def doWheelie(self):\n",
    "        return \"Rad Wheelie, Man!\""
   ]
  },
  {
   "cell_type": "code",
   "execution_count": 28,
   "metadata": {
    "slideshow": {
     "slide_type": "slide"
    }
   },
   "outputs": [
    {
     "name": "stdout",
     "output_type": "stream",
     "text": [
      "This car is a Green 2000 Jeep Cherokee.\n"
     ]
    },
    {
     "ename": "AttributeError",
     "evalue": "'Car' object has no attribute 'doWheelie'",
     "output_type": "error",
     "traceback": [
      "\u001b[0;31m--------------------------------------------------------------------------\u001b[0m",
      "\u001b[0;31mAttributeError\u001b[0m                           Traceback (most recent call last)",
      "\u001b[0;32m<ipython-input-28-604a7669efa2>\u001b[0m in \u001b[0;36m<module>\u001b[0;34m\u001b[0m\n\u001b[1;32m      5\u001b[0m \u001b[0mmySportsCar\u001b[0m\u001b[0;34m.\u001b[0m\u001b[0mdoWheelie\u001b[0m\u001b[0;34m(\u001b[0m\u001b[0;34m)\u001b[0m\u001b[0;34m\u001b[0m\u001b[0;34m\u001b[0m\u001b[0m\n\u001b[1;32m      6\u001b[0m \u001b[0mprint\u001b[0m\u001b[0;34m(\u001b[0m\u001b[0mmyCar\u001b[0m\u001b[0;34m)\u001b[0m\u001b[0;34m\u001b[0m\u001b[0;34m\u001b[0m\u001b[0m\n\u001b[0;32m----> 7\u001b[0;31m \u001b[0mmyCar\u001b[0m\u001b[0;34m.\u001b[0m\u001b[0mdoWheelie\u001b[0m\u001b[0;34m(\u001b[0m\u001b[0;34m)\u001b[0m \u001b[0;31m## This should return an error!\u001b[0m\u001b[0;34m\u001b[0m\u001b[0;34m\u001b[0m\u001b[0m\n\u001b[0m",
      "\u001b[0;31mAttributeError\u001b[0m: 'Car' object has no attribute 'doWheelie'"
     ]
    }
   ],
   "source": [
    "#mySportsCar = SportsCar('Mazda', 'Miata', 'Red',2020)\n",
    "#mySportsCar.start()\n",
    "mySportsCar.goFaster()\n",
    "mySportsCar.checkSpeed()\n",
    "mySportsCar.doWheelie()\n",
    "print(myCar)\n",
    "myCar.doWheelie() ## This should return an error!"
   ]
  },
  {
   "cell_type": "markdown",
   "metadata": {
    "slideshow": {
     "slide_type": "slide"
    }
   },
   "source": [
    "## Final Wrap Up of OOP\n",
    "\n",
    "In Python, everything is an object at run time. In fact we have been working with two different \"types\" (i.e. Classes!) of objects already: `string` and `int`. Indeed each of these classes of objects had their own built in functions that override the `<` operator. In particular, we know...\n",
    "- Why the expressions `23 < 42` makes sense and returns `True`, and \n",
    "- Why `'cat' < 'cactus'` makes sense (via lexicographical ordering) and returns `False`.\n",
    "Overriding is also sometimes called **polymorphism**, meaning \"of many forms\".\n",
    "\n",
    "### Study Exercise\n",
    "Look up how **encapsulation** works in Python. These are private methods and attributes that have restricted scope as to where they can be caused. [This article is a decent start](https://medium.com/@manjuladube/encapsulation-abstraction-35999b0a3911#:~:text=Encapsulation%20means%20that%20the%20internal,is%20member%20functions%2Cvariables%20etc.)"
   ]
  },
  {
   "cell_type": "markdown",
   "metadata": {
    "slideshow": {
     "slide_type": "slide"
    }
   },
   "source": [
    "# Data Types and Structures\n",
    "\n",
    "Part of the reason we go over OOP is that it provides a way of understanding how existing data types in Python are implemented \"under the hood\".\n",
    "\n",
    "## Abstract Data Types\n",
    "\n",
    "An **abstract data type (ADT)** is a collection of objects and as well as the operations that can be performed on those objects.\n",
    "\n",
    "For example we have the following built in ADTs in Python...\n",
    "- strings, \n",
    "- lists, \n",
    "- tuples, \n",
    "- sets, and\n",
    "- dictionaries, but\n",
    "We can make our own abstract data types in Python as well, such as the `Car` data type."
   ]
  },
  {
   "cell_type": "markdown",
   "metadata": {
    "slideshow": {
     "slide_type": "slide"
    }
   },
   "source": [
    "## Data Structures\n",
    "\n",
    "A **data structure** is a general prescription of how to structure your data. Often you use multiple existing data *types* to implement a data structure.\n",
    "\n",
    "Less circularly, a data structure provides a blueprint for how to represent, store, access and manipulate data. Generally there are lots of different kinds of data structures and each is better or worse at some computational task than other data structures.\n",
    "\n",
    "The analogy **<i>\"Data Types are to Atoms as Data Structures are to Molecules\"</i>** can be useful.\n",
    "\n",
    "However some of the commonly accepted notions of data structures, such as\n",
    "- stacks, \n",
    "- queues,\n",
    "- hash tables,\n",
    "- linked lists, \n",
    "- binary trees,\n",
    "- simplicial complexes, and others\n",
    "may feel more \"low level\" than the ADT of a `Set` or a `Car`, for example. I personally believe the distinction between data types and data structures are a bit blurry."
   ]
  },
  {
   "cell_type": "markdown",
   "metadata": {
    "slideshow": {
     "slide_type": "slide"
    }
   },
   "source": [
    "## Stacks in Brief\n",
    "\n",
    "A **stack** is a more *dynamic* version of a list, but it can be implemented with the help of the `list` data type.\n",
    "\n",
    "Typically with a list, we have a collection of objects (we can imagine something like a list of groceries) where we can add groceries to the list, and where it is in that list doesn't necessarily determine its importance. \n",
    "\n",
    "Moreover, if we want to remove an item from our grocery list, we simply cross it out and now we have a similar list where the items are reindexed relative to where we removed our item."
   ]
  },
  {
   "cell_type": "markdown",
   "metadata": {
    "slideshow": {
     "slide_type": "slide"
    }
   },
   "source": [
    "## Stacks Have Limited Modifications\n",
    "\n",
    "With a stack, the way we insert items and remove them are *prespecified*. \n",
    "\n",
    "In particular we **push** items into the list and the only way we can remove, **pop**, them is by taking the last element we put in out first. \n",
    "\n",
    "In other words, stacks implement the **last in, first out** (LIFO) policy. \n",
    "\n",
    "As a basic example, imagine we want to reverse a string. Then we can append its characters one at a time (in order) to a stack and then create a new string by appending the items we pop out of our stack to it."
   ]
  },
  {
   "cell_type": "markdown",
   "metadata": {
    "slideshow": {
     "slide_type": "slide"
    }
   },
   "source": [
    "## Stacks and Queues\n",
    "<img src=\"Stack-Queue.png\" alt=\"Stack-Queue\" style=\"width:400px;\"/>"
   ]
  },
  {
   "cell_type": "code",
   "execution_count": null,
   "metadata": {
    "slideshow": {
     "slide_type": "slide"
    }
   },
   "outputs": [],
   "source": [
    "#Stack methods\n",
    "\n",
    "def push(S, x):\n",
    "    S = S.append(x)\n",
    "    return S\n",
    "\n",
    "def pop(S):\n",
    "    if len(S) == 0:\n",
    "        return \"Empty Stack\"\n",
    "    else:\n",
    "        S = S.remove(S[-1])\n",
    "    return S"
   ]
  },
  {
   "cell_type": "code",
   "execution_count": null,
   "metadata": {
    "slideshow": {
     "slide_type": "subslide"
    }
   },
   "outputs": [],
   "source": [
    "stack = [1,2,3,4]\n",
    "push(stack, 5)\n",
    "stack"
   ]
  },
  {
   "cell_type": "code",
   "execution_count": null,
   "metadata": {
    "slideshow": {
     "slide_type": "subslide"
    }
   },
   "outputs": [],
   "source": [
    "pop(stack)\n",
    "stack"
   ]
  },
  {
   "cell_type": "markdown",
   "metadata": {
    "slideshow": {
     "slide_type": "slide"
    }
   },
   "source": [
    "## Stacks via OOP\n",
    "\n",
    "Now, recall that Object oriented programming was motivated by the fact that we actually wanted to make a **stack** object that was \n",
    "\n",
    "* A list where we could add and remove items \n",
    "* We *push* those items at the end\n",
    "* We *pop* them off of the end\n",
    "* We want to see if the stack is *empty*\n",
    "* We would like to *peek* at what the last item inserted was\n",
    "* And we may want to *view* all of the items in our stack"
   ]
  },
  {
   "cell_type": "code",
   "execution_count": 29,
   "metadata": {
    "slideshow": {
     "slide_type": "slide"
    }
   },
   "outputs": [],
   "source": [
    "class Stack(object):\n",
    "    \n",
    "    #initialize the object\n",
    "    def __init__(self):\n",
    "        self.items = []\n",
    "      \n",
    "    #define a method to insert items\n",
    "    def push(self, item):\n",
    "        self.items.append(item)\n",
    "    \n",
    "    #define a method to remove items\n",
    "    def pop(self):\n",
    "        return self.items.pop()\n",
    "    \n",
    "    #check if the stack is empty or not\n",
    "    def isEmpty(self):\n",
    "        return self.items == []\n",
    "    \n",
    "    #View the last element of the stack\n",
    "    def peek(self):\n",
    "        if self.is_empty() == False:\n",
    "            return self.items[-1]\n",
    "    #When you go to print the entire stack\n",
    "    def __str__(self):\n",
    "        myReturnString =\"\"\n",
    "        for i in range(0, len(self.items)-1):\n",
    "            myReturnString = myReturnString + str(self.items[i]) + \", \"\n",
    "        myReturnString = myReturnString + str(self.items[len(self.items)-1])\n",
    "        return \"#\" + myReturnString + \"@\""
   ]
  },
  {
   "cell_type": "code",
   "execution_count": 30,
   "metadata": {
    "slideshow": {
     "slide_type": "slide"
    }
   },
   "outputs": [
    {
     "name": "stdout",
     "output_type": "stream",
     "text": [
      "#a, b, c@\n"
     ]
    }
   ],
   "source": [
    "S = Stack()\n",
    "S.push('a')\n",
    "S.push('b')\n",
    "S.push('c')\n",
    "print(S)"
   ]
  },
  {
   "cell_type": "markdown",
   "metadata": {
    "slideshow": {
     "slide_type": "slide"
    }
   },
   "source": [
    "## Parentheses Problem\n",
    "\n",
    "Given a string s containing just the characters '(', ')', '{', '}', '[' ']', determine if the input string is valid.\n",
    "\n",
    "An input string is valid if:\n",
    "\n",
    "* Open brackets must be closed by the same type of brackets.\n",
    "* Open brackets must be closed in the correct order.\n",
    "\n",
    "examples:\n",
    "\n",
    "* { ( [ ] ) } is valid\n",
    "* [ ) is **not** valid since the type is different\n",
    "* [ ( { ] ) } is **not** valid since the order is incorrect (ex: (2 + [3) * 4] doesn't make sense, but (2) + [3*4] does )"
   ]
  },
  {
   "cell_type": "markdown",
   "metadata": {
    "slideshow": {
     "slide_type": "slide"
    }
   },
   "source": [
    "## Parentheses Problem\n",
    "\n",
    "Our solution is to search our string of parentheses from left to right and whenever we hit a 'left' bracket \"{, (, \\[\" we will add it to our stack. Once we encounter a 'right bracket' \"\\}, ), \\]\" we will compare it to the last item added to our stack and if they are the same we will use the pop() operation on our stack, and continue this same process trying to pair our parentheses. "
   ]
  },
  {
   "cell_type": "markdown",
   "metadata": {
    "slideshow": {
     "slide_type": "slide"
    }
   },
   "source": [
    "## Parentheses Problem\n",
    "\n",
    "If the parentheses we're comparing don't match then we know we have an unbalanced pair since the brackets must be closed in the correct order and have to be of the same type. Also, if we pop() all of our 'left' parentheses (or never add any ex: '}]))') and or balance is off, then we know that there weren't enough pairs to balance our string."
   ]
  },
  {
   "cell_type": "code",
   "execution_count": 33,
   "metadata": {
    "slideshow": {
     "slide_type": "slide"
    }
   },
   "outputs": [
    {
     "data": {
      "text/plain": [
       "True"
      ]
     },
     "execution_count": 33,
     "metadata": {},
     "output_type": "execute_result"
    }
   ],
   "source": [
    "\"\"\"\n",
    "Parentheses matching using stacks\n",
    "\"\"\"\n",
    "\n",
    "def is_match(a,b):\n",
    "    if a == '[' and b == ']':\n",
    "        return True\n",
    "    elif a == '{' and b == '}':\n",
    "        return True\n",
    "    elif a == '(' and b == ')':\n",
    "        return True\n",
    "    else:\n",
    "        return False\n",
    "\n",
    "def is_paren_balanced(paren_string):\n",
    "    s = Stack()\n",
    "    is_balanced = True\n",
    "    index = 0\n",
    "    \n",
    "    while index < len(paren_string) and is_balanced:\n",
    "        paren = paren_string[index]\n",
    "        if paren in \"({[\":\n",
    "            s.push(paren)    \n",
    "        else:\n",
    "            if s.isEmpty():\n",
    "                is_balanced = False                \n",
    "            else:\n",
    "                top = s.pop()\n",
    "                if not is_match(top, paren):\n",
    "                    is_balanced = False                    \n",
    "        index += 1\n",
    "    if s.isEmpty() and is_balanced:\n",
    "        return True\n",
    "    else:\n",
    "        return False\n",
    "        \n",
    "    \n",
    "#is_paren_balanced(\"[(){])}\")\n",
    "is_paren_balanced(\"[](((){})[])\")"
   ]
  },
  {
   "cell_type": "markdown",
   "metadata": {
    "slideshow": {
     "slide_type": "slide"
    }
   },
   "source": [
    "## Queues\n",
    "\n",
    "Queues, much like stacks, are dynamic lists that push items into the back of the list, but instead remove the first item that was inserted first. This is the **first in, first out** (FIFO) policy. Examples of situations in reality that work this way are things like lines at a bank or post office where the first person who enters is typically the first person to be helped. The insertion and removal operations for a queue are called **enqueue** and **dequeue**, respectively. "
   ]
  },
  {
   "cell_type": "markdown",
   "metadata": {
    "slideshow": {
     "slide_type": "slide"
    }
   },
   "source": [
    "# Problems for Lecture 8:"
   ]
  },
  {
   "cell_type": "markdown",
   "metadata": {
    "slideshow": {
     "slide_type": "slide"
    }
   },
   "source": [
    "1. Make a class Queue with the following attributes:\n",
    "    * enQueue: This adds items to your queue object\n",
    "    * deQueue: This removes the first item you added to your queue object\n",
    "    * front: Returns the first item of the queue\n",
    "    * rear: Returns the last item of the queue\n",
    "    * isEmpty: Checks to see if your queue is empty or not\n",
    "    * `__str__`: Knows how to implement a queue"
   ]
  },
  {
   "cell_type": "markdown",
   "metadata": {
    "slideshow": {
     "slide_type": "slide"
    }
   },
   "source": [
    "2. We know that the only difference between a stack and queue is that a stack is last in first out (LIFO) and a queue is first in first out (FIFO). With this information create a class **Stack** that uses two queue objects from your queue class to make the objects and attributes in your stack class, i.e., make an object that takes in items and pops items LIFO using ONLY two of your queues and their enqueue and dequeue methods and other attributes. "
   ]
  }
 ],
 "metadata": {
  "celltoolbar": "Slideshow",
  "kernelspec": {
   "display_name": "Python 3",
   "language": "python",
   "name": "python3"
  },
  "language_info": {
   "codemirror_mode": {
    "name": "ipython",
    "version": 3
   },
   "file_extension": ".py",
   "mimetype": "text/x-python",
   "name": "python",
   "nbconvert_exporter": "python",
   "pygments_lexer": "ipython3",
   "version": "3.7.4"
  }
 },
 "nbformat": 4,
 "nbformat_minor": 2
}
