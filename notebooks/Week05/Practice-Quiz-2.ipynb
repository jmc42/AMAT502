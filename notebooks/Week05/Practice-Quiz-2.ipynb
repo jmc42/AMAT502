{
 "cells": [
  {
   "cell_type": "markdown",
   "metadata": {},
   "source": [
    "# Practice Quiz 2 (to be held September 25, 2024)\n",
    "\n",
    "## Rules for the Quiz\n",
    "- NO TALKING! NO WHISPERING! YOU WILL GET A ZERO AND BE ASKED TO LEAVE\n",
    "- NO PHONES\n",
    "- KEEP YOUR EYES ON YOUR OWN COMPUTER\n",
    "- You have 1 hour (4pm-5pm) for this exam---please save and submit frequently!\n",
    "- You can ONLY use any material on our JupyterHub Server\n",
    "- NO CHATGPT, NO GOOGLE, NOTHING OUTSIDE THE SERVER\n",
    "\n",
    "**This Quiz Covers Lectures 4-7, but will NOT test OOP concepts**"
   ]
  },
  {
   "cell_type": "markdown",
   "metadata": {},
   "source": [
    "### Question 1\n",
    "\n",
    "Complete the function `backFib(n)` below that takes in an integer `n` and returns the a list with the first `n` Fibonacci numbers backwards. For reference\n",
    "- Fib(1) = 1\n",
    "- Fib(2) = 1\n",
    "- Fib(3) = 2\n",
    "- Fib(4) = 3\n",
    "- Fib(n) = Fib(n-1) + Fib(n-2)\n",
    "\n",
    "So `backFib(4)` should return `[3,2,1,1]`"
   ]
  },
  {
   "cell_type": "code",
   "execution_count": 1,
   "metadata": {},
   "outputs": [],
   "source": [
    "def backFib(n):\n",
    "    return None # delete this line and complete the code yourself"
   ]
  },
  {
   "cell_type": "markdown",
   "metadata": {},
   "source": [
    "### Question 2\n",
    "\n",
    "Complete the function `count_overlapping(intervals,point)` below that takes in a list of closed intervals (each closed interval is a list with two floats) and a single point (also viewed as a float) and outputs how many of the intervals the point is in.\n",
    "\n",
    "For example, `count_overlapping([[1.5,10],[-2,2],[3,8]],2)=2`"
   ]
  },
  {
   "cell_type": "code",
   "execution_count": 2,
   "metadata": {},
   "outputs": [],
   "source": [
    "def count_overlapping(intervals, point):\n",
    "    return None # delete this line and complete the code yourself"
   ]
  },
  {
   "cell_type": "markdown",
   "metadata": {},
   "source": [
    "### Question 3\n",
    "\n",
    "Complete the function below `list2dict(keys,values)` that takes in two lists and creates a dictionary with the first list as key values and the second list as values. If the lengths of the lists disagree, have the function make a dictionary whose number of keys is equal to the length of the smaller of the two lists."
   ]
  },
  {
   "cell_type": "code",
   "execution_count": 3,
   "metadata": {},
   "outputs": [],
   "source": [
    "def list2dict(keys,values):\n",
    "    return None # delete this line and complete the code yourself"
   ]
  },
  {
   "cell_type": "markdown",
   "metadata": {},
   "source": [
    "### Question 4\n",
    "\n",
    "Recall that an integer bigger than 1 is called **prime** if it is only divisible by 1 and itself. So 2,3, and 5 are all prime, but 4 is not.\n",
    "\n",
    "Complete the function `isPrime(n)` below that returns `True` if `n` is prime and `False` otherwise."
   ]
  },
  {
   "cell_type": "code",
   "execution_count": 4,
   "metadata": {},
   "outputs": [],
   "source": [
    "def isPrime(n):\n",
    "    return None # delete this line and complete the code yourself"
   ]
  },
  {
   "cell_type": "markdown",
   "metadata": {},
   "source": [
    "### Question 5\n",
    "\n",
    "Complete the function `primeSquared(n)` below **using list comprehension** that returns a list of numbers whose entries are $i^2$ for $i <n$ that are prime."
   ]
  },
  {
   "cell_type": "code",
   "execution_count": 5,
   "metadata": {},
   "outputs": [],
   "source": [
    "def primeSquared(n):\n",
    "    return None # delete this line and complete the code yourself"
   ]
  },
  {
   "cell_type": "code",
   "execution_count": null,
   "metadata": {},
   "outputs": [],
   "source": []
  }
 ],
 "metadata": {
  "kernelspec": {
   "display_name": "Python 3",
   "language": "python",
   "name": "python3"
  },
  "language_info": {
   "codemirror_mode": {
    "name": "ipython",
    "version": 3
   },
   "file_extension": ".py",
   "mimetype": "text/x-python",
   "name": "python",
   "nbconvert_exporter": "python",
   "pygments_lexer": "ipython3",
   "version": "3.7.3"
  }
 },
 "nbformat": 4,
 "nbformat_minor": 2
}
