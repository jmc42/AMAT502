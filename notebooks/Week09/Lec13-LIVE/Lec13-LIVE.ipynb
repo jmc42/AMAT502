{
 "cells": [
  {
   "cell_type": "markdown",
   "metadata": {},
   "source": [
    "# Lecture 13 LIVE\n",
    "\n",
    "## Topics from Lecture\n",
    "- The Train-Model-Predict Paradigm\n",
    "- Linear Regression on Number Sequences\n",
    "- Sum of Square Residuals\n",
    "- Higher Degree Polynomial Regression\n",
    "- Lagrange Polynomials"
   ]
  },
  {
   "cell_type": "markdown",
   "metadata": {},
   "source": [
    "### Question 1 (Basic Number Sequence)\n",
    "\n",
    "Find the linear best fit for the following number sequence from class, using the code provided below. *Make sure your code plots the line of best fit for both sequences on separate plots.*\n",
    "\n",
    "- 3, 8, 13, 18, 23, ..."
   ]
  },
  {
   "cell_type": "code",
   "execution_count": 2,
   "metadata": {},
   "outputs": [],
   "source": [
    "import numpy as np \n",
    "import matplotlib.pyplot as plt \n",
    "  \n",
    "def estimate_coef(x, y): \n",
    "    # number of observations/points \n",
    "    n = np.size(x) \n",
    "  \n",
    "    # mean of x and y vector \n",
    "    m_x, m_y = np.mean(x), np.mean(y) \n",
    "  \n",
    "    # calculating cross-deviation and deviation about x \n",
    "    SS_xy = np.sum(y*x) - n*m_y*m_x \n",
    "    SS_xx = np.sum(x*x) - n*m_x*m_x \n",
    "  #here's a comment.\n",
    "    # calculating regression coefficients \n",
    "    b_1 = SS_xy / SS_xx \n",
    "    b_0 = m_y - b_1*m_x \n",
    "  \n",
    "    return(b_0, b_1) \n",
    "  \n",
    "def plot_regression_line(x, y, b): \n",
    "    # plotting the actual points as scatter plot\n",
    "    myRegPlot=plt.figure() #object creation in order to save image\n",
    "    plt.scatter(x, y, color = \"m\", \n",
    "               marker = \"o\", s = 30) \n",
    "  \n",
    "    # predicted response vector \n",
    "    y_pred = b[0] + b[1]*x \n",
    "  \n",
    "    # plotting the regression line \n",
    "    plt.plot(x, y_pred, color = \"g\") \n",
    "  \n",
    "    # putting labels \n",
    "    plt.xlabel('x') \n",
    "    plt.ylabel('y') \n",
    "  \n",
    "    # function to show plot \n",
    "    plt.show();##\n",
    "    #myRegPlot.savefig(\"My_Regression_Plot.png\")\n",
    "\n",
    "def plot_example(x,y): \n",
    "    # estimating coefficients \n",
    "    b = estimate_coef(x, y) \n",
    "    print(\"Estimated coefficients: b_0 =\" + str(b[0]) + \"and b_1 =\" + str(b[1]))\n",
    "  \n",
    "    # plotting regression line \n",
    "    plot_regression_line(x, y, b)\n",
    "\n",
    "    \n",
    "## GIVE THEM EVERYTHING ABOVE"
   ]
  },
  {
   "cell_type": "markdown",
   "metadata": {},
   "source": [
    "### Question 2 (Linear Regression with Fibonacci)\n",
    "\n",
    "### Q2: Part A\n",
    "Use the code above to find a line of best fit using the first 10 Fibonacci numbers:\n",
    "- 1, 1, 2, 3, 5, 8, 13, 21, 34, 55\n"
   ]
  },
  {
   "cell_type": "code",
   "execution_count": null,
   "metadata": {},
   "outputs": [],
   "source": [
    "x1=[1,2,3,4,5,6,7,8,9,10]"
   ]
  },
  {
   "cell_type": "markdown",
   "metadata": {},
   "source": [
    "\n",
    "### Q2: Part B (Vocabulary Question)\n",
    "Obviously the line of best fit is not very good at fitting the data.\n",
    "\n",
    "**What is the term when a line does not accurately model the data?**"
   ]
  },
  {
   "cell_type": "code",
   "execution_count": null,
   "metadata": {},
   "outputs": [],
   "source": []
  },
  {
   "cell_type": "markdown",
   "metadata": {},
   "source": [
    "### Q2: Part C (Extracting the Sum of Square Residuals)\n",
    "\n",
    "What is the sum of square residuals between your linear model and the actual data, i.e. for the first 10 terms in the Fibonacci Sequence calculate $$S(f(x,\\beta)) = \\sum_{i=1}^{10} (y_i - f(x_i))^2$$\n",
    "\n",
    "Write a function `sum_of_squared(x,y)` that takes in a pair of lists of equal length and computes the sum of square residuals from the line of best fit. \n",
    "\n",
    "You can call the functions drawn above as you like."
   ]
  },
  {
   "cell_type": "code",
   "execution_count": null,
   "metadata": {},
   "outputs": [],
   "source": []
  },
  {
   "cell_type": "markdown",
   "metadata": {},
   "source": [
    "### Question 3 (Polynomial Regression)\n",
    "\n",
    "### Q3: Part A\n",
    "Use the code below to try different degree polynomials to fit the first 10 Fibonacci Numbers. Below we have a degree 2 polynomial.\n",
    "\n",
    "What degree seems to best fit the data?"
   ]
  },
  {
   "cell_type": "code",
   "execution_count": 1,
   "metadata": {},
   "outputs": [
    {
     "data": {
      "image/png": "[encoded data removed]",
      "text/plain": [
       "<Figure size 432x288 with 1 Axes>"
      ]
     },
     "metadata": {
      "needs_background": "light"
     },
     "output_type": "display_data"
    }
   ],
   "source": [
    "# code from https://towardsdatascience.com/machine-learning-polynomial-regression-with-python-5328e4e8a386\n",
    "# Fitting Polynomial Regression to the dataset\n",
    "\n",
    "X = [ [i] for i in range(1,11)]\n",
    "y = [ [i] for i in [1, 1, 2, 3, 5, 8, 13, 21, 34, 55]]\n",
    "\n",
    "\n",
    "import numpy as np\n",
    "import matplotlib.pyplot as plt\n",
    "%matplotlib inline\n",
    "import pandas as pd\n",
    "from sklearn.linear_model import LinearRegression\n",
    "from sklearn.preprocessing import PolynomialFeatures\n",
    "poly_reg = PolynomialFeatures(degree=2) # CHANGE THIS DEGREE!\n",
    "X_poly = poly_reg.fit_transform(X)\n",
    "pol_reg = LinearRegression()\n",
    "pol_reg.fit(X_poly, y)\n",
    "\n",
    "# Visualizing the Polymonial Regression results\n",
    "def viz_polymonial():\n",
    "    plt.scatter(X, y, color='red')\n",
    "    plt.plot(X, pol_reg.predict(poly_reg.fit_transform(X)), color='blue')\n",
    "    plt.title('Fitting Fibonacci Number')\n",
    "    plt.xlabel('Fibonacci Index')\n",
    "    plt.ylabel('Fibonacci Number')\n",
    "    plt.show()\n",
    "    return\n",
    "viz_polymonial()"
   ]
  },
  {
   "cell_type": "markdown",
   "metadata": {},
   "source": [
    "### Q3: Part B\n",
    "\n",
    "Repeat Q3: Part A with the next 10 Fibonacci numbers."
   ]
  },
  {
   "cell_type": "code",
   "execution_count": null,
   "metadata": {},
   "outputs": [],
   "source": []
  },
  {
   "cell_type": "markdown",
   "metadata": {},
   "source": [
    "### Question 4 (Lagrange Polynomials)\n",
    "This question does not involve coding. Please write down the Lagrange Interpolation Polynomial for a minimal degree polynomial that passes through the following set of $(x,y)$-values: $\\{(0,0), (1,3), (2,2)\\}$"
   ]
  },
  {
   "cell_type": "code",
   "execution_count": null,
   "metadata": {},
   "outputs": [],
   "source": []
  }
 ],
 "metadata": {
  "kernelspec": {
   "display_name": "Python 3",
   "language": "python",
   "name": "python3"
  },
  "language_info": {
   "codemirror_mode": {
    "name": "ipython",
    "version": 3
   },
   "file_extension": ".py",
   "mimetype": "text/x-python",
   "name": "python",
   "nbconvert_exporter": "python",
   "pygments_lexer": "ipython3",
   "version": "3.7.4"
  }
 },
 "nbformat": 4,
 "nbformat_minor": 2
}
