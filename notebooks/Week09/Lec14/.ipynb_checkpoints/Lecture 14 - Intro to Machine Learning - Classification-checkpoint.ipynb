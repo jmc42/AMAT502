{
 "cells": [
  {
   "cell_type": "markdown",
   "metadata": {
    "slideshow": {
     "slide_type": "slide"
    }
   },
   "source": [
    "# AMAT 502: Modern Computing for Mathematicians\n",
    "## Lecture 14 - Introduction to Machine Learning: Classification\n",
    "### University at Albany SUNY"
   ]
  },
  {
   "cell_type": "markdown",
   "metadata": {
    "slideshow": {
     "slide_type": "slide"
    }
   },
   "source": [
    "# Topics for Today\n",
    "- Recap on the Train-Model-Predict Paradigm\n",
    "- Featurization\n",
    "    - Aristotle's Taxonomy\n",
    "    - Classification on the Internet\n",
    "    - A Remark on Deep Learning\n",
    "- Overview of Machine Learning and Intro to Classification\n",
    "    - Linear Classifiers\n",
    "    - The 80%-20% Test-Train Split\n",
    "    - Accuracy of a Classifier\n",
    "    - Metric Spaces\n",
    "    - K-Nearest Neighbors\n",
    "    - Darwin's Wonderful Idea\n",
    "    - Fisher's Iris Data Set"
   ]
  },
  {
   "cell_type": "markdown",
   "metadata": {
    "slideshow": {
     "slide_type": "slide"
    }
   },
   "source": [
    "## Recap from Last Lecture\n",
    "\n",
    "Putting epistemological considerations aside, learning consists of three primary components:\n",
    "\n",
    "1. Training from observed data (perception)\n",
    "2. Model Selection (inference)\n",
    "    - Model Representation, usually involving parameters\n",
    "    - Penalty/objective function that assigns quality to parameter choices\n",
    "    - Optimization method for moving from worse to better model parameters\n",
    "3. Prediction (action)\n",
    "\n",
    "We illustrated the Training-Model Selection-Prediction paradigm using **regression**"
   ]
  },
  {
   "cell_type": "markdown",
   "metadata": {
    "slideshow": {
     "slide_type": "slide"
    }
   },
   "source": [
    "# Features for Classification\n",
    "\n",
    "In the very first step---namely the step of perception---we already have a problem: \n",
    "\n",
    "**What observations are useful for learning?**\n",
    "\n",
    "For example, if we are attempting to **classify** animals it is probably not useful to subjectively assess an animal as cute or not.\n",
    "\n",
    "**Free Response Question:** \n",
    "\n",
    "***Can you think of a situation where reporting subjective preferences is useful for learning?***"
   ]
  },
  {
   "cell_type": "markdown",
   "metadata": {
    "slideshow": {
     "slide_type": "slide"
    }
   },
   "source": [
    "## Aristotle\n",
    "\n",
    "<center>\n",
    "    <img src=\"plato-aristotle.jpg\" alt=\"Plato and Aristotle in Raphael's School of Athens\" width=\"600\"/>\n",
    "</center>\n",
    "\n",
    "It is said that **Aristotle** (384–322 BCE) was the first to initiate a formal classification system of living organisms. Aristotle was a student of **Plato**, who is to the left of Aristotle in Raphael's \"School of Athens\" painted in the Vatican between 1509-1511 CE.  "
   ]
  },
  {
   "cell_type": "markdown",
   "metadata": {
    "slideshow": {
     "slide_type": "slide"
    }
   },
   "source": [
    "## Aristotle's Taxonomy\n",
    "\n",
    "Aristotle classified beings by their parts, or in modern terms *attributes* or **features**, such as \n",
    "\n",
    "- having live birth or laying eggs\n",
    "    - What is the gestation period?\n",
    "- having legs:\n",
    "    - If so, how many?\n",
    "- inverterbrate or verterbrate\n",
    "- type of \"soul\": vegatative (plants), sensitive (animals), rational (humans)\n",
    "- qualities: \n",
    "    - hot or cold\n",
    "    - wet or dry\n",
    "    \n",
    "Notice that some of these features are **categorical** meaning that they are discrete classes such as being inverterbrate or not, but other features are **numerical** such as the length of the gestation period and the number of legs."
   ]
  },
  {
   "cell_type": "markdown",
   "metadata": {
    "slideshow": {
     "slide_type": "slide"
    }
   },
   "source": [
    "## Labeling Using Features\n",
    "\n",
    "Much of the system of taxonomy is concerned with **labelling** using features. You can think of this as being part of a pipeline:\n",
    "\n",
    "$$ \\text{Samples} \\qquad \\longrightarrow \\qquad \\text{Features} \\qquad \\longrightarrow \\qquad \\text{Labels} $$\n",
    "\n",
    "For example, if I had samples \n",
    "<center>\n",
    "    {Orangutan, Human, Kangaroo, Blue Whale, Pelican, Sparrow, Bat, Iguana, King Cobra}\n",
    "</center>\n",
    "and the label set \n",
    "<center>\n",
    "    {Mammal, Bird, Reptile}\n",
    "</center>\n",
    "\n",
    "**Question: What features might I pass through? And more to the point, does any collection of features uniquely determine the labels?**"
   ]
  },
  {
   "cell_type": "markdown",
   "metadata": {},
   "source": [
    "## Aristotle, meet the Internet\n",
    "\n",
    "Let's consider a simpler set of labels, but with a whole lot more samples, but unknown features.\n",
    "\n",
    "<center>\n",
    "    <img src=\"cats-dogs.jpg\" alt=\"Cats and Dogs\" width=\"800\"/>\n",
    "    Image taken from <a href=\"http://adilmoujahid.com/posts/2016/06/introduction-deep-learning-python-caffe/\">Adil Moujahid's \"A Practical Introduction to Deep Learning with Caffe and Python\"</a>\n",
    "</center>"
   ]
  },
  {
   "cell_type": "markdown",
   "metadata": {
    "slideshow": {
     "slide_type": "slide"
    }
   },
   "source": [
    "## What Features?\n",
    "\n",
    "**Feature engineering** is one of the most important tasks in science. We cannot directly insert a live cat or dog into a computer. We must use representations that are useful, such as images, but then further encode what features of these images are useful.\n",
    "\n",
    "<center>\n",
    "    <img src=\"cute-cat-dog.png\" alt=\"Cute Cat and Dog\" width=\"800\"/>\n",
    "    Image taken from <a href=\"https://elie.net/blog/ai/challenges-faced-while-training-an-ai-to-combat-abuse/\">Elie Burstein's \"Challenges faced while training an AI to combat abuse\"</a>\n",
    "</center>"
   ]
  },
  {
   "cell_type": "markdown",
   "metadata": {
    "slideshow": {
     "slide_type": "slide"
    }
   },
   "source": [
    "## A Remark on Deep Learning and Neural Networks\n",
    "\n",
    "We've just observed that it can be very difficult to specify what features we should extract in order to attempt to classify, but there has been a recent revolution in data science called **deep learning**, of which **convolutional neural networks** is a major success story, that *automatically generates features!*\n",
    "\n",
    "<center>\n",
    "    <img src=\"ML-versus-DL-flow.png\" alt=\"Machine versus Deep Learning\" width=\"800\"/>\n",
    "    Image taken from <a href=\"http://adilmoujahid.com/posts/2016/06/introduction-deep-learning-python-caffe/\">Adil Moujahid's \"A Practical Introduction to Deep Learning with Caffe and Python\"</a>\n",
    "</center>\n",
    "\n",
    "But the biggest problem with deep learning is **explainability**, in other words: we can't give human-understandable explanations of what features (or combinations of features) the neural network decides are important for classification!"
   ]
  },
  {
   "cell_type": "markdown",
   "metadata": {
    "slideshow": {
     "slide_type": "slide"
    }
   },
   "source": [
    "# High-Level Categorization of Machine Learning Methods\n",
    "\n",
    "Here we synthesize <a href=\"https://jakevdp.github.io/PythonDataScienceHandbook/05.01-what-is-machine-learning.html\">Jake VanderPlas Section 5.01 of the Data Science Handbook</a> and Guttag's Chapters 22-24.\n",
    "\n",
    "Broadly speaking, machine learning is divided into the following categories:\n",
    "\n",
    "- **Supervised Learning:** Assumes that we have **labeled data**. When we train our algorithms, we are usually given a set of {(feature vector), label value} pairs. The task of learning is to predict a label value given a previously unobserved (or reserved for testing) feature vector associated. Supervised learning tasks are generally divided into two further subcategories:\n",
    "    - **Regression** is generally used when the labels are real numbers. More broadly, regression determines correlations/dependence between random variables, such as height or weight.\n",
    "    - **Classification** is the situation we're considering today, when the labels are discrete, such as {mammal, bird, reptile}.\n",
    "- **Unsupervised Learning:** Works with **unlabeled data**. We simply have a bunch of samples and some feature vectors and we're trying to infer **latent structure** from the data. An example of a latent variable occurs when an admissions officer attempts to infer whether a student will be successful or not, given observed features such as SAT scores, high school GPA, recommendation letters, and so on. Methods that \"let the data speak for itself\" fall into two categories:\n",
    "    - **Clustering** attempts to partition a data set into groups/clusters so that elements of the same group are much closer/more similar to each other than they are to elements in different groups. This often relies only on metric information and does not require probability, generally speaking. Really clustering is a part of **topology.**\n",
    "    - **Dimensionality Reduction** are techniques that allow us to take high-dimensional data and provide easy to visualize low-dimensional roll-outs of the data so that a human can examine it directly. **Question: What does the human do with this low-dimensional representation? Engineer their own features?**\n",
    "    \n",
    "<center>\n",
    "    \n",
    "![ML Tree](ML-tree.jpeg)\n",
    "\n",
    "<i> Image taken from <a href=\"https://medium.com/better-programming/the-data-science-interview-study-guide-c3824cb76c2e\">The Data Science Interview Study Guide</a></i>\n",
    "\n",
    "</center>"
   ]
  },
  {
   "cell_type": "markdown",
   "metadata": {
    "slideshow": {
     "slide_type": "slide"
    }
   },
   "source": [
    "## Linear Classifiers\n",
    "\n",
    "Imagine you are given a collection of points (=featurization of the samples) in the $x,y$ plane. To each point, we assign a label: **red** or **blue**\n",
    "\n",
    "If we're lucky, there will be a line $\\ell$ that separates these two classes of points.\n",
    "\n",
    "Let's look at an example where this happens."
   ]
  },
  {
   "cell_type": "code",
   "execution_count": 1,
   "metadata": {
    "slideshow": {
     "slide_type": "slide"
    }
   },
   "outputs": [],
   "source": [
    "# code taken from VanderPlas's Python Data Science Handbook \n",
    "# https://jakevdp.github.io/PythonDataScienceHandbook/06.00-figure-code.html\n",
    "%matplotlib inline\n",
    "import matplotlib.pyplot as plt\n",
    "import numpy as np\n",
    "import seaborn as sns\n",
    "\n",
    "# common plot formatting for below\n",
    "def format_plot(ax, title):\n",
    "    ax.xaxis.set_major_formatter(plt.NullFormatter())\n",
    "    ax.yaxis.set_major_formatter(plt.NullFormatter())\n",
    "    ax.set_xlabel('feature 1', color='gray')\n",
    "    ax.set_ylabel('feature 2', color='gray')\n",
    "    ax.set_title(title, color='gray')\n",
    "\n",
    "from sklearn.datasets import make_blobs\n",
    "from sklearn.svm import SVC\n",
    "\n",
    "# create 50 separable points\n",
    "X, y = make_blobs(n_samples=50, centers=2,\n",
    "                  random_state=0, cluster_std=0.60)\n",
    "\n",
    "# fit the support vector classifier model\n",
    "clf = SVC(kernel='linear')\n",
    "clf.fit(X, y)\n",
    "\n",
    "# create some new points to predict\n",
    "X2, _ = make_blobs(n_samples=80, centers=2,\n",
    "                   random_state=0, cluster_std=0.80)\n",
    "X2 = X2[50:]\n",
    "\n",
    "# predict the labels\n",
    "y2 = clf.predict(X2)"
   ]
  },
  {
   "cell_type": "code",
   "execution_count": 2,
   "metadata": {
    "slideshow": {
     "slide_type": "slide"
    }
   },
   "outputs": [
    {
     "data": {
      "image/png": "[encoded data removed]",
      "text/plain": [
       "<Figure size 576x432 with 1 Axes>"
      ]
     },
     "metadata": {
      "needs_background": "light"
     },
     "output_type": "display_data"
    }
   ],
   "source": [
    "# plot the data\n",
    "fig, ax = plt.subplots(figsize=(8, 6))\n",
    "point_style = dict(cmap='Paired', s=50)\n",
    "ax.scatter(X[:, 0], X[:, 1], c=y, **point_style)\n",
    "\n",
    "# format plot\n",
    "format_plot(ax, 'Input Data')\n",
    "ax.axis([-1, 4, -2, 7])\n",
    "\n",
    "fig.savefig('classification-1.png')"
   ]
  },
  {
   "cell_type": "code",
   "execution_count": 3,
   "metadata": {
    "slideshow": {
     "slide_type": "slide"
    }
   },
   "outputs": [
    {
     "data": {
      "image/png": "[encoded data removed]",
      "text/plain": [
       "<Figure size 576x432 with 1 Axes>"
      ]
     },
     "metadata": {
      "needs_background": "light"
     },
     "output_type": "display_data"
    }
   ],
   "source": [
    "# Get contours describing the model\n",
    "xx = np.linspace(-1, 4, 10)\n",
    "yy = np.linspace(-2, 7, 10)\n",
    "xy1, xy2 = np.meshgrid(xx, yy)\n",
    "Z = np.array([clf.decision_function([t])\n",
    "              for t in zip(xy1.flat, xy2.flat)]).reshape(xy1.shape)\n",
    "\n",
    "# plot points and model\n",
    "fig, ax = plt.subplots(figsize=(8, 6))\n",
    "line_style = dict(levels = [-1.0, 0.0, 1.0],\n",
    "                  linestyles = ['dashed', 'solid', 'dashed'],\n",
    "                  colors = 'gray', linewidths=1)\n",
    "ax.scatter(X[:, 0], X[:, 1], c=y, **point_style)\n",
    "ax.contour(xy1, xy2, Z, **line_style)\n",
    "\n",
    "# format plot\n",
    "format_plot(ax, 'Model Learned from Input Data')\n",
    "ax.axis([-1, 4, -2, 7])\n",
    "\n",
    "fig.savefig('05.01-classification-2.png')"
   ]
  },
  {
   "cell_type": "markdown",
   "metadata": {
    "slideshow": {
     "slide_type": "slide"
    }
   },
   "source": [
    "## Linear Classifiers\n",
    "\n",
    "Suppose we find a line $\\ell$ (or more generally a hyperplane) that separates our two classes: red and blue. This is our **model**\n",
    "\n",
    "If we are given a new sample, whose feature vector is $\\mathbf{x}_i:=(x_i,y_i)$, then we can **predict** it's class label by seeing to which side of the line this feature vector lies on.\n",
    "\n",
    "Mathematically this is done as follows: \n",
    "1. Suppose we choose a vector $\\mathbf{n}$ that is perpendicular to the line/hyperplane $\\ell$ with displacement $d$ and such that for any blue points $\\mathbf{b}$ in the data set $\\mathbf{b}\\cdot \\mathbf{n} > d$.\n",
    "2. For our new feature vector $\\mathbf{x}_i$, if $\\mathbf{x}_i\\cdot \\mathbf{n} > d$ predict the label blue, otherwise, predict red.\n",
    "\n",
    "This simple idea is actually at the heart of a method called **Support Vector Machines (SVM)**, \n",
    "<a href=\"http://web.mit.edu/6.034/wwwbob/svm-notes-long-08.pdf\">which is a classic tool in Artificial Intelligence</a>."
   ]
  },
  {
   "cell_type": "markdown",
   "metadata": {
    "slideshow": {
     "slide_type": "slide"
    }
   },
   "source": [
    "## The 80-20% Split\n",
    "\n",
    "- Collecting samples and recording features is often a very labor intensive process.\n",
    "- We don't want to train using 100% of the data, because then the only way to test our models is to go out and get *more* data.\n",
    "- Consequently, it is common practice to **split** your collected data:\n",
    "    - **80% for training purposes**, e.g. for choosing coefficients in our linear regression or $\\mathbf{n}$ and $d$ in a linear classifier.\n",
    "    - **20% for testing** how good our model is at predicting."
   ]
  },
  {
   "cell_type": "markdown",
   "metadata": {
    "slideshow": {
     "slide_type": "slide"
    }
   },
   "source": [
    "## Evaluating the Accuracy of a Classifier\n",
    "\n",
    "Whenever we have a classification method, where we've then made some predictions (for example on our remaining 20% of the data) we can form a **confusion matrix**. \n",
    "\n",
    "<center>\n",
    "    <img src=\"Confusion-matrix.png\" alt=\"Confusion Matrix\" width=\"800\"/>\n",
    "    CC license, no modifications, from <a href=\"https://www.researchgate.net/figure/Confusion-matrix-having-3-classes_tbl3_320995731\">\"An Accurate CT Saturation Classification Using a Deep Learning Approach Based on Unsupervised Feature Extraction and Supervised Fine-Tuning Strategy\"</a>\n",
    "</center>\n",
    "\n",
    "The **accuracy of our classifier** is determined by $$\\text{accuracy} = \\frac{\\text{TP} + \\text{TN}}{\\text{TP}+\\text{TN}+\\text{FP}+\\text{FN}}$$\n"
   ]
  },
  {
   "cell_type": "markdown",
   "metadata": {
    "slideshow": {
     "slide_type": "slide"
    }
   },
   "source": [
    "## Metric Spaces\n",
    "\n",
    "Our next simplest classifier, **K nearest neighbors (KNN)**, is a very simple classification algorithm, but it requires the notion of a **metric.**\n",
    "\n",
    "Suppose $X$ is a set. A **metric space** consists of a set $X$ (think of this as your set of feature vectors) along with a non-negative function $d: X \\times X \\to [0, \\infty)$ that satisfies\n",
    "1. **Identity of Indiscernables**, i.e $d(x,y)=0$ if and only if $x=y$.\n",
    "2. **Symmetric**, i.e. $d(x,y)=d(y,x)$\n",
    "3. **Sub-Additive**, i.e. it satisfies the **triangle inequality**:\n",
    "$$\\forall \\, x,y,z\\in X \\qquad d(x,z) \\leq d(x,y) + d(y,z)$$\n",
    "Nota Bene: the symbol $\\forall$ is the set-theoretic symbol for \"for all\".\n",
    "\n",
    "More generally, a **dissimilarity function** is a function that is non-negative, symmetric and where $d(x,x)=0$."
   ]
  },
  {
   "cell_type": "markdown",
   "metadata": {
    "slideshow": {
     "slide_type": "slide"
    }
   },
   "source": [
    "## Examples of Metrics\n",
    "\n",
    "- **Euclidean metric** on $\\mathbb{R}^n$ is $$||\\mathbf{x}-\\mathbf{y}||_2=\\sqrt{\\sum_{i=1}^d (x_i-y_i)^2}$$\n",
    "- **$\\ell_p$ metric** on $\\mathbb{R}^n$ (Guttag calls it the **Minkowski metric**) is part of a family of metrics indexed by $p$: $$||\\mathbf{x}-\\mathbf{y}||_p=\\large(\\sum_{i=1}^d (x_i-y_i)^p\\large)^{1/p}$$\n",
    "    - When $p=2$ we get the Euclidean metric\n",
    "    - When $p=1$ we get the **taxicab metric** or **Manhattan distance**. Also when we restrict this to feature vectors consisting of 0's and 1's we get the **Hamming distance** on binary strings.\n",
    "    - N.B. *Sometimes machine learning algorithms will vary $p$ to see what gives us the best results!*\n",
    "- **$\\ell_{\\infty}$ metric**, also sometimes called the **sup norm** on $\\mathbb{R}^n$ is $$||\\mathbf{x}-\\mathbf{y}||_{\\infty}= \\max_i|x_i-y_i|$$"
   ]
  },
  {
   "cell_type": "markdown",
   "metadata": {
    "slideshow": {
     "slide_type": "slide"
    }
   },
   "source": [
    "## Feature Vectors Must be Metrizable\n",
    "\n",
    "We almost always need to assume that our feature vectors lie in some metric space, even if that metric simply records 0 or 1 for when two samples differ in each feature coordinate, e.g. if one person's feature vector is \n",
    "<center>\n",
    "    (democrat, renter, lives in NY)\n",
    "</center>\n",
    "and another person's feature vector is\n",
    "<center>\n",
    "    (republican, owns, lives in NY)\n",
    "</center>\n",
    "then their difference vector is\n",
    "<center>\n",
    "    (1, 1, 0)\n",
    "</center>\n",
    "We can then choose some $\\ell_p$ norm to give a distance between these people."
   ]
  },
  {
   "cell_type": "markdown",
   "metadata": {
    "slideshow": {
     "slide_type": "slide"
    }
   },
   "source": [
    "## The k-Nearest Neighbor Classifier Algorithm\n",
    "\n",
    "Given a \n",
    "\n",
    "- set of samples/examples $X=\\{\\mathbf{x}_i\\}$, which we have already identifed with it's collection of feature vectors that is equipped with a metric, \n",
    "- that has been labelled using a finite set of labels $L$,\n",
    "-  an integer $k>0$\n",
    "\n",
    "we predict the label of a new test sample/example $\\mathbf{t}$ by \n",
    "\n",
    "1. Find the subset $K\\subseteq X$ of the $k$-closest points (in the metric) to our point $\\mathbf{t}$\n",
    "2. Count up the labels of samples in $K$---think of this as counting ballots or votes\n",
    "3. Award the most popular label to our new test sample $\\mathbf{t}$"
   ]
  },
  {
   "cell_type": "markdown",
   "metadata": {
    "slideshow": {
     "slide_type": "slide"
    }
   },
   "source": [
    "## Simple List-Based Implementation\n",
    "\n",
    "(Following Guttag 24.3; Notice that it refers to attributes we have not implemented, so *this code will not run!*)\n",
    "\n",
    "First we have the code for finding the k nearest neighbors.\n",
    "<pre>\n",
    "def findKNearest(example, exampleSet, k):\n",
    "    kNearest, distances = [], []\n",
    "    # now build list of first k examples and their distances\n",
    "    for i in range(k):\n",
    "        kNearest.append(exampleSet[i])\n",
    "        distances.append(example.featureDistance(exampleSet[i]))\n",
    "    maxDist = max(distances)\n",
    "    # now linearly sort through the remaining examples to find k closest\n",
    "    for e in exampleSet[k:]:\n",
    "        dist = example.featureDist(e)\n",
    "        if dist < maxDist:\n",
    "            # replace list element with closer one\n",
    "            maxIndex = distances.index(maxDist)\n",
    "            kNearest[maxIndex] = e\n",
    "            distances[maxIndex] = dist\n",
    "            maxDist = max(distances)\n",
    "    return kNearest, distances\n",
    "</pre>\n",
    "**Question: What is the complexity of the above algorithm?**\n",
    "\n",
    "Now we classify a testSet and predict if it has the provided label or not.\n",
    "<pre>\n",
    "def KNearestClassify(training, testSet, label, k):\n",
    "    \"\"\"Assumes training and testSet lists of examples, k an int\n",
    "    Uses a k-nearest neighbor classifier to predict\n",
    "        whether each example in the testSet has the given label\n",
    "    Returns number of true positives, false positives, true negatives,\n",
    "        and false negatives\"\"\"\n",
    "    \n",
    "    truePos, falsePos, trueNeg, falseNeg = 0, 0, 0, 0\n",
    "    for e in testSet:\n",
    "        nearest, disances = findKNearest(e, training, k)\n",
    "        # conduct vote\n",
    "        numMatch = 0\n",
    "        for i in range(len(nearest)):\n",
    "            if nearest[i].getLabel() == label:\n",
    "                numMatch += 1\n",
    "        # check for majority\n",
    "        if numMatch > k//2: #guess label\n",
    "            if e.getLabel() == label:\n",
    "                truePos += 1\n",
    "            else:\n",
    "                falsePos +=1\n",
    "        else: #guess not label\n",
    "            if e.getLabel() != label:\n",
    "                trueNeg +=1\n",
    "            else:\n",
    "                falseNeg +=1\n",
    "    return truePos, falsePos, trueNeg, falseNeg\n",
    "</pre>"
   ]
  },
  {
   "cell_type": "markdown",
   "metadata": {
    "slideshow": {
     "slide_type": "slide"
    }
   },
   "source": [
    "## Comment on NumPy's Data Structures\n",
    "\n",
    "NumPy uses fancy indexing and other tricks to make the above code work much faster for NumPy arrays.\n",
    "\n",
    "You shoud read **Partial Sorts: Partitioning** and **Example: k-Nearest Neighbors** from <a href=\"https://jakevdp.github.io/PythonDataScienceHandbook/02.08-sorting.html\"> VanderPlas's Data Science Handbook Section 2.08</a>"
   ]
  },
  {
   "cell_type": "markdown",
   "metadata": {
    "slideshow": {
     "slide_type": "slide"
    }
   },
   "source": [
    "## Darwin's Marvelous Idea\n",
    "\n",
    "<center>\n",
    "    <img src=\"darwins-finches.png\" alt=\"Darwin's Finches\" width=\"800\"/>\n",
    "</center>\n",
    "\n",
    "Aristotle, being Plato's student, did not depart from Plato's theory of the forms. Aristotle used categorization and clustering in order to understand the Platonic forms of various organisms. Their belief was that there was a notion of an \"ideal horse\" which exhibits \"ideal features\" that all horses share in common. Since Plato's forms were stylized after Euclidean geometry, they were considered perfect and unchanging, which led to the idea that *organisms did not evolve!*\n",
    "\n",
    "However, **Charles Darwin (1809–1882)** and other contemporaneous thinkers such as **Alfred Russel Wallace**, struck upon the idea that variation is beautiful and that there was no Platonic ideal of a horse, for example. Moreover, natural selection coupled with variation gave a mechanism to connect distinct categories using **the tree of life**.\n",
    "\n",
    "This is not to say that Platonic thought and evolution are incompatible, it's just that the mathematical forms that are relevant to life should more rightly be thought of as high dimensional multivariate probability distributions, and not Euclidean geometry."
   ]
  },
  {
   "cell_type": "markdown",
   "metadata": {
    "slideshow": {
     "slide_type": "slide"
    }
   },
   "source": [
    "## The Iris Dataset\n",
    "\n",
    "In 1936, **Ronald Fisher** wrote a breakthrough paper in the field of statistics called \"The use of multiple measurements in taxonomic problems\" using Edgar Anderson's data collected from the Gaspé Peninsula in Quebec, actually not that far from Albany.\n",
    "<center>\n",
    "    \n",
    "*Iris Setosa* | *Iris Versicolor* |    *Iris Virginica*\n",
    ":-------------------------:|:-----------------------:|:------------------:\n",
    "![](iris-setosa.png)  |  ![](iris-versicolor.png)    | ![](iris-virginica.png)\n",
    "\n",
    "Images from <a href=\"https://en.wikipedia.org/wiki/Iris_flower_data_set\">Wikipedia</a>\n",
    "\n",
    "</center>\n",
    "\n",
    "Here there are **50 samples** of irises, and **four features** measured for each: the length and the width of the sepals and petals.\n",
    "\n",
    "This was an interesting data set because *Iris Setosa* clearlt fell in one cluster using these measurements, but the other two were not clearly separable without using **non-linear methods**\n",
    "\n",
    "This is a famous data set hosted inside scikitlearn amongst other places:\n",
    "\n",
    "- https://archive.ics.uci.edu/ml/datasets/iris\n",
    "\n",
    "- https://www.kaggle.com/uciml/iris"
   ]
  },
  {
   "cell_type": "code",
   "execution_count": 20,
   "metadata": {
    "slideshow": {
     "slide_type": "slide"
    }
   },
   "outputs": [],
   "source": [
    "# Following https://stackabuse.com/k-nearest-neighbors-algorithm-in-python-and-scikit-learn/\n",
    "import numpy as np\n",
    "import matplotlib.pyplot as plt\n",
    "import pandas as pd\n",
    "\n",
    "url = \"https://archive.ics.uci.edu/ml/machine-learning-databases/iris/iris.data\"\n",
    "\n",
    "# Assign colum names to the dataset\n",
    "names = ['sepal-length', 'sepal-width', 'petal-length', 'petal-width', 'Class']\n",
    "\n",
    "# Read dataset to pandas dataframe\n",
    "dataset = pd.read_csv(url, names=names)"
   ]
  },
  {
   "cell_type": "code",
   "execution_count": 21,
   "metadata": {
    "slideshow": {
     "slide_type": "slide"
    }
   },
   "outputs": [
    {
     "data": {
      "text/plain": [
       "Index(['sepal-length', 'sepal-width', 'petal-length', 'petal-width', 'Class'], dtype='object')"
      ]
     },
     "execution_count": 21,
     "metadata": {},
     "output_type": "execute_result"
    }
   ],
   "source": [
    "# Basic attribute of a dataframe in Pandas, will go over more in Lecture 14\n",
    "dataset.columns"
   ]
  },
  {
   "cell_type": "code",
   "execution_count": 22,
   "metadata": {
    "slideshow": {
     "slide_type": "slide"
    }
   },
   "outputs": [],
   "source": [
    "X=dataset.loc[:,dataset.columns != 'Class']"
   ]
  },
  {
   "cell_type": "code",
   "execution_count": 23,
   "metadata": {
    "slideshow": {
     "slide_type": "slide"
    }
   },
   "outputs": [
    {
     "data": {
      "text/html": [
       "<div>\n",
       "<style scoped>\n",
       "    .dataframe tbody tr th:only-of-type {\n",
       "        vertical-align: middle;\n",
       "    }\n",
       "\n",
       "    .dataframe tbody tr th {\n",
       "        vertical-align: top;\n",
       "    }\n",
       "\n",
       "    .dataframe thead th {\n",
       "        text-align: right;\n",
       "    }\n",
       "</style>\n",
       "<table border=\"1\" class=\"dataframe\">\n",
       "  <thead>\n",
       "    <tr style=\"text-align: right;\">\n",
       "      <th></th>\n",
       "      <th>sepal-length</th>\n",
       "      <th>sepal-width</th>\n",
       "      <th>petal-length</th>\n",
       "      <th>petal-width</th>\n",
       "    </tr>\n",
       "  </thead>\n",
       "  <tbody>\n",
       "    <tr>\n",
       "      <td>0</td>\n",
       "      <td>5.1</td>\n",
       "      <td>3.5</td>\n",
       "      <td>1.4</td>\n",
       "      <td>0.2</td>\n",
       "    </tr>\n",
       "    <tr>\n",
       "      <td>1</td>\n",
       "      <td>4.9</td>\n",
       "      <td>3.0</td>\n",
       "      <td>1.4</td>\n",
       "      <td>0.2</td>\n",
       "    </tr>\n",
       "    <tr>\n",
       "      <td>2</td>\n",
       "      <td>4.7</td>\n",
       "      <td>3.2</td>\n",
       "      <td>1.3</td>\n",
       "      <td>0.2</td>\n",
       "    </tr>\n",
       "    <tr>\n",
       "      <td>3</td>\n",
       "      <td>4.6</td>\n",
       "      <td>3.1</td>\n",
       "      <td>1.5</td>\n",
       "      <td>0.2</td>\n",
       "    </tr>\n",
       "    <tr>\n",
       "      <td>4</td>\n",
       "      <td>5.0</td>\n",
       "      <td>3.6</td>\n",
       "      <td>1.4</td>\n",
       "      <td>0.2</td>\n",
       "    </tr>\n",
       "    <tr>\n",
       "      <td>...</td>\n",
       "      <td>...</td>\n",
       "      <td>...</td>\n",
       "      <td>...</td>\n",
       "      <td>...</td>\n",
       "    </tr>\n",
       "    <tr>\n",
       "      <td>145</td>\n",
       "      <td>6.7</td>\n",
       "      <td>3.0</td>\n",
       "      <td>5.2</td>\n",
       "      <td>2.3</td>\n",
       "    </tr>\n",
       "    <tr>\n",
       "      <td>146</td>\n",
       "      <td>6.3</td>\n",
       "      <td>2.5</td>\n",
       "      <td>5.0</td>\n",
       "      <td>1.9</td>\n",
       "    </tr>\n",
       "    <tr>\n",
       "      <td>147</td>\n",
       "      <td>6.5</td>\n",
       "      <td>3.0</td>\n",
       "      <td>5.2</td>\n",
       "      <td>2.0</td>\n",
       "    </tr>\n",
       "    <tr>\n",
       "      <td>148</td>\n",
       "      <td>6.2</td>\n",
       "      <td>3.4</td>\n",
       "      <td>5.4</td>\n",
       "      <td>2.3</td>\n",
       "    </tr>\n",
       "    <tr>\n",
       "      <td>149</td>\n",
       "      <td>5.9</td>\n",
       "      <td>3.0</td>\n",
       "      <td>5.1</td>\n",
       "      <td>1.8</td>\n",
       "    </tr>\n",
       "  </tbody>\n",
       "</table>\n",
       "<p>150 rows × 4 columns</p>\n",
       "</div>"
      ],
      "text/plain": [
       "     sepal-length  sepal-width  petal-length  petal-width\n",
       "0             5.1          3.5           1.4          0.2\n",
       "1             4.9          3.0           1.4          0.2\n",
       "2             4.7          3.2           1.3          0.2\n",
       "3             4.6          3.1           1.5          0.2\n",
       "4             5.0          3.6           1.4          0.2\n",
       "..            ...          ...           ...          ...\n",
       "145           6.7          3.0           5.2          2.3\n",
       "146           6.3          2.5           5.0          1.9\n",
       "147           6.5          3.0           5.2          2.0\n",
       "148           6.2          3.4           5.4          2.3\n",
       "149           5.9          3.0           5.1          1.8\n",
       "\n",
       "[150 rows x 4 columns]"
      ]
     },
     "execution_count": 23,
     "metadata": {},
     "output_type": "execute_result"
    }
   ],
   "source": [
    "X"
   ]
  },
  {
   "cell_type": "code",
   "execution_count": 24,
   "metadata": {},
   "outputs": [],
   "source": [
    "y=dataset.loc[:,'Class']"
   ]
  },
  {
   "cell_type": "code",
   "execution_count": 9,
   "metadata": {},
   "outputs": [
    {
     "data": {
      "text/plain": [
       "0         Iris-setosa\n",
       "1         Iris-setosa\n",
       "2         Iris-setosa\n",
       "3         Iris-setosa\n",
       "4         Iris-setosa\n",
       "            ...      \n",
       "145    Iris-virginica\n",
       "146    Iris-virginica\n",
       "147    Iris-virginica\n",
       "148    Iris-virginica\n",
       "149    Iris-virginica\n",
       "Name: Class, Length: 150, dtype: object"
      ]
     },
     "execution_count": 9,
     "metadata": {},
     "output_type": "execute_result"
    }
   ],
   "source": [
    "y"
   ]
  },
  {
   "cell_type": "code",
   "execution_count": 26,
   "metadata": {
    "slideshow": {
     "slide_type": "slide"
    }
   },
   "outputs": [],
   "source": [
    "from sklearn.model_selection import train_test_split\n",
    "#Do the 80-20 split\n",
    "X_train, X_test, y_train, y_test = train_test_split(X, y, test_size=0.20)"
   ]
  },
  {
   "cell_type": "code",
   "execution_count": 27,
   "metadata": {},
   "outputs": [
    {
     "data": {
      "text/html": [
       "<div>\n",
       "<style scoped>\n",
       "    .dataframe tbody tr th:only-of-type {\n",
       "        vertical-align: middle;\n",
       "    }\n",
       "\n",
       "    .dataframe tbody tr th {\n",
       "        vertical-align: top;\n",
       "    }\n",
       "\n",
       "    .dataframe thead th {\n",
       "        text-align: right;\n",
       "    }\n",
       "</style>\n",
       "<table border=\"1\" class=\"dataframe\">\n",
       "  <thead>\n",
       "    <tr style=\"text-align: right;\">\n",
       "      <th></th>\n",
       "      <th>sepal-length</th>\n",
       "      <th>sepal-width</th>\n",
       "      <th>petal-length</th>\n",
       "      <th>petal-width</th>\n",
       "    </tr>\n",
       "  </thead>\n",
       "  <tbody>\n",
       "    <tr>\n",
       "      <td>33</td>\n",
       "      <td>5.5</td>\n",
       "      <td>4.2</td>\n",
       "      <td>1.4</td>\n",
       "      <td>0.2</td>\n",
       "    </tr>\n",
       "    <tr>\n",
       "      <td>117</td>\n",
       "      <td>7.7</td>\n",
       "      <td>3.8</td>\n",
       "      <td>6.7</td>\n",
       "      <td>2.2</td>\n",
       "    </tr>\n",
       "    <tr>\n",
       "      <td>68</td>\n",
       "      <td>6.2</td>\n",
       "      <td>2.2</td>\n",
       "      <td>4.5</td>\n",
       "      <td>1.5</td>\n",
       "    </tr>\n",
       "    <tr>\n",
       "      <td>145</td>\n",
       "      <td>6.7</td>\n",
       "      <td>3.0</td>\n",
       "      <td>5.2</td>\n",
       "      <td>2.3</td>\n",
       "    </tr>\n",
       "    <tr>\n",
       "      <td>114</td>\n",
       "      <td>5.8</td>\n",
       "      <td>2.8</td>\n",
       "      <td>5.1</td>\n",
       "      <td>2.4</td>\n",
       "    </tr>\n",
       "    <tr>\n",
       "      <td>...</td>\n",
       "      <td>...</td>\n",
       "      <td>...</td>\n",
       "      <td>...</td>\n",
       "      <td>...</td>\n",
       "    </tr>\n",
       "    <tr>\n",
       "      <td>143</td>\n",
       "      <td>6.8</td>\n",
       "      <td>3.2</td>\n",
       "      <td>5.9</td>\n",
       "      <td>2.3</td>\n",
       "    </tr>\n",
       "    <tr>\n",
       "      <td>16</td>\n",
       "      <td>5.4</td>\n",
       "      <td>3.9</td>\n",
       "      <td>1.3</td>\n",
       "      <td>0.4</td>\n",
       "    </tr>\n",
       "    <tr>\n",
       "      <td>55</td>\n",
       "      <td>5.7</td>\n",
       "      <td>2.8</td>\n",
       "      <td>4.5</td>\n",
       "      <td>1.3</td>\n",
       "    </tr>\n",
       "    <tr>\n",
       "      <td>122</td>\n",
       "      <td>7.7</td>\n",
       "      <td>2.8</td>\n",
       "      <td>6.7</td>\n",
       "      <td>2.0</td>\n",
       "    </tr>\n",
       "    <tr>\n",
       "      <td>12</td>\n",
       "      <td>4.8</td>\n",
       "      <td>3.0</td>\n",
       "      <td>1.4</td>\n",
       "      <td>0.1</td>\n",
       "    </tr>\n",
       "  </tbody>\n",
       "</table>\n",
       "<p>120 rows × 4 columns</p>\n",
       "</div>"
      ],
      "text/plain": [
       "     sepal-length  sepal-width  petal-length  petal-width\n",
       "33            5.5          4.2           1.4          0.2\n",
       "117           7.7          3.8           6.7          2.2\n",
       "68            6.2          2.2           4.5          1.5\n",
       "145           6.7          3.0           5.2          2.3\n",
       "114           5.8          2.8           5.1          2.4\n",
       "..            ...          ...           ...          ...\n",
       "143           6.8          3.2           5.9          2.3\n",
       "16            5.4          3.9           1.3          0.4\n",
       "55            5.7          2.8           4.5          1.3\n",
       "122           7.7          2.8           6.7          2.0\n",
       "12            4.8          3.0           1.4          0.1\n",
       "\n",
       "[120 rows x 4 columns]"
      ]
     },
     "execution_count": 27,
     "metadata": {},
     "output_type": "execute_result"
    }
   ],
   "source": [
    "X_train"
   ]
  },
  {
   "cell_type": "code",
   "execution_count": 28,
   "metadata": {
    "slideshow": {
     "slide_type": "slide"
    }
   },
   "outputs": [
    {
     "data": {
      "text/plain": [
       "KNeighborsClassifier(algorithm='auto', leaf_size=30, metric='minkowski',\n",
       "                     metric_params=None, n_jobs=None, n_neighbors=3, p=2,\n",
       "                     weights='uniform')"
      ]
     },
     "execution_count": 28,
     "metadata": {},
     "output_type": "execute_result"
    }
   ],
   "source": [
    "from sklearn.neighbors import KNeighborsClassifier\n",
    "classifier = KNeighborsClassifier(n_neighbors=3)\n",
    "classifier.fit(X_train, y_train)"
   ]
  },
  {
   "cell_type": "code",
   "execution_count": 29,
   "metadata": {
    "slideshow": {
     "slide_type": "slide"
    }
   },
   "outputs": [],
   "source": [
    "y_pred = classifier.predict(X_test)"
   ]
  },
  {
   "cell_type": "code",
   "execution_count": 30,
   "metadata": {
    "slideshow": {
     "slide_type": "slide"
    }
   },
   "outputs": [
    {
     "name": "stdout",
     "output_type": "stream",
     "text": [
      "[[10  0  0]\n",
      " [ 0  9  1]\n",
      " [ 0  1  9]]\n",
      "                 precision    recall  f1-score   support\n",
      "\n",
      "    Iris-setosa       1.00      1.00      1.00        10\n",
      "Iris-versicolor       0.90      0.90      0.90        10\n",
      " Iris-virginica       0.90      0.90      0.90        10\n",
      "\n",
      "       accuracy                           0.93        30\n",
      "      macro avg       0.93      0.93      0.93        30\n",
      "   weighted avg       0.93      0.93      0.93        30\n",
      "\n"
     ]
    }
   ],
   "source": [
    "from sklearn.metrics import classification_report, confusion_matrix\n",
    "print(confusion_matrix(y_test, y_pred))\n",
    "print(classification_report(y_test, y_pred))"
   ]
  },
  {
   "cell_type": "code",
   "execution_count": 31,
   "metadata": {
    "slideshow": {
     "slide_type": "slide"
    }
   },
   "outputs": [
    {
     "name": "stdout",
     "output_type": "stream",
     "text": [
      "With KNN (K=3) accuracy is:  0.9333333333333333\n"
     ]
    }
   ],
   "source": [
    "print('With KNN (K=3) accuracy is: ', classifier.score(X_test,y_test))"
   ]
  },
  {
   "cell_type": "code",
   "execution_count": 32,
   "metadata": {
    "slideshow": {
     "slide_type": "slide"
    }
   },
   "outputs": [
    {
     "data": {
      "image/png": "[encoded data removed]",
      "text/plain": [
       "<Figure size 936x576 with 1 Axes>"
      ]
     },
     "metadata": {
      "needs_background": "light"
     },
     "output_type": "display_data"
    },
    {
     "name": "stdout",
     "output_type": "stream",
     "text": [
      "Best Accuracy is 0.9333333333333333 with K = 3\n"
     ]
    }
   ],
   "source": [
    "neig = np.arange(1,30)\n",
    "train_accuracy = []\n",
    "test_accuracy = []\n",
    "for i, k in enumerate (neig):\n",
    "    knn = KNeighborsClassifier(n_neighbors = k)\n",
    "    knn.fit(X_train,y_train)\n",
    "    train_accuracy.append(knn.score(X_train,y_train))\n",
    "    test_accuracy.append(knn.score(X_test,y_test))\n",
    "\n",
    "# Plot\n",
    "plt.figure(figsize=(13,8))\n",
    "plt.plot(neig, test_accuracy, label = 'Testing Accuracy')\n",
    "plt.plot(neig, train_accuracy, label = 'Training Accuracy')\n",
    "plt.legend()\n",
    "plt.title('-value vs. Accuracy')\n",
    "plt.xlabel('Number of Neighbors')\n",
    "plt.ylabel('Accuracy')\n",
    "plt.xticks(neig)\n",
    "plt.savefig('graph.png')\n",
    "plt.show()\n",
    "print('Best Accuracy is {} with K = {}'.format(np.max(test_accuracy),1+test_accuracy.index(np.max(test_accuracy))))"
   ]
  },
  {
   "cell_type": "code",
   "execution_count": null,
   "metadata": {},
   "outputs": [],
   "source": []
  }
 ],
 "metadata": {
  "celltoolbar": "Slideshow",
  "kernelspec": {
   "display_name": "Python 3",
   "language": "python",
   "name": "python3"
  },
  "language_info": {
   "codemirror_mode": {
    "name": "ipython",
    "version": 3
   },
   "file_extension": ".py",
   "mimetype": "text/x-python",
   "name": "python",
   "nbconvert_exporter": "python",
   "pygments_lexer": "ipython3",
   "version": "3.7.4"
  }
 },
 "nbformat": 4,
 "nbformat_minor": 2
}
