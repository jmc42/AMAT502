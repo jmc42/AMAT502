{
 "cells": [
  {
   "cell_type": "markdown",
   "metadata": {
    "slideshow": {
     "slide_type": "slide"
    }
   },
   "source": [
    "# AMAT 502: Modern Computing for Mathematicians\n",
    "## Lecture 13 - Introduction to Machine Learning and Regression\n",
    "### University at Albany SUNY"
   ]
  },
  {
   "cell_type": "markdown",
   "metadata": {
    "slideshow": {
     "slide_type": "slide"
    }
   },
   "source": [
    "# Topics for Today\n",
    "\n",
    "- Philosophical Foundations for Learning\n",
    "    - Plato's Theory of Knowledge\n",
    "    - Sāṁkhyan Epistemology\n",
    "- Machine Learning\n",
    "    - Train-Model-Predict Paradigm\n",
    "    - Learning as an Optimization Problem\n",
    "- Regression\n",
    "    - Using Residuals to Assess Quality of Prediction\n",
    "    - Underfitting versus Overfitting"
   ]
  },
  {
   "cell_type": "markdown",
   "metadata": {
    "slideshow": {
     "slide_type": "slide"
    }
   },
   "source": [
    "# Philosophical View of Learning\n",
    "\n",
    "![drseuss](dr-seuss-quote-red.jpg)\n",
    "\n",
    "A key question I want you all to consider is **\"What does it mean to learn something?\"**\n",
    "\n",
    "Your answer to this question reveals something about your **epistemology**, which is the philosophical study of how we acquire knowledge.\n",
    "\n",
    "These are questions that have intrigued thinkers around the world for thousands of years.\n"
   ]
  },
  {
   "cell_type": "markdown",
   "metadata": {
    "slideshow": {
     "slide_type": "slide"
    }
   },
   "source": [
    "## Introduction to Plato and his Dialogues\n",
    "**Plato** a famous Greek philosopher who lived from 428-348 BCE. He was a student of **Socrates** and a teacher of **Aristotle**. These figures are in many ways considered the fathers of Western Philosophy.\n",
    "\n",
    "Plato described his philosophy not in lengthy essays, but in dialogues where prominent ancient greeks gathered to talk. Plato wrote dialogues where his teacher Socrates was cast as a character and who was generally considered the protagonist in his stories.\n",
    "![Greeks Debating](greek-debates.jpg)"
   ]
  },
  {
   "cell_type": "markdown",
   "metadata": {
    "slideshow": {
     "slide_type": "slide"
    }
   },
   "source": [
    "## Meno's Paradox\n",
    "\n",
    "In one of Plato's most famous dialogs, *Meno*, Socrates and Meno engage in a discussion of virtue, but quickly gets into deeper questions.\n",
    "\n",
    "As described in [this analysis](https://www.thoughtco.com/platos-meno-2670343), the main topics of the dialogue include:\n",
    "1. The unsuccessful search for a definition of virtue\n",
    "2. Socrates' proof that some of our knowledge is innate\n",
    "3. A discussion of whether virtue can be taught\n",
    "4. A discussion of why there are no teachers of virtue\n",
    "\n",
    "Socrates \"proof\" that some knowledge is innate is a response to **Meno's Paradox:**\n",
    "\n",
    "> *Either we know something or we don't. If we know it, we don't need to inquire any further. But if we don't know it, we can't inquire since we don't know what we're looking for and won't recognize it if it is found.*"
   ]
  },
  {
   "cell_type": "markdown",
   "metadata": {
    "slideshow": {
     "slide_type": "slide"
    }
   },
   "source": [
    "## Socrates's Response\n",
    "\n",
    "Socrates relies on the testimony of \"priests and priestesses\" who claim the soul is immortal and relays one of the myths of Persephone [before saying](https://www.gutenberg.org/files/1643/1643-h/1643-h.htm)\n",
    "\n",
    "> \"The soul, then, as being immortal, and having been born again many times, and having seen all things that exist, whether in this world or in the world below, has knowledge of them all; and it is no wonder that she should be able to call to remembrance all that she ever knew about virtue, and about everything; for as all nature is akin, and **the soul has learned all things;** there is no difficulty in her eliciting or as men say learning, out of a single recollection all the rest, if a man is strenuous and does not faint; **for all enquiry and all learning is but recollection.**\"\n",
    "\n",
    "Here Socrates is actually communicating ideas from [the Pythagoreans](https://en.wikipedia.org/wiki/Pythagoreanism), a mystic cult whose leader was Pythagoras, who famously refused to eat beans.\n",
    "\n",
    "![Pythagoras Does Not Eat Beans](pythagoras-beans.jpg)"
   ]
  },
  {
   "cell_type": "markdown",
   "metadata": {
    "slideshow": {
     "slide_type": "slide"
    }
   },
   "source": [
    "## Plato's Epistemology\n",
    "\n",
    "The previous passage illustrates Plato's epistemological principle of ***anamnesis***, which takes the radical viewpoint that *learning is impossible*, that in fact all learning is an act of remembering. \n",
    "\n",
    "Socrates \"proves\" this principal by inquiring with a slave, who has no education, about geometry. The question Socrates asks the slave is:\n",
    "\n",
    "**\"Suppose I have a square that is 2 feet on each side, so that its area is 4 square feet. How long must the sides of a square be whose area is twice as much, namely 8 square feet?\"**"
   ]
  },
  {
   "cell_type": "markdown",
   "metadata": {
    "slideshow": {
     "slide_type": "slide"
    }
   },
   "source": [
    "## Plato's *Meno* - Socrates and the Slave Boy\n",
    "\n",
    "- At first the boy guesses that doubling the length of each side will produce a square of twice the area.\n",
    "- Socrates asks him to check this.\n",
    "- The boy observes that doubling the sides is too much, he then guesses that taking a square of 3 feet per side is correct, but then sees it is also too much.\n",
    "- Socrates then draws a new figure...\n",
    "\n",
    "See <a href=\"http://www.socraticmethod.net/essays/meno_geometry/meno_geometry.html\">translation and breakdown of the dialog</a> or this <a href=\"https://youtu.be/yqDoLdmcyZo\">video dramatization.</a>"
   ]
  },
  {
   "cell_type": "markdown",
   "metadata": {
    "slideshow": {
     "slide_type": "slide"
    }
   },
   "source": [
    "## Doubling the Square\n",
    "\n",
    "<center>\n",
    "    <img src=\"square.jpg\" alt=\"drawing\" width=\"400\"/>\n",
    "</center>"
   ]
  },
  {
   "cell_type": "markdown",
   "metadata": {
    "slideshow": {
     "slide_type": "slide"
    }
   },
   "source": [
    "## Other Epistemological Viewpoints on \"Proofs\" प्रमाण\n",
    "\n",
    "In Plato's dialogue, Meno, Socrates claims that asking leading questions to the slave boy about geometry is not teaching, but just helping the boy remember something that all humans \"know,\" but have simply forgotten. This philosophy works best for mathematics, but not so well for most other things. Plato claims it works for everything.\n",
    "\n",
    "Other ancient philosophical systems were more generous and accepted that there are multiple ways of knowing. For example in Hindu philosophy, varying schools of thought differ based on which ***Pramāṇas***, or \"proofs\" are valid. "
   ]
  },
  {
   "cell_type": "markdown",
   "metadata": {
    "slideshow": {
     "slide_type": "slide"
    }
   },
   "source": [
    "## Sāṁkhyan Epistemology\n",
    "\n",
    "![yoga studies](yoga-studies.png)\n",
    "\n",
    "Three common pramāṇas accepted in **Sāṁkhyan philosophy** (also spelled Sāṅkhyan), which is one of the six orthodox schools of ancient Hindu thought, are:\n",
    "\n",
    "1. **Perception** (Pratyakṣa = प्रत्यक्ष): Sense data is taken in through the eyes, nose, ears, tongue, skin and then turned into an internal representation via the mind (manas), which is in turn interrogated via the intellect (buddhi) and contextualized via the ego (ahamkara). However there are also examples of internal perception, such as in mathematics.\n",
    "2. **Inference** (Anumāna = अनुमान): For example, when we see smoke we infer a fire is present. Or if every crow we see is black, we infer the statement that all crows are black.\n",
    "3. **Reliable Testimony** (Agama or Śabda = शब्द): If a trustworthy person or a scientist reports something, we may take it as true. This concept is also used to justify how we can \"know\" something that is reported via an important secular or religious texts such as in the Vedas (or the Torah or the New Testament, for the matter). Actually most knowledge today is taken on faith, when you think about it...how do we \"know\" that the sun is the center of the solar system, and so on."
   ]
  },
  {
   "cell_type": "markdown",
   "metadata": {
    "slideshow": {
     "slide_type": "slide"
    }
   },
   "source": [
    "# The Epistemology of *Machine* Learning\n",
    "\n",
    "John V. Guttag, [author of one of our textbooks](https://mitpress.mit.edu/books/introduction-computation-and-programming-using-python-second-edition), is upfront about his epistemology. He asserts that \n",
    "\n",
    "> \"Humans learn things in two ways---*memorization* and *generalization*...Humans use **generalization** to deduce new facts from old facts.  (p. 371)\n",
    "\n",
    "**In-Class Question: Which method of \"proof\" or \"proofs\" just described is this closest to?**\n"
   ]
  },
  {
   "cell_type": "markdown",
   "metadata": {
    "slideshow": {
     "slide_type": "slide"
    }
   },
   "source": [
    "## Machine Learning\n",
    "\n",
    "Guttag's definition of learning---memorization and generalization---is conveniently applied to computers. \n",
    "\n",
    "> When computer scientists speak about machine learning they most often mean the discipline of writing programs that automatically learn to make useful inferences from implicit patterns in data.\n",
    "\n",
    "This is a data-focused definition, but it also gives meaning to the term \"learn\" in Arthur Samuel's definition of machine learning.\n",
    "\n",
    "> [Machine learning is the] \"field of study that gives computers the ability to learn without being explicitly programmed.\"\n",
    "\n",
    "Samuel was a computer scientist from the 1950s-70s who was one of the first to program a computer to play checkers that improved based on \"experience\"."
   ]
  },
  {
   "cell_type": "markdown",
   "metadata": {
    "slideshow": {
     "slide_type": "slide"
    }
   },
   "source": [
    "## The Train-Model-Predict Paradigm\n",
    "\n",
    "Guttag's definition of learning fits into a prediction-driven paradigm:\n",
    "1. Observe a set of examples, which is called **training data** in statistical machine learning.\n",
    "2. Use inference techniques to create a model of the process that generated the data.\n",
    "3. Use that model to make predictions about previously unseen examples."
   ]
  },
  {
   "cell_type": "markdown",
   "metadata": {
    "slideshow": {
     "slide_type": "slide"
    }
   },
   "source": [
    "## Example: Number Patterns\n",
    "\n",
    "Consider the following number patterns. Think of each sequence as training data. Now select a model for how the sequence should progress and give a predicition for what the next number is.\n",
    "\n",
    "- 2, 4, 6, 8, 10, ...\n",
    "- 3, 8, 13, 18, 23, ...\n",
    "- 2, 5, 10, 17, 26, 37 ...\n",
    "- 1, 5, 6, 11, 17, 28, ...\n"
   ]
  },
  {
   "cell_type": "markdown",
   "metadata": {
    "slideshow": {
     "slide_type": "slide"
    }
   },
   "source": [
    "## Learning as an Optimization Problem\n",
    "\n",
    "How did you all do on the above examples? It's okay if you didn't get them all, but you might want to know how far off you are. In other words, you might want to *assess the quality of your model*. Guttag argues there are three universal features of learning, which all pertain to model selection:\n",
    "\n",
    "1) Representation of the model.\n",
    "\n",
    "2) A penalty function (sometimes called an \"objective function\") that tells you how good or bad the model is.\n",
    "\n",
    "3) An optimization method for changing the model that helps minimizes the penalty function."
   ]
  },
  {
   "cell_type": "markdown",
   "metadata": {
    "slideshow": {
     "slide_type": "slide"
    }
   },
   "source": [
    "## Functional Relationships\n",
    "\n",
    "One broad class of models for understanding sequences is that there a function that relates inputs and outputs in a deterministic way. In other words, if we have some inputs\n",
    "$$x_1, x_2, x_3, x_4, x_5, ...$$\n",
    "and outputs\n",
    "$$y_1, y_2, y_3, y_4, y_5, ..., $$\n",
    "we treat as the **training data**. \n",
    "A coarse **model** is that these values are related by a **function** \n",
    "$$y_i=f(x_i)$$\n",
    "**Model selection** corresponds to choosing a function $f$.\n",
    "This enables us to **predict** $y_n$ from $x_n$, simply by evaluating $f(x_n)$.\n",
    "\n",
    "*Caveat Lector!* Technically speaking most real world data is never related by a function in the mathematical sense: A function assigns to each input a unique ouput. In this sense, weight is not exactly a function of height, because there can be two people with the same height, but different weights. There are other variables at play, but for simplicity we ignore that and come of up with good stochastic relationships between such variables."
   ]
  },
  {
   "cell_type": "markdown",
   "metadata": {
    "slideshow": {
     "slide_type": "slide"
    }
   },
   "source": [
    "## Regression\n",
    "\n",
    "Regression is a classic method for learning. Given a collection of $x$-values and $y$-values, we assume that one variable is **independent** (usually what we call $x$) and the other variable ($y$) is **dependent** on $x$, i.e. $y=f(x)$.\n",
    "\n",
    "Usually we assume a nice model for this dependency relation, i.e. that $f$ is polynomial:\n",
    "$$f(x)=\\beta_0 + \\beta_1 x + \\beta_2 x^2 + \\cdots + \\beta_n x^n$$\n",
    "\n",
    "These coefficients $\\mathbf{\\beta}=(\\beta_0,\\beta_1,\\beta_2,\\ldots,\\beta_n)$ are **unknown parameters** that are estimated from the data. Sometimes, the notation for this is $f(x,\\mathbf{\\beta})$ or even $f(x|\\mathbf{\\beta})$ to emphasize dependence of the model on these parameters.\n",
    "\n",
    "**Linear regression** assumes that $\\beta_k=0$ for $k\\geq 2$."
   ]
  },
  {
   "cell_type": "markdown",
   "metadata": {
    "slideshow": {
     "slide_type": "slide"
    }
   },
   "source": [
    "## Residuals: Assessing Goodness of Fit\n",
    "\n",
    "A common method for assessing the quality of the model $f(x,\\mathbf{\\beta})$ is to compute the **sum of squared residuals (SSR)** This is the penalty function associated to $f(x,\\mathbf{\\beta})$.\n",
    "$$\\text{S}(f(x,\\mathbf{\\beta})) = \\sum_{i=1}^N (y_i - f(x_i))^2$$\n",
    "\n",
    "One model is better than another one if it has a smaller penalty associated to it. This is why the **method of least squares,** which dates back to Gauss, declares the best model to be any function $f(x,\\mathbf{\\beta}^*)$ that satisfies\n",
    "$$f(x,\\mathbf{\\beta}^*) = \\min_{\\beta}\\text{S}(f(x,\\mathbf{\\beta}))$$\n",
    "\n",
    "**In-Class Question: Why sum of squares and not absolute values of the differences, for example?**"
   ]
  },
  {
   "cell_type": "markdown",
   "metadata": {
    "slideshow": {
     "slide_type": "slide"
    }
   },
   "source": [
    "## Solving the Optimization Problem\n",
    "\n",
    "One of the nice things about linear regression (using the method of least squares) is that you can come up with exact formulas for $\\beta_0$ and $\\beta_1$ because of calculus. After all if there is no boundary on $\\beta_0$ and $\\beta_1$ the minimum will correspond to the critical point of the penalty function $S$. This is where\n",
    "$$\\frac{\\partial S}{\\partial \\beta_0}(\\beta_0^*,\\beta^*_1) = \\frac{\\partial S}{\\partial \\beta_1}(\\beta_0^*,\\beta^*_1) = 0$$\n",
    "\n",
    "Solving these two equations <a href=\"https://are.berkeley.edu/courses/EEP118/current/derive_ols.pdf\">leads to the equations</a>\n",
    "$$\\beta_0^* = \\bar{y} - \\beta_1^* \\bar{x}$$\n",
    "where $\\bar{y}=\\frac{1}{N} \\sum_{i=1}^N y_i$ is the average value (the \"mean\" or \"expected value\") of the observed $y_i$ and similarly for $\\bar{x}$. Finally the expression for $\\beta_1^*$ is found to be\n",
    "$$\\beta_1^*= \\frac{\\sum_i (x_i-\\bar{x})(y_i-\\bar{y})}{\\sum_i (x_i-\\bar{x})^2}$$"
   ]
  },
  {
   "cell_type": "code",
   "execution_count": 12,
   "metadata": {
    "slideshow": {
     "slide_type": "slide"
    }
   },
   "outputs": [],
   "source": [
    "#Python Implementation of Least Squares\n",
    "\n",
    "import numpy as np \n",
    "import matplotlib.pyplot as plt \n",
    "  \n",
    "def estimate_coef(x, y): \n",
    "    # number of observations/points \n",
    "    n = np.size(x) \n",
    "  \n",
    "    # mean of x and y vector \n",
    "    m_x, m_y = np.mean(x), np.mean(y) \n",
    "  \n",
    "    # calculating cross-deviation and deviation about x \n",
    "    SS_xy = np.sum(y*x) - n*m_y*m_x \n",
    "    SS_xx = np.sum(x*x) - n*m_x*m_x \n",
    "  #here's a comment.\n",
    "    # calculating regression coefficients \n",
    "    b_1 = SS_xy / SS_xx \n",
    "    b_0 = m_y - b_1*m_x \n",
    "  \n",
    "    return(b_0, b_1) \n",
    "  \n",
    "def plot_regression_line(x, y, b): \n",
    "    # plotting the actual points as scatter plot\n",
    "    myRegPlot=plt.figure() #object creation in order to save image\n",
    "    plt.scatter(x, y, color = \"m\", \n",
    "               marker = \"o\", s = 30) \n",
    "  \n",
    "    # predicted response vector \n",
    "    y_pred = b[0] + b[1]*x \n",
    "  \n",
    "    # plotting the regression line \n",
    "    plt.plot(x, y_pred, color = \"g\") \n",
    "  \n",
    "    # putting labels \n",
    "    plt.xlabel('x') \n",
    "    plt.ylabel('y') \n",
    "  \n",
    "    # function to show plot \n",
    "    plt.show()\n",
    "    myRegPlot.savefig(\"My_Regression_Plot.png\")\n",
    "\n",
    "def plot_example(): \n",
    "    # observations taken from the number sequences\n",
    "    x = np.array([1, 2, 3, 4, 5, 6, 7, 8])\n",
    "    #y = np.array([3 , 6, 9, 12, 15, 18, 21, 24])\n",
    "    y = np.array([2, 5, 10, 17, 26, 37, 50, 65]) \n",
    "    # estimating coefficients \n",
    "    b = estimate_coef(x, y) \n",
    "    print(\"Estimated coefficients: b_0 =\" + str(b[0]) + \"and b_1 =\" + str(b[1]))\n",
    "  \n",
    "    # plotting regression line \n",
    "    plot_regression_line(x, y, b)"
   ]
  },
  {
   "cell_type": "code",
   "execution_count": 13,
   "metadata": {
    "slideshow": {
     "slide_type": "slide"
    }
   },
   "outputs": [
    {
     "name": "stdout",
     "output_type": "stream",
     "text": [
      "Estimated coefficients: b_0 =-14.0and b_1 =9.0\n"
     ]
    },
    {
     "data": {
      "image/png": "[encoded data removed]",
      "text/plain": [
       "<Figure size 432x288 with 1 Axes>"
      ]
     },
     "metadata": {
      "needs_background": "light"
     },
     "output_type": "display_data"
    }
   ],
   "source": [
    "plot_example()"
   ]
  },
  {
   "cell_type": "markdown",
   "metadata": {
    "slideshow": {
     "slide_type": "slide"
    }
   },
   "source": [
    "## Underfitting and Higher Polynomial Regression\n",
    "\n",
    "In the case of this plot\n",
    "\n",
    "![Quadratic but Linear Best Fit](quad-linear-fit.png)\n",
    "\n",
    "We see that a linear function is likely not the best fit, especially since this sequence is deterministic and does not have noise.\n",
    "\n",
    "This is an example of **underfitting** data. The fit is not good enough to explain obvious deviations from the curve. Using a 2nd degree polynomial would be better."
   ]
  },
  {
   "cell_type": "code",
   "execution_count": 2,
   "metadata": {
    "slideshow": {
     "slide_type": "slide"
    }
   },
   "outputs": [
    {
     "data": {
      "image/png": "[encoded data removed]",
      "text/plain": [
       "<Figure size 432x288 with 1 Axes>"
      ]
     },
     "metadata": {
      "needs_background": "light"
     },
     "output_type": "display_data"
    }
   ],
   "source": [
    "import numpy as np \n",
    "import matplotlib.pyplot as plt \n",
    "import pandas as pd \n",
    "\n",
    "data_set = pd.read_csv('quad_prog.csv')\n",
    "\n",
    "X = data_set.iloc[:, 0:1].values \n",
    "y = data_set.iloc[:, 1].values\n",
    "y=y.reshape(-1,1)\n",
    "\n",
    "from sklearn.linear_model import LinearRegression \n",
    "lin = LinearRegression() \n",
    "  \n",
    "lin.fit(X, y)\n",
    "\n",
    "# # Visualising the Linear Regression results \n",
    "# plt.scatter(X, y, color = 'blue') \n",
    "  \n",
    "# plt.plot(X, lin.predict(X), color = 'red') \n",
    "# plt.title('Linear Regression') \n",
    "# plt.xlabel('Temperature') \n",
    "# plt.ylabel('Pressure') \n",
    "  \n",
    "# plt.show()\n",
    "\n",
    "from sklearn.preprocessing import PolynomialFeatures \n",
    "  \n",
    "poly = PolynomialFeatures(degree = 2) \n",
    "X_poly = poly.fit_transform(X) \n",
    "  \n",
    "poly.fit(X_poly, y) \n",
    "lin2 = LinearRegression() \n",
    "lin2.fit(X_poly, y)\n",
    "\n",
    "plt.scatter(X, y, color = 'blue') \n",
    "  \n",
    "plt.plot(X, lin2.predict(poly.fit_transform(X)), color = 'red') \n",
    "plt.title('Polynomial Regression') \n",
    "plt.xlabel('Temperature') \n",
    "plt.ylabel('Pressure') \n",
    "  \n",
    "plt.show()"
   ]
  },
  {
   "cell_type": "code",
   "execution_count": 4,
   "metadata": {},
   "outputs": [
    {
     "data": {
      "text/plain": [
       "array([[ 5],\n",
       "       [10],\n",
       "       [17],\n",
       "       [26],\n",
       "       [37],\n",
       "       [50],\n",
       "       [65]])"
      ]
     },
     "execution_count": 4,
     "metadata": {},
     "output_type": "execute_result"
    }
   ],
   "source": [
    "y"
   ]
  },
  {
   "cell_type": "code",
   "execution_count": 16,
   "metadata": {
    "slideshow": {
     "slide_type": "slide"
    }
   },
   "outputs": [
    {
     "data": {
      "text/html": [
       "<div>\n",
       "<style scoped>\n",
       "    .dataframe tbody tr th:only-of-type {\n",
       "        vertical-align: middle;\n",
       "    }\n",
       "\n",
       "    .dataframe tbody tr th {\n",
       "        vertical-align: top;\n",
       "    }\n",
       "\n",
       "    .dataframe thead th {\n",
       "        text-align: right;\n",
       "    }\n",
       "</style>\n",
       "<table border=\"1\" class=\"dataframe\">\n",
       "  <thead>\n",
       "    <tr style=\"text-align: right;\">\n",
       "      <th></th>\n",
       "      <th>1</th>\n",
       "      <th>2</th>\n",
       "    </tr>\n",
       "  </thead>\n",
       "  <tbody>\n",
       "    <tr>\n",
       "      <td>0</td>\n",
       "      <td>2</td>\n",
       "      <td>5</td>\n",
       "    </tr>\n",
       "    <tr>\n",
       "      <td>1</td>\n",
       "      <td>3</td>\n",
       "      <td>10</td>\n",
       "    </tr>\n",
       "    <tr>\n",
       "      <td>2</td>\n",
       "      <td>4</td>\n",
       "      <td>17</td>\n",
       "    </tr>\n",
       "    <tr>\n",
       "      <td>3</td>\n",
       "      <td>5</td>\n",
       "      <td>26</td>\n",
       "    </tr>\n",
       "    <tr>\n",
       "      <td>4</td>\n",
       "      <td>6</td>\n",
       "      <td>37</td>\n",
       "    </tr>\n",
       "    <tr>\n",
       "      <td>5</td>\n",
       "      <td>7</td>\n",
       "      <td>50</td>\n",
       "    </tr>\n",
       "    <tr>\n",
       "      <td>6</td>\n",
       "      <td>8</td>\n",
       "      <td>65</td>\n",
       "    </tr>\n",
       "  </tbody>\n",
       "</table>\n",
       "</div>"
      ],
      "text/plain": [
       "   1   2\n",
       "0  2   5\n",
       "1  3  10\n",
       "2  4  17\n",
       "3  5  26\n",
       "4  6  37\n",
       "5  7  50\n",
       "6  8  65"
      ]
     },
     "execution_count": 16,
     "metadata": {},
     "output_type": "execute_result"
    }
   ],
   "source": [
    "#Let's see how Pandas understands .csv files\n",
    "data_set"
   ]
  },
  {
   "cell_type": "code",
   "execution_count": 17,
   "metadata": {
    "slideshow": {
     "slide_type": "slide"
    }
   },
   "outputs": [
    {
     "data": {
      "text/plain": [
       "array([[226.]])"
      ]
     },
     "execution_count": 17,
     "metadata": {},
     "output_type": "execute_result"
    }
   ],
   "source": [
    "#Let's see how to predict the next number in the sequence.\n",
    "\n",
    "lin2.predict(poly.fit_transform([[15]]))\n"
   ]
  },
  {
   "cell_type": "code",
   "execution_count": 18,
   "metadata": {
    "slideshow": {
     "slide_type": "slide"
    }
   },
   "outputs": [
    {
     "data": {
      "text/plain": [
       "array([[130.]])"
      ]
     },
     "execution_count": 18,
     "metadata": {},
     "output_type": "execute_result"
    }
   ],
   "source": [
    "lin.predict([[15]])"
   ]
  },
  {
   "cell_type": "markdown",
   "metadata": {
    "slideshow": {
     "slide_type": "slide"
    }
   },
   "source": [
    "## Overfitting via Lagrange Polynomials\n",
    "\n",
    "The danger of considering higher degree polynomials is that we can make a polynomial function that fits *any* collection of points $\\{(x_i,y_i)\\}_{i=0}^N$ assuming no two $x$-values are the same. In fact this can be done with a degree $N$ polynomial.\n",
    "\n",
    "Define $$\\ell_i(x)=\\prod_{0\\leq k \\neq i \\leq N} \\frac{x-x_k}{x_i-x_k}$$\n",
    "\n",
    "Then $$p(x)=\\sum_{i=0}^N y_i\\ell_i(x)$$ is a polynomial passing through all the given points. This can give rise to **overfitting** of a data set, which often considers noise to be true data and makes future predictions less accurate."
   ]
  },
  {
   "cell_type": "code",
   "execution_count": null,
   "metadata": {},
   "outputs": [],
   "source": []
  }
 ],
 "metadata": {
  "celltoolbar": "Slideshow",
  "kernelspec": {
   "display_name": "Python 3",
   "language": "python",
   "name": "python3"
  },
  "language_info": {
   "codemirror_mode": {
    "name": "ipython",
    "version": 3
   },
   "file_extension": ".py",
   "mimetype": "text/x-python",
   "name": "python",
   "nbconvert_exporter": "python",
   "pygments_lexer": "ipython3",
   "version": "3.7.4"
  }
 },
 "nbformat": 4,
 "nbformat_minor": 2
}
