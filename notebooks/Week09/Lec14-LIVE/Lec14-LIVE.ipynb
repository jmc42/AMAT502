{
 "cells": [
  {
   "cell_type": "markdown",
   "metadata": {},
   "source": [
    "# Lecture 14 LIVE\n",
    "\n",
    "## Topics from Lecture\n",
    "- Train-Model-Predict Paradigm\n",
    "- Featurization of Samples\n",
    "- Predicting Class Labels as Classification\n",
    "- Linear Classifiers\n",
    "- K-Nearest Neighbors Classifier"
   ]
  },
  {
   "cell_type": "markdown",
   "metadata": {},
   "source": [
    "## Oral Understanding Questions\n",
    "\n",
    "### Question 1: Understanding Regression\n",
    "\n",
    "**Explain how regression works. Try to appeal to the train-model-predict paradigm for learning. How does regression solve an optimization problem?**"
   ]
  },
  {
   "cell_type": "code",
   "execution_count": null,
   "metadata": {},
   "outputs": [],
   "source": []
  },
  {
   "cell_type": "markdown",
   "metadata": {},
   "source": [
    "### Question 2: Understanding Linear Classifiers\n",
    "\n",
    "**Explain how a linear classifier works. How is classification different from regression?**\n",
    "\n",
    "You can appeal to the following code in your answer. How would predict the values of the gray points?"
   ]
  },
  {
   "cell_type": "code",
   "execution_count": 2,
   "metadata": {},
   "outputs": [
    {
     "data": {
      "text/plain": [
       "<matplotlib.collections.PathCollection at 0x7fa9f9cef1f0>"
      ]
     },
     "execution_count": 2,
     "metadata": {},
     "output_type": "execute_result"
    },
    {
     "data": {
      "image/png": "[encoded data removed]",
      "text/plain": [
       "<Figure size 432x288 with 1 Axes>"
      ]
     },
     "metadata": {
      "needs_background": "light"
     },
     "output_type": "display_data"
    }
   ],
   "source": [
    "# Following code from https://jakevdp.github.io/PythonDataScienceHandbook/04.02-simple-scatter-plots.html\n",
    "import matplotlib.pyplot as plt\n",
    "%matplotlib inline\n",
    "import numpy as np\n",
    "\n",
    "## Training Data\n",
    "X_train = np.array([[1.75,1.2], [2.5,0], [3,1], [4.5,2], [4.75,3], [5,2.5]])\n",
    "y_train = np.array([0, 0, 0, 1, 1, 1])\n",
    "## Setting Colors for the Training Data\n",
    "color_dict = {0: 'red',1:'blue'}\n",
    "train_Colors = [ color_dict[i] for i in y_train]\n",
    "## Plotting the Training Data\n",
    "plt.scatter(X_train[:, 0], X_train[:, 1], c=train_Colors)\n",
    "\n",
    "## Testing Data\n",
    "X_test = np.array([[3.5,1],[3.95,1.5],[4,2]])\n",
    "## Plotting Testing Data\n",
    "plt.scatter(X_test[:,0],X_test[:,1],c='gray')"
   ]
  },
  {
   "cell_type": "code",
   "execution_count": 5,
   "metadata": {},
   "outputs": [
    {
     "data": {
      "text/plain": [
       "array([0, 1, 1])"
      ]
     },
     "execution_count": 5,
     "metadata": {},
     "output_type": "execute_result"
    }
   ],
   "source": [
    "from sklearn.svm import SVC\n",
    "\n",
    "clf = SVC(kernel='linear')\n",
    "clf.fit(X_train, y_train)\n",
    "y_test = clf.predict(X_test)\n",
    "y_test"
   ]
  },
  {
   "cell_type": "markdown",
   "metadata": {},
   "source": [
    "### Question 3: Understanding the KNN Algorithm\n",
    "\n",
    "**Explain how the K-Nearest Neighbors works.**\n",
    "\n",
    "In the following code, I've gone ahead and applied the KNN classifier."
   ]
  },
  {
   "cell_type": "code",
   "execution_count": 3,
   "metadata": {},
   "outputs": [
    {
     "data": {
      "text/plain": [
       "KNeighborsClassifier(n_neighbors=3)"
      ]
     },
     "execution_count": 3,
     "metadata": {},
     "output_type": "execute_result"
    }
   ],
   "source": [
    "# Also compare with https://scikit-learn.org/stable/modules/neighbors.html\n",
    "from sklearn.neighbors import KNeighborsClassifier\n",
    "\n",
    "classifier = KNeighborsClassifier(n_neighbors=3)\n",
    "classifier.fit(X_train, y_train)"
   ]
  },
  {
   "cell_type": "code",
   "execution_count": 4,
   "metadata": {},
   "outputs": [
    {
     "name": "stdout",
     "output_type": "stream",
     "text": [
      "[0 1 1]\n"
     ]
    }
   ],
   "source": [
    "y_pred = classifier.predict(X_test)\n",
    "print(y_pred)"
   ]
  },
  {
   "cell_type": "markdown",
   "metadata": {},
   "source": [
    "## Concept Questions and Bonus Material on KNN\n",
    "\n",
    "If you need a quick reminder on how KNN works read this:\n",
    "\n",
    "https://www.datacamp.com/community/tutorials/k-nearest-neighbor-classification-scikit-learn\n",
    "\n",
    "Then run KNN on the wine data set.\n",
    "\n",
    "![Wine Glasses](wine-glasses.jpg)"
   ]
  },
  {
   "cell_type": "code",
   "execution_count": 5,
   "metadata": {},
   "outputs": [
    {
     "name": "stdout",
     "output_type": "stream",
     "text": [
      "['alcohol', 'malic_acid', 'ash', 'alcalinity_of_ash', 'magnesium', 'total_phenols', 'flavanoids', 'nonflavanoid_phenols', 'proanthocyanins', 'color_intensity', 'hue', 'od280/od315_of_diluted_wines', 'proline']\n"
     ]
    }
   ],
   "source": [
    "from sklearn import datasets\n",
    "\n",
    "#Load dataset\n",
    "wine = datasets.load_wine()\n",
    "print(wine.feature_names)"
   ]
  },
  {
   "cell_type": "code",
   "execution_count": 6,
   "metadata": {},
   "outputs": [
    {
     "name": "stdout",
     "output_type": "stream",
     "text": [
      "['class_0' 'class_1' 'class_2']\n"
     ]
    }
   ],
   "source": [
    "print(wine.target_names)"
   ]
  },
  {
   "cell_type": "markdown",
   "metadata": {},
   "source": [
    "### Question 4 on the Wine Data Set\n",
    "\n",
    "- How many features are there? What is the dimension of feature space here?\n",
    "- How many classes are there?"
   ]
  },
  {
   "cell_type": "code",
   "execution_count": null,
   "metadata": {},
   "outputs": [],
   "source": []
  },
  {
   "cell_type": "markdown",
   "metadata": {},
   "source": [
    "## Question 5: Curse of Dimensionality\n",
    "\n",
    "KNN performs can have worse performance for classifying data in very high dimensions.\n",
    "\n",
    "In this exercise we compare the volume of the sphere in higher dimensions.\n",
    "\n",
    "### Q5: Part A (The Most Voluminous Dimension)\n",
    "**In what dimension is the volume of the sphere maximal?**\n",
    "**How does this vary with the radius?**"
   ]
  },
  {
   "cell_type": "code",
   "execution_count": 7,
   "metadata": {},
   "outputs": [
    {
     "data": {
      "text/plain": [
       "[<matplotlib.lines.Line2D at 0x7fa9f68fa2b0>]"
      ]
     },
     "execution_count": 7,
     "metadata": {},
     "output_type": "execute_result"
    },
    {
     "data": {
      "image/png": "[encoded data removed]",
      "text/plain": [
       "<Figure size 432x288 with 1 Axes>"
      ]
     },
     "metadata": {
      "needs_background": "light"
     },
     "output_type": "display_data"
    }
   ],
   "source": [
    "import math\n",
    "\n",
    "def volume_of_hypersphere(rad,dim):\n",
    "    return (math.pi**(dim/2)/math.gamma(dim/2 + 1))*rad**dim\n",
    "\n",
    "volume_of_hypersphere(1,3)\n",
    "dims = np.arange(1,20)\n",
    "vols = np.array([ volume_of_hypersphere(1,i) for i in dims])\n",
    "vols2 = np.array([ volume_of_hypersphere(1.1,i) for i in dims])\n",
    "plt.plot(dims,vols)\n",
    "plt.plot(dims,vols2)"
   ]
  },
  {
   "cell_type": "markdown",
   "metadata": {},
   "source": [
    "### Q5: Part B (Concentration of Measure)\n",
    "**A unit sphere has radius 1. How much volume is concentrated in the shell between radius .9 and .1 as a function of dimension?**\n",
    "\n",
    "Play around with different values, like .95.\n",
    "\n",
    "**Explain what's going on in the plot below by commenting the code apprropriately.**"
   ]
  },
  {
   "cell_type": "code",
   "execution_count": 8,
   "metadata": {},
   "outputs": [
    {
     "data": {
      "text/plain": [
       "[<matplotlib.lines.Line2D at 0x7fa9f685bee0>]"
      ]
     },
     "execution_count": 8,
     "metadata": {},
     "output_type": "execute_result"
    },
    {
     "data": {
      "image/png": "[encoded data removed]",
      "text/plain": [
       "<Figure size 432x288 with 1 Axes>"
      ]
     },
     "metadata": {
      "needs_background": "light"
     },
     "output_type": "display_data"
    }
   ],
   "source": [
    "more_dims = np.arange(1,40)\n",
    "full_volume = np.array([ volume_of_hypersphere(1,i) for i in more_dims])\n",
    "inner_volume = np.array([ volume_of_hypersphere(.9,i) for i in more_dims])\n",
    "volume_in_shell = full_volume-inner_volume\n",
    "percent_volume = volume_in_shell/full_volume\n",
    "plt.plot(more_dims,percent_volume)"
   ]
  },
  {
   "cell_type": "code",
   "execution_count": null,
   "metadata": {},
   "outputs": [],
   "source": []
  }
 ],
 "metadata": {
  "kernelspec": {
   "display_name": "Python 3",
   "language": "python",
   "name": "python3"
  },
  "language_info": {
   "codemirror_mode": {
    "name": "ipython",
    "version": 3
   },
   "file_extension": ".py",
   "mimetype": "text/x-python",
   "name": "python",
   "nbconvert_exporter": "python",
   "pygments_lexer": "ipython3",
   "version": "3.8.11"
  }
 },
 "nbformat": 4,
 "nbformat_minor": 2
}
