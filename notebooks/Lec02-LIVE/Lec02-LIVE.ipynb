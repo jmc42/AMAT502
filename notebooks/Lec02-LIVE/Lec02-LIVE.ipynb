{
 "cells": [
  {
   "cell_type": "markdown",
   "id": "indirect-ministry",
   "metadata": {},
   "source": [
    "# Lecture 2 Live Exercises\n",
    "\n",
    "## Lecture 1 Recap\n",
    "- Variable Assignment, which is an example of a **definition**\n",
    "- Arithmetical Commands, which are examples of **commands**\n",
    "    - Addition ``+``\n",
    "    - Subtraction ``-``\n",
    "    - Multiplication ``*``\n",
    "    - Division ``/``\n",
    "    - Exponentiation ``**``\n",
    "- The `print` command\n",
    "- Object Types and type conversion\n",
    "    - ``int``\n",
    "    - ``float``\n",
    "    - ``bool``\n",
    "    - ``None``\n",
    "- Overloading\n",
    "- Defining functions\n",
    "- The `input` function\n",
    "\n",
    "## Lecture 2 Recap\n",
    "\n",
    "- If-then logic\n",
    "- Branching Programs\n",
    "- Iteration\n",
    "- Loops\n",
    "\n",
    "# Due Dates\n",
    "\n",
    "- PS01 will be distributed by Wednesday, August 24th, 2022 and will be due the following Friday, September 2nd, 2022 by midnight and via email."
   ]
  },
  {
   "cell_type": "markdown",
   "id": "blind-secondary",
   "metadata": {},
   "source": [
    "# Lecture 2 LIVE\n",
    "\n",
    "## Q1: Oral Explanation Question\n",
    "**In your breakout rooms, spend 5-10 minutes discussing the behavior of the following program. Then move onto the next two exercises.**\n",
    "\n",
    "Your instructors will come by and ask for someone to explain it in your group."
   ]
  },
  {
   "cell_type": "code",
   "execution_count": 1,
   "id": "bound-infrastructure",
   "metadata": {},
   "outputs": [
    {
     "name": "stdout",
     "output_type": "stream",
     "text": [
      "0\n",
      "1\n",
      "2\n",
      "3\n",
      "0\n",
      "1\n",
      "0\n",
      "1\n",
      "0\n",
      "1\n"
     ]
    }
   ],
   "source": [
    "x=4\n",
    "for j in range(x):\n",
    "    for i in range(x):\n",
    "        print(i)\n",
    "        x=2"
   ]
  },
  {
   "cell_type": "markdown",
   "id": "bound-wildlife",
   "metadata": {},
   "source": [
    "## Coding Exercises\n",
    "\n",
    "### Q2: Converting from Fahrenheit to Celsius\n",
    "\n",
    "Write a function `F2C(x)` that takes in a input temperature `x` measured in Fahrenheit and returns the temperature measured in Celsius."
   ]
  },
  {
   "cell_type": "code",
   "execution_count": null,
   "id": "atmospheric-tribune",
   "metadata": {},
   "outputs": [],
   "source": []
  },
  {
   "cell_type": "markdown",
   "id": "strange-beauty",
   "metadata": {},
   "source": [
    "### Q3: A Loop of Inputs\n",
    "\n",
    "**Write a program that uses a loop that asks for the user to input 5 positive integers (using the `input` function!) and then prints the largest *odd* number entered. If no odd integer was entered, print a message to this effect. How would you make this into a function?**\n",
    "\n",
    "Attempt this on your own for a few 5 minutes before asking your classmates."
   ]
  },
  {
   "cell_type": "code",
   "execution_count": null,
   "id": "private-shopping",
   "metadata": {},
   "outputs": [],
   "source": []
  },
  {
   "cell_type": "markdown",
   "id": "adequate-trust",
   "metadata": {},
   "source": [
    "### Q4: Counting Characters in a String\n",
    "\n",
    "Write a function `num_chars(s,c)` that takes in a string `s` and a character `c` and returns the number of times that string contains that character."
   ]
  },
  {
   "cell_type": "code",
   "execution_count": null,
   "id": "entertaining-citation",
   "metadata": {},
   "outputs": [],
   "source": []
  }
 ],
 "metadata": {
  "kernelspec": {
   "display_name": "Python 3",
   "language": "python",
   "name": "python3"
  },
  "language_info": {
   "codemirror_mode": {
    "name": "ipython",
    "version": 3
   },
   "file_extension": ".py",
   "mimetype": "text/x-python",
   "name": "python",
   "nbconvert_exporter": "python",
   "pygments_lexer": "ipython3",
   "version": "3.7.4"
  }
 },
 "nbformat": 4,
 "nbformat_minor": 5
}
